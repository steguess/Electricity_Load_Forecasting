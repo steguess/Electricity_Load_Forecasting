{
  "cells": [
    {
      "cell_type": "markdown",
      "metadata": {
        "id": "view-in-github",
        "colab_type": "text"
      },
      "source": [
        "<a href=\"https://colab.research.google.com/github/steguess/Electricity_Load_Forecasting/blob/master/session_4_4.ipynb\" target=\"_parent\"><img src=\"https://colab.research.google.com/assets/colab-badge.svg\" alt=\"Open In Colab\"/></a>"
      ]
    },
    {
      "cell_type": "code",
      "source": [
        "!pip install python-igraph\n",
        "!apt-get install libcairo2-dev libjpeg-dev libgif-dev\n",
        "!pip install pycairo"
      ],
      "metadata": {
        "id": "mSRcswVleUku",
        "colab": {
          "base_uri": "https://localhost:8080/"
        },
        "outputId": "8bbe19e6-ebab-4a7e-8a38-2b107fe734f4"
      },
      "execution_count": 1,
      "outputs": [
        {
          "output_type": "stream",
          "name": "stdout",
          "text": [
            "Looking in indexes: https://pypi.org/simple, https://us-python.pkg.dev/colab-wheels/public/simple/\n",
            "Collecting python-igraph\n",
            "  Downloading python-igraph-0.10.4.tar.gz (9.5 kB)\n",
            "  Preparing metadata (setup.py) ... \u001b[?25l\u001b[?25hdone\n",
            "Collecting igraph==0.10.4\n",
            "  Downloading igraph-0.10.4-cp39-abi3-manylinux_2_17_x86_64.manylinux2014_x86_64.whl (3.3 MB)\n",
            "\u001b[2K     \u001b[90m━━━━━━━━━━━━━━━━━━━━━━━━━━━━━━━━━━━━━━━━\u001b[0m \u001b[32m3.3/3.3 MB\u001b[0m \u001b[31m34.9 MB/s\u001b[0m eta \u001b[36m0:00:00\u001b[0m\n",
            "\u001b[?25hCollecting texttable>=1.6.2\n",
            "  Downloading texttable-1.6.7-py2.py3-none-any.whl (10 kB)\n",
            "Building wheels for collected packages: python-igraph\n",
            "  Building wheel for python-igraph (setup.py) ... \u001b[?25l\u001b[?25hdone\n",
            "  Created wheel for python-igraph: filename=python_igraph-0.10.4-py3-none-any.whl size=9073 sha256=57aefd3aff009c8bc2945ad12a6ce60b91342a8d0efa79c3fb6aee0b43c413f8\n",
            "  Stored in directory: /root/.cache/pip/wheels/dc/07/ac/bff79052fd6222d1239b228cd24a47222f227c2350f9c4df01\n",
            "Successfully built python-igraph\n",
            "Installing collected packages: texttable, igraph, python-igraph\n",
            "Successfully installed igraph-0.10.4 python-igraph-0.10.4 texttable-1.6.7\n",
            "Reading package lists... Done\n",
            "Building dependency tree       \n",
            "Reading state information... Done\n",
            "libgif-dev is already the newest version (5.1.9-1).\n",
            "libgif-dev set to manually installed.\n",
            "libjpeg-dev is already the newest version (8c-2ubuntu8).\n",
            "libjpeg-dev set to manually installed.\n",
            "The following additional packages will be installed:\n",
            "  libblkid-dev libcairo-script-interpreter2 libffi-dev libglib2.0-dev\n",
            "  libglib2.0-dev-bin liblzo2-2 libmount-dev libpixman-1-dev libselinux1-dev\n",
            "  libsepol1-dev libxcb-render0-dev libxcb-shm0-dev\n",
            "Suggested packages:\n",
            "  libcairo2-doc libgirepository1.0-dev libglib2.0-doc libgdk-pixbuf2.0-bin\n",
            "  | libgdk-pixbuf2.0-dev libxml2-utils\n",
            "The following NEW packages will be installed:\n",
            "  libblkid-dev libcairo-script-interpreter2 libcairo2-dev libffi-dev\n",
            "  libglib2.0-dev libglib2.0-dev-bin liblzo2-2 libmount-dev libpixman-1-dev\n",
            "  libselinux1-dev libsepol1-dev libxcb-render0-dev libxcb-shm0-dev\n",
            "0 upgraded, 13 newly installed, 0 to remove and 23 not upgraded.\n",
            "Need to get 3,492 kB of archives.\n",
            "After this operation, 20.0 MB of additional disk space will be used.\n",
            "Get:1 http://archive.ubuntu.com/ubuntu focal/main amd64 liblzo2-2 amd64 2.10-2 [50.8 kB]\n",
            "Get:2 http://archive.ubuntu.com/ubuntu focal/main amd64 libcairo-script-interpreter2 amd64 1.16.0-4ubuntu1 [54.2 kB]\n",
            "Get:3 http://archive.ubuntu.com/ubuntu focal-updates/main amd64 libpixman-1-dev amd64 0.38.4-0ubuntu2.1 [243 kB]\n",
            "Get:4 http://archive.ubuntu.com/ubuntu focal/main amd64 libxcb-render0-dev amd64 1.14-2 [18.4 kB]\n",
            "Get:5 http://archive.ubuntu.com/ubuntu focal/main amd64 libxcb-shm0-dev amd64 1.14-2 [6,716 B]\n",
            "Get:6 http://archive.ubuntu.com/ubuntu focal/main amd64 libffi-dev amd64 3.3-4 [57.0 kB]\n",
            "Get:7 http://archive.ubuntu.com/ubuntu focal-updates/main amd64 libglib2.0-dev-bin amd64 2.64.6-1~ubuntu20.04.4 [109 kB]\n",
            "Get:8 http://archive.ubuntu.com/ubuntu focal-updates/main amd64 libblkid-dev amd64 2.34-0.1ubuntu9.3 [167 kB]\n",
            "Get:9 http://archive.ubuntu.com/ubuntu focal-updates/main amd64 libmount-dev amd64 2.34-0.1ubuntu9.3 [176 kB]\n",
            "Get:10 http://archive.ubuntu.com/ubuntu focal-updates/main amd64 libsepol1-dev amd64 3.0-1ubuntu0.1 [325 kB]\n",
            "Get:11 http://archive.ubuntu.com/ubuntu focal/main amd64 libselinux1-dev amd64 3.0-1build2 [151 kB]\n",
            "Get:12 http://archive.ubuntu.com/ubuntu focal-updates/main amd64 libglib2.0-dev amd64 2.64.6-1~ubuntu20.04.4 [1,506 kB]\n",
            "Get:13 http://archive.ubuntu.com/ubuntu focal/main amd64 libcairo2-dev amd64 1.16.0-4ubuntu1 [627 kB]\n",
            "Fetched 3,492 kB in 1s (2,541 kB/s)\n",
            "Selecting previously unselected package liblzo2-2:amd64.\n",
            "(Reading database ... 128285 files and directories currently installed.)\n",
            "Preparing to unpack .../00-liblzo2-2_2.10-2_amd64.deb ...\n",
            "Unpacking liblzo2-2:amd64 (2.10-2) ...\n",
            "Selecting previously unselected package libcairo-script-interpreter2:amd64.\n",
            "Preparing to unpack .../01-libcairo-script-interpreter2_1.16.0-4ubuntu1_amd64.deb ...\n",
            "Unpacking libcairo-script-interpreter2:amd64 (1.16.0-4ubuntu1) ...\n",
            "Selecting previously unselected package libpixman-1-dev:amd64.\n",
            "Preparing to unpack .../02-libpixman-1-dev_0.38.4-0ubuntu2.1_amd64.deb ...\n",
            "Unpacking libpixman-1-dev:amd64 (0.38.4-0ubuntu2.1) ...\n",
            "Selecting previously unselected package libxcb-render0-dev:amd64.\n",
            "Preparing to unpack .../03-libxcb-render0-dev_1.14-2_amd64.deb ...\n",
            "Unpacking libxcb-render0-dev:amd64 (1.14-2) ...\n",
            "Selecting previously unselected package libxcb-shm0-dev:amd64.\n",
            "Preparing to unpack .../04-libxcb-shm0-dev_1.14-2_amd64.deb ...\n",
            "Unpacking libxcb-shm0-dev:amd64 (1.14-2) ...\n",
            "Selecting previously unselected package libffi-dev:amd64.\n",
            "Preparing to unpack .../05-libffi-dev_3.3-4_amd64.deb ...\n",
            "Unpacking libffi-dev:amd64 (3.3-4) ...\n",
            "Selecting previously unselected package libglib2.0-dev-bin.\n",
            "Preparing to unpack .../06-libglib2.0-dev-bin_2.64.6-1~ubuntu20.04.4_amd64.deb ...\n",
            "Unpacking libglib2.0-dev-bin (2.64.6-1~ubuntu20.04.4) ...\n",
            "Selecting previously unselected package libblkid-dev:amd64.\n",
            "Preparing to unpack .../07-libblkid-dev_2.34-0.1ubuntu9.3_amd64.deb ...\n",
            "Unpacking libblkid-dev:amd64 (2.34-0.1ubuntu9.3) ...\n",
            "Selecting previously unselected package libmount-dev:amd64.\n",
            "Preparing to unpack .../08-libmount-dev_2.34-0.1ubuntu9.3_amd64.deb ...\n",
            "Unpacking libmount-dev:amd64 (2.34-0.1ubuntu9.3) ...\n",
            "Selecting previously unselected package libsepol1-dev:amd64.\n",
            "Preparing to unpack .../09-libsepol1-dev_3.0-1ubuntu0.1_amd64.deb ...\n",
            "Unpacking libsepol1-dev:amd64 (3.0-1ubuntu0.1) ...\n",
            "Selecting previously unselected package libselinux1-dev:amd64.\n",
            "Preparing to unpack .../10-libselinux1-dev_3.0-1build2_amd64.deb ...\n",
            "Unpacking libselinux1-dev:amd64 (3.0-1build2) ...\n",
            "Selecting previously unselected package libglib2.0-dev:amd64.\n",
            "Preparing to unpack .../11-libglib2.0-dev_2.64.6-1~ubuntu20.04.4_amd64.deb ...\n",
            "Unpacking libglib2.0-dev:amd64 (2.64.6-1~ubuntu20.04.4) ...\n",
            "Selecting previously unselected package libcairo2-dev:amd64.\n",
            "Preparing to unpack .../12-libcairo2-dev_1.16.0-4ubuntu1_amd64.deb ...\n",
            "Unpacking libcairo2-dev:amd64 (1.16.0-4ubuntu1) ...\n",
            "Setting up libglib2.0-dev-bin (2.64.6-1~ubuntu20.04.4) ...\n",
            "Setting up libblkid-dev:amd64 (2.34-0.1ubuntu9.3) ...\n",
            "Setting up libpixman-1-dev:amd64 (0.38.4-0ubuntu2.1) ...\n",
            "Setting up libsepol1-dev:amd64 (3.0-1ubuntu0.1) ...\n",
            "Setting up liblzo2-2:amd64 (2.10-2) ...\n",
            "Setting up libffi-dev:amd64 (3.3-4) ...\n",
            "Setting up libxcb-shm0-dev:amd64 (1.14-2) ...\n",
            "Setting up libxcb-render0-dev:amd64 (1.14-2) ...\n",
            "Setting up libmount-dev:amd64 (2.34-0.1ubuntu9.3) ...\n",
            "Setting up libcairo-script-interpreter2:amd64 (1.16.0-4ubuntu1) ...\n",
            "Setting up libselinux1-dev:amd64 (3.0-1build2) ...\n",
            "Setting up libglib2.0-dev:amd64 (2.64.6-1~ubuntu20.04.4) ...\n",
            "Processing triggers for libglib2.0-0:amd64 (2.64.6-1~ubuntu20.04.4) ...\n",
            "Processing triggers for libc-bin (2.31-0ubuntu9.9) ...\n",
            "Processing triggers for man-db (2.9.1-1) ...\n",
            "Setting up libcairo2-dev:amd64 (1.16.0-4ubuntu1) ...\n",
            "Looking in indexes: https://pypi.org/simple, https://us-python.pkg.dev/colab-wheels/public/simple/\n",
            "Collecting pycairo\n",
            "  Downloading pycairo-1.23.0.tar.gz (344 kB)\n",
            "\u001b[2K     \u001b[90m━━━━━━━━━━━━━━━━━━━━━━━━━━━━━━━━━━━━━━━\u001b[0m \u001b[32m344.6/344.6 KB\u001b[0m \u001b[31m9.1 MB/s\u001b[0m eta \u001b[36m0:00:00\u001b[0m\n",
            "\u001b[?25h  Installing build dependencies ... \u001b[?25l\u001b[?25hdone\n",
            "  Getting requirements to build wheel ... \u001b[?25l\u001b[?25hdone\n",
            "  Installing backend dependencies ... \u001b[?25l\u001b[?25hdone\n",
            "  Preparing metadata (pyproject.toml) ... \u001b[?25l\u001b[?25hdone\n",
            "Building wheels for collected packages: pycairo\n",
            "  Building wheel for pycairo (pyproject.toml) ... \u001b[?25l\u001b[?25hdone\n",
            "  Created wheel for pycairo: filename=pycairo-1.23.0-cp39-cp39-linux_x86_64.whl size=326930 sha256=2303c2c64273825b3fa5c8d4ed3b9307a37730c8916281e46270e883f8517e91\n",
            "  Stored in directory: /root/.cache/pip/wheels/7e/33/44/ed63d7850b41775b9c99e2677fe7cc4c6afd3b3eb767be75e7\n",
            "Successfully built pycairo\n",
            "Installing collected packages: pycairo\n",
            "Successfully installed pycairo-1.23.0\n"
          ]
        }
      ]
    },
    {
      "cell_type": "code",
      "source": [
        "from igraph import *\n",
        "import cairo\n",
        "import pandas as pd"
      ],
      "metadata": {
        "id": "2GJQo0Qceejn"
      },
      "execution_count": 2,
      "outputs": []
    },
    {
      "cell_type": "markdown",
      "metadata": {
        "id": "G_rpSAF1eRuL"
      },
      "source": [
        "# 1. Networks in igraph\n",
        "\n",
        "**igraph** is a collection of network analysis tools with the emphasis on efficiency, portability and ease of use. igraph is open source and free. igraph can be programmed in R, Python, Mathematica and C/C++. Lessons will cover the igraph python package but feel free to investigate on your own the R package. \n",
        "\n",
        "To install the package you just need to follow this instructions: https://igraph.org/python/doc/tutorial/install.html#installing-igraph-from-the-python-package-index\n",
        "\n",
        "\n",
        "You have the doc for this package here: https://igraph.org/python/doc/api/igraph._igraph.GraphBase.html\n",
        "\n",
        "# 1.1 Create networks\n",
        "\n",
        "First let's install and load the package in order to start from an empty environment."
      ]
    },
    {
      "cell_type": "code",
      "execution_count": 3,
      "metadata": {
        "id": "LXQzPpr3eRuZ"
      },
      "outputs": [],
      "source": [
        "from igraph import *\n",
        "import cairo\n",
        "import pandas as pd"
      ]
    },
    {
      "cell_type": "markdown",
      "metadata": {
        "id": "63fdsz_aeRud"
      },
      "source": [
        "We can generate graphs using the graph function of igraph. It receives the following arguments:\n",
        "\n",
        "* Edges (A vector defining the edges)\n",
        "* n (The number of vertices in the graph)\n",
        "* isolates (names of isolate vertices)\n",
        "* directed (Whether to create a directed graph)\n",
        "* simplify (whether to simplify the graph)\n",
        "\n",
        "Let's start with the simplest one: an undirected graph with three edges.\n",
        "Undirected graphs are for symmetric relationships."
      ]
    },
    {
      "cell_type": "code",
      "execution_count": 4,
      "metadata": {
        "id": "C_bBUpCieRuf"
      },
      "outputs": [],
      "source": [
        "g1 = Graph(edges=[[0,1], [1,2], [2,0]])"
      ]
    },
    {
      "cell_type": "code",
      "execution_count": 5,
      "metadata": {
        "id": "gJBSjThdeRuh",
        "colab": {
          "base_uri": "https://localhost:8080/",
          "height": 288
        },
        "outputId": "1580265e-f43b-47fb-d627-68b72bddec34"
      },
      "outputs": [
        {
          "output_type": "execute_result",
          "data": {
            "text/plain": [
              "<igraph.drawing.cairo.plot.CairoPlot at 0x7fc97900a730>"
            ],
            "image/svg+xml": "<?xml version=\"1.0\" encoding=\"UTF-8\"?>\n<svg xmlns=\"http://www.w3.org/2000/svg\" xmlns:xlink=\"http://www.w3.org/1999/xlink\" width=\"300pt\" height=\"200pt\" viewBox=\"0 0 300 200\" version=\"1.1\">\n<g id=\"surface2\">\n<rect x=\"0\" y=\"0\" width=\"300\" height=\"200\" style=\"fill:rgb(100%,100%,100%);fill-opacity:1;stroke:none;\"/>\n<path style=\"fill:none;stroke-width:1;stroke-linecap:butt;stroke-linejoin:miter;stroke:rgb(26.666667%,26.666667%,26.666667%);stroke-opacity:1;stroke-miterlimit:10;\" d=\"M 280 20 L 163.535156 180 \"/>\n<path style=\"fill:none;stroke-width:1;stroke-linecap:butt;stroke-linejoin:miter;stroke:rgb(26.666667%,26.666667%,26.666667%);stroke-opacity:1;stroke-miterlimit:10;\" d=\"M 163.535156 180 L 20 30.734375 \"/>\n<path style=\"fill:none;stroke-width:1;stroke-linecap:butt;stroke-linejoin:miter;stroke:rgb(26.666667%,26.666667%,26.666667%);stroke-opacity:1;stroke-miterlimit:10;\" d=\"M 280 20 L 20 30.734375 \"/>\n<path style=\"fill-rule:nonzero;fill:rgb(100%,0%,0%);fill-opacity:1;stroke-width:1;stroke-linecap:butt;stroke-linejoin:miter;stroke:rgb(0%,0%,0%);stroke-opacity:1;stroke-miterlimit:10;\" d=\"M 290 20 C 290 25.523438 285.523438 30 280 30 C 274.476562 30 270 25.523438 270 20 C 270 14.476562 274.476562 10 280 10 C 285.523438 10 290 14.476562 290 20 \"/>\n<path style=\"fill-rule:nonzero;fill:rgb(100%,0%,0%);fill-opacity:1;stroke-width:1;stroke-linecap:butt;stroke-linejoin:miter;stroke:rgb(0%,0%,0%);stroke-opacity:1;stroke-miterlimit:10;\" d=\"M 173.535156 180 C 173.535156 185.523438 169.058594 190 163.535156 190 C 158.015625 190 153.535156 185.523438 153.535156 180 C 153.535156 174.476562 158.015625 170 163.535156 170 C 169.058594 170 173.535156 174.476562 173.535156 180 \"/>\n<path style=\"fill-rule:nonzero;fill:rgb(100%,0%,0%);fill-opacity:1;stroke-width:1;stroke-linecap:butt;stroke-linejoin:miter;stroke:rgb(0%,0%,0%);stroke-opacity:1;stroke-miterlimit:10;\" d=\"M 30 30.734375 C 30 36.257812 25.523438 40.734375 20 40.734375 C 14.476562 40.734375 10 36.257812 10 30.734375 C 10 25.210938 14.476562 20.734375 20 20.734375 C 25.523438 20.734375 30 25.210938 30 30.734375 \"/>\n</g>\n</svg>\n"
          },
          "metadata": {
            "image/svg+xml": {
              "isolated": true
            }
          },
          "execution_count": 5
        }
      ],
      "source": [
        "plot(g1,bbox=(300, 200))"
      ]
    },
    {
      "cell_type": "markdown",
      "metadata": {
        "id": "HWS6zy28eRui"
      },
      "source": [
        "You can obtain more information about the graph executing class and executing print(g1). \n",
        "\n",
        "The description of an igraph object starts with up to four letters:\n",
        "\n",
        "1. D or U, for a directed or undirected graph: if either they have symmetrical or asymmetrical relations\n",
        "2. N for a named graph (where nodes have a name attribute)\n",
        "3. W for a weighted graph (where edges have a weight attribute): when each connection does not have the same importance\n",
        "4. B for a bipartite (two-mode) graph (where nodes have a type attribute)\n",
        "\n",
        "The two numbers that follow (7 5) refer to the number of nodes and edges in the graph. The description also lists node & edge attributes, for example:\n",
        "\n",
        "* (g/c) - graph-level character attribute\n",
        "* (v/c) - vertex-level character attribute\n",
        "* (e/n) - edge-level numeric attribute"
      ]
    },
    {
      "cell_type": "code",
      "source": [],
      "metadata": {
        "id": "NIpT-W4hexTS"
      },
      "execution_count": 5,
      "outputs": []
    },
    {
      "cell_type": "code",
      "execution_count": 6,
      "metadata": {
        "id": "WyeLJ5s8eRuk",
        "colab": {
          "base_uri": "https://localhost:8080/"
        },
        "outputId": "ae40a582-515e-4c28-f2e2-f9578efd5e00"
      },
      "outputs": [
        {
          "output_type": "stream",
          "name": "stdout",
          "text": [
            "IGRAPH U--- 3 3 --\n",
            "+ edges:\n",
            "0--1 1--2 0--2\n"
          ]
        }
      ],
      "source": [
        "print(g1)"
      ]
    },
    {
      "cell_type": "markdown",
      "metadata": {
        "id": "t68dkLh1eRum"
      },
      "source": [
        "Now, do you think you can create a different graph?"
      ]
    },
    {
      "cell_type": "code",
      "execution_count": 7,
      "metadata": {
        "id": "Yd7ocPLweRuo"
      },
      "outputs": [],
      "source": [
        "#Discussion board 1.1\n",
        "# Create it, plot it and comment the type of the graph, number of nodes, edges..."
      ]
    },
    {
      "cell_type": "markdown",
      "metadata": {
        "id": "FBAyzRzieRus"
      },
      "source": [
        "You can create a graph with a representation of a graph formula.\n",
        "\n",
        "A graph formula is a simple string representation of a graph. It is very handy for creating small graphs quickly. The string consists of vertex names separated by edge operators. An edge operator is a sequence of dashes (-) that may or may not start with an arrowhead (< at the beginning of the sequence or > at the end of the sequence). The edge operators can be arbitrarily long, i.e., you may use as many dashes to draw them as you like. This makes a total of four different edge operators:\n",
        "\n",
        "----- makes an undirected edge\n",
        "\n",
        "<---- makes a directed edge pointing from the vertex on the right hand side of the operator to the vertex on the left hand side\n",
        "----> is the opposite of <----\n",
        "\n",
        "<---> creates a mutual directed edge pair between the two vertices\n",
        "\n",
        "If you only use the undirected edge operator (-----), the graph will be undirected. Otherwise it will be directed. Vertex names used in the formula will be assigned to the name vertex attribute of the graph"
      ]
    },
    {
      "cell_type": "code",
      "execution_count": 8,
      "metadata": {
        "id": "Chqhp08aeRuu",
        "colab": {
          "base_uri": "https://localhost:8080/",
          "height": 288
        },
        "outputId": "ae923512-5464-4631-90a8-da04de8139db"
      },
      "outputs": [
        {
          "output_type": "execute_result",
          "data": {
            "text/plain": [
              "<igraph.drawing.cairo.plot.CairoPlot at 0x7fc978f6a1c0>"
            ],
            "image/svg+xml": "<?xml version=\"1.0\" encoding=\"UTF-8\"?>\n<svg xmlns=\"http://www.w3.org/2000/svg\" xmlns:xlink=\"http://www.w3.org/1999/xlink\" width=\"300pt\" height=\"200pt\" viewBox=\"0 0 300 200\" version=\"1.1\">\n<defs>\n<g>\n<symbol overflow=\"visible\" id=\"glyph0-0\">\n<path style=\"stroke:none;\" d=\"M 0.46875 0 L 0.46875 -9.328125 L 4.1875 -9.328125 L 4.1875 0 Z M 0.9375 -0.46875 L 3.71875 -0.46875 L 3.71875 -8.859375 L 0.9375 -8.859375 Z M 0.9375 -0.46875 \"/>\n</symbol>\n<symbol overflow=\"visible\" id=\"glyph0-1\">\n<path style=\"stroke:none;\" d=\"M 7.0625 0 L 6.125 -2.609375 L 2.28125 -2.609375 L 1.34375 0 L 0 0 L 3.484375 -9.21875 L 4.96875 -9.21875 L 8.390625 0 Z M 4.796875 -6.515625 C 4.734375 -6.691406 4.671875 -6.867188 4.609375 -7.046875 C 4.546875 -7.222656 4.488281 -7.390625 4.4375 -7.546875 C 4.382812 -7.710938 4.335938 -7.851562 4.296875 -7.96875 C 4.253906 -8.09375 4.226562 -8.179688 4.21875 -8.234375 C 4.195312 -8.179688 4.164062 -8.09375 4.125 -7.96875 C 4.09375 -7.84375 4.050781 -7.703125 4 -7.546875 C 3.945312 -7.390625 3.890625 -7.222656 3.828125 -7.046875 C 3.773438 -6.867188 3.71875 -6.691406 3.65625 -6.515625 L 2.625 -3.625 L 5.796875 -3.625 Z M 4.796875 -6.515625 \"/>\n</symbol>\n<symbol overflow=\"visible\" id=\"glyph0-2\">\n<path style=\"stroke:none;\" d=\"M 7.875 -2.59375 C 7.875 -2.125 7.773438 -1.722656 7.578125 -1.390625 C 7.390625 -1.066406 7.132812 -0.800781 6.8125 -0.59375 C 6.488281 -0.382812 6.113281 -0.234375 5.6875 -0.140625 C 5.257812 -0.046875 4.804688 0 4.328125 0 L 1.109375 0 L 1.109375 -9.21875 L 3.921875 -9.21875 C 4.453125 -9.21875 4.925781 -9.175781 5.34375 -9.09375 C 5.769531 -9.007812 6.128906 -8.875 6.421875 -8.6875 C 6.710938 -8.507812 6.929688 -8.28125 7.078125 -8 C 7.234375 -7.71875 7.3125 -7.378906 7.3125 -6.984375 C 7.3125 -6.734375 7.273438 -6.488281 7.203125 -6.25 C 7.128906 -6.019531 7.015625 -5.8125 6.859375 -5.625 C 6.703125 -5.445312 6.507812 -5.289062 6.28125 -5.15625 C 6.0625 -5.019531 5.796875 -4.921875 5.484375 -4.859375 C 5.867188 -4.816406 6.207031 -4.734375 6.5 -4.609375 C 6.800781 -4.484375 7.050781 -4.320312 7.25 -4.125 C 7.457031 -3.925781 7.613281 -3.695312 7.71875 -3.4375 C 7.820312 -3.175781 7.875 -2.894531 7.875 -2.59375 Z M 6 -6.828125 C 6 -7.304688 5.828125 -7.648438 5.484375 -7.859375 C 5.140625 -8.066406 4.625 -8.171875 3.9375 -8.171875 L 2.40625 -8.171875 L 2.40625 -5.328125 L 3.953125 -5.328125 C 4.316406 -5.328125 4.628906 -5.363281 4.890625 -5.4375 C 5.148438 -5.507812 5.363281 -5.609375 5.53125 -5.734375 C 5.695312 -5.867188 5.816406 -6.023438 5.890625 -6.203125 C 5.960938 -6.390625 6 -6.597656 6 -6.828125 Z M 6.5625 -2.71875 C 6.5625 -3 6.5 -3.238281 6.375 -3.4375 C 6.257812 -3.644531 6.097656 -3.8125 5.890625 -3.9375 C 5.679688 -4.070312 5.425781 -4.164062 5.125 -4.21875 C 4.832031 -4.28125 4.503906 -4.3125 4.140625 -4.3125 L 2.40625 -4.3125 L 2.40625 -1.046875 L 4.234375 -1.046875 C 4.566406 -1.046875 4.875 -1.070312 5.15625 -1.125 C 5.4375 -1.175781 5.679688 -1.265625 5.890625 -1.390625 C 6.097656 -1.523438 6.257812 -1.695312 6.375 -1.90625 C 6.5 -2.125 6.5625 -2.394531 6.5625 -2.71875 Z M 6.5625 -2.71875 \"/>\n</symbol>\n<symbol overflow=\"visible\" id=\"glyph0-3\">\n<path style=\"stroke:none;\" d=\"M 2.140625 -4.65625 C 2.140625 -4.0625 2.1875 -3.53125 2.28125 -3.0625 C 2.375 -2.601562 2.515625 -2.210938 2.703125 -1.890625 C 2.898438 -1.578125 3.144531 -1.335938 3.4375 -1.171875 C 3.738281 -1.003906 4.097656 -0.921875 4.515625 -0.921875 C 4.804688 -0.921875 5.066406 -0.972656 5.296875 -1.078125 C 5.523438 -1.191406 5.726562 -1.335938 5.90625 -1.515625 C 6.09375 -1.691406 6.25 -1.894531 6.375 -2.125 C 6.507812 -2.363281 6.625 -2.601562 6.71875 -2.84375 L 7.8125 -2.40625 C 7.675781 -2.082031 7.515625 -1.769531 7.328125 -1.46875 C 7.148438 -1.164062 6.925781 -0.894531 6.65625 -0.65625 C 6.394531 -0.414062 6.085938 -0.222656 5.734375 -0.078125 C 5.378906 0.0664062 4.96875 0.140625 4.5 0.140625 C 3.863281 0.140625 3.3125 0.0234375 2.84375 -0.203125 C 2.375 -0.429688 1.984375 -0.753906 1.671875 -1.171875 C 1.367188 -1.597656 1.140625 -2.101562 0.984375 -2.6875 C 0.835938 -3.28125 0.765625 -3.9375 0.765625 -4.65625 C 0.765625 -5.414062 0.835938 -6.085938 0.984375 -6.671875 C 1.128906 -7.253906 1.351562 -7.742188 1.65625 -8.140625 C 1.957031 -8.546875 2.335938 -8.847656 2.796875 -9.046875 C 3.265625 -9.253906 3.8125 -9.359375 4.4375 -9.359375 C 4.894531 -9.359375 5.296875 -9.296875 5.640625 -9.171875 C 5.992188 -9.046875 6.296875 -8.878906 6.546875 -8.671875 C 6.796875 -8.460938 7.007812 -8.21875 7.1875 -7.9375 C 7.363281 -7.664062 7.507812 -7.378906 7.625 -7.078125 L 6.46875 -6.625 C 6.40625 -6.84375 6.3125 -7.050781 6.1875 -7.25 C 6.070312 -7.445312 5.929688 -7.625 5.765625 -7.78125 C 5.597656 -7.9375 5.40625 -8.0625 5.1875 -8.15625 C 4.96875 -8.25 4.71875 -8.296875 4.4375 -8.296875 C 4.03125 -8.296875 3.679688 -8.21875 3.390625 -8.0625 C 3.109375 -7.90625 2.875 -7.671875 2.6875 -7.359375 C 2.5 -7.054688 2.359375 -6.675781 2.265625 -6.21875 C 2.179688 -5.769531 2.140625 -5.25 2.140625 -4.65625 Z M 2.140625 -4.65625 \"/>\n</symbol>\n<symbol overflow=\"visible\" id=\"glyph0-4\">\n<path style=\"stroke:none;\" d=\"M 7.6875 -4.703125 C 7.6875 -3.941406 7.59375 -3.265625 7.40625 -2.671875 C 7.226562 -2.085938 6.96875 -1.597656 6.625 -1.203125 C 6.28125 -0.804688 5.851562 -0.503906 5.34375 -0.296875 C 4.84375 -0.0976562 4.273438 0 3.640625 0 L 1.109375 0 L 1.109375 -9.21875 L 3.234375 -9.21875 C 3.953125 -9.21875 4.585938 -9.128906 5.140625 -8.953125 C 5.691406 -8.785156 6.15625 -8.515625 6.53125 -8.140625 C 6.914062 -7.773438 7.203125 -7.304688 7.390625 -6.734375 C 7.585938 -6.160156 7.6875 -5.484375 7.6875 -4.703125 Z M 6.375 -4.703125 C 6.375 -5.316406 6.3125 -5.84375 6.1875 -6.28125 C 6.0625 -6.71875 5.867188 -7.070312 5.609375 -7.34375 C 5.347656 -7.625 5.019531 -7.828125 4.625 -7.953125 C 4.238281 -8.085938 3.773438 -8.15625 3.234375 -8.15625 L 2.40625 -8.15625 L 2.40625 -1.0625 L 3.515625 -1.0625 C 4.484375 -1.0625 5.203125 -1.363281 5.671875 -1.96875 C 6.140625 -2.582031 6.375 -3.492188 6.375 -4.703125 Z M 6.375 -4.703125 \"/>\n</symbol>\n<symbol overflow=\"visible\" id=\"glyph0-5\">\n<path style=\"stroke:none;\" d=\"M 1.109375 0 L 1.109375 -9.21875 L 7.390625 -9.21875 L 7.390625 -8.15625 L 2.40625 -8.15625 L 2.40625 -5.265625 L 6.984375 -5.265625 L 6.984375 -4.21875 L 2.40625 -4.21875 L 2.40625 -1.0625 L 7.671875 -1.0625 L 7.671875 0 Z M 1.109375 0 \"/>\n</symbol>\n<symbol overflow=\"visible\" id=\"glyph0-6\">\n<path style=\"stroke:none;\" d=\"M 2.625 -8.15625 L 2.625 -4.78125 L 7.25 -4.78125 L 7.25 -3.703125 L 2.625 -3.703125 L 2.625 0 L 1.328125 0 L 1.328125 -9.21875 L 7.421875 -9.21875 L 7.421875 -8.15625 Z M 2.625 -8.15625 \"/>\n</symbol>\n</g>\n</defs>\n<g id=\"surface8\">\n<rect x=\"0\" y=\"0\" width=\"300\" height=\"200\" style=\"fill:rgb(100%,100%,100%);fill-opacity:1;stroke:none;\"/>\n<path style=\"fill:none;stroke-width:1;stroke-linecap:butt;stroke-linejoin:miter;stroke:rgb(26.666667%,26.666667%,26.666667%);stroke-opacity:1;stroke-miterlimit:10;\" d=\"M 280 134.828125 L 220.957031 180 \"/>\n<path style=\"fill:none;stroke-width:1;stroke-linecap:butt;stroke-linejoin:miter;stroke:rgb(26.666667%,26.666667%,26.666667%);stroke-opacity:1;stroke-miterlimit:10;\" d=\"M 280 134.828125 L 198.964844 99.40625 \"/>\n<path style=\"fill:none;stroke-width:1;stroke-linecap:butt;stroke-linejoin:miter;stroke:rgb(26.666667%,26.666667%,26.666667%);stroke-opacity:1;stroke-miterlimit:10;\" d=\"M 220.957031 180 L 198.964844 99.40625 \"/>\n<path style=\"fill:none;stroke-width:1;stroke-linecap:butt;stroke-linejoin:miter;stroke:rgb(26.666667%,26.666667%,26.666667%);stroke-opacity:1;stroke-miterlimit:10;\" d=\"M 198.964844 99.40625 L 106.71875 95.164062 \"/>\n<path style=\"fill:none;stroke-width:1;stroke-linecap:butt;stroke-linejoin:miter;stroke:rgb(26.666667%,26.666667%,26.666667%);stroke-opacity:1;stroke-miterlimit:10;\" d=\"M 198.964844 99.40625 L 232.804688 20 \"/>\n<path style=\"fill:none;stroke-width:1;stroke-linecap:butt;stroke-linejoin:miter;stroke:rgb(26.666667%,26.666667%,26.666667%);stroke-opacity:1;stroke-miterlimit:10;\" d=\"M 106.71875 95.164062 L 20 91.523438 \"/>\n<path style=\"fill-rule:nonzero;fill:rgb(100%,0%,0%);fill-opacity:1;stroke-width:1;stroke-linecap:butt;stroke-linejoin:miter;stroke:rgb(0%,0%,0%);stroke-opacity:1;stroke-miterlimit:10;\" d=\"M 290 134.828125 C 290 140.351562 285.523438 144.828125 280 144.828125 C 274.476562 144.828125 270 140.351562 270 134.828125 C 270 129.304688 274.476562 124.828125 280 124.828125 C 285.523438 124.828125 290 129.304688 290 134.828125 \"/>\n<path style=\"fill-rule:nonzero;fill:rgb(100%,0%,0%);fill-opacity:1;stroke-width:1;stroke-linecap:butt;stroke-linejoin:miter;stroke:rgb(0%,0%,0%);stroke-opacity:1;stroke-miterlimit:10;\" d=\"M 230.957031 180 C 230.957031 185.523438 226.480469 190 220.957031 190 C 215.433594 190 210.957031 185.523438 210.957031 180 C 210.957031 174.476562 215.433594 170 220.957031 170 C 226.480469 170 230.957031 174.476562 230.957031 180 \"/>\n<path style=\"fill-rule:nonzero;fill:rgb(100%,0%,0%);fill-opacity:1;stroke-width:1;stroke-linecap:butt;stroke-linejoin:miter;stroke:rgb(0%,0%,0%);stroke-opacity:1;stroke-miterlimit:10;\" d=\"M 208.964844 99.40625 C 208.964844 104.929688 204.488281 109.40625 198.964844 109.40625 C 193.441406 109.40625 188.964844 104.929688 188.964844 99.40625 C 188.964844 93.886719 193.441406 89.40625 198.964844 89.40625 C 204.488281 89.40625 208.964844 93.886719 208.964844 99.40625 \"/>\n<path style=\"fill-rule:nonzero;fill:rgb(100%,0%,0%);fill-opacity:1;stroke-width:1;stroke-linecap:butt;stroke-linejoin:miter;stroke:rgb(0%,0%,0%);stroke-opacity:1;stroke-miterlimit:10;\" d=\"M 116.71875 95.164062 C 116.71875 100.6875 112.242188 105.164062 106.71875 105.164062 C 101.195312 105.164062 96.71875 100.6875 96.71875 95.164062 C 96.71875 89.640625 101.195312 85.164062 106.71875 85.164062 C 112.242188 85.164062 116.71875 89.640625 116.71875 95.164062 \"/>\n<path style=\"fill-rule:nonzero;fill:rgb(100%,0%,0%);fill-opacity:1;stroke-width:1;stroke-linecap:butt;stroke-linejoin:miter;stroke:rgb(0%,0%,0%);stroke-opacity:1;stroke-miterlimit:10;\" d=\"M 30 91.523438 C 30 97.046875 25.523438 101.523438 20 101.523438 C 14.476562 101.523438 10 97.046875 10 91.523438 C 10 86 14.476562 81.523438 20 81.523438 C 25.523438 81.523438 30 86 30 91.523438 \"/>\n<path style=\"fill-rule:nonzero;fill:rgb(100%,0%,0%);fill-opacity:1;stroke-width:1;stroke-linecap:butt;stroke-linejoin:miter;stroke:rgb(0%,0%,0%);stroke-opacity:1;stroke-miterlimit:10;\" d=\"M 242.804688 20 C 242.804688 25.523438 238.328125 30 232.804688 30 C 227.28125 30 222.804688 25.523438 222.804688 20 C 222.804688 14.476562 227.28125 10 232.804688 10 C 238.328125 10 242.804688 14.476562 242.804688 20 \"/>\n<g style=\"fill:rgb(0%,0%,0%);fill-opacity:1;\">\n  <use xlink:href=\"#glyph0-1\" x=\"275.804688\" y=\"141.539062\"/>\n</g>\n<g style=\"fill:rgb(0%,0%,0%);fill-opacity:1;\">\n  <use xlink:href=\"#glyph0-2\" x=\"216.464844\" y=\"186.710938\"/>\n</g>\n<g style=\"fill:rgb(0%,0%,0%);fill-opacity:1;\">\n  <use xlink:href=\"#glyph0-3\" x=\"194.675781\" y=\"106.191406\"/>\n</g>\n<g style=\"fill:rgb(0%,0%,0%);fill-opacity:1;\">\n  <use xlink:href=\"#glyph0-4\" x=\"102.320312\" y=\"101.875\"/>\n</g>\n<g style=\"fill:rgb(0%,0%,0%);fill-opacity:1;\">\n  <use xlink:href=\"#glyph0-5\" x=\"15.609375\" y=\"98.234375\"/>\n</g>\n<g style=\"fill:rgb(0%,0%,0%);fill-opacity:1;\">\n  <use xlink:href=\"#glyph0-6\" x=\"228.433594\" y=\"26.710938\"/>\n</g>\n</g>\n</svg>\n"
          },
          "metadata": {
            "image/svg+xml": {
              "isolated": true
            }
          },
          "execution_count": 8
        }
      ],
      "source": [
        "g4 = Graph.Formula('A-B, B-C, C-A, C-D, D-E, C-F')\n",
        "plot(g4,bbox=(300, 200),vertex_label=g4.vs['name'])"
      ]
    },
    {
      "cell_type": "code",
      "execution_count": 9,
      "metadata": {
        "id": "CGbqymmneRuv",
        "colab": {
          "base_uri": "https://localhost:8080/"
        },
        "outputId": "0ac5cfa3-5cf3-4e51-bf0f-b8e4841c1c3f"
      },
      "outputs": [
        {
          "output_type": "stream",
          "name": "stdout",
          "text": [
            "IGRAPH UN-- 6 6 --\n",
            "+ attr: name (v)\n",
            "+ edges (vertex names):\n",
            "A--B, A--C, B--C, C--D, C--F, D--E\n"
          ]
        }
      ],
      "source": [
        "print(g4)"
      ]
    },
    {
      "cell_type": "code",
      "source": [
        "#Discussion board 1.2\n",
        "# Create a new graph with the formula, plot it and comment the type of the graph, number of nodes, edges..."
      ],
      "metadata": {
        "id": "aowHrZM4e42V"
      },
      "execution_count": 10,
      "outputs": []
    },
    {
      "cell_type": "markdown",
      "metadata": {
        "id": "XgnrSXbaeRuw"
      },
      "source": [
        "# 1.2 Edge, vertex, and network attributes\n",
        "\n",
        "You can access vertices by getting the dataframe of vertices:"
      ]
    },
    {
      "cell_type": "code",
      "execution_count": 11,
      "metadata": {
        "id": "AO6SUEq0eRuw",
        "colab": {
          "base_uri": "https://localhost:8080/",
          "height": 269
        },
        "outputId": "8d53c834-dc6a-4539-bfd1-4966ddd28b32"
      },
      "outputs": [
        {
          "output_type": "execute_result",
          "data": {
            "text/plain": [
              "          name\n",
              "vertex ID     \n",
              "0            A\n",
              "1            B\n",
              "2            C\n",
              "3            D\n",
              "4            E\n",
              "5            F"
            ],
            "text/html": [
              "\n",
              "  <div id=\"df-ce17f790-fe20-4633-a525-bcb957ca9288\">\n",
              "    <div class=\"colab-df-container\">\n",
              "      <div>\n",
              "<style scoped>\n",
              "    .dataframe tbody tr th:only-of-type {\n",
              "        vertical-align: middle;\n",
              "    }\n",
              "\n",
              "    .dataframe tbody tr th {\n",
              "        vertical-align: top;\n",
              "    }\n",
              "\n",
              "    .dataframe thead th {\n",
              "        text-align: right;\n",
              "    }\n",
              "</style>\n",
              "<table border=\"1\" class=\"dataframe\">\n",
              "  <thead>\n",
              "    <tr style=\"text-align: right;\">\n",
              "      <th></th>\n",
              "      <th>name</th>\n",
              "    </tr>\n",
              "    <tr>\n",
              "      <th>vertex ID</th>\n",
              "      <th></th>\n",
              "    </tr>\n",
              "  </thead>\n",
              "  <tbody>\n",
              "    <tr>\n",
              "      <th>0</th>\n",
              "      <td>A</td>\n",
              "    </tr>\n",
              "    <tr>\n",
              "      <th>1</th>\n",
              "      <td>B</td>\n",
              "    </tr>\n",
              "    <tr>\n",
              "      <th>2</th>\n",
              "      <td>C</td>\n",
              "    </tr>\n",
              "    <tr>\n",
              "      <th>3</th>\n",
              "      <td>D</td>\n",
              "    </tr>\n",
              "    <tr>\n",
              "      <th>4</th>\n",
              "      <td>E</td>\n",
              "    </tr>\n",
              "    <tr>\n",
              "      <th>5</th>\n",
              "      <td>F</td>\n",
              "    </tr>\n",
              "  </tbody>\n",
              "</table>\n",
              "</div>\n",
              "      <button class=\"colab-df-convert\" onclick=\"convertToInteractive('df-ce17f790-fe20-4633-a525-bcb957ca9288')\"\n",
              "              title=\"Convert this dataframe to an interactive table.\"\n",
              "              style=\"display:none;\">\n",
              "        \n",
              "  <svg xmlns=\"http://www.w3.org/2000/svg\" height=\"24px\"viewBox=\"0 0 24 24\"\n",
              "       width=\"24px\">\n",
              "    <path d=\"M0 0h24v24H0V0z\" fill=\"none\"/>\n",
              "    <path d=\"M18.56 5.44l.94 2.06.94-2.06 2.06-.94-2.06-.94-.94-2.06-.94 2.06-2.06.94zm-11 1L8.5 8.5l.94-2.06 2.06-.94-2.06-.94L8.5 2.5l-.94 2.06-2.06.94zm10 10l.94 2.06.94-2.06 2.06-.94-2.06-.94-.94-2.06-.94 2.06-2.06.94z\"/><path d=\"M17.41 7.96l-1.37-1.37c-.4-.4-.92-.59-1.43-.59-.52 0-1.04.2-1.43.59L10.3 9.45l-7.72 7.72c-.78.78-.78 2.05 0 2.83L4 21.41c.39.39.9.59 1.41.59.51 0 1.02-.2 1.41-.59l7.78-7.78 2.81-2.81c.8-.78.8-2.07 0-2.86zM5.41 20L4 18.59l7.72-7.72 1.47 1.35L5.41 20z\"/>\n",
              "  </svg>\n",
              "      </button>\n",
              "      \n",
              "  <style>\n",
              "    .colab-df-container {\n",
              "      display:flex;\n",
              "      flex-wrap:wrap;\n",
              "      gap: 12px;\n",
              "    }\n",
              "\n",
              "    .colab-df-convert {\n",
              "      background-color: #E8F0FE;\n",
              "      border: none;\n",
              "      border-radius: 50%;\n",
              "      cursor: pointer;\n",
              "      display: none;\n",
              "      fill: #1967D2;\n",
              "      height: 32px;\n",
              "      padding: 0 0 0 0;\n",
              "      width: 32px;\n",
              "    }\n",
              "\n",
              "    .colab-df-convert:hover {\n",
              "      background-color: #E2EBFA;\n",
              "      box-shadow: 0px 1px 2px rgba(60, 64, 67, 0.3), 0px 1px 3px 1px rgba(60, 64, 67, 0.15);\n",
              "      fill: #174EA6;\n",
              "    }\n",
              "\n",
              "    [theme=dark] .colab-df-convert {\n",
              "      background-color: #3B4455;\n",
              "      fill: #D2E3FC;\n",
              "    }\n",
              "\n",
              "    [theme=dark] .colab-df-convert:hover {\n",
              "      background-color: #434B5C;\n",
              "      box-shadow: 0px 1px 3px 1px rgba(0, 0, 0, 0.15);\n",
              "      filter: drop-shadow(0px 1px 2px rgba(0, 0, 0, 0.3));\n",
              "      fill: #FFFFFF;\n",
              "    }\n",
              "  </style>\n",
              "\n",
              "      <script>\n",
              "        const buttonEl =\n",
              "          document.querySelector('#df-ce17f790-fe20-4633-a525-bcb957ca9288 button.colab-df-convert');\n",
              "        buttonEl.style.display =\n",
              "          google.colab.kernel.accessAllowed ? 'block' : 'none';\n",
              "\n",
              "        async function convertToInteractive(key) {\n",
              "          const element = document.querySelector('#df-ce17f790-fe20-4633-a525-bcb957ca9288');\n",
              "          const dataTable =\n",
              "            await google.colab.kernel.invokeFunction('convertToInteractive',\n",
              "                                                     [key], {});\n",
              "          if (!dataTable) return;\n",
              "\n",
              "          const docLinkHtml = 'Like what you see? Visit the ' +\n",
              "            '<a target=\"_blank\" href=https://colab.research.google.com/notebooks/data_table.ipynb>data table notebook</a>'\n",
              "            + ' to learn more about interactive tables.';\n",
              "          element.innerHTML = '';\n",
              "          dataTable['output_type'] = 'display_data';\n",
              "          await google.colab.output.renderOutput(dataTable, element);\n",
              "          const docLink = document.createElement('div');\n",
              "          docLink.innerHTML = docLinkHtml;\n",
              "          element.appendChild(docLink);\n",
              "        }\n",
              "      </script>\n",
              "    </div>\n",
              "  </div>\n",
              "  "
            ]
          },
          "metadata": {},
          "execution_count": 11
        }
      ],
      "source": [
        "g4.get_vertex_dataframe()"
      ]
    },
    {
      "cell_type": "markdown",
      "metadata": {
        "id": "WfUVGUwHeRux"
      },
      "source": [
        "And the edges by getting the dataframe of vertices:"
      ]
    },
    {
      "cell_type": "code",
      "execution_count": 12,
      "metadata": {
        "scrolled": true,
        "id": "tLVPvmL2eRuy",
        "colab": {
          "base_uri": "https://localhost:8080/"
        },
        "outputId": "401f2210-6812-4970-c022-26e75d3a44f9"
      },
      "outputs": [
        {
          "output_type": "execute_result",
          "data": {
            "text/plain": [
              "[(0, 1), (0, 2), (1, 2), (2, 3), (2, 5), (3, 4)]"
            ]
          },
          "metadata": {},
          "execution_count": 12
        }
      ],
      "source": [
        "g4.get_edgelist()"
      ]
    },
    {
      "cell_type": "markdown",
      "metadata": {
        "id": "NJbagf8neRuz"
      },
      "source": [
        "To access the vertex/edge sequence we can use g.vs/g.es. g.vs and g.es are properties of the graph and can be used to get specific attributes of the graph. For example:"
      ]
    },
    {
      "cell_type": "code",
      "execution_count": 13,
      "metadata": {
        "id": "eQu5JiTVeRu0",
        "colab": {
          "base_uri": "https://localhost:8080/"
        },
        "outputId": "30df206d-3e5e-4301-fca2-0623aa56a643"
      },
      "outputs": [
        {
          "output_type": "execute_result",
          "data": {
            "text/plain": [
              "['A', 'B', 'C', 'D', 'E', 'F']"
            ]
          },
          "metadata": {},
          "execution_count": 13
        }
      ],
      "source": [
        "g4.vs['name']"
      ]
    },
    {
      "cell_type": "markdown",
      "metadata": {
        "id": "T_IIUtzTeRu1"
      },
      "source": [
        "An adjacency matrix A is a representation of the graph in which:\n",
        "* Aij = 1 if there is a link from node i to node j\n",
        "* Aij = 0 otherwise\n",
        "\n",
        "You can access the network adjacency matrix directly doing:"
      ]
    },
    {
      "cell_type": "code",
      "execution_count": 14,
      "metadata": {
        "id": "I2AI59gXeRu2",
        "colab": {
          "base_uri": "https://localhost:8080/"
        },
        "outputId": "ae3b7255-c0aa-463c-a744-d2301ad0c93b"
      },
      "outputs": [
        {
          "output_type": "execute_result",
          "data": {
            "text/plain": [
              "Matrix([[0, 1, 1, 0, 0, 0], [1, 0, 1, 0, 0, 0], [1, 1, 0, 1, 0, 1], [0, 0, 1, 0, 1, 0], [0, 0, 0, 1, 0, 0], [0, 0, 1, 0, 0, 0]])"
            ]
          },
          "metadata": {},
          "execution_count": 14
        }
      ],
      "source": [
        "g4.get_adjacency()"
      ]
    },
    {
      "cell_type": "markdown",
      "metadata": {
        "id": "HNUdC5neeRu2"
      },
      "source": [
        "And you can index that matrix by using the vertex name"
      ]
    },
    {
      "cell_type": "code",
      "execution_count": 15,
      "metadata": {
        "id": "5JvAx4bIeRu3",
        "colab": {
          "base_uri": "https://localhost:8080/"
        },
        "outputId": "34a93d57-b7d9-4e36-cc68-9aa7a6c1cabb"
      },
      "outputs": [
        {
          "output_type": "execute_result",
          "data": {
            "text/plain": [
              "1"
            ]
          },
          "metadata": {},
          "execution_count": 15
        }
      ],
      "source": [
        "g4[\"A\",\"B\"]"
      ]
    },
    {
      "cell_type": "markdown",
      "metadata": {
        "id": "5TcvlhrDeRu4"
      },
      "source": [
        "Attributes can be added to the network, vertices, or edges. \n",
        "With vertex_attributes and edge_attributes you can query the atributes of a given graph.\n",
        "\n",
        "In this case we only have the vertex name (that is automatically generated when we created the network)."
      ]
    },
    {
      "cell_type": "code",
      "execution_count": 16,
      "metadata": {
        "id": "e0T824bVeRu4",
        "colab": {
          "base_uri": "https://localhost:8080/"
        },
        "outputId": "f520886c-c403-4f6c-c449-7cd2877b1f90"
      },
      "outputs": [
        {
          "output_type": "execute_result",
          "data": {
            "text/plain": [
              "['name']"
            ]
          },
          "metadata": {},
          "execution_count": 16
        }
      ],
      "source": [
        "g4.vertex_attributes()"
      ]
    },
    {
      "cell_type": "code",
      "execution_count": 17,
      "metadata": {
        "id": "GxbplB7weRu5",
        "colab": {
          "base_uri": "https://localhost:8080/"
        },
        "outputId": "64847c1e-495b-4b16-fb28-c9dd185308c4"
      },
      "outputs": [
        {
          "output_type": "execute_result",
          "data": {
            "text/plain": [
              "[]"
            ]
          },
          "metadata": {},
          "execution_count": 17
        }
      ],
      "source": [
        "g4.edge_attributes()"
      ]
    },
    {
      "cell_type": "markdown",
      "metadata": {
        "id": "pMmJlDmZeRu5"
      },
      "source": [
        "To set the attributes the following syntax can be used."
      ]
    },
    {
      "cell_type": "code",
      "execution_count": 18,
      "metadata": {
        "id": "V2YKF6dueRu6",
        "colab": {
          "base_uri": "https://localhost:8080/",
          "height": 269
        },
        "outputId": "22a625d4-634a-4f21-a407-5d1833cacfd4"
      },
      "outputs": [
        {
          "output_type": "execute_result",
          "data": {
            "text/plain": [
              "          name         newAtt\n",
              "vertex ID                    \n",
              "0            A  New attribute\n",
              "1            B  New attribute\n",
              "2            C  New attribute\n",
              "3            D  New attribute\n",
              "4            E  New attribute\n",
              "5            F  New attribute"
            ],
            "text/html": [
              "\n",
              "  <div id=\"df-5f666483-79bd-4c04-bc6f-502ea460aa03\">\n",
              "    <div class=\"colab-df-container\">\n",
              "      <div>\n",
              "<style scoped>\n",
              "    .dataframe tbody tr th:only-of-type {\n",
              "        vertical-align: middle;\n",
              "    }\n",
              "\n",
              "    .dataframe tbody tr th {\n",
              "        vertical-align: top;\n",
              "    }\n",
              "\n",
              "    .dataframe thead th {\n",
              "        text-align: right;\n",
              "    }\n",
              "</style>\n",
              "<table border=\"1\" class=\"dataframe\">\n",
              "  <thead>\n",
              "    <tr style=\"text-align: right;\">\n",
              "      <th></th>\n",
              "      <th>name</th>\n",
              "      <th>newAtt</th>\n",
              "    </tr>\n",
              "    <tr>\n",
              "      <th>vertex ID</th>\n",
              "      <th></th>\n",
              "      <th></th>\n",
              "    </tr>\n",
              "  </thead>\n",
              "  <tbody>\n",
              "    <tr>\n",
              "      <th>0</th>\n",
              "      <td>A</td>\n",
              "      <td>New attribute</td>\n",
              "    </tr>\n",
              "    <tr>\n",
              "      <th>1</th>\n",
              "      <td>B</td>\n",
              "      <td>New attribute</td>\n",
              "    </tr>\n",
              "    <tr>\n",
              "      <th>2</th>\n",
              "      <td>C</td>\n",
              "      <td>New attribute</td>\n",
              "    </tr>\n",
              "    <tr>\n",
              "      <th>3</th>\n",
              "      <td>D</td>\n",
              "      <td>New attribute</td>\n",
              "    </tr>\n",
              "    <tr>\n",
              "      <th>4</th>\n",
              "      <td>E</td>\n",
              "      <td>New attribute</td>\n",
              "    </tr>\n",
              "    <tr>\n",
              "      <th>5</th>\n",
              "      <td>F</td>\n",
              "      <td>New attribute</td>\n",
              "    </tr>\n",
              "  </tbody>\n",
              "</table>\n",
              "</div>\n",
              "      <button class=\"colab-df-convert\" onclick=\"convertToInteractive('df-5f666483-79bd-4c04-bc6f-502ea460aa03')\"\n",
              "              title=\"Convert this dataframe to an interactive table.\"\n",
              "              style=\"display:none;\">\n",
              "        \n",
              "  <svg xmlns=\"http://www.w3.org/2000/svg\" height=\"24px\"viewBox=\"0 0 24 24\"\n",
              "       width=\"24px\">\n",
              "    <path d=\"M0 0h24v24H0V0z\" fill=\"none\"/>\n",
              "    <path d=\"M18.56 5.44l.94 2.06.94-2.06 2.06-.94-2.06-.94-.94-2.06-.94 2.06-2.06.94zm-11 1L8.5 8.5l.94-2.06 2.06-.94-2.06-.94L8.5 2.5l-.94 2.06-2.06.94zm10 10l.94 2.06.94-2.06 2.06-.94-2.06-.94-.94-2.06-.94 2.06-2.06.94z\"/><path d=\"M17.41 7.96l-1.37-1.37c-.4-.4-.92-.59-1.43-.59-.52 0-1.04.2-1.43.59L10.3 9.45l-7.72 7.72c-.78.78-.78 2.05 0 2.83L4 21.41c.39.39.9.59 1.41.59.51 0 1.02-.2 1.41-.59l7.78-7.78 2.81-2.81c.8-.78.8-2.07 0-2.86zM5.41 20L4 18.59l7.72-7.72 1.47 1.35L5.41 20z\"/>\n",
              "  </svg>\n",
              "      </button>\n",
              "      \n",
              "  <style>\n",
              "    .colab-df-container {\n",
              "      display:flex;\n",
              "      flex-wrap:wrap;\n",
              "      gap: 12px;\n",
              "    }\n",
              "\n",
              "    .colab-df-convert {\n",
              "      background-color: #E8F0FE;\n",
              "      border: none;\n",
              "      border-radius: 50%;\n",
              "      cursor: pointer;\n",
              "      display: none;\n",
              "      fill: #1967D2;\n",
              "      height: 32px;\n",
              "      padding: 0 0 0 0;\n",
              "      width: 32px;\n",
              "    }\n",
              "\n",
              "    .colab-df-convert:hover {\n",
              "      background-color: #E2EBFA;\n",
              "      box-shadow: 0px 1px 2px rgba(60, 64, 67, 0.3), 0px 1px 3px 1px rgba(60, 64, 67, 0.15);\n",
              "      fill: #174EA6;\n",
              "    }\n",
              "\n",
              "    [theme=dark] .colab-df-convert {\n",
              "      background-color: #3B4455;\n",
              "      fill: #D2E3FC;\n",
              "    }\n",
              "\n",
              "    [theme=dark] .colab-df-convert:hover {\n",
              "      background-color: #434B5C;\n",
              "      box-shadow: 0px 1px 3px 1px rgba(0, 0, 0, 0.15);\n",
              "      filter: drop-shadow(0px 1px 2px rgba(0, 0, 0, 0.3));\n",
              "      fill: #FFFFFF;\n",
              "    }\n",
              "  </style>\n",
              "\n",
              "      <script>\n",
              "        const buttonEl =\n",
              "          document.querySelector('#df-5f666483-79bd-4c04-bc6f-502ea460aa03 button.colab-df-convert');\n",
              "        buttonEl.style.display =\n",
              "          google.colab.kernel.accessAllowed ? 'block' : 'none';\n",
              "\n",
              "        async function convertToInteractive(key) {\n",
              "          const element = document.querySelector('#df-5f666483-79bd-4c04-bc6f-502ea460aa03');\n",
              "          const dataTable =\n",
              "            await google.colab.kernel.invokeFunction('convertToInteractive',\n",
              "                                                     [key], {});\n",
              "          if (!dataTable) return;\n",
              "\n",
              "          const docLinkHtml = 'Like what you see? Visit the ' +\n",
              "            '<a target=\"_blank\" href=https://colab.research.google.com/notebooks/data_table.ipynb>data table notebook</a>'\n",
              "            + ' to learn more about interactive tables.';\n",
              "          element.innerHTML = '';\n",
              "          dataTable['output_type'] = 'display_data';\n",
              "          await google.colab.output.renderOutput(dataTable, element);\n",
              "          const docLink = document.createElement('div');\n",
              "          docLink.innerHTML = docLinkHtml;\n",
              "          element.appendChild(docLink);\n",
              "        }\n",
              "      </script>\n",
              "    </div>\n",
              "  </div>\n",
              "  "
            ]
          },
          "metadata": {},
          "execution_count": 18
        }
      ],
      "source": [
        "g4.vs['newAtt']=\"New attribute\"\n",
        "g4.get_vertex_dataframe()"
      ]
    },
    {
      "cell_type": "markdown",
      "metadata": {
        "id": "SUQl1aHkeRu7"
      },
      "source": [
        "Create your own attribute for vowels. This attribute must be boolean (True if it is a vowel)."
      ]
    },
    {
      "cell_type": "code",
      "execution_count": 19,
      "metadata": {
        "id": "T5tetUJGeRu7"
      },
      "outputs": [],
      "source": [
        "#Insert your code here and share your solutions in the 2_1 discussion board\n"
      ]
    },
    {
      "cell_type": "markdown",
      "metadata": {
        "id": "p4I93YuEeRu8"
      },
      "source": [
        "The color is also an attribute."
      ]
    },
    {
      "cell_type": "code",
      "execution_count": 20,
      "metadata": {
        "id": "1Ghxfl0AeRu8",
        "colab": {
          "base_uri": "https://localhost:8080/",
          "height": 269
        },
        "outputId": "1d82ab8a-5b5a-40fb-b2f7-f8f6734020ed"
      },
      "outputs": [
        {
          "output_type": "execute_result",
          "data": {
            "text/plain": [
              "          name         newAtt\n",
              "vertex ID                    \n",
              "0            A  New attribute\n",
              "1            B  New attribute\n",
              "2            C  New attribute\n",
              "3            D  New attribute\n",
              "4            E  New attribute\n",
              "5            F  New attribute"
            ],
            "text/html": [
              "\n",
              "  <div id=\"df-62cc291f-7e21-4393-b778-72487d0210c3\">\n",
              "    <div class=\"colab-df-container\">\n",
              "      <div>\n",
              "<style scoped>\n",
              "    .dataframe tbody tr th:only-of-type {\n",
              "        vertical-align: middle;\n",
              "    }\n",
              "\n",
              "    .dataframe tbody tr th {\n",
              "        vertical-align: top;\n",
              "    }\n",
              "\n",
              "    .dataframe thead th {\n",
              "        text-align: right;\n",
              "    }\n",
              "</style>\n",
              "<table border=\"1\" class=\"dataframe\">\n",
              "  <thead>\n",
              "    <tr style=\"text-align: right;\">\n",
              "      <th></th>\n",
              "      <th>name</th>\n",
              "      <th>newAtt</th>\n",
              "    </tr>\n",
              "    <tr>\n",
              "      <th>vertex ID</th>\n",
              "      <th></th>\n",
              "      <th></th>\n",
              "    </tr>\n",
              "  </thead>\n",
              "  <tbody>\n",
              "    <tr>\n",
              "      <th>0</th>\n",
              "      <td>A</td>\n",
              "      <td>New attribute</td>\n",
              "    </tr>\n",
              "    <tr>\n",
              "      <th>1</th>\n",
              "      <td>B</td>\n",
              "      <td>New attribute</td>\n",
              "    </tr>\n",
              "    <tr>\n",
              "      <th>2</th>\n",
              "      <td>C</td>\n",
              "      <td>New attribute</td>\n",
              "    </tr>\n",
              "    <tr>\n",
              "      <th>3</th>\n",
              "      <td>D</td>\n",
              "      <td>New attribute</td>\n",
              "    </tr>\n",
              "    <tr>\n",
              "      <th>4</th>\n",
              "      <td>E</td>\n",
              "      <td>New attribute</td>\n",
              "    </tr>\n",
              "    <tr>\n",
              "      <th>5</th>\n",
              "      <td>F</td>\n",
              "      <td>New attribute</td>\n",
              "    </tr>\n",
              "  </tbody>\n",
              "</table>\n",
              "</div>\n",
              "      <button class=\"colab-df-convert\" onclick=\"convertToInteractive('df-62cc291f-7e21-4393-b778-72487d0210c3')\"\n",
              "              title=\"Convert this dataframe to an interactive table.\"\n",
              "              style=\"display:none;\">\n",
              "        \n",
              "  <svg xmlns=\"http://www.w3.org/2000/svg\" height=\"24px\"viewBox=\"0 0 24 24\"\n",
              "       width=\"24px\">\n",
              "    <path d=\"M0 0h24v24H0V0z\" fill=\"none\"/>\n",
              "    <path d=\"M18.56 5.44l.94 2.06.94-2.06 2.06-.94-2.06-.94-.94-2.06-.94 2.06-2.06.94zm-11 1L8.5 8.5l.94-2.06 2.06-.94-2.06-.94L8.5 2.5l-.94 2.06-2.06.94zm10 10l.94 2.06.94-2.06 2.06-.94-2.06-.94-.94-2.06-.94 2.06-2.06.94z\"/><path d=\"M17.41 7.96l-1.37-1.37c-.4-.4-.92-.59-1.43-.59-.52 0-1.04.2-1.43.59L10.3 9.45l-7.72 7.72c-.78.78-.78 2.05 0 2.83L4 21.41c.39.39.9.59 1.41.59.51 0 1.02-.2 1.41-.59l7.78-7.78 2.81-2.81c.8-.78.8-2.07 0-2.86zM5.41 20L4 18.59l7.72-7.72 1.47 1.35L5.41 20z\"/>\n",
              "  </svg>\n",
              "      </button>\n",
              "      \n",
              "  <style>\n",
              "    .colab-df-container {\n",
              "      display:flex;\n",
              "      flex-wrap:wrap;\n",
              "      gap: 12px;\n",
              "    }\n",
              "\n",
              "    .colab-df-convert {\n",
              "      background-color: #E8F0FE;\n",
              "      border: none;\n",
              "      border-radius: 50%;\n",
              "      cursor: pointer;\n",
              "      display: none;\n",
              "      fill: #1967D2;\n",
              "      height: 32px;\n",
              "      padding: 0 0 0 0;\n",
              "      width: 32px;\n",
              "    }\n",
              "\n",
              "    .colab-df-convert:hover {\n",
              "      background-color: #E2EBFA;\n",
              "      box-shadow: 0px 1px 2px rgba(60, 64, 67, 0.3), 0px 1px 3px 1px rgba(60, 64, 67, 0.15);\n",
              "      fill: #174EA6;\n",
              "    }\n",
              "\n",
              "    [theme=dark] .colab-df-convert {\n",
              "      background-color: #3B4455;\n",
              "      fill: #D2E3FC;\n",
              "    }\n",
              "\n",
              "    [theme=dark] .colab-df-convert:hover {\n",
              "      background-color: #434B5C;\n",
              "      box-shadow: 0px 1px 3px 1px rgba(0, 0, 0, 0.15);\n",
              "      filter: drop-shadow(0px 1px 2px rgba(0, 0, 0, 0.3));\n",
              "      fill: #FFFFFF;\n",
              "    }\n",
              "  </style>\n",
              "\n",
              "      <script>\n",
              "        const buttonEl =\n",
              "          document.querySelector('#df-62cc291f-7e21-4393-b778-72487d0210c3 button.colab-df-convert');\n",
              "        buttonEl.style.display =\n",
              "          google.colab.kernel.accessAllowed ? 'block' : 'none';\n",
              "\n",
              "        async function convertToInteractive(key) {\n",
              "          const element = document.querySelector('#df-62cc291f-7e21-4393-b778-72487d0210c3');\n",
              "          const dataTable =\n",
              "            await google.colab.kernel.invokeFunction('convertToInteractive',\n",
              "                                                     [key], {});\n",
              "          if (!dataTable) return;\n",
              "\n",
              "          const docLinkHtml = 'Like what you see? Visit the ' +\n",
              "            '<a target=\"_blank\" href=https://colab.research.google.com/notebooks/data_table.ipynb>data table notebook</a>'\n",
              "            + ' to learn more about interactive tables.';\n",
              "          element.innerHTML = '';\n",
              "          dataTable['output_type'] = 'display_data';\n",
              "          await google.colab.output.renderOutput(dataTable, element);\n",
              "          const docLink = document.createElement('div');\n",
              "          docLink.innerHTML = docLinkHtml;\n",
              "          element.appendChild(docLink);\n",
              "        }\n",
              "      </script>\n",
              "    </div>\n",
              "  </div>\n",
              "  "
            ]
          },
          "metadata": {},
          "execution_count": 20
        }
      ],
      "source": [
        "g4.get_vertex_dataframe()"
      ]
    },
    {
      "cell_type": "markdown",
      "metadata": {
        "id": "nEVV9rNqeRu9"
      },
      "source": [
        "Simple graphs are graphs which do not contain loop and multiple edges. The g.simplify() function does this for us. \n",
        "\n",
        "Create a graph g5 which contains loops and multiple edges and plot it. Then simplify it and plot it again."
      ]
    },
    {
      "cell_type": "code",
      "execution_count": 21,
      "metadata": {
        "id": "K7DtEwhweRu9"
      },
      "outputs": [],
      "source": [
        "#Insert your code here and share your solutions in the 2_1 discussion board\n"
      ]
    },
    {
      "cell_type": "markdown",
      "metadata": {
        "id": "yB9luBSAeRu-"
      },
      "source": [
        "# 1.3 Specific graphs and graph models\n",
        "\n",
        "There are some specific graphs that can be done with igraph functions:\n",
        "\n",
        "* Full graph\n",
        "* Simple star graph\n",
        "* Tree graph\n",
        "* Ring graph\n",
        "* ...\n",
        "\n",
        "\n",
        "You have an example here. Check what others you can find in the documentation: https://igraph.org/python/doc/tutorial/generation.html"
      ]
    },
    {
      "cell_type": "code",
      "execution_count": 22,
      "metadata": {
        "id": "bKlO45LaeRu_",
        "colab": {
          "base_uri": "https://localhost:8080/",
          "height": 288
        },
        "outputId": "f310331f-b5c1-4aa2-bbaf-5787933d97aa"
      },
      "outputs": [
        {
          "output_type": "execute_result",
          "data": {
            "text/plain": [
              "<igraph.drawing.cairo.plot.CairoPlot at 0x7fc978f6a790>"
            ],
            "image/svg+xml": "<?xml version=\"1.0\" encoding=\"UTF-8\"?>\n<svg xmlns=\"http://www.w3.org/2000/svg\" xmlns:xlink=\"http://www.w3.org/1999/xlink\" width=\"300pt\" height=\"200pt\" viewBox=\"0 0 300 200\" version=\"1.1\">\n<g id=\"surface14\">\n<rect x=\"0\" y=\"0\" width=\"300\" height=\"200\" style=\"fill:rgb(100%,100%,100%);fill-opacity:1;stroke:none;\"/>\n<path style=\"fill:none;stroke-width:1;stroke-linecap:butt;stroke-linejoin:miter;stroke:rgb(26.666667%,26.666667%,26.666667%);stroke-opacity:1;stroke-miterlimit:10;\" d=\"M 280 99.808594 L 255.347656 149.25 \"/>\n<path style=\"fill:none;stroke-width:1;stroke-linecap:butt;stroke-linejoin:miter;stroke:rgb(26.666667%,26.666667%,26.666667%);stroke-opacity:1;stroke-miterlimit:10;\" d=\"M 255.347656 149.25 L 190.457031 179.882812 \"/>\n<path style=\"fill:none;stroke-width:1;stroke-linecap:butt;stroke-linejoin:miter;stroke:rgb(26.666667%,26.666667%,26.666667%);stroke-opacity:1;stroke-miterlimit:10;\" d=\"M 190.457031 179.882812 L 110.109375 180 \"/>\n<path style=\"fill:none;stroke-width:1;stroke-linecap:butt;stroke-linejoin:miter;stroke:rgb(26.666667%,26.666667%,26.666667%);stroke-opacity:1;stroke-miterlimit:10;\" d=\"M 110.109375 180 L 45.003906 149.5625 \"/>\n<path style=\"fill:none;stroke-width:1;stroke-linecap:butt;stroke-linejoin:miter;stroke:rgb(26.666667%,26.666667%,26.666667%);stroke-opacity:1;stroke-miterlimit:10;\" d=\"M 45.003906 149.5625 L 20 100.191406 \"/>\n<path style=\"fill:none;stroke-width:1;stroke-linecap:butt;stroke-linejoin:miter;stroke:rgb(26.666667%,26.666667%,26.666667%);stroke-opacity:1;stroke-miterlimit:10;\" d=\"M 20 100.191406 L 44.652344 50.75 \"/>\n<path style=\"fill:none;stroke-width:1;stroke-linecap:butt;stroke-linejoin:miter;stroke:rgb(26.666667%,26.666667%,26.666667%);stroke-opacity:1;stroke-miterlimit:10;\" d=\"M 44.652344 50.75 L 109.542969 20.117188 \"/>\n<path style=\"fill:none;stroke-width:1;stroke-linecap:butt;stroke-linejoin:miter;stroke:rgb(26.666667%,26.666667%,26.666667%);stroke-opacity:1;stroke-miterlimit:10;\" d=\"M 109.542969 20.117188 L 189.890625 20 \"/>\n<path style=\"fill:none;stroke-width:1;stroke-linecap:butt;stroke-linejoin:miter;stroke:rgb(26.666667%,26.666667%,26.666667%);stroke-opacity:1;stroke-miterlimit:10;\" d=\"M 189.890625 20 L 254.996094 50.4375 \"/>\n<path style=\"fill:none;stroke-width:1;stroke-linecap:butt;stroke-linejoin:miter;stroke:rgb(26.666667%,26.666667%,26.666667%);stroke-opacity:1;stroke-miterlimit:10;\" d=\"M 280 99.808594 L 254.996094 50.4375 \"/>\n<path style=\"fill-rule:nonzero;fill:rgb(100%,0%,0%);fill-opacity:1;stroke-width:1;stroke-linecap:butt;stroke-linejoin:miter;stroke:rgb(0%,0%,0%);stroke-opacity:1;stroke-miterlimit:10;\" d=\"M 290 99.808594 C 290 105.332031 285.523438 109.808594 280 109.808594 C 274.476562 109.808594 270 105.332031 270 99.808594 C 270 94.285156 274.476562 89.808594 280 89.808594 C 285.523438 89.808594 290 94.285156 290 99.808594 \"/>\n<path style=\"fill-rule:nonzero;fill:rgb(100%,0%,0%);fill-opacity:1;stroke-width:1;stroke-linecap:butt;stroke-linejoin:miter;stroke:rgb(0%,0%,0%);stroke-opacity:1;stroke-miterlimit:10;\" d=\"M 265.347656 149.25 C 265.347656 154.773438 260.871094 159.25 255.347656 159.25 C 249.824219 159.25 245.347656 154.773438 245.347656 149.25 C 245.347656 143.726562 249.824219 139.25 255.347656 139.25 C 260.871094 139.25 265.347656 143.726562 265.347656 149.25 \"/>\n<path style=\"fill-rule:nonzero;fill:rgb(100%,0%,0%);fill-opacity:1;stroke-width:1;stroke-linecap:butt;stroke-linejoin:miter;stroke:rgb(0%,0%,0%);stroke-opacity:1;stroke-miterlimit:10;\" d=\"M 200.457031 179.882812 C 200.457031 185.402344 195.976562 189.882812 190.457031 189.882812 C 184.933594 189.882812 180.457031 185.402344 180.457031 179.882812 C 180.457031 174.359375 184.933594 169.882812 190.457031 169.882812 C 195.976562 169.882812 200.457031 174.359375 200.457031 179.882812 \"/>\n<path style=\"fill-rule:nonzero;fill:rgb(100%,0%,0%);fill-opacity:1;stroke-width:1;stroke-linecap:butt;stroke-linejoin:miter;stroke:rgb(0%,0%,0%);stroke-opacity:1;stroke-miterlimit:10;\" d=\"M 120.109375 180 C 120.109375 185.523438 115.632812 190 110.109375 190 C 104.585938 190 100.109375 185.523438 100.109375 180 C 100.109375 174.476562 104.585938 170 110.109375 170 C 115.632812 170 120.109375 174.476562 120.109375 180 \"/>\n<path style=\"fill-rule:nonzero;fill:rgb(100%,0%,0%);fill-opacity:1;stroke-width:1;stroke-linecap:butt;stroke-linejoin:miter;stroke:rgb(0%,0%,0%);stroke-opacity:1;stroke-miterlimit:10;\" d=\"M 55.003906 149.5625 C 55.003906 155.085938 50.527344 159.5625 45.003906 159.5625 C 39.480469 159.5625 35.003906 155.085938 35.003906 149.5625 C 35.003906 144.039062 39.480469 139.5625 45.003906 139.5625 C 50.527344 139.5625 55.003906 144.039062 55.003906 149.5625 \"/>\n<path style=\"fill-rule:nonzero;fill:rgb(100%,0%,0%);fill-opacity:1;stroke-width:1;stroke-linecap:butt;stroke-linejoin:miter;stroke:rgb(0%,0%,0%);stroke-opacity:1;stroke-miterlimit:10;\" d=\"M 30 100.191406 C 30 105.714844 25.523438 110.191406 20 110.191406 C 14.476562 110.191406 10 105.714844 10 100.191406 C 10 94.667969 14.476562 90.191406 20 90.191406 C 25.523438 90.191406 30 94.667969 30 100.191406 \"/>\n<path style=\"fill-rule:nonzero;fill:rgb(100%,0%,0%);fill-opacity:1;stroke-width:1;stroke-linecap:butt;stroke-linejoin:miter;stroke:rgb(0%,0%,0%);stroke-opacity:1;stroke-miterlimit:10;\" d=\"M 54.652344 50.75 C 54.652344 56.273438 50.175781 60.75 44.652344 60.75 C 39.128906 60.75 34.652344 56.273438 34.652344 50.75 C 34.652344 45.226562 39.128906 40.75 44.652344 40.75 C 50.175781 40.75 54.652344 45.226562 54.652344 50.75 \"/>\n<path style=\"fill-rule:nonzero;fill:rgb(100%,0%,0%);fill-opacity:1;stroke-width:1;stroke-linecap:butt;stroke-linejoin:miter;stroke:rgb(0%,0%,0%);stroke-opacity:1;stroke-miterlimit:10;\" d=\"M 119.542969 20.117188 C 119.542969 25.640625 115.066406 30.117188 109.542969 30.117188 C 104.023438 30.117188 99.542969 25.640625 99.542969 20.117188 C 99.542969 14.597656 104.023438 10.117188 109.542969 10.117188 C 115.066406 10.117188 119.542969 14.597656 119.542969 20.117188 \"/>\n<path style=\"fill-rule:nonzero;fill:rgb(100%,0%,0%);fill-opacity:1;stroke-width:1;stroke-linecap:butt;stroke-linejoin:miter;stroke:rgb(0%,0%,0%);stroke-opacity:1;stroke-miterlimit:10;\" d=\"M 199.890625 20 C 199.890625 25.523438 195.414062 30 189.890625 30 C 184.367188 30 179.890625 25.523438 179.890625 20 C 179.890625 14.476562 184.367188 10 189.890625 10 C 195.414062 10 199.890625 14.476562 199.890625 20 \"/>\n<path style=\"fill-rule:nonzero;fill:rgb(100%,0%,0%);fill-opacity:1;stroke-width:1;stroke-linecap:butt;stroke-linejoin:miter;stroke:rgb(0%,0%,0%);stroke-opacity:1;stroke-miterlimit:10;\" d=\"M 264.996094 50.4375 C 264.996094 55.960938 260.519531 60.4375 254.996094 60.4375 C 249.472656 60.4375 244.996094 55.960938 244.996094 50.4375 C 244.996094 44.914062 249.472656 40.4375 254.996094 40.4375 C 260.519531 40.4375 264.996094 44.914062 264.996094 50.4375 \"/>\n</g>\n</svg>\n"
          },
          "metadata": {
            "image/svg+xml": {
              "isolated": true
            }
          },
          "execution_count": 22
        }
      ],
      "source": [
        "g7=Graph.Ring(10)\n",
        "plot(g7, bbox=(300, 200))"
      ]
    },
    {
      "cell_type": "code",
      "source": [
        "g7 = Graph.Star(10, mode=ALL)\n",
        "plot(g7,bbox=(300, 200))"
      ],
      "metadata": {
        "colab": {
          "base_uri": "https://localhost:8080/",
          "height": 288
        },
        "id": "Z9v-XgSaZiJv",
        "outputId": "392be5df-906f-440a-b2d3-dd922230d5fa"
      },
      "execution_count": 23,
      "outputs": [
        {
          "output_type": "execute_result",
          "data": {
            "text/plain": [
              "<igraph.drawing.cairo.plot.CairoPlot at 0x7fc978f6a220>"
            ],
            "image/svg+xml": "<?xml version=\"1.0\" encoding=\"UTF-8\"?>\n<svg xmlns=\"http://www.w3.org/2000/svg\" xmlns:xlink=\"http://www.w3.org/1999/xlink\" width=\"300pt\" height=\"200pt\" viewBox=\"0 0 300 200\" version=\"1.1\">\n<g id=\"surface20\">\n<rect x=\"0\" y=\"0\" width=\"300\" height=\"200\" style=\"fill:rgb(100%,100%,100%);fill-opacity:1;stroke:none;\"/>\n<path style=\"fill:none;stroke-width:1;stroke-linecap:butt;stroke-linejoin:miter;stroke:rgb(26.666667%,26.666667%,26.666667%);stroke-opacity:1;stroke-miterlimit:10;\" d=\"M 153.1875 99.488281 C 117.871094 68.632812 82.085938 68.851562 40.949219 91.105469 \"/>\n<path style=\" stroke:none;fill-rule:nonzero;fill:rgb(26.666667%,26.666667%,26.666667%);fill-opacity:1;\" d=\"M 28.398438 97.894531 L 38.742188 87.03125 L 43.152344 95.183594 L 28.398438 97.894531 \"/>\n<path style=\"fill:none;stroke-width:1;stroke-linecap:butt;stroke-linejoin:miter;stroke:rgb(26.666667%,26.666667%,26.666667%);stroke-opacity:1;stroke-miterlimit:10;\" d=\"M 20 102.441406 C 54.945312 133.65625 91.777344 135.996094 132.046875 112.054688 \"/>\n<path style=\" stroke:none;fill-rule:nonzero;fill:rgb(26.666667%,26.666667%,26.666667%);fill-opacity:1;\" d=\"M 144.308594 104.765625 L 134.414062 116.039062 L 129.675781 108.070312 L 144.308594 104.765625 \"/>\n<path style=\"fill:none;stroke-width:1;stroke-linecap:butt;stroke-linejoin:miter;stroke:rgb(26.666667%,26.666667%,26.666667%);stroke-opacity:1;stroke-miterlimit:10;\" d=\"M 153.1875 99.488281 C 116.320312 90.464844 92.992188 106.113281 69.410156 135.261719 \"/>\n<path style=\" stroke:none;fill-rule:nonzero;fill:rgb(26.666667%,26.666667%,26.666667%);fill-opacity:1;\" d=\"M 60.433594 146.351562 L 65.804688 132.34375 L 73.011719 138.175781 L 60.433594 146.351562 \"/>\n<path style=\"fill:none;stroke-width:1;stroke-linecap:butt;stroke-linejoin:miter;stroke:rgb(26.666667%,26.666667%,26.666667%);stroke-opacity:1;stroke-miterlimit:10;\" d=\"M 54.273438 153.964844 C 91.914062 165.113281 125.480469 156.191406 142.597656 121.160156 \"/>\n<path style=\" stroke:none;fill-rule:nonzero;fill:rgb(26.666667%,26.666667%,26.666667%);fill-opacity:1;\" d=\"M 148.859375 108.34375 L 146.761719 123.195312 L 138.433594 119.125 L 148.859375 108.34375 \"/>\n<path style=\"fill:none;stroke-width:1;stroke-linecap:butt;stroke-linejoin:miter;stroke:rgb(26.666667%,26.666667%,26.666667%);stroke-opacity:1;stroke-miterlimit:10;\" d=\"M 153.1875 99.488281 C 151.074219 134.570312 167.433594 171.914062 199.652344 169.890625 \"/>\n<path style=\" stroke:none;fill-rule:nonzero;fill:rgb(26.666667%,26.666667%,26.666667%);fill-opacity:1;\" d=\"M 213.890625 168.996094 L 199.941406 174.515625 L 199.359375 165.261719 L 213.890625 168.996094 \"/>\n<path style=\"fill:none;stroke-width:1;stroke-linecap:butt;stroke-linejoin:miter;stroke:rgb(26.666667%,26.666667%,26.666667%);stroke-opacity:1;stroke-miterlimit:10;\" d=\"M 223.976562 168.363281 C 225.050781 134.734375 210.359375 105.945312 177.613281 102.246094 \"/>\n<path style=\" stroke:none;fill-rule:nonzero;fill:rgb(26.666667%,26.666667%,26.666667%);fill-opacity:1;\" d=\"M 163.4375 100.644531 L 178.132812 97.640625 L 177.09375 106.851562 L 163.4375 100.644531 \"/>\n<path style=\"fill:none;stroke-width:1;stroke-linecap:butt;stroke-linejoin:miter;stroke:rgb(26.666667%,26.666667%,26.666667%);stroke-opacity:1;stroke-miterlimit:10;\" d=\"M 153.1875 99.488281 C 126.042969 111.652344 102.117188 143.609375 118.589844 161.9375 \"/>\n<path style=\" stroke:none;fill-rule:nonzero;fill:rgb(26.666667%,26.666667%,26.666667%);fill-opacity:1;\" d=\"M 128.125 172.546875 L 115.140625 165.035156 L 122.035156 158.835938 L 128.125 172.546875 \"/>\n<path style=\"fill:none;stroke-width:1;stroke-linecap:butt;stroke-linejoin:miter;stroke:rgb(26.666667%,26.666667%,26.666667%);stroke-opacity:1;stroke-miterlimit:10;\" d=\"M 134.828125 180 C 161.171875 167.734375 183.222656 138.761719 167.738281 118.511719 \"/>\n<path style=\" stroke:none;fill-rule:nonzero;fill:rgb(26.666667%,26.666667%,26.666667%);fill-opacity:1;\" d=\"M 159.074219 107.183594 L 171.421875 115.699219 L 164.058594 121.328125 L 159.074219 107.183594 \"/>\n<path style=\"fill:none;stroke-width:1;stroke-linecap:butt;stroke-linejoin:miter;stroke:rgb(26.666667%,26.666667%,26.666667%);stroke-opacity:1;stroke-miterlimit:10;\" d=\"M 153.1875 99.488281 C 139.683594 60.894531 111.375 36.941406 71.6875 44.832031 \"/>\n<path style=\" stroke:none;fill-rule:nonzero;fill:rgb(26.666667%,26.666667%,26.666667%);fill-opacity:1;\" d=\"M 57.695312 47.613281 L 70.78125 40.285156 L 72.589844 49.378906 L 57.695312 47.613281 \"/>\n<path style=\"fill:none;stroke-width:1;stroke-linecap:butt;stroke-linejoin:miter;stroke:rgb(26.666667%,26.666667%,26.666667%);stroke-opacity:1;stroke-miterlimit:10;\" d=\"M 48.046875 49.53125 C 61.425781 88.167969 89.828125 112.691406 129.371094 104.449219 \"/>\n<path style=\" stroke:none;fill-rule:nonzero;fill:rgb(26.666667%,26.666667%,26.666667%);fill-opacity:1;\" d=\"M 143.335938 101.539062 L 130.316406 108.988281 L 128.425781 99.914062 L 143.335938 101.539062 \"/>\n<path style=\"fill:none;stroke-width:1;stroke-linecap:butt;stroke-linejoin:miter;stroke:rgb(26.666667%,26.666667%,26.666667%);stroke-opacity:1;stroke-miterlimit:10;\" d=\"M 153.1875 99.488281 C 164.007812 76.332031 156.171875 59.191406 140.617188 39.449219 \"/>\n<path style=\" stroke:none;fill-rule:nonzero;fill:rgb(26.666667%,26.666667%,26.666667%);fill-opacity:1;\" d=\"M 131.785156 28.242188 L 144.257812 36.578125 L 136.972656 42.316406 L 131.785156 28.242188 \"/>\n<path style=\"fill:none;stroke-width:1;stroke-linecap:butt;stroke-linejoin:miter;stroke:rgb(26.666667%,26.666667%,26.666667%);stroke-opacity:1;stroke-miterlimit:10;\" d=\"M 125.292969 20 C 107.285156 46.730469 106.480469 95.144531 129.207031 97.257812 \"/>\n<path style=\" stroke:none;fill-rule:nonzero;fill:rgb(26.666667%,26.666667%,26.666667%);fill-opacity:1;\" d=\"M 143.414062 98.578125 L 128.777344 101.875 L 129.636719 92.644531 L 143.414062 98.578125 \"/>\n<path style=\"fill:none;stroke-width:1;stroke-linecap:butt;stroke-linejoin:miter;stroke:rgb(26.666667%,26.666667%,26.666667%);stroke-opacity:1;stroke-miterlimit:10;\" d=\"M 153.1875 99.488281 C 182.148438 92.710938 183.417969 60.921875 199.035156 44.777344 \"/>\n<path style=\" stroke:none;fill-rule:nonzero;fill:rgb(26.666667%,26.666667%,26.666667%);fill-opacity:1;\" d=\"M 208.953125 34.523438 L 202.363281 48 L 195.703125 41.554688 L 208.953125 34.523438 \"/>\n<path style=\"fill:none;stroke-width:1;stroke-linecap:butt;stroke-linejoin:miter;stroke:rgb(26.666667%,26.666667%,26.666667%);stroke-opacity:1;stroke-miterlimit:10;\" d=\"M 215.589844 27.660156 C 173.179688 26.664062 123.90625 81.355469 132.726562 86.820312 \"/>\n<path style=\" stroke:none;fill-rule:nonzero;fill:rgb(26.666667%,26.666667%,26.666667%);fill-opacity:1;\" d=\"M 144.855469 94.328125 L 130.289062 90.761719 L 135.167969 82.878906 L 144.855469 94.328125 \"/>\n<path style=\"fill:none;stroke-width:1;stroke-linecap:butt;stroke-linejoin:miter;stroke:rgb(26.666667%,26.666667%,26.666667%);stroke-opacity:1;stroke-miterlimit:10;\" d=\"M 153.1875 99.488281 C 179.621094 136.230469 213.789062 145.859375 256.847656 131.964844 \"/>\n<path style=\" stroke:none;fill-rule:nonzero;fill:rgb(26.666667%,26.666667%,26.666667%);fill-opacity:1;\" d=\"M 270.425781 127.585938 L 258.273438 136.378906 L 255.425781 127.554688 L 270.425781 127.585938 \"/>\n<path style=\"fill:none;stroke-width:1;stroke-linecap:butt;stroke-linejoin:miter;stroke:rgb(26.666667%,26.666667%,26.666667%);stroke-opacity:1;stroke-miterlimit:10;\" d=\"M 280 124.496094 C 253.773438 86.414062 216.1875 69.359375 174.804688 89.148438 \"/>\n<path style=\" stroke:none;fill-rule:nonzero;fill:rgb(26.666667%,26.666667%,26.666667%);fill-opacity:1;\" d=\"M 161.9375 95.304688 L 172.804688 84.96875 L 176.804688 93.332031 L 161.9375 95.304688 \"/>\n<path style=\"fill:none;stroke-width:1;stroke-linecap:butt;stroke-linejoin:miter;stroke:rgb(26.666667%,26.666667%,26.666667%);stroke-opacity:1;stroke-miterlimit:10;\" d=\"M 153.1875 99.488281 C 191.816406 118.667969 219.09375 100.121094 254.972656 80.691406 \"/>\n<path style=\" stroke:none;fill-rule:nonzero;fill:rgb(26.666667%,26.666667%,26.666667%);fill-opacity:1;\" d=\"M 267.515625 73.894531 L 257.179688 84.765625 L 252.765625 76.613281 L 267.515625 73.894531 \"/>\n<path style=\"fill:none;stroke-width:1;stroke-linecap:butt;stroke-linejoin:miter;stroke:rgb(26.666667%,26.666667%,26.666667%);stroke-opacity:1;stroke-miterlimit:10;\" d=\"M 276.6875 68.929688 C 235.660156 41.613281 167.210938 37.265625 158.582031 75.558594 \"/>\n<path style=\" stroke:none;fill-rule:nonzero;fill:rgb(26.666667%,26.666667%,26.666667%);fill-opacity:1;\" d=\"M 155.445312 89.476562 L 154.058594 74.539062 L 163.101562 76.578125 L 155.445312 89.476562 \"/>\n<path style=\"fill-rule:nonzero;fill:rgb(100%,0%,0%);fill-opacity:1;stroke-width:1;stroke-linecap:butt;stroke-linejoin:miter;stroke:rgb(0%,0%,0%);stroke-opacity:1;stroke-miterlimit:10;\" d=\"M 163.1875 99.488281 C 163.1875 105.011719 158.710938 109.488281 153.1875 109.488281 C 147.664062 109.488281 143.1875 105.011719 143.1875 99.488281 C 143.1875 93.964844 147.664062 89.488281 153.1875 89.488281 C 158.710938 89.488281 163.1875 93.964844 163.1875 99.488281 \"/>\n<path style=\"fill-rule:nonzero;fill:rgb(100%,0%,0%);fill-opacity:1;stroke-width:1;stroke-linecap:butt;stroke-linejoin:miter;stroke:rgb(0%,0%,0%);stroke-opacity:1;stroke-miterlimit:10;\" d=\"M 30 102.441406 C 30 107.964844 25.523438 112.441406 20 112.441406 C 14.476562 112.441406 10 107.964844 10 102.441406 C 10 96.917969 14.476562 92.441406 20 92.441406 C 25.523438 92.441406 30 96.917969 30 102.441406 \"/>\n<path style=\"fill-rule:nonzero;fill:rgb(100%,0%,0%);fill-opacity:1;stroke-width:1;stroke-linecap:butt;stroke-linejoin:miter;stroke:rgb(0%,0%,0%);stroke-opacity:1;stroke-miterlimit:10;\" d=\"M 64.273438 153.964844 C 64.273438 159.488281 59.792969 163.964844 54.273438 163.964844 C 48.75 163.964844 44.273438 159.488281 44.273438 153.964844 C 44.273438 148.441406 48.75 143.964844 54.273438 143.964844 C 59.792969 143.964844 64.273438 148.441406 64.273438 153.964844 \"/>\n<path style=\"fill-rule:nonzero;fill:rgb(100%,0%,0%);fill-opacity:1;stroke-width:1;stroke-linecap:butt;stroke-linejoin:miter;stroke:rgb(0%,0%,0%);stroke-opacity:1;stroke-miterlimit:10;\" d=\"M 233.976562 168.363281 C 233.976562 173.882812 229.496094 178.363281 223.976562 178.363281 C 218.453125 178.363281 213.976562 173.882812 213.976562 168.363281 C 213.976562 162.839844 218.453125 158.363281 223.976562 158.363281 C 229.496094 158.363281 233.976562 162.839844 233.976562 168.363281 \"/>\n<path style=\"fill-rule:nonzero;fill:rgb(100%,0%,0%);fill-opacity:1;stroke-width:1;stroke-linecap:butt;stroke-linejoin:miter;stroke:rgb(0%,0%,0%);stroke-opacity:1;stroke-miterlimit:10;\" d=\"M 144.828125 180 C 144.828125 185.523438 140.351562 190 134.828125 190 C 129.304688 190 124.828125 185.523438 124.828125 180 C 124.828125 174.476562 129.304688 170 134.828125 170 C 140.351562 170 144.828125 174.476562 144.828125 180 \"/>\n<path style=\"fill-rule:nonzero;fill:rgb(100%,0%,0%);fill-opacity:1;stroke-width:1;stroke-linecap:butt;stroke-linejoin:miter;stroke:rgb(0%,0%,0%);stroke-opacity:1;stroke-miterlimit:10;\" d=\"M 58.046875 49.53125 C 58.046875 55.054688 53.570312 59.53125 48.046875 59.53125 C 42.523438 59.53125 38.046875 55.054688 38.046875 49.53125 C 38.046875 44.011719 42.523438 39.53125 48.046875 39.53125 C 53.570312 39.53125 58.046875 44.011719 58.046875 49.53125 \"/>\n<path style=\"fill-rule:nonzero;fill:rgb(100%,0%,0%);fill-opacity:1;stroke-width:1;stroke-linecap:butt;stroke-linejoin:miter;stroke:rgb(0%,0%,0%);stroke-opacity:1;stroke-miterlimit:10;\" d=\"M 135.292969 20 C 135.292969 25.523438 130.816406 30 125.292969 30 C 119.769531 30 115.292969 25.523438 115.292969 20 C 115.292969 14.476562 119.769531 10 125.292969 10 C 130.816406 10 135.292969 14.476562 135.292969 20 \"/>\n<path style=\"fill-rule:nonzero;fill:rgb(100%,0%,0%);fill-opacity:1;stroke-width:1;stroke-linecap:butt;stroke-linejoin:miter;stroke:rgb(0%,0%,0%);stroke-opacity:1;stroke-miterlimit:10;\" d=\"M 225.589844 27.660156 C 225.589844 33.183594 221.113281 37.660156 215.589844 37.660156 C 210.066406 37.660156 205.589844 33.183594 205.589844 27.660156 C 205.589844 22.136719 210.066406 17.660156 215.589844 17.660156 C 221.113281 17.660156 225.589844 22.136719 225.589844 27.660156 \"/>\n<path style=\"fill-rule:nonzero;fill:rgb(100%,0%,0%);fill-opacity:1;stroke-width:1;stroke-linecap:butt;stroke-linejoin:miter;stroke:rgb(0%,0%,0%);stroke-opacity:1;stroke-miterlimit:10;\" d=\"M 290 124.496094 C 290 130.019531 285.523438 134.496094 280 134.496094 C 274.476562 134.496094 270 130.019531 270 124.496094 C 270 118.972656 274.476562 114.496094 280 114.496094 C 285.523438 114.496094 290 118.972656 290 124.496094 \"/>\n<path style=\"fill-rule:nonzero;fill:rgb(100%,0%,0%);fill-opacity:1;stroke-width:1;stroke-linecap:butt;stroke-linejoin:miter;stroke:rgb(0%,0%,0%);stroke-opacity:1;stroke-miterlimit:10;\" d=\"M 286.6875 68.929688 C 286.6875 74.453125 282.210938 78.929688 276.6875 78.929688 C 271.164062 78.929688 266.6875 74.453125 266.6875 68.929688 C 266.6875 63.40625 271.164062 58.929688 276.6875 58.929688 C 282.210938 58.929688 286.6875 63.40625 286.6875 68.929688 \"/>\n</g>\n</svg>\n"
          },
          "metadata": {
            "image/svg+xml": {
              "isolated": true
            }
          },
          "execution_count": 23
        }
      ]
    },
    {
      "cell_type": "markdown",
      "metadata": {
        "id": "EKbXmtD0eRvA"
      },
      "source": [
        "To write a graph to a file we can use different functions regarding the format. Formats available: \n",
        "* write_dot\tWrites the graph in DOT format to the given file.\n",
        "* write_edgelist\tWrites the edge list of a graph to a file.\n",
        "* write_gml\tWrites the graph in GML format to the given file.\n",
        "* write_graphml\tWrites the graph to a GraphML file.\n",
        "* write_leda\tWrites the graph to a file in LEDA native format.\n",
        "* write_lgl\tWrites the edge list of a graph to a file in .lgl format.\n",
        "* write_ncol\tWrites the edge list of a graph to a file in .ncol format.\n",
        "* write_pajek\tWrites the graph in Pajek format to the given file.\n",
        "\n",
        "Change the path to the one you want to use."
      ]
    },
    {
      "cell_type": "code",
      "execution_count": 24,
      "metadata": {
        "id": "f65LNdoSeRvB"
      },
      "outputs": [],
      "source": [
        "#Change the path and use a different format. Check the format in you computer and share it in the 2_2 discussion board\n",
        "g7.write_edgelist(r\"/edgelist (1).rtf\")\n",
        "g7.write_edgelist(r\"/edgelist4.xml\")"
      ]
    },
    {
      "cell_type": "code",
      "source": [
        "g7.write_edgelist(\"/content/edgelist.txt\")\n"
      ],
      "metadata": {
        "id": "BOiibB8_dmHq"
      },
      "execution_count": 25,
      "outputs": []
    },
    {
      "cell_type": "markdown",
      "metadata": {
        "id": "FpCG_SWDeRvB"
      },
      "source": [
        "To read from a file, we can use the corresponding function. It supports several formats: \n",
        "* Read_DL\tReads an UCINET DL file and creates a graph based on it.\n",
        "* Read_Edgelist\tReads an edge list from a file and creates a graph based on it.\n",
        "* Read_GML\tReads a GML file and creates a graph based on it.\n",
        "* Read_GraphDB\tReads a GraphDB format file and creates a graph based on it.\n",
        "* Read_GraphML\tReads a GraphML format file and creates a graph based on it.\n",
        "* Read_Lgl\tReads an .lgl file used by LGL.\n",
        "* Read_Ncol\tReads an .ncol file used by LGL.\n",
        "* Read_Pajek\tReads a Pajek format file and creates a graph based on it."
      ]
    },
    {
      "cell_type": "code",
      "source": [
        "g8=Graph.Read_Edgelist(r\"/edgelist (1).rtf\", directed=False)\n",
        "plot(g8, bbox=(300, 200))"
      ],
      "metadata": {
        "colab": {
          "base_uri": "https://localhost:8080/",
          "height": 288
        },
        "id": "34gCZfojiNql",
        "outputId": "4898e7fc-abd6-4386-a310-d823465d809c"
      },
      "execution_count": 26,
      "outputs": [
        {
          "output_type": "execute_result",
          "data": {
            "text/plain": [
              "<igraph.drawing.cairo.plot.CairoPlot at 0x7fc9a8d19970>"
            ],
            "image/svg+xml": "<?xml version=\"1.0\" encoding=\"UTF-8\"?>\n<svg xmlns=\"http://www.w3.org/2000/svg\" xmlns:xlink=\"http://www.w3.org/1999/xlink\" width=\"300pt\" height=\"200pt\" viewBox=\"0 0 300 200\" version=\"1.1\">\n<g id=\"surface26\">\n<rect x=\"0\" y=\"0\" width=\"300\" height=\"200\" style=\"fill:rgb(100%,100%,100%);fill-opacity:1;stroke:none;\"/>\n<path style=\"fill:none;stroke-width:1;stroke-linecap:butt;stroke-linejoin:miter;stroke:rgb(26.666667%,26.666667%,26.666667%);stroke-opacity:1;stroke-miterlimit:10;\" d=\"M 153.1875 99.488281 C 108.054688 67.175781 63.65625 68.160156 20 102.441406 \"/>\n<path style=\"fill:none;stroke-width:1;stroke-linecap:butt;stroke-linejoin:miter;stroke:rgb(26.666667%,26.666667%,26.666667%);stroke-opacity:1;stroke-miterlimit:10;\" d=\"M 153.1875 99.488281 C 106.597656 92.917969 73.625 111.078125 54.273438 153.964844 \"/>\n<path style=\"fill:none;stroke-width:1;stroke-linecap:butt;stroke-linejoin:miter;stroke:rgb(26.666667%,26.666667%,26.666667%);stroke-opacity:1;stroke-miterlimit:10;\" d=\"M 153.1875 99.488281 C 159.566406 140.140625 183.160156 163.101562 223.976562 168.363281 \"/>\n<path style=\"fill:none;stroke-width:1;stroke-linecap:butt;stroke-linejoin:miter;stroke:rgb(26.666667%,26.666667%,26.666667%);stroke-opacity:1;stroke-miterlimit:10;\" d=\"M 153.1875 99.488281 C 126.941406 121.734375 120.820312 148.574219 134.828125 180 \"/>\n<path style=\"fill:none;stroke-width:1;stroke-linecap:butt;stroke-linejoin:miter;stroke:rgb(26.666667%,26.666667%,26.666667%);stroke-opacity:1;stroke-miterlimit:10;\" d=\"M 153.1875 99.488281 C 130.628906 56.550781 95.582031 39.898438 48.046875 49.53125 \"/>\n<path style=\"fill:none;stroke-width:1;stroke-linecap:butt;stroke-linejoin:miter;stroke:rgb(26.666667%,26.666667%,26.666667%);stroke-opacity:1;stroke-miterlimit:10;\" d=\"M 153.1875 99.488281 C 163.761719 66.019531 154.464844 39.523438 125.292969 20 \"/>\n<path style=\"fill:none;stroke-width:1;stroke-linecap:butt;stroke-linejoin:miter;stroke:rgb(26.666667%,26.666667%,26.666667%);stroke-opacity:1;stroke-miterlimit:10;\" d=\"M 153.1875 99.488281 C 191.945312 91.144531 212.746094 67.203125 215.589844 27.660156 \"/>\n<path style=\"fill:none;stroke-width:1;stroke-linecap:butt;stroke-linejoin:miter;stroke:rgb(26.666667%,26.666667%,26.666667%);stroke-opacity:1;stroke-miterlimit:10;\" d=\"M 153.1875 99.488281 C 189.207031 139.527344 231.476562 147.863281 280 124.496094 \"/>\n<path style=\"fill:none;stroke-width:1;stroke-linecap:butt;stroke-linejoin:miter;stroke:rgb(26.666667%,26.666667%,26.666667%);stroke-opacity:1;stroke-miterlimit:10;\" d=\"M 153.1875 99.488281 C 201.996094 120.175781 243.160156 109.988281 276.6875 68.929688 \"/>\n<path style=\"fill:none;stroke-width:1;stroke-linecap:butt;stroke-linejoin:miter;stroke:rgb(26.666667%,26.666667%,26.666667%);stroke-opacity:1;stroke-miterlimit:10;\" d=\"M 153.1875 99.488281 C 109.53125 133.769531 65.132812 134.753906 20 102.441406 \"/>\n<path style=\"fill:none;stroke-width:1;stroke-linecap:butt;stroke-linejoin:miter;stroke:rgb(26.666667%,26.666667%,26.666667%);stroke-opacity:1;stroke-miterlimit:10;\" d=\"M 153.1875 99.488281 C 133.835938 142.375 100.863281 160.535156 54.273438 153.964844 \"/>\n<path style=\"fill:none;stroke-width:1;stroke-linecap:butt;stroke-linejoin:miter;stroke:rgb(26.666667%,26.666667%,26.666667%);stroke-opacity:1;stroke-miterlimit:10;\" d=\"M 153.1875 99.488281 C 194.003906 104.75 217.597656 127.707031 223.976562 168.363281 \"/>\n<path style=\"fill:none;stroke-width:1;stroke-linecap:butt;stroke-linejoin:miter;stroke:rgb(26.666667%,26.666667%,26.666667%);stroke-opacity:1;stroke-miterlimit:10;\" d=\"M 153.1875 99.488281 C 167.195312 130.914062 161.078125 157.753906 134.828125 180 \"/>\n<path style=\"fill:none;stroke-width:1;stroke-linecap:butt;stroke-linejoin:miter;stroke:rgb(26.666667%,26.666667%,26.666667%);stroke-opacity:1;stroke-miterlimit:10;\" d=\"M 153.1875 99.488281 C 105.652344 109.121094 70.605469 92.46875 48.046875 49.53125 \"/>\n<path style=\"fill:none;stroke-width:1;stroke-linecap:butt;stroke-linejoin:miter;stroke:rgb(26.666667%,26.666667%,26.666667%);stroke-opacity:1;stroke-miterlimit:10;\" d=\"M 153.1875 99.488281 C 124.019531 79.964844 114.71875 53.46875 125.292969 20 \"/>\n<path style=\"fill:none;stroke-width:1;stroke-linecap:butt;stroke-linejoin:miter;stroke:rgb(26.666667%,26.666667%,26.666667%);stroke-opacity:1;stroke-miterlimit:10;\" d=\"M 153.1875 99.488281 C 156.03125 59.945312 176.832031 36.003906 215.589844 27.660156 \"/>\n<path style=\"fill:none;stroke-width:1;stroke-linecap:butt;stroke-linejoin:miter;stroke:rgb(26.666667%,26.666667%,26.666667%);stroke-opacity:1;stroke-miterlimit:10;\" d=\"M 153.1875 99.488281 C 201.710938 76.121094 243.980469 84.457031 280 124.496094 \"/>\n<path style=\"fill:none;stroke-width:1;stroke-linecap:butt;stroke-linejoin:miter;stroke:rgb(26.666667%,26.666667%,26.666667%);stroke-opacity:1;stroke-miterlimit:10;\" d=\"M 153.1875 99.488281 C 186.714844 58.425781 227.882812 48.238281 276.6875 68.929688 \"/>\n<path style=\"fill-rule:nonzero;fill:rgb(100%,0%,0%);fill-opacity:1;stroke-width:1;stroke-linecap:butt;stroke-linejoin:miter;stroke:rgb(0%,0%,0%);stroke-opacity:1;stroke-miterlimit:10;\" d=\"M 163.1875 99.488281 C 163.1875 105.011719 158.710938 109.488281 153.1875 109.488281 C 147.664062 109.488281 143.1875 105.011719 143.1875 99.488281 C 143.1875 93.964844 147.664062 89.488281 153.1875 89.488281 C 158.710938 89.488281 163.1875 93.964844 163.1875 99.488281 \"/>\n<path style=\"fill-rule:nonzero;fill:rgb(100%,0%,0%);fill-opacity:1;stroke-width:1;stroke-linecap:butt;stroke-linejoin:miter;stroke:rgb(0%,0%,0%);stroke-opacity:1;stroke-miterlimit:10;\" d=\"M 30 102.441406 C 30 107.964844 25.523438 112.441406 20 112.441406 C 14.476562 112.441406 10 107.964844 10 102.441406 C 10 96.917969 14.476562 92.441406 20 92.441406 C 25.523438 92.441406 30 96.917969 30 102.441406 \"/>\n<path style=\"fill-rule:nonzero;fill:rgb(100%,0%,0%);fill-opacity:1;stroke-width:1;stroke-linecap:butt;stroke-linejoin:miter;stroke:rgb(0%,0%,0%);stroke-opacity:1;stroke-miterlimit:10;\" d=\"M 64.273438 153.964844 C 64.273438 159.488281 59.792969 163.964844 54.273438 163.964844 C 48.75 163.964844 44.273438 159.488281 44.273438 153.964844 C 44.273438 148.441406 48.75 143.964844 54.273438 143.964844 C 59.792969 143.964844 64.273438 148.441406 64.273438 153.964844 \"/>\n<path style=\"fill-rule:nonzero;fill:rgb(100%,0%,0%);fill-opacity:1;stroke-width:1;stroke-linecap:butt;stroke-linejoin:miter;stroke:rgb(0%,0%,0%);stroke-opacity:1;stroke-miterlimit:10;\" d=\"M 233.976562 168.363281 C 233.976562 173.882812 229.496094 178.363281 223.976562 178.363281 C 218.453125 178.363281 213.976562 173.882812 213.976562 168.363281 C 213.976562 162.839844 218.453125 158.363281 223.976562 158.363281 C 229.496094 158.363281 233.976562 162.839844 233.976562 168.363281 \"/>\n<path style=\"fill-rule:nonzero;fill:rgb(100%,0%,0%);fill-opacity:1;stroke-width:1;stroke-linecap:butt;stroke-linejoin:miter;stroke:rgb(0%,0%,0%);stroke-opacity:1;stroke-miterlimit:10;\" d=\"M 144.828125 180 C 144.828125 185.523438 140.351562 190 134.828125 190 C 129.304688 190 124.828125 185.523438 124.828125 180 C 124.828125 174.476562 129.304688 170 134.828125 170 C 140.351562 170 144.828125 174.476562 144.828125 180 \"/>\n<path style=\"fill-rule:nonzero;fill:rgb(100%,0%,0%);fill-opacity:1;stroke-width:1;stroke-linecap:butt;stroke-linejoin:miter;stroke:rgb(0%,0%,0%);stroke-opacity:1;stroke-miterlimit:10;\" d=\"M 58.046875 49.53125 C 58.046875 55.054688 53.570312 59.53125 48.046875 59.53125 C 42.523438 59.53125 38.046875 55.054688 38.046875 49.53125 C 38.046875 44.011719 42.523438 39.53125 48.046875 39.53125 C 53.570312 39.53125 58.046875 44.011719 58.046875 49.53125 \"/>\n<path style=\"fill-rule:nonzero;fill:rgb(100%,0%,0%);fill-opacity:1;stroke-width:1;stroke-linecap:butt;stroke-linejoin:miter;stroke:rgb(0%,0%,0%);stroke-opacity:1;stroke-miterlimit:10;\" d=\"M 135.292969 20 C 135.292969 25.523438 130.816406 30 125.292969 30 C 119.769531 30 115.292969 25.523438 115.292969 20 C 115.292969 14.476562 119.769531 10 125.292969 10 C 130.816406 10 135.292969 14.476562 135.292969 20 \"/>\n<path style=\"fill-rule:nonzero;fill:rgb(100%,0%,0%);fill-opacity:1;stroke-width:1;stroke-linecap:butt;stroke-linejoin:miter;stroke:rgb(0%,0%,0%);stroke-opacity:1;stroke-miterlimit:10;\" d=\"M 225.589844 27.660156 C 225.589844 33.183594 221.113281 37.660156 215.589844 37.660156 C 210.066406 37.660156 205.589844 33.183594 205.589844 27.660156 C 205.589844 22.136719 210.066406 17.660156 215.589844 17.660156 C 221.113281 17.660156 225.589844 22.136719 225.589844 27.660156 \"/>\n<path style=\"fill-rule:nonzero;fill:rgb(100%,0%,0%);fill-opacity:1;stroke-width:1;stroke-linecap:butt;stroke-linejoin:miter;stroke:rgb(0%,0%,0%);stroke-opacity:1;stroke-miterlimit:10;\" d=\"M 290 124.496094 C 290 130.019531 285.523438 134.496094 280 134.496094 C 274.476562 134.496094 270 130.019531 270 124.496094 C 270 118.972656 274.476562 114.496094 280 114.496094 C 285.523438 114.496094 290 118.972656 290 124.496094 \"/>\n<path style=\"fill-rule:nonzero;fill:rgb(100%,0%,0%);fill-opacity:1;stroke-width:1;stroke-linecap:butt;stroke-linejoin:miter;stroke:rgb(0%,0%,0%);stroke-opacity:1;stroke-miterlimit:10;\" d=\"M 286.6875 68.929688 C 286.6875 74.453125 282.210938 78.929688 276.6875 78.929688 C 271.164062 78.929688 266.6875 74.453125 266.6875 68.929688 C 266.6875 63.40625 271.164062 58.929688 276.6875 58.929688 C 282.210938 58.929688 286.6875 63.40625 286.6875 68.929688 \"/>\n</g>\n</svg>\n"
          },
          "metadata": {
            "image/svg+xml": {
              "isolated": true
            }
          },
          "execution_count": 26
        }
      ]
    },
    {
      "cell_type": "code",
      "execution_count": 27,
      "metadata": {
        "id": "NNtPjo5LeRvC",
        "colab": {
          "base_uri": "https://localhost:8080/",
          "height": 288
        },
        "outputId": "d919c3c9-adfd-42f1-9952-9538f61d1846"
      },
      "outputs": [
        {
          "output_type": "execute_result",
          "data": {
            "text/plain": [
              "<igraph.drawing.cairo.plot.CairoPlot at 0x7fc978f108b0>"
            ],
            "image/svg+xml": "<?xml version=\"1.0\" encoding=\"UTF-8\"?>\n<svg xmlns=\"http://www.w3.org/2000/svg\" xmlns:xlink=\"http://www.w3.org/1999/xlink\" width=\"300pt\" height=\"200pt\" viewBox=\"0 0 300 200\" version=\"1.1\">\n<g id=\"surface32\">\n<rect x=\"0\" y=\"0\" width=\"300\" height=\"200\" style=\"fill:rgb(100%,100%,100%);fill-opacity:1;stroke:none;\"/>\n<path style=\"fill:none;stroke-width:1;stroke-linecap:butt;stroke-linejoin:miter;stroke:rgb(26.666667%,26.666667%,26.666667%);stroke-opacity:1;stroke-miterlimit:10;\" d=\"M 153.1875 99.488281 C 108.054688 67.175781 63.65625 68.160156 20 102.441406 \"/>\n<path style=\"fill:none;stroke-width:1;stroke-linecap:butt;stroke-linejoin:miter;stroke:rgb(26.666667%,26.666667%,26.666667%);stroke-opacity:1;stroke-miterlimit:10;\" d=\"M 153.1875 99.488281 C 106.597656 92.917969 73.625 111.078125 54.273438 153.964844 \"/>\n<path style=\"fill:none;stroke-width:1;stroke-linecap:butt;stroke-linejoin:miter;stroke:rgb(26.666667%,26.666667%,26.666667%);stroke-opacity:1;stroke-miterlimit:10;\" d=\"M 153.1875 99.488281 C 159.566406 140.140625 183.160156 163.101562 223.976562 168.363281 \"/>\n<path style=\"fill:none;stroke-width:1;stroke-linecap:butt;stroke-linejoin:miter;stroke:rgb(26.666667%,26.666667%,26.666667%);stroke-opacity:1;stroke-miterlimit:10;\" d=\"M 153.1875 99.488281 C 126.941406 121.734375 120.820312 148.574219 134.828125 180 \"/>\n<path style=\"fill:none;stroke-width:1;stroke-linecap:butt;stroke-linejoin:miter;stroke:rgb(26.666667%,26.666667%,26.666667%);stroke-opacity:1;stroke-miterlimit:10;\" d=\"M 153.1875 99.488281 C 130.628906 56.550781 95.582031 39.898438 48.046875 49.53125 \"/>\n<path style=\"fill:none;stroke-width:1;stroke-linecap:butt;stroke-linejoin:miter;stroke:rgb(26.666667%,26.666667%,26.666667%);stroke-opacity:1;stroke-miterlimit:10;\" d=\"M 153.1875 99.488281 C 163.761719 66.019531 154.464844 39.523438 125.292969 20 \"/>\n<path style=\"fill:none;stroke-width:1;stroke-linecap:butt;stroke-linejoin:miter;stroke:rgb(26.666667%,26.666667%,26.666667%);stroke-opacity:1;stroke-miterlimit:10;\" d=\"M 153.1875 99.488281 C 191.945312 91.144531 212.746094 67.203125 215.589844 27.660156 \"/>\n<path style=\"fill:none;stroke-width:1;stroke-linecap:butt;stroke-linejoin:miter;stroke:rgb(26.666667%,26.666667%,26.666667%);stroke-opacity:1;stroke-miterlimit:10;\" d=\"M 153.1875 99.488281 C 189.207031 139.527344 231.476562 147.863281 280 124.496094 \"/>\n<path style=\"fill:none;stroke-width:1;stroke-linecap:butt;stroke-linejoin:miter;stroke:rgb(26.666667%,26.666667%,26.666667%);stroke-opacity:1;stroke-miterlimit:10;\" d=\"M 153.1875 99.488281 C 201.996094 120.175781 243.160156 109.988281 276.6875 68.929688 \"/>\n<path style=\"fill:none;stroke-width:1;stroke-linecap:butt;stroke-linejoin:miter;stroke:rgb(26.666667%,26.666667%,26.666667%);stroke-opacity:1;stroke-miterlimit:10;\" d=\"M 153.1875 99.488281 C 109.53125 133.769531 65.132812 134.753906 20 102.441406 \"/>\n<path style=\"fill:none;stroke-width:1;stroke-linecap:butt;stroke-linejoin:miter;stroke:rgb(26.666667%,26.666667%,26.666667%);stroke-opacity:1;stroke-miterlimit:10;\" d=\"M 153.1875 99.488281 C 133.835938 142.375 100.863281 160.535156 54.273438 153.964844 \"/>\n<path style=\"fill:none;stroke-width:1;stroke-linecap:butt;stroke-linejoin:miter;stroke:rgb(26.666667%,26.666667%,26.666667%);stroke-opacity:1;stroke-miterlimit:10;\" d=\"M 153.1875 99.488281 C 194.003906 104.75 217.597656 127.707031 223.976562 168.363281 \"/>\n<path style=\"fill:none;stroke-width:1;stroke-linecap:butt;stroke-linejoin:miter;stroke:rgb(26.666667%,26.666667%,26.666667%);stroke-opacity:1;stroke-miterlimit:10;\" d=\"M 153.1875 99.488281 C 167.195312 130.914062 161.078125 157.753906 134.828125 180 \"/>\n<path style=\"fill:none;stroke-width:1;stroke-linecap:butt;stroke-linejoin:miter;stroke:rgb(26.666667%,26.666667%,26.666667%);stroke-opacity:1;stroke-miterlimit:10;\" d=\"M 153.1875 99.488281 C 105.652344 109.121094 70.605469 92.46875 48.046875 49.53125 \"/>\n<path style=\"fill:none;stroke-width:1;stroke-linecap:butt;stroke-linejoin:miter;stroke:rgb(26.666667%,26.666667%,26.666667%);stroke-opacity:1;stroke-miterlimit:10;\" d=\"M 153.1875 99.488281 C 124.019531 79.964844 114.71875 53.46875 125.292969 20 \"/>\n<path style=\"fill:none;stroke-width:1;stroke-linecap:butt;stroke-linejoin:miter;stroke:rgb(26.666667%,26.666667%,26.666667%);stroke-opacity:1;stroke-miterlimit:10;\" d=\"M 153.1875 99.488281 C 156.03125 59.945312 176.832031 36.003906 215.589844 27.660156 \"/>\n<path style=\"fill:none;stroke-width:1;stroke-linecap:butt;stroke-linejoin:miter;stroke:rgb(26.666667%,26.666667%,26.666667%);stroke-opacity:1;stroke-miterlimit:10;\" d=\"M 153.1875 99.488281 C 201.710938 76.121094 243.980469 84.457031 280 124.496094 \"/>\n<path style=\"fill:none;stroke-width:1;stroke-linecap:butt;stroke-linejoin:miter;stroke:rgb(26.666667%,26.666667%,26.666667%);stroke-opacity:1;stroke-miterlimit:10;\" d=\"M 153.1875 99.488281 C 186.714844 58.425781 227.882812 48.238281 276.6875 68.929688 \"/>\n<path style=\"fill-rule:nonzero;fill:rgb(100%,0%,0%);fill-opacity:1;stroke-width:1;stroke-linecap:butt;stroke-linejoin:miter;stroke:rgb(0%,0%,0%);stroke-opacity:1;stroke-miterlimit:10;\" d=\"M 163.1875 99.488281 C 163.1875 105.011719 158.710938 109.488281 153.1875 109.488281 C 147.664062 109.488281 143.1875 105.011719 143.1875 99.488281 C 143.1875 93.964844 147.664062 89.488281 153.1875 89.488281 C 158.710938 89.488281 163.1875 93.964844 163.1875 99.488281 \"/>\n<path style=\"fill-rule:nonzero;fill:rgb(100%,0%,0%);fill-opacity:1;stroke-width:1;stroke-linecap:butt;stroke-linejoin:miter;stroke:rgb(0%,0%,0%);stroke-opacity:1;stroke-miterlimit:10;\" d=\"M 30 102.441406 C 30 107.964844 25.523438 112.441406 20 112.441406 C 14.476562 112.441406 10 107.964844 10 102.441406 C 10 96.917969 14.476562 92.441406 20 92.441406 C 25.523438 92.441406 30 96.917969 30 102.441406 \"/>\n<path style=\"fill-rule:nonzero;fill:rgb(100%,0%,0%);fill-opacity:1;stroke-width:1;stroke-linecap:butt;stroke-linejoin:miter;stroke:rgb(0%,0%,0%);stroke-opacity:1;stroke-miterlimit:10;\" d=\"M 64.273438 153.964844 C 64.273438 159.488281 59.792969 163.964844 54.273438 163.964844 C 48.75 163.964844 44.273438 159.488281 44.273438 153.964844 C 44.273438 148.441406 48.75 143.964844 54.273438 143.964844 C 59.792969 143.964844 64.273438 148.441406 64.273438 153.964844 \"/>\n<path style=\"fill-rule:nonzero;fill:rgb(100%,0%,0%);fill-opacity:1;stroke-width:1;stroke-linecap:butt;stroke-linejoin:miter;stroke:rgb(0%,0%,0%);stroke-opacity:1;stroke-miterlimit:10;\" d=\"M 233.976562 168.363281 C 233.976562 173.882812 229.496094 178.363281 223.976562 178.363281 C 218.453125 178.363281 213.976562 173.882812 213.976562 168.363281 C 213.976562 162.839844 218.453125 158.363281 223.976562 158.363281 C 229.496094 158.363281 233.976562 162.839844 233.976562 168.363281 \"/>\n<path style=\"fill-rule:nonzero;fill:rgb(100%,0%,0%);fill-opacity:1;stroke-width:1;stroke-linecap:butt;stroke-linejoin:miter;stroke:rgb(0%,0%,0%);stroke-opacity:1;stroke-miterlimit:10;\" d=\"M 144.828125 180 C 144.828125 185.523438 140.351562 190 134.828125 190 C 129.304688 190 124.828125 185.523438 124.828125 180 C 124.828125 174.476562 129.304688 170 134.828125 170 C 140.351562 170 144.828125 174.476562 144.828125 180 \"/>\n<path style=\"fill-rule:nonzero;fill:rgb(100%,0%,0%);fill-opacity:1;stroke-width:1;stroke-linecap:butt;stroke-linejoin:miter;stroke:rgb(0%,0%,0%);stroke-opacity:1;stroke-miterlimit:10;\" d=\"M 58.046875 49.53125 C 58.046875 55.054688 53.570312 59.53125 48.046875 59.53125 C 42.523438 59.53125 38.046875 55.054688 38.046875 49.53125 C 38.046875 44.011719 42.523438 39.53125 48.046875 39.53125 C 53.570312 39.53125 58.046875 44.011719 58.046875 49.53125 \"/>\n<path style=\"fill-rule:nonzero;fill:rgb(100%,0%,0%);fill-opacity:1;stroke-width:1;stroke-linecap:butt;stroke-linejoin:miter;stroke:rgb(0%,0%,0%);stroke-opacity:1;stroke-miterlimit:10;\" d=\"M 135.292969 20 C 135.292969 25.523438 130.816406 30 125.292969 30 C 119.769531 30 115.292969 25.523438 115.292969 20 C 115.292969 14.476562 119.769531 10 125.292969 10 C 130.816406 10 135.292969 14.476562 135.292969 20 \"/>\n<path style=\"fill-rule:nonzero;fill:rgb(100%,0%,0%);fill-opacity:1;stroke-width:1;stroke-linecap:butt;stroke-linejoin:miter;stroke:rgb(0%,0%,0%);stroke-opacity:1;stroke-miterlimit:10;\" d=\"M 225.589844 27.660156 C 225.589844 33.183594 221.113281 37.660156 215.589844 37.660156 C 210.066406 37.660156 205.589844 33.183594 205.589844 27.660156 C 205.589844 22.136719 210.066406 17.660156 215.589844 17.660156 C 221.113281 17.660156 225.589844 22.136719 225.589844 27.660156 \"/>\n<path style=\"fill-rule:nonzero;fill:rgb(100%,0%,0%);fill-opacity:1;stroke-width:1;stroke-linecap:butt;stroke-linejoin:miter;stroke:rgb(0%,0%,0%);stroke-opacity:1;stroke-miterlimit:10;\" d=\"M 290 124.496094 C 290 130.019531 285.523438 134.496094 280 134.496094 C 274.476562 134.496094 270 130.019531 270 124.496094 C 270 118.972656 274.476562 114.496094 280 114.496094 C 285.523438 114.496094 290 118.972656 290 124.496094 \"/>\n<path style=\"fill-rule:nonzero;fill:rgb(100%,0%,0%);fill-opacity:1;stroke-width:1;stroke-linecap:butt;stroke-linejoin:miter;stroke:rgb(0%,0%,0%);stroke-opacity:1;stroke-miterlimit:10;\" d=\"M 286.6875 68.929688 C 286.6875 74.453125 282.210938 78.929688 276.6875 78.929688 C 271.164062 78.929688 266.6875 74.453125 266.6875 68.929688 C 266.6875 63.40625 271.164062 58.929688 276.6875 58.929688 C 282.210938 58.929688 286.6875 63.40625 286.6875 68.929688 \"/>\n</g>\n</svg>\n"
          },
          "metadata": {
            "image/svg+xml": {
              "isolated": true
            }
          },
          "execution_count": 27
        }
      ],
      "source": [
        "#Change the path\n",
        "g8=Graph.Read_Edgelist(\"/content/edgelist.txt\", directed=False)\n",
        "plot(g8, bbox=(300, 200))"
      ]
    },
    {
      "cell_type": "markdown",
      "metadata": {
        "id": "qZvPryOfeRvD"
      },
      "source": [
        "A common practice is to store edges in a pandas.DataFrame, where the two first columns are the source and target vertex ids, and any additional column indicates edge attributes. You can generate a graph via Graph.DataFrame"
      ]
    },
    {
      "cell_type": "code",
      "source": [
        "import pandas as pd\n",
        "from igraph import *\n",
        "\n",
        "\n",
        "# Write the edgelist to a file\n",
        "df = pd.DataFrame(g7.get_edgelist(), columns=[\"From\", \"To\"])\n",
        "df.to_csv(\"/edgelist (1).rtf\", sep=\" \", header=False, index=False)\n",
        "\n",
        "# Read the edgelist from the file\n",
        "g8 = Graph.Read_Edgelist(\"/edgelist (1).rtf\", directed=False)\n",
        "\n",
        "# Create a DataFrame from the graph's edges\n",
        "df = pd.DataFrame({'From': g8.get_edgelist()[0], 'To': g8.get_edgelist()[1]})\n",
        "\n",
        "# Create a graph from the DataFrame\n",
        "g9 = Graph.DataFrame(df, directed=False)\n",
        "\n",
        "# Plot the graph\n",
        "plot(g9, bbox=(300, 200))\n"
      ],
      "metadata": {
        "colab": {
          "base_uri": "https://localhost:8080/",
          "height": 288
        },
        "id": "4hcKpxa1eBki",
        "outputId": "cafbd634-9853-42d1-f3b1-b9281cfc344a"
      },
      "execution_count": 28,
      "outputs": [
        {
          "output_type": "execute_result",
          "data": {
            "text/plain": [
              "<igraph.drawing.cairo.plot.CairoPlot at 0x7fc978f0aeb0>"
            ],
            "image/svg+xml": "<?xml version=\"1.0\" encoding=\"UTF-8\"?>\n<svg xmlns=\"http://www.w3.org/2000/svg\" xmlns:xlink=\"http://www.w3.org/1999/xlink\" width=\"300pt\" height=\"200pt\" viewBox=\"0 0 300 200\" version=\"1.1\">\n<g id=\"surface38\">\n<rect x=\"0\" y=\"0\" width=\"300\" height=\"200\" style=\"fill:rgb(100%,100%,100%);fill-opacity:1;stroke:none;\"/>\n<path style=\"fill:none;stroke-width:1;stroke-linecap:butt;stroke-linejoin:miter;stroke:rgb(26.666667%,26.666667%,26.666667%);stroke-opacity:1;stroke-miterlimit:10;\" d=\"M 45.605469 169.394531 C 45.605469 177.675781 38.890625 184.394531 30.605469 184.394531 C 22.324219 184.394531 15.605469 177.675781 15.605469 169.394531 C 15.605469 161.109375 22.324219 154.394531 30.605469 154.394531 C 38.890625 154.394531 45.605469 161.109375 45.605469 169.394531 \"/>\n<path style=\"fill:none;stroke-width:1;stroke-linecap:butt;stroke-linejoin:miter;stroke:rgb(26.666667%,26.666667%,26.666667%);stroke-opacity:1;stroke-miterlimit:10;\" d=\"M 305.605469 9.394531 C 305.605469 17.675781 298.890625 24.394531 290.605469 24.394531 C 282.324219 24.394531 275.605469 17.675781 275.605469 9.394531 C 275.605469 1.109375 282.324219 -5.605469 290.605469 -5.605469 C 298.890625 -5.605469 305.605469 1.109375 305.605469 9.394531 \"/>\n<path style=\"fill-rule:nonzero;fill:rgb(100%,0%,0%);fill-opacity:1;stroke-width:1;stroke-linecap:butt;stroke-linejoin:miter;stroke:rgb(0%,0%,0%);stroke-opacity:1;stroke-miterlimit:10;\" d=\"M 30 180 C 30 185.523438 25.523438 190 20 190 C 14.476562 190 10 185.523438 10 180 C 10 174.476562 14.476562 170 20 170 C 25.523438 170 30 174.476562 30 180 \"/>\n<path style=\"fill-rule:nonzero;fill:rgb(100%,0%,0%);fill-opacity:1;stroke-width:1;stroke-linecap:butt;stroke-linejoin:miter;stroke:rgb(0%,0%,0%);stroke-opacity:1;stroke-miterlimit:10;\" d=\"M 290 20 C 290 25.523438 285.523438 30 280 30 C 274.476562 30 270 25.523438 270 20 C 270 14.476562 274.476562 10 280 10 C 285.523438 10 290 14.476562 290 20 \"/>\n</g>\n</svg>\n"
          },
          "metadata": {
            "image/svg+xml": {
              "isolated": true
            }
          },
          "execution_count": 28
        }
      ]
    },
    {
      "cell_type": "code",
      "source": [
        "df"
      ],
      "metadata": {
        "colab": {
          "base_uri": "https://localhost:8080/",
          "height": 112
        },
        "id": "tkHETo5q6Xm9",
        "outputId": "e09b29db-7219-4c62-db89-a536e2ff07e9"
      },
      "execution_count": 30,
      "outputs": [
        {
          "output_type": "execute_result",
          "data": {
            "text/plain": [
              "   From  To\n",
              "0     0   0\n",
              "1     1   1"
            ],
            "text/html": [
              "\n",
              "  <div id=\"df-fa892fed-0592-460e-98cd-a3550aa3f3f6\">\n",
              "    <div class=\"colab-df-container\">\n",
              "      <div>\n",
              "<style scoped>\n",
              "    .dataframe tbody tr th:only-of-type {\n",
              "        vertical-align: middle;\n",
              "    }\n",
              "\n",
              "    .dataframe tbody tr th {\n",
              "        vertical-align: top;\n",
              "    }\n",
              "\n",
              "    .dataframe thead th {\n",
              "        text-align: right;\n",
              "    }\n",
              "</style>\n",
              "<table border=\"1\" class=\"dataframe\">\n",
              "  <thead>\n",
              "    <tr style=\"text-align: right;\">\n",
              "      <th></th>\n",
              "      <th>From</th>\n",
              "      <th>To</th>\n",
              "    </tr>\n",
              "  </thead>\n",
              "  <tbody>\n",
              "    <tr>\n",
              "      <th>0</th>\n",
              "      <td>0</td>\n",
              "      <td>0</td>\n",
              "    </tr>\n",
              "    <tr>\n",
              "      <th>1</th>\n",
              "      <td>1</td>\n",
              "      <td>1</td>\n",
              "    </tr>\n",
              "  </tbody>\n",
              "</table>\n",
              "</div>\n",
              "      <button class=\"colab-df-convert\" onclick=\"convertToInteractive('df-fa892fed-0592-460e-98cd-a3550aa3f3f6')\"\n",
              "              title=\"Convert this dataframe to an interactive table.\"\n",
              "              style=\"display:none;\">\n",
              "        \n",
              "  <svg xmlns=\"http://www.w3.org/2000/svg\" height=\"24px\"viewBox=\"0 0 24 24\"\n",
              "       width=\"24px\">\n",
              "    <path d=\"M0 0h24v24H0V0z\" fill=\"none\"/>\n",
              "    <path d=\"M18.56 5.44l.94 2.06.94-2.06 2.06-.94-2.06-.94-.94-2.06-.94 2.06-2.06.94zm-11 1L8.5 8.5l.94-2.06 2.06-.94-2.06-.94L8.5 2.5l-.94 2.06-2.06.94zm10 10l.94 2.06.94-2.06 2.06-.94-2.06-.94-.94-2.06-.94 2.06-2.06.94z\"/><path d=\"M17.41 7.96l-1.37-1.37c-.4-.4-.92-.59-1.43-.59-.52 0-1.04.2-1.43.59L10.3 9.45l-7.72 7.72c-.78.78-.78 2.05 0 2.83L4 21.41c.39.39.9.59 1.41.59.51 0 1.02-.2 1.41-.59l7.78-7.78 2.81-2.81c.8-.78.8-2.07 0-2.86zM5.41 20L4 18.59l7.72-7.72 1.47 1.35L5.41 20z\"/>\n",
              "  </svg>\n",
              "      </button>\n",
              "      \n",
              "  <style>\n",
              "    .colab-df-container {\n",
              "      display:flex;\n",
              "      flex-wrap:wrap;\n",
              "      gap: 12px;\n",
              "    }\n",
              "\n",
              "    .colab-df-convert {\n",
              "      background-color: #E8F0FE;\n",
              "      border: none;\n",
              "      border-radius: 50%;\n",
              "      cursor: pointer;\n",
              "      display: none;\n",
              "      fill: #1967D2;\n",
              "      height: 32px;\n",
              "      padding: 0 0 0 0;\n",
              "      width: 32px;\n",
              "    }\n",
              "\n",
              "    .colab-df-convert:hover {\n",
              "      background-color: #E2EBFA;\n",
              "      box-shadow: 0px 1px 2px rgba(60, 64, 67, 0.3), 0px 1px 3px 1px rgba(60, 64, 67, 0.15);\n",
              "      fill: #174EA6;\n",
              "    }\n",
              "\n",
              "    [theme=dark] .colab-df-convert {\n",
              "      background-color: #3B4455;\n",
              "      fill: #D2E3FC;\n",
              "    }\n",
              "\n",
              "    [theme=dark] .colab-df-convert:hover {\n",
              "      background-color: #434B5C;\n",
              "      box-shadow: 0px 1px 3px 1px rgba(0, 0, 0, 0.15);\n",
              "      filter: drop-shadow(0px 1px 2px rgba(0, 0, 0, 0.3));\n",
              "      fill: #FFFFFF;\n",
              "    }\n",
              "  </style>\n",
              "\n",
              "      <script>\n",
              "        const buttonEl =\n",
              "          document.querySelector('#df-fa892fed-0592-460e-98cd-a3550aa3f3f6 button.colab-df-convert');\n",
              "        buttonEl.style.display =\n",
              "          google.colab.kernel.accessAllowed ? 'block' : 'none';\n",
              "\n",
              "        async function convertToInteractive(key) {\n",
              "          const element = document.querySelector('#df-fa892fed-0592-460e-98cd-a3550aa3f3f6');\n",
              "          const dataTable =\n",
              "            await google.colab.kernel.invokeFunction('convertToInteractive',\n",
              "                                                     [key], {});\n",
              "          if (!dataTable) return;\n",
              "\n",
              "          const docLinkHtml = 'Like what you see? Visit the ' +\n",
              "            '<a target=\"_blank\" href=https://colab.research.google.com/notebooks/data_table.ipynb>data table notebook</a>'\n",
              "            + ' to learn more about interactive tables.';\n",
              "          element.innerHTML = '';\n",
              "          dataTable['output_type'] = 'display_data';\n",
              "          await google.colab.output.renderOutput(dataTable, element);\n",
              "          const docLink = document.createElement('div');\n",
              "          docLink.innerHTML = docLinkHtml;\n",
              "          element.appendChild(docLink);\n",
              "        }\n",
              "      </script>\n",
              "    </div>\n",
              "  </div>\n",
              "  "
            ]
          },
          "metadata": {},
          "execution_count": 30
        }
      ]
    },
    {
      "cell_type": "code",
      "execution_count": 29,
      "metadata": {
        "id": "7ac4VX5EeRvD",
        "colab": {
          "base_uri": "https://localhost:8080/",
          "height": 364
        },
        "outputId": "806762a8-f119-44c2-d4f4-8317fb4c06e8"
      },
      "outputs": [
        {
          "output_type": "error",
          "ename": "ValueError",
          "evalue": "ignored",
          "traceback": [
            "\u001b[0;31m---------------------------------------------------------------------------\u001b[0m",
            "\u001b[0;31mValueError\u001b[0m                                Traceback (most recent call last)",
            "\u001b[0;32m<ipython-input-29-25ceaf7314c0>\u001b[0m in \u001b[0;36m<module>\u001b[0;34m\u001b[0m\n\u001b[1;32m      1\u001b[0m \u001b[0;31m#Create a DataFrame by completing the following from and to and share the result in the 3_1 discussion board\u001b[0m\u001b[0;34m\u001b[0m\u001b[0;34m\u001b[0m\u001b[0m\n\u001b[0;32m----> 2\u001b[0;31m \u001b[0mdf\u001b[0m\u001b[0;34m=\u001b[0m\u001b[0mpd\u001b[0m\u001b[0;34m.\u001b[0m\u001b[0mDataFrame\u001b[0m\u001b[0;34m(\u001b[0m\u001b[0;34m{\u001b[0m\u001b[0;34m'From'\u001b[0m\u001b[0;34m:\u001b[0m \u001b[0;34m...\u001b[0m\u001b[0;34m,\u001b[0m \u001b[0;34m'To'\u001b[0m\u001b[0;34m:\u001b[0m \u001b[0;34m...\u001b[0m\u001b[0;34m}\u001b[0m\u001b[0;34m)\u001b[0m\u001b[0;34m\u001b[0m\u001b[0;34m\u001b[0m\u001b[0m\n\u001b[0m\u001b[1;32m      3\u001b[0m \u001b[0mg9\u001b[0m \u001b[0;34m=\u001b[0m \u001b[0mGraph\u001b[0m\u001b[0;34m.\u001b[0m\u001b[0mDataFrame\u001b[0m\u001b[0;34m(\u001b[0m\u001b[0mdf\u001b[0m\u001b[0;34m,\u001b[0m \u001b[0mdirected\u001b[0m\u001b[0;34m=\u001b[0m\u001b[0;32mFalse\u001b[0m\u001b[0;34m)\u001b[0m\u001b[0;34m\u001b[0m\u001b[0;34m\u001b[0m\u001b[0m\n\u001b[1;32m      4\u001b[0m \u001b[0mplot\u001b[0m\u001b[0;34m(\u001b[0m\u001b[0mg9\u001b[0m\u001b[0;34m,\u001b[0m \u001b[0mbbox\u001b[0m\u001b[0;34m=\u001b[0m\u001b[0;34m(\u001b[0m\u001b[0;36m300\u001b[0m\u001b[0;34m,\u001b[0m \u001b[0;36m200\u001b[0m\u001b[0;34m)\u001b[0m\u001b[0;34m)\u001b[0m\u001b[0;34m\u001b[0m\u001b[0;34m\u001b[0m\u001b[0m\n",
            "\u001b[0;32m/usr/local/lib/python3.9/dist-packages/pandas/core/frame.py\u001b[0m in \u001b[0;36m__init__\u001b[0;34m(self, data, index, columns, dtype, copy)\u001b[0m\n\u001b[1;32m    634\u001b[0m         \u001b[0;32melif\u001b[0m \u001b[0misinstance\u001b[0m\u001b[0;34m(\u001b[0m\u001b[0mdata\u001b[0m\u001b[0;34m,\u001b[0m \u001b[0mdict\u001b[0m\u001b[0;34m)\u001b[0m\u001b[0;34m:\u001b[0m\u001b[0;34m\u001b[0m\u001b[0;34m\u001b[0m\u001b[0m\n\u001b[1;32m    635\u001b[0m             \u001b[0;31m# GH#38939 de facto copy defaults to False only in non-dict cases\u001b[0m\u001b[0;34m\u001b[0m\u001b[0;34m\u001b[0m\u001b[0m\n\u001b[0;32m--> 636\u001b[0;31m             \u001b[0mmgr\u001b[0m \u001b[0;34m=\u001b[0m \u001b[0mdict_to_mgr\u001b[0m\u001b[0;34m(\u001b[0m\u001b[0mdata\u001b[0m\u001b[0;34m,\u001b[0m \u001b[0mindex\u001b[0m\u001b[0;34m,\u001b[0m \u001b[0mcolumns\u001b[0m\u001b[0;34m,\u001b[0m \u001b[0mdtype\u001b[0m\u001b[0;34m=\u001b[0m\u001b[0mdtype\u001b[0m\u001b[0;34m,\u001b[0m \u001b[0mcopy\u001b[0m\u001b[0;34m=\u001b[0m\u001b[0mcopy\u001b[0m\u001b[0;34m,\u001b[0m \u001b[0mtyp\u001b[0m\u001b[0;34m=\u001b[0m\u001b[0mmanager\u001b[0m\u001b[0;34m)\u001b[0m\u001b[0;34m\u001b[0m\u001b[0;34m\u001b[0m\u001b[0m\n\u001b[0m\u001b[1;32m    637\u001b[0m         \u001b[0;32melif\u001b[0m \u001b[0misinstance\u001b[0m\u001b[0;34m(\u001b[0m\u001b[0mdata\u001b[0m\u001b[0;34m,\u001b[0m \u001b[0mma\u001b[0m\u001b[0;34m.\u001b[0m\u001b[0mMaskedArray\u001b[0m\u001b[0;34m)\u001b[0m\u001b[0;34m:\u001b[0m\u001b[0;34m\u001b[0m\u001b[0;34m\u001b[0m\u001b[0m\n\u001b[1;32m    638\u001b[0m             \u001b[0;32mimport\u001b[0m \u001b[0mnumpy\u001b[0m\u001b[0;34m.\u001b[0m\u001b[0mma\u001b[0m\u001b[0;34m.\u001b[0m\u001b[0mmrecords\u001b[0m \u001b[0;32mas\u001b[0m \u001b[0mmrecords\u001b[0m\u001b[0;34m\u001b[0m\u001b[0;34m\u001b[0m\u001b[0m\n",
            "\u001b[0;32m/usr/local/lib/python3.9/dist-packages/pandas/core/internals/construction.py\u001b[0m in \u001b[0;36mdict_to_mgr\u001b[0;34m(data, index, columns, dtype, typ, copy)\u001b[0m\n\u001b[1;32m    500\u001b[0m         \u001b[0;31m# TODO: can we get rid of the dt64tz special case above?\u001b[0m\u001b[0;34m\u001b[0m\u001b[0;34m\u001b[0m\u001b[0m\n\u001b[1;32m    501\u001b[0m \u001b[0;34m\u001b[0m\u001b[0m\n\u001b[0;32m--> 502\u001b[0;31m     \u001b[0;32mreturn\u001b[0m \u001b[0marrays_to_mgr\u001b[0m\u001b[0;34m(\u001b[0m\u001b[0marrays\u001b[0m\u001b[0;34m,\u001b[0m \u001b[0mcolumns\u001b[0m\u001b[0;34m,\u001b[0m \u001b[0mindex\u001b[0m\u001b[0;34m,\u001b[0m \u001b[0mdtype\u001b[0m\u001b[0;34m=\u001b[0m\u001b[0mdtype\u001b[0m\u001b[0;34m,\u001b[0m \u001b[0mtyp\u001b[0m\u001b[0;34m=\u001b[0m\u001b[0mtyp\u001b[0m\u001b[0;34m,\u001b[0m \u001b[0mconsolidate\u001b[0m\u001b[0;34m=\u001b[0m\u001b[0mcopy\u001b[0m\u001b[0;34m)\u001b[0m\u001b[0;34m\u001b[0m\u001b[0;34m\u001b[0m\u001b[0m\n\u001b[0m\u001b[1;32m    503\u001b[0m \u001b[0;34m\u001b[0m\u001b[0m\n\u001b[1;32m    504\u001b[0m \u001b[0;34m\u001b[0m\u001b[0m\n",
            "\u001b[0;32m/usr/local/lib/python3.9/dist-packages/pandas/core/internals/construction.py\u001b[0m in \u001b[0;36marrays_to_mgr\u001b[0;34m(arrays, columns, index, dtype, verify_integrity, typ, consolidate)\u001b[0m\n\u001b[1;32m    118\u001b[0m         \u001b[0;31m# figure out the index, if necessary\u001b[0m\u001b[0;34m\u001b[0m\u001b[0;34m\u001b[0m\u001b[0m\n\u001b[1;32m    119\u001b[0m         \u001b[0;32mif\u001b[0m \u001b[0mindex\u001b[0m \u001b[0;32mis\u001b[0m \u001b[0;32mNone\u001b[0m\u001b[0;34m:\u001b[0m\u001b[0;34m\u001b[0m\u001b[0;34m\u001b[0m\u001b[0m\n\u001b[0;32m--> 120\u001b[0;31m             \u001b[0mindex\u001b[0m \u001b[0;34m=\u001b[0m \u001b[0m_extract_index\u001b[0m\u001b[0;34m(\u001b[0m\u001b[0marrays\u001b[0m\u001b[0;34m)\u001b[0m\u001b[0;34m\u001b[0m\u001b[0;34m\u001b[0m\u001b[0m\n\u001b[0m\u001b[1;32m    121\u001b[0m         \u001b[0;32melse\u001b[0m\u001b[0;34m:\u001b[0m\u001b[0;34m\u001b[0m\u001b[0;34m\u001b[0m\u001b[0m\n\u001b[1;32m    122\u001b[0m             \u001b[0mindex\u001b[0m \u001b[0;34m=\u001b[0m \u001b[0mensure_index\u001b[0m\u001b[0;34m(\u001b[0m\u001b[0mindex\u001b[0m\u001b[0;34m)\u001b[0m\u001b[0;34m\u001b[0m\u001b[0;34m\u001b[0m\u001b[0m\n",
            "\u001b[0;32m/usr/local/lib/python3.9/dist-packages/pandas/core/internals/construction.py\u001b[0m in \u001b[0;36m_extract_index\u001b[0;34m(data)\u001b[0m\n\u001b[1;32m    662\u001b[0m \u001b[0;34m\u001b[0m\u001b[0m\n\u001b[1;32m    663\u001b[0m         \u001b[0;32mif\u001b[0m \u001b[0;32mnot\u001b[0m \u001b[0mindexes\u001b[0m \u001b[0;32mand\u001b[0m \u001b[0;32mnot\u001b[0m \u001b[0mraw_lengths\u001b[0m\u001b[0;34m:\u001b[0m\u001b[0;34m\u001b[0m\u001b[0;34m\u001b[0m\u001b[0m\n\u001b[0;32m--> 664\u001b[0;31m             \u001b[0;32mraise\u001b[0m \u001b[0mValueError\u001b[0m\u001b[0;34m(\u001b[0m\u001b[0;34m\"If using all scalar values, you must pass an index\"\u001b[0m\u001b[0;34m)\u001b[0m\u001b[0;34m\u001b[0m\u001b[0;34m\u001b[0m\u001b[0m\n\u001b[0m\u001b[1;32m    665\u001b[0m \u001b[0;34m\u001b[0m\u001b[0m\n\u001b[1;32m    666\u001b[0m         \u001b[0;32melif\u001b[0m \u001b[0mhave_series\u001b[0m\u001b[0;34m:\u001b[0m\u001b[0;34m\u001b[0m\u001b[0;34m\u001b[0m\u001b[0m\n",
            "\u001b[0;31mValueError\u001b[0m: If using all scalar values, you must pass an index"
          ]
        }
      ],
      "source": [
        "#Create a DataFrame by completing the following from and to and share the result in the 3_1 discussion board\n",
        "df=pd.DataFrame({'From': ..., 'To': ...})\n",
        "g9 = Graph.DataFrame(df, directed=False)\n",
        "plot(g9, bbox=(300, 200))"
      ]
    },
    {
      "cell_type": "code",
      "source": [
        "g8.get_edgelist()[0]"
      ],
      "metadata": {
        "id": "w57t-GFJcVjq"
      },
      "execution_count": null,
      "outputs": []
    },
    {
      "cell_type": "code",
      "source": [
        "g8.get_edgelist()[1]"
      ],
      "metadata": {
        "id": "teYIj0UrcYV3"
      },
      "execution_count": null,
      "outputs": []
    },
    {
      "cell_type": "code",
      "source": [
        "import pandas as pd\n",
        "from igraph import *\n",
        "\n",
        "\n",
        "# Create a DataFrame from the graph's edges\n",
        "df = pd.DataFrame({'From': g7.get_edgelist()[0], 'To': g7.get_edgelist()[17]})\n",
        "\n",
        "# Create a graph from the DataFrame\n",
        "g9 = Graph.DataFrame(df, directed=False)\n",
        "\n",
        "# Plot the graph\n",
        "plot(g9, bbox=(300, 200))"
      ],
      "metadata": {
        "colab": {
          "base_uri": "https://localhost:8080/",
          "height": 288
        },
        "id": "L-UzD9aLbb6e",
        "outputId": "886d0399-61d7-4657-b129-5db8900028b3"
      },
      "execution_count": 31,
      "outputs": [
        {
          "output_type": "execute_result",
          "data": {
            "text/plain": [
              "<igraph.drawing.cairo.plot.CairoPlot at 0x7fc978f147c0>"
            ],
            "image/svg+xml": "<?xml version=\"1.0\" encoding=\"UTF-8\"?>\n<svg xmlns=\"http://www.w3.org/2000/svg\" xmlns:xlink=\"http://www.w3.org/1999/xlink\" width=\"300pt\" height=\"200pt\" viewBox=\"0 0 300 200\" version=\"1.1\">\n<g id=\"surface44\">\n<rect x=\"0\" y=\"0\" width=\"300\" height=\"200\" style=\"fill:rgb(100%,100%,100%);fill-opacity:1;stroke:none;\"/>\n<path style=\"fill:none;stroke-width:1;stroke-linecap:butt;stroke-linejoin:miter;stroke:rgb(26.666667%,26.666667%,26.666667%);stroke-opacity:1;stroke-miterlimit:10;\" d=\"M 76.632812 97.953125 L 20 96.71875 \"/>\n<path style=\"fill:none;stroke-width:1;stroke-linecap:butt;stroke-linejoin:miter;stroke:rgb(26.666667%,26.666667%,26.666667%);stroke-opacity:1;stroke-miterlimit:10;\" d=\"M 76.632812 97.953125 L 135.125 99.226562 \"/>\n<path style=\"fill-rule:nonzero;fill:rgb(100%,0%,0%);fill-opacity:1;stroke-width:1;stroke-linecap:butt;stroke-linejoin:miter;stroke:rgb(0%,0%,0%);stroke-opacity:1;stroke-miterlimit:10;\" d=\"M 86.632812 97.953125 C 86.632812 103.476562 82.15625 107.953125 76.632812 107.953125 C 71.109375 107.953125 66.632812 103.476562 66.632812 97.953125 C 66.632812 92.429688 71.109375 87.953125 76.632812 87.953125 C 82.15625 87.953125 86.632812 92.429688 86.632812 97.953125 \"/>\n<path style=\"fill-rule:nonzero;fill:rgb(100%,0%,0%);fill-opacity:1;stroke-width:1;stroke-linecap:butt;stroke-linejoin:miter;stroke:rgb(0%,0%,0%);stroke-opacity:1;stroke-miterlimit:10;\" d=\"M 145.125 99.226562 C 145.125 104.75 140.648438 109.226562 135.125 109.226562 C 129.601562 109.226562 125.125 104.75 125.125 99.226562 C 125.125 93.703125 129.601562 89.226562 135.125 89.226562 C 140.648438 89.226562 145.125 93.703125 145.125 99.226562 \"/>\n<path style=\"fill-rule:nonzero;fill:rgb(100%,0%,0%);fill-opacity:1;stroke-width:1;stroke-linecap:butt;stroke-linejoin:miter;stroke:rgb(0%,0%,0%);stroke-opacity:1;stroke-miterlimit:10;\" d=\"M 84.671875 26.757812 C 84.671875 32.28125 80.195312 36.757812 74.671875 36.757812 C 69.148438 36.757812 64.671875 32.28125 64.671875 26.757812 C 64.671875 21.234375 69.148438 16.757812 74.671875 16.757812 C 80.195312 16.757812 84.671875 21.234375 84.671875 26.757812 \"/>\n<path style=\"fill-rule:nonzero;fill:rgb(100%,0%,0%);fill-opacity:1;stroke-width:1;stroke-linecap:butt;stroke-linejoin:miter;stroke:rgb(0%,0%,0%);stroke-opacity:1;stroke-miterlimit:10;\" d=\"M 262.679688 49.949219 C 262.679688 55.472656 258.203125 59.949219 252.679688 59.949219 C 247.15625 59.949219 242.679688 55.472656 242.679688 49.949219 C 242.679688 44.425781 247.15625 39.949219 252.679688 39.949219 C 258.203125 39.949219 262.679688 44.425781 262.679688 49.949219 \"/>\n<path style=\"fill-rule:nonzero;fill:rgb(100%,0%,0%);fill-opacity:1;stroke-width:1;stroke-linecap:butt;stroke-linejoin:miter;stroke:rgb(0%,0%,0%);stroke-opacity:1;stroke-miterlimit:10;\" d=\"M 175.808594 180 C 175.808594 185.523438 171.332031 190 165.808594 190 C 160.285156 190 155.808594 185.523438 155.808594 180 C 155.808594 174.476562 160.285156 170 165.808594 170 C 171.332031 170 175.808594 174.476562 175.808594 180 \"/>\n<path style=\"fill-rule:nonzero;fill:rgb(100%,0%,0%);fill-opacity:1;stroke-width:1;stroke-linecap:butt;stroke-linejoin:miter;stroke:rgb(0%,0%,0%);stroke-opacity:1;stroke-miterlimit:10;\" d=\"M 290 102.292969 C 290 107.816406 285.523438 112.292969 280 112.292969 C 274.476562 112.292969 270 107.816406 270 102.292969 C 270 96.769531 274.476562 92.292969 280 92.292969 C 285.523438 92.292969 290 96.769531 290 102.292969 \"/>\n<path style=\"fill-rule:nonzero;fill:rgb(100%,0%,0%);fill-opacity:1;stroke-width:1;stroke-linecap:butt;stroke-linejoin:miter;stroke:rgb(0%,0%,0%);stroke-opacity:1;stroke-miterlimit:10;\" d=\"M 184.851562 20 C 184.851562 25.523438 180.375 30 174.851562 30 C 169.328125 30 164.851562 25.523438 164.851562 20 C 164.851562 14.476562 169.328125 10 174.851562 10 C 180.375 10 184.851562 14.476562 184.851562 20 \"/>\n<path style=\"fill-rule:nonzero;fill:rgb(100%,0%,0%);fill-opacity:1;stroke-width:1;stroke-linecap:butt;stroke-linejoin:miter;stroke:rgb(0%,0%,0%);stroke-opacity:1;stroke-miterlimit:10;\" d=\"M 256.734375 153.285156 C 256.734375 158.804688 252.253906 163.285156 246.734375 163.285156 C 241.210938 163.285156 236.734375 158.804688 236.734375 153.285156 C 236.734375 147.761719 241.210938 143.285156 246.734375 143.285156 C 252.253906 143.285156 256.734375 147.761719 256.734375 153.285156 \"/>\n<path style=\"fill-rule:nonzero;fill:rgb(100%,0%,0%);fill-opacity:1;stroke-width:1;stroke-linecap:butt;stroke-linejoin:miter;stroke:rgb(0%,0%,0%);stroke-opacity:1;stroke-miterlimit:10;\" d=\"M 76.609375 168.855469 C 76.609375 174.378906 72.132812 178.855469 66.609375 178.855469 C 61.085938 178.855469 56.609375 174.378906 56.609375 168.855469 C 56.609375 163.335938 61.085938 158.855469 66.609375 158.855469 C 72.132812 158.855469 76.609375 163.335938 76.609375 168.855469 \"/>\n<path style=\"fill-rule:nonzero;fill:rgb(100%,0%,0%);fill-opacity:1;stroke-width:1;stroke-linecap:butt;stroke-linejoin:miter;stroke:rgb(0%,0%,0%);stroke-opacity:1;stroke-miterlimit:10;\" d=\"M 30 96.71875 C 30 102.242188 25.523438 106.71875 20 106.71875 C 14.476562 106.71875 10 102.242188 10 96.71875 C 10 91.195312 14.476562 86.71875 20 86.71875 C 25.523438 86.71875 30 91.195312 30 96.71875 \"/>\n</g>\n</svg>\n"
          },
          "metadata": {
            "image/svg+xml": {
              "isolated": true
            }
          },
          "execution_count": 31
        }
      ]
    },
    {
      "cell_type": "code",
      "source": [
        "df"
      ],
      "metadata": {
        "colab": {
          "base_uri": "https://localhost:8080/",
          "height": 112
        },
        "id": "OLbiq0uz6fb7",
        "outputId": "b8039327-5640-4827-d356-4e2dbfc0b93a"
      },
      "execution_count": 32,
      "outputs": [
        {
          "output_type": "execute_result",
          "data": {
            "text/plain": [
              "   From  To\n",
              "0     0   9\n",
              "1     1   0"
            ],
            "text/html": [
              "\n",
              "  <div id=\"df-ea642f46-4a78-4f48-9722-119b34cf2a67\">\n",
              "    <div class=\"colab-df-container\">\n",
              "      <div>\n",
              "<style scoped>\n",
              "    .dataframe tbody tr th:only-of-type {\n",
              "        vertical-align: middle;\n",
              "    }\n",
              "\n",
              "    .dataframe tbody tr th {\n",
              "        vertical-align: top;\n",
              "    }\n",
              "\n",
              "    .dataframe thead th {\n",
              "        text-align: right;\n",
              "    }\n",
              "</style>\n",
              "<table border=\"1\" class=\"dataframe\">\n",
              "  <thead>\n",
              "    <tr style=\"text-align: right;\">\n",
              "      <th></th>\n",
              "      <th>From</th>\n",
              "      <th>To</th>\n",
              "    </tr>\n",
              "  </thead>\n",
              "  <tbody>\n",
              "    <tr>\n",
              "      <th>0</th>\n",
              "      <td>0</td>\n",
              "      <td>9</td>\n",
              "    </tr>\n",
              "    <tr>\n",
              "      <th>1</th>\n",
              "      <td>1</td>\n",
              "      <td>0</td>\n",
              "    </tr>\n",
              "  </tbody>\n",
              "</table>\n",
              "</div>\n",
              "      <button class=\"colab-df-convert\" onclick=\"convertToInteractive('df-ea642f46-4a78-4f48-9722-119b34cf2a67')\"\n",
              "              title=\"Convert this dataframe to an interactive table.\"\n",
              "              style=\"display:none;\">\n",
              "        \n",
              "  <svg xmlns=\"http://www.w3.org/2000/svg\" height=\"24px\"viewBox=\"0 0 24 24\"\n",
              "       width=\"24px\">\n",
              "    <path d=\"M0 0h24v24H0V0z\" fill=\"none\"/>\n",
              "    <path d=\"M18.56 5.44l.94 2.06.94-2.06 2.06-.94-2.06-.94-.94-2.06-.94 2.06-2.06.94zm-11 1L8.5 8.5l.94-2.06 2.06-.94-2.06-.94L8.5 2.5l-.94 2.06-2.06.94zm10 10l.94 2.06.94-2.06 2.06-.94-2.06-.94-.94-2.06-.94 2.06-2.06.94z\"/><path d=\"M17.41 7.96l-1.37-1.37c-.4-.4-.92-.59-1.43-.59-.52 0-1.04.2-1.43.59L10.3 9.45l-7.72 7.72c-.78.78-.78 2.05 0 2.83L4 21.41c.39.39.9.59 1.41.59.51 0 1.02-.2 1.41-.59l7.78-7.78 2.81-2.81c.8-.78.8-2.07 0-2.86zM5.41 20L4 18.59l7.72-7.72 1.47 1.35L5.41 20z\"/>\n",
              "  </svg>\n",
              "      </button>\n",
              "      \n",
              "  <style>\n",
              "    .colab-df-container {\n",
              "      display:flex;\n",
              "      flex-wrap:wrap;\n",
              "      gap: 12px;\n",
              "    }\n",
              "\n",
              "    .colab-df-convert {\n",
              "      background-color: #E8F0FE;\n",
              "      border: none;\n",
              "      border-radius: 50%;\n",
              "      cursor: pointer;\n",
              "      display: none;\n",
              "      fill: #1967D2;\n",
              "      height: 32px;\n",
              "      padding: 0 0 0 0;\n",
              "      width: 32px;\n",
              "    }\n",
              "\n",
              "    .colab-df-convert:hover {\n",
              "      background-color: #E2EBFA;\n",
              "      box-shadow: 0px 1px 2px rgba(60, 64, 67, 0.3), 0px 1px 3px 1px rgba(60, 64, 67, 0.15);\n",
              "      fill: #174EA6;\n",
              "    }\n",
              "\n",
              "    [theme=dark] .colab-df-convert {\n",
              "      background-color: #3B4455;\n",
              "      fill: #D2E3FC;\n",
              "    }\n",
              "\n",
              "    [theme=dark] .colab-df-convert:hover {\n",
              "      background-color: #434B5C;\n",
              "      box-shadow: 0px 1px 3px 1px rgba(0, 0, 0, 0.15);\n",
              "      filter: drop-shadow(0px 1px 2px rgba(0, 0, 0, 0.3));\n",
              "      fill: #FFFFFF;\n",
              "    }\n",
              "  </style>\n",
              "\n",
              "      <script>\n",
              "        const buttonEl =\n",
              "          document.querySelector('#df-ea642f46-4a78-4f48-9722-119b34cf2a67 button.colab-df-convert');\n",
              "        buttonEl.style.display =\n",
              "          google.colab.kernel.accessAllowed ? 'block' : 'none';\n",
              "\n",
              "        async function convertToInteractive(key) {\n",
              "          const element = document.querySelector('#df-ea642f46-4a78-4f48-9722-119b34cf2a67');\n",
              "          const dataTable =\n",
              "            await google.colab.kernel.invokeFunction('convertToInteractive',\n",
              "                                                     [key], {});\n",
              "          if (!dataTable) return;\n",
              "\n",
              "          const docLinkHtml = 'Like what you see? Visit the ' +\n",
              "            '<a target=\"_blank\" href=https://colab.research.google.com/notebooks/data_table.ipynb>data table notebook</a>'\n",
              "            + ' to learn more about interactive tables.';\n",
              "          element.innerHTML = '';\n",
              "          dataTable['output_type'] = 'display_data';\n",
              "          await google.colab.output.renderOutput(dataTable, element);\n",
              "          const docLink = document.createElement('div');\n",
              "          docLink.innerHTML = docLinkHtml;\n",
              "          element.appendChild(docLink);\n",
              "        }\n",
              "      </script>\n",
              "    </div>\n",
              "  </div>\n",
              "  "
            ]
          },
          "metadata": {},
          "execution_count": 32
        }
      ]
    },
    {
      "cell_type": "code",
      "source": [
        "import pandas as pd\n",
        "from igraph import *\n",
        "\n",
        "# Define the edges of the graph\n",
        "edges = [(0, 1), (0, 2), (1, 2), (2, 3), (3, 4), (4, 5), (4, 6), (5, 6)]\n",
        "\n",
        "# Create a DataFrame from the edges\n",
        "df = pd.DataFrame({'From': [e[0] for e in edges], 'To': [e[1] for e in edges]})\n",
        "\n",
        "# Create a graph from the DataFrame\n",
        "g9 = Graph.DataFrame(df, directed=False)\n",
        "\n",
        "# Plot the graph\n",
        "plot(g9, bbox=(300, 200))"
      ],
      "metadata": {
        "colab": {
          "base_uri": "https://localhost:8080/",
          "height": 288
        },
        "id": "_rrdqOLJazI_",
        "outputId": "2dc15360-ae6c-4969-dd7f-eec3f1a58281"
      },
      "execution_count": 33,
      "outputs": [
        {
          "output_type": "execute_result",
          "data": {
            "text/plain": [
              "<igraph.drawing.cairo.plot.CairoPlot at 0x7fc978ea5250>"
            ],
            "image/svg+xml": "<?xml version=\"1.0\" encoding=\"UTF-8\"?>\n<svg xmlns=\"http://www.w3.org/2000/svg\" xmlns:xlink=\"http://www.w3.org/1999/xlink\" width=\"300pt\" height=\"200pt\" viewBox=\"0 0 300 200\" version=\"1.1\">\n<g id=\"surface50\">\n<rect x=\"0\" y=\"0\" width=\"300\" height=\"200\" style=\"fill:rgb(100%,100%,100%);fill-opacity:1;stroke:none;\"/>\n<path style=\"fill:none;stroke-width:1;stroke-linecap:butt;stroke-linejoin:miter;stroke:rgb(26.666667%,26.666667%,26.666667%);stroke-opacity:1;stroke-miterlimit:10;\" d=\"M 280 156.992188 L 206.011719 180 \"/>\n<path style=\"fill:none;stroke-width:1;stroke-linecap:butt;stroke-linejoin:miter;stroke:rgb(26.666667%,26.666667%,26.666667%);stroke-opacity:1;stroke-miterlimit:10;\" d=\"M 280 156.992188 L 199.75 136.640625 \"/>\n<path style=\"fill:none;stroke-width:1;stroke-linecap:butt;stroke-linejoin:miter;stroke:rgb(26.666667%,26.666667%,26.666667%);stroke-opacity:1;stroke-miterlimit:10;\" d=\"M 206.011719 180 L 199.75 136.640625 \"/>\n<path style=\"fill:none;stroke-width:1;stroke-linecap:butt;stroke-linejoin:miter;stroke:rgb(26.666667%,26.666667%,26.666667%);stroke-opacity:1;stroke-miterlimit:10;\" d=\"M 199.75 136.640625 L 149.996094 100 \"/>\n<path style=\"fill:none;stroke-width:1;stroke-linecap:butt;stroke-linejoin:miter;stroke:rgb(26.666667%,26.666667%,26.666667%);stroke-opacity:1;stroke-miterlimit:10;\" d=\"M 149.996094 100 L 100.25 63.359375 \"/>\n<path style=\"fill:none;stroke-width:1;stroke-linecap:butt;stroke-linejoin:miter;stroke:rgb(26.666667%,26.666667%,26.666667%);stroke-opacity:1;stroke-miterlimit:10;\" d=\"M 100.25 63.359375 L 20 43.007812 \"/>\n<path style=\"fill:none;stroke-width:1;stroke-linecap:butt;stroke-linejoin:miter;stroke:rgb(26.666667%,26.666667%,26.666667%);stroke-opacity:1;stroke-miterlimit:10;\" d=\"M 100.25 63.359375 L 93.988281 20 \"/>\n<path style=\"fill:none;stroke-width:1;stroke-linecap:butt;stroke-linejoin:miter;stroke:rgb(26.666667%,26.666667%,26.666667%);stroke-opacity:1;stroke-miterlimit:10;\" d=\"M 20 43.007812 L 93.988281 20 \"/>\n<path style=\"fill-rule:nonzero;fill:rgb(100%,0%,0%);fill-opacity:1;stroke-width:1;stroke-linecap:butt;stroke-linejoin:miter;stroke:rgb(0%,0%,0%);stroke-opacity:1;stroke-miterlimit:10;\" d=\"M 290 156.992188 C 290 162.515625 285.523438 166.992188 280 166.992188 C 274.476562 166.992188 270 162.515625 270 156.992188 C 270 151.46875 274.476562 146.992188 280 146.992188 C 285.523438 146.992188 290 151.46875 290 156.992188 \"/>\n<path style=\"fill-rule:nonzero;fill:rgb(100%,0%,0%);fill-opacity:1;stroke-width:1;stroke-linecap:butt;stroke-linejoin:miter;stroke:rgb(0%,0%,0%);stroke-opacity:1;stroke-miterlimit:10;\" d=\"M 216.011719 180 C 216.011719 185.523438 211.535156 190 206.011719 190 C 200.492188 190 196.011719 185.523438 196.011719 180 C 196.011719 174.476562 200.492188 170 206.011719 170 C 211.535156 170 216.011719 174.476562 216.011719 180 \"/>\n<path style=\"fill-rule:nonzero;fill:rgb(100%,0%,0%);fill-opacity:1;stroke-width:1;stroke-linecap:butt;stroke-linejoin:miter;stroke:rgb(0%,0%,0%);stroke-opacity:1;stroke-miterlimit:10;\" d=\"M 209.75 136.640625 C 209.75 142.164062 205.269531 146.640625 199.75 146.640625 C 194.226562 146.640625 189.75 142.164062 189.75 136.640625 C 189.75 131.117188 194.226562 126.640625 199.75 126.640625 C 205.269531 126.640625 209.75 131.117188 209.75 136.640625 \"/>\n<path style=\"fill-rule:nonzero;fill:rgb(100%,0%,0%);fill-opacity:1;stroke-width:1;stroke-linecap:butt;stroke-linejoin:miter;stroke:rgb(0%,0%,0%);stroke-opacity:1;stroke-miterlimit:10;\" d=\"M 159.996094 100 C 159.996094 105.523438 155.519531 110 149.996094 110 C 144.472656 110 139.996094 105.523438 139.996094 100 C 139.996094 94.476562 144.472656 90 149.996094 90 C 155.519531 90 159.996094 94.476562 159.996094 100 \"/>\n<path style=\"fill-rule:nonzero;fill:rgb(100%,0%,0%);fill-opacity:1;stroke-width:1;stroke-linecap:butt;stroke-linejoin:miter;stroke:rgb(0%,0%,0%);stroke-opacity:1;stroke-miterlimit:10;\" d=\"M 110.25 63.359375 C 110.25 68.882812 105.769531 73.359375 100.25 73.359375 C 94.726562 73.359375 90.25 68.882812 90.25 63.359375 C 90.25 57.835938 94.726562 53.359375 100.25 53.359375 C 105.769531 53.359375 110.25 57.835938 110.25 63.359375 \"/>\n<path style=\"fill-rule:nonzero;fill:rgb(100%,0%,0%);fill-opacity:1;stroke-width:1;stroke-linecap:butt;stroke-linejoin:miter;stroke:rgb(0%,0%,0%);stroke-opacity:1;stroke-miterlimit:10;\" d=\"M 30 43.007812 C 30 48.527344 25.523438 53.007812 20 53.007812 C 14.476562 53.007812 10 48.527344 10 43.007812 C 10 37.484375 14.476562 33.007812 20 33.007812 C 25.523438 33.007812 30 37.484375 30 43.007812 \"/>\n<path style=\"fill-rule:nonzero;fill:rgb(100%,0%,0%);fill-opacity:1;stroke-width:1;stroke-linecap:butt;stroke-linejoin:miter;stroke:rgb(0%,0%,0%);stroke-opacity:1;stroke-miterlimit:10;\" d=\"M 103.988281 20 C 103.988281 25.523438 99.511719 30 93.988281 30 C 88.46875 30 83.988281 25.523438 83.988281 20 C 83.988281 14.476562 88.46875 10 93.988281 10 C 99.511719 10 103.988281 14.476562 103.988281 20 \"/>\n</g>\n</svg>\n"
          },
          "metadata": {
            "image/svg+xml": {
              "isolated": true
            }
          },
          "execution_count": 33
        }
      ]
    },
    {
      "cell_type": "markdown",
      "metadata": {
        "id": "gH8Yn41PeRvE"
      },
      "source": [
        "# 2. Network and node descriptives\n",
        "\n",
        "Node degree is the number of edges adjacents to node i.\n",
        "\n",
        "The function degree() has a mode of \"in\" for in-degree, \"out\" for out-degree, and all or total for total degree."
      ]
    },
    {
      "cell_type": "code",
      "execution_count": 34,
      "metadata": {
        "id": "fBRhQKi8eRvF",
        "colab": {
          "base_uri": "https://localhost:8080/",
          "height": 288
        },
        "outputId": "4b7d336f-e1e3-4158-bedb-8b80da5ed38c"
      },
      "outputs": [
        {
          "output_type": "execute_result",
          "data": {
            "text/plain": [
              "<igraph.drawing.cairo.plot.CairoPlot at 0x7fc978187fd0>"
            ],
            "image/svg+xml": "<?xml version=\"1.0\" encoding=\"UTF-8\"?>\n<svg xmlns=\"http://www.w3.org/2000/svg\" xmlns:xlink=\"http://www.w3.org/1999/xlink\" width=\"300pt\" height=\"200pt\" viewBox=\"0 0 300 200\" version=\"1.1\">\n<defs>\n<g>\n<symbol overflow=\"visible\" id=\"glyph0-0\">\n<path style=\"stroke:none;\" d=\"M 0.46875 0 L 0.46875 -9.328125 L 4.1875 -9.328125 L 4.1875 0 Z M 0.9375 -0.46875 L 3.71875 -0.46875 L 3.71875 -8.859375 L 0.9375 -8.859375 Z M 0.9375 -0.46875 \"/>\n</symbol>\n<symbol overflow=\"visible\" id=\"glyph0-1\">\n<path style=\"stroke:none;\" d=\"M 7.0625 0 L 6.125 -2.609375 L 2.28125 -2.609375 L 1.34375 0 L 0 0 L 3.484375 -9.21875 L 4.96875 -9.21875 L 8.390625 0 Z M 4.796875 -6.515625 C 4.734375 -6.691406 4.671875 -6.867188 4.609375 -7.046875 C 4.546875 -7.222656 4.488281 -7.390625 4.4375 -7.546875 C 4.382812 -7.710938 4.335938 -7.851562 4.296875 -7.96875 C 4.253906 -8.09375 4.226562 -8.179688 4.21875 -8.234375 C 4.195312 -8.179688 4.164062 -8.09375 4.125 -7.96875 C 4.09375 -7.84375 4.050781 -7.703125 4 -7.546875 C 3.945312 -7.390625 3.890625 -7.222656 3.828125 -7.046875 C 3.773438 -6.867188 3.71875 -6.691406 3.65625 -6.515625 L 2.625 -3.625 L 5.796875 -3.625 Z M 4.796875 -6.515625 \"/>\n</symbol>\n<symbol overflow=\"visible\" id=\"glyph0-2\">\n<path style=\"stroke:none;\" d=\"M 7.875 -2.59375 C 7.875 -2.125 7.773438 -1.722656 7.578125 -1.390625 C 7.390625 -1.066406 7.132812 -0.800781 6.8125 -0.59375 C 6.488281 -0.382812 6.113281 -0.234375 5.6875 -0.140625 C 5.257812 -0.046875 4.804688 0 4.328125 0 L 1.109375 0 L 1.109375 -9.21875 L 3.921875 -9.21875 C 4.453125 -9.21875 4.925781 -9.175781 5.34375 -9.09375 C 5.769531 -9.007812 6.128906 -8.875 6.421875 -8.6875 C 6.710938 -8.507812 6.929688 -8.28125 7.078125 -8 C 7.234375 -7.71875 7.3125 -7.378906 7.3125 -6.984375 C 7.3125 -6.734375 7.273438 -6.488281 7.203125 -6.25 C 7.128906 -6.019531 7.015625 -5.8125 6.859375 -5.625 C 6.703125 -5.445312 6.507812 -5.289062 6.28125 -5.15625 C 6.0625 -5.019531 5.796875 -4.921875 5.484375 -4.859375 C 5.867188 -4.816406 6.207031 -4.734375 6.5 -4.609375 C 6.800781 -4.484375 7.050781 -4.320312 7.25 -4.125 C 7.457031 -3.925781 7.613281 -3.695312 7.71875 -3.4375 C 7.820312 -3.175781 7.875 -2.894531 7.875 -2.59375 Z M 6 -6.828125 C 6 -7.304688 5.828125 -7.648438 5.484375 -7.859375 C 5.140625 -8.066406 4.625 -8.171875 3.9375 -8.171875 L 2.40625 -8.171875 L 2.40625 -5.328125 L 3.953125 -5.328125 C 4.316406 -5.328125 4.628906 -5.363281 4.890625 -5.4375 C 5.148438 -5.507812 5.363281 -5.609375 5.53125 -5.734375 C 5.695312 -5.867188 5.816406 -6.023438 5.890625 -6.203125 C 5.960938 -6.390625 6 -6.597656 6 -6.828125 Z M 6.5625 -2.71875 C 6.5625 -3 6.5 -3.238281 6.375 -3.4375 C 6.257812 -3.644531 6.097656 -3.8125 5.890625 -3.9375 C 5.679688 -4.070312 5.425781 -4.164062 5.125 -4.21875 C 4.832031 -4.28125 4.503906 -4.3125 4.140625 -4.3125 L 2.40625 -4.3125 L 2.40625 -1.046875 L 4.234375 -1.046875 C 4.566406 -1.046875 4.875 -1.070312 5.15625 -1.125 C 5.4375 -1.175781 5.679688 -1.265625 5.890625 -1.390625 C 6.097656 -1.523438 6.257812 -1.695312 6.375 -1.90625 C 6.5 -2.125 6.5625 -2.394531 6.5625 -2.71875 Z M 6.5625 -2.71875 \"/>\n</symbol>\n<symbol overflow=\"visible\" id=\"glyph0-3\">\n<path style=\"stroke:none;\" d=\"M 2.140625 -4.65625 C 2.140625 -4.0625 2.1875 -3.53125 2.28125 -3.0625 C 2.375 -2.601562 2.515625 -2.210938 2.703125 -1.890625 C 2.898438 -1.578125 3.144531 -1.335938 3.4375 -1.171875 C 3.738281 -1.003906 4.097656 -0.921875 4.515625 -0.921875 C 4.804688 -0.921875 5.066406 -0.972656 5.296875 -1.078125 C 5.523438 -1.191406 5.726562 -1.335938 5.90625 -1.515625 C 6.09375 -1.691406 6.25 -1.894531 6.375 -2.125 C 6.507812 -2.363281 6.625 -2.601562 6.71875 -2.84375 L 7.8125 -2.40625 C 7.675781 -2.082031 7.515625 -1.769531 7.328125 -1.46875 C 7.148438 -1.164062 6.925781 -0.894531 6.65625 -0.65625 C 6.394531 -0.414062 6.085938 -0.222656 5.734375 -0.078125 C 5.378906 0.0664062 4.96875 0.140625 4.5 0.140625 C 3.863281 0.140625 3.3125 0.0234375 2.84375 -0.203125 C 2.375 -0.429688 1.984375 -0.753906 1.671875 -1.171875 C 1.367188 -1.597656 1.140625 -2.101562 0.984375 -2.6875 C 0.835938 -3.28125 0.765625 -3.9375 0.765625 -4.65625 C 0.765625 -5.414062 0.835938 -6.085938 0.984375 -6.671875 C 1.128906 -7.253906 1.351562 -7.742188 1.65625 -8.140625 C 1.957031 -8.546875 2.335938 -8.847656 2.796875 -9.046875 C 3.265625 -9.253906 3.8125 -9.359375 4.4375 -9.359375 C 4.894531 -9.359375 5.296875 -9.296875 5.640625 -9.171875 C 5.992188 -9.046875 6.296875 -8.878906 6.546875 -8.671875 C 6.796875 -8.460938 7.007812 -8.21875 7.1875 -7.9375 C 7.363281 -7.664062 7.507812 -7.378906 7.625 -7.078125 L 6.46875 -6.625 C 6.40625 -6.84375 6.3125 -7.050781 6.1875 -7.25 C 6.070312 -7.445312 5.929688 -7.625 5.765625 -7.78125 C 5.597656 -7.9375 5.40625 -8.0625 5.1875 -8.15625 C 4.96875 -8.25 4.71875 -8.296875 4.4375 -8.296875 C 4.03125 -8.296875 3.679688 -8.21875 3.390625 -8.0625 C 3.109375 -7.90625 2.875 -7.671875 2.6875 -7.359375 C 2.5 -7.054688 2.359375 -6.675781 2.265625 -6.21875 C 2.179688 -5.769531 2.140625 -5.25 2.140625 -4.65625 Z M 2.140625 -4.65625 \"/>\n</symbol>\n<symbol overflow=\"visible\" id=\"glyph0-4\">\n<path style=\"stroke:none;\" d=\"M 7.6875 -4.703125 C 7.6875 -3.941406 7.59375 -3.265625 7.40625 -2.671875 C 7.226562 -2.085938 6.96875 -1.597656 6.625 -1.203125 C 6.28125 -0.804688 5.851562 -0.503906 5.34375 -0.296875 C 4.84375 -0.0976562 4.273438 0 3.640625 0 L 1.109375 0 L 1.109375 -9.21875 L 3.234375 -9.21875 C 3.953125 -9.21875 4.585938 -9.128906 5.140625 -8.953125 C 5.691406 -8.785156 6.15625 -8.515625 6.53125 -8.140625 C 6.914062 -7.773438 7.203125 -7.304688 7.390625 -6.734375 C 7.585938 -6.160156 7.6875 -5.484375 7.6875 -4.703125 Z M 6.375 -4.703125 C 6.375 -5.316406 6.3125 -5.84375 6.1875 -6.28125 C 6.0625 -6.71875 5.867188 -7.070312 5.609375 -7.34375 C 5.347656 -7.625 5.019531 -7.828125 4.625 -7.953125 C 4.238281 -8.085938 3.773438 -8.15625 3.234375 -8.15625 L 2.40625 -8.15625 L 2.40625 -1.0625 L 3.515625 -1.0625 C 4.484375 -1.0625 5.203125 -1.363281 5.671875 -1.96875 C 6.140625 -2.582031 6.375 -3.492188 6.375 -4.703125 Z M 6.375 -4.703125 \"/>\n</symbol>\n<symbol overflow=\"visible\" id=\"glyph0-5\">\n<path style=\"stroke:none;\" d=\"M 1.109375 0 L 1.109375 -9.21875 L 7.390625 -9.21875 L 7.390625 -8.15625 L 2.40625 -8.15625 L 2.40625 -5.265625 L 6.984375 -5.265625 L 6.984375 -4.21875 L 2.40625 -4.21875 L 2.40625 -1.0625 L 7.671875 -1.0625 L 7.671875 0 Z M 1.109375 0 \"/>\n</symbol>\n<symbol overflow=\"visible\" id=\"glyph0-6\">\n<path style=\"stroke:none;\" d=\"M 2.625 -8.15625 L 2.625 -4.78125 L 7.25 -4.78125 L 7.25 -3.703125 L 2.625 -3.703125 L 2.625 0 L 1.328125 0 L 1.328125 -9.21875 L 7.421875 -9.21875 L 7.421875 -8.15625 Z M 2.625 -8.15625 \"/>\n</symbol>\n</g>\n</defs>\n<g id=\"surface56\">\n<rect x=\"0\" y=\"0\" width=\"300\" height=\"200\" style=\"fill:rgb(100%,100%,100%);fill-opacity:1;stroke:none;\"/>\n<path style=\"fill:none;stroke-width:1;stroke-linecap:butt;stroke-linejoin:miter;stroke:rgb(26.666667%,26.666667%,26.666667%);stroke-opacity:1;stroke-miterlimit:10;\" d=\"M 280 134.828125 L 220.957031 180 \"/>\n<path style=\"fill:none;stroke-width:1;stroke-linecap:butt;stroke-linejoin:miter;stroke:rgb(26.666667%,26.666667%,26.666667%);stroke-opacity:1;stroke-miterlimit:10;\" d=\"M 220.957031 180 C 233.773438 147.636719 226.445312 120.773438 198.964844 99.40625 \"/>\n<path style=\"fill:none;stroke-width:1;stroke-linecap:butt;stroke-linejoin:miter;stroke:rgb(26.666667%,26.666667%,26.666667%);stroke-opacity:1;stroke-miterlimit:10;\" d=\"M 220.957031 180 C 193.476562 158.632812 186.148438 131.769531 198.964844 99.40625 \"/>\n<path style=\"fill:none;stroke-width:1;stroke-linecap:butt;stroke-linejoin:miter;stroke:rgb(26.666667%,26.666667%,26.666667%);stroke-opacity:1;stroke-miterlimit:10;\" d=\"M 220.957031 180 L 198.964844 99.40625 \"/>\n<path style=\"fill:none;stroke-width:1;stroke-linecap:butt;stroke-linejoin:miter;stroke:rgb(26.666667%,26.666667%,26.666667%);stroke-opacity:1;stroke-miterlimit:10;\" d=\"M 305.605469 124.222656 C 305.605469 132.503906 298.890625 139.222656 290.605469 139.222656 C 282.324219 139.222656 275.605469 132.503906 275.605469 124.222656 C 275.605469 115.9375 282.324219 109.222656 290.605469 109.222656 C 298.890625 109.222656 305.605469 115.9375 305.605469 124.222656 \"/>\n<path style=\"fill:none;stroke-width:1;stroke-linecap:butt;stroke-linejoin:miter;stroke:rgb(26.666667%,26.666667%,26.666667%);stroke-opacity:1;stroke-miterlimit:10;\" d=\"M 280 134.828125 L 198.964844 99.40625 \"/>\n<path style=\"fill:none;stroke-width:1;stroke-linecap:butt;stroke-linejoin:miter;stroke:rgb(26.666667%,26.666667%,26.666667%);stroke-opacity:1;stroke-miterlimit:10;\" d=\"M 198.964844 99.40625 L 106.71875 95.164062 \"/>\n<path style=\"fill:none;stroke-width:1;stroke-linecap:butt;stroke-linejoin:miter;stroke:rgb(26.666667%,26.666667%,26.666667%);stroke-opacity:1;stroke-miterlimit:10;\" d=\"M 106.71875 95.164062 L 20 91.523438 \"/>\n<path style=\"fill:none;stroke-width:1;stroke-linecap:butt;stroke-linejoin:miter;stroke:rgb(26.666667%,26.666667%,26.666667%);stroke-opacity:1;stroke-miterlimit:10;\" d=\"M 198.964844 99.40625 L 232.804688 20 \"/>\n<path style=\"fill-rule:nonzero;fill:rgb(100%,0%,0%);fill-opacity:1;stroke-width:1;stroke-linecap:butt;stroke-linejoin:miter;stroke:rgb(0%,0%,0%);stroke-opacity:1;stroke-miterlimit:10;\" d=\"M 290 134.828125 C 290 140.351562 285.523438 144.828125 280 144.828125 C 274.476562 144.828125 270 140.351562 270 134.828125 C 270 129.304688 274.476562 124.828125 280 124.828125 C 285.523438 124.828125 290 129.304688 290 134.828125 \"/>\n<path style=\"fill-rule:nonzero;fill:rgb(100%,0%,0%);fill-opacity:1;stroke-width:1;stroke-linecap:butt;stroke-linejoin:miter;stroke:rgb(0%,0%,0%);stroke-opacity:1;stroke-miterlimit:10;\" d=\"M 230.957031 180 C 230.957031 185.523438 226.480469 190 220.957031 190 C 215.433594 190 210.957031 185.523438 210.957031 180 C 210.957031 174.476562 215.433594 170 220.957031 170 C 226.480469 170 230.957031 174.476562 230.957031 180 \"/>\n<path style=\"fill-rule:nonzero;fill:rgb(100%,0%,0%);fill-opacity:1;stroke-width:1;stroke-linecap:butt;stroke-linejoin:miter;stroke:rgb(0%,0%,0%);stroke-opacity:1;stroke-miterlimit:10;\" d=\"M 208.964844 99.40625 C 208.964844 104.929688 204.488281 109.40625 198.964844 109.40625 C 193.441406 109.40625 188.964844 104.929688 188.964844 99.40625 C 188.964844 93.886719 193.441406 89.40625 198.964844 89.40625 C 204.488281 89.40625 208.964844 93.886719 208.964844 99.40625 \"/>\n<path style=\"fill-rule:nonzero;fill:rgb(100%,0%,0%);fill-opacity:1;stroke-width:1;stroke-linecap:butt;stroke-linejoin:miter;stroke:rgb(0%,0%,0%);stroke-opacity:1;stroke-miterlimit:10;\" d=\"M 116.71875 95.164062 C 116.71875 100.6875 112.242188 105.164062 106.71875 105.164062 C 101.195312 105.164062 96.71875 100.6875 96.71875 95.164062 C 96.71875 89.640625 101.195312 85.164062 106.71875 85.164062 C 112.242188 85.164062 116.71875 89.640625 116.71875 95.164062 \"/>\n<path style=\"fill-rule:nonzero;fill:rgb(100%,0%,0%);fill-opacity:1;stroke-width:1;stroke-linecap:butt;stroke-linejoin:miter;stroke:rgb(0%,0%,0%);stroke-opacity:1;stroke-miterlimit:10;\" d=\"M 30 91.523438 C 30 97.046875 25.523438 101.523438 20 101.523438 C 14.476562 101.523438 10 97.046875 10 91.523438 C 10 86 14.476562 81.523438 20 81.523438 C 25.523438 81.523438 30 86 30 91.523438 \"/>\n<path style=\"fill-rule:nonzero;fill:rgb(100%,0%,0%);fill-opacity:1;stroke-width:1;stroke-linecap:butt;stroke-linejoin:miter;stroke:rgb(0%,0%,0%);stroke-opacity:1;stroke-miterlimit:10;\" d=\"M 242.804688 20 C 242.804688 25.523438 238.328125 30 232.804688 30 C 227.28125 30 222.804688 25.523438 222.804688 20 C 222.804688 14.476562 227.28125 10 232.804688 10 C 238.328125 10 242.804688 14.476562 242.804688 20 \"/>\n<g style=\"fill:rgb(0%,0%,0%);fill-opacity:1;\">\n  <use xlink:href=\"#glyph0-1\" x=\"275.804688\" y=\"141.539062\"/>\n</g>\n<g style=\"fill:rgb(0%,0%,0%);fill-opacity:1;\">\n  <use xlink:href=\"#glyph0-2\" x=\"216.464844\" y=\"186.710938\"/>\n</g>\n<g style=\"fill:rgb(0%,0%,0%);fill-opacity:1;\">\n  <use xlink:href=\"#glyph0-3\" x=\"194.675781\" y=\"106.191406\"/>\n</g>\n<g style=\"fill:rgb(0%,0%,0%);fill-opacity:1;\">\n  <use xlink:href=\"#glyph0-4\" x=\"102.320312\" y=\"101.875\"/>\n</g>\n<g style=\"fill:rgb(0%,0%,0%);fill-opacity:1;\">\n  <use xlink:href=\"#glyph0-5\" x=\"15.609375\" y=\"98.234375\"/>\n</g>\n<g style=\"fill:rgb(0%,0%,0%);fill-opacity:1;\">\n  <use xlink:href=\"#glyph0-6\" x=\"228.433594\" y=\"26.710938\"/>\n</g>\n</g>\n</svg>\n"
          },
          "metadata": {
            "image/svg+xml": {
              "isolated": true
            }
          },
          "execution_count": 34
        }
      ],
      "source": [
        "g5=Graph.Formula('A-B, B-C, B-C, B-C, A-A, C-A, C-D, D-E, C-F',simplify = False)\n",
        "plot(g5, bbox=(300, 200),vertex_label=g5.vs['name'])"
      ]
    },
    {
      "cell_type": "code",
      "execution_count": 35,
      "metadata": {
        "id": "6XZYv1RLeRvF",
        "colab": {
          "base_uri": "https://localhost:8080/"
        },
        "outputId": "c7ed822c-9670-460c-e9bd-25e38510bf16"
      },
      "outputs": [
        {
          "output_type": "execute_result",
          "data": {
            "text/plain": [
              "[4, 4, 6, 2, 1, 1]"
            ]
          },
          "metadata": {},
          "execution_count": 35
        }
      ],
      "source": [
        "g5.degree(mode='all')"
      ]
    },
    {
      "cell_type": "markdown",
      "metadata": {
        "id": "644qTYpqeRvG"
      },
      "source": [
        "Create the directed graph that you want and use the different degree modes to see the differences and share it in the 3_2 discussion board"
      ]
    },
    {
      "cell_type": "code",
      "execution_count": 36,
      "metadata": {
        "id": "yljICO1UeRvH",
        "colab": {
          "base_uri": "https://localhost:8080/",
          "height": 421
        },
        "outputId": "ddcd6293-f79c-44d7-cc73-b6152e813977"
      },
      "outputs": [
        {
          "output_type": "execute_result",
          "data": {
            "text/plain": [
              "<igraph.drawing.cairo.plot.CairoPlot at 0x7fc978ea5400>"
            ],
            "image/svg+xml": "<?xml version=\"1.0\" encoding=\"UTF-8\"?>\n<svg xmlns=\"http://www.w3.org/2000/svg\" xmlns:xlink=\"http://www.w3.org/1999/xlink\" width=\"300pt\" height=\"300pt\" viewBox=\"0 0 300 300\" version=\"1.1\">\n<defs>\n<g>\n<symbol overflow=\"visible\" id=\"glyph0-0\">\n<path style=\"stroke:none;\" d=\"M 0.46875 0 L 0.46875 -9.328125 L 4.1875 -9.328125 L 4.1875 0 Z M 0.9375 -0.46875 L 3.71875 -0.46875 L 3.71875 -8.859375 L 0.9375 -8.859375 Z M 0.9375 -0.46875 \"/>\n</symbol>\n<symbol overflow=\"visible\" id=\"glyph0-1\">\n<path style=\"stroke:none;\" d=\"M 6.734375 -2.875 C 6.734375 -2.414062 6.675781 -2 6.5625 -1.625 C 6.445312 -1.257812 6.273438 -0.941406 6.046875 -0.671875 C 5.816406 -0.410156 5.53125 -0.207031 5.1875 -0.0625 C 4.84375 0.0703125 4.445312 0.140625 4 0.140625 C 3.226562 0.140625 2.609375 -0.0625 2.140625 -0.46875 C 1.671875 -0.875 1.359375 -1.515625 1.203125 -2.390625 L 2.484375 -2.609375 C 2.523438 -2.316406 2.59375 -2.0625 2.6875 -1.84375 C 2.789062 -1.632812 2.90625 -1.460938 3.03125 -1.328125 C 3.164062 -1.191406 3.316406 -1.085938 3.484375 -1.015625 C 3.648438 -0.953125 3.828125 -0.921875 4.015625 -0.921875 C 4.484375 -0.921875 4.835938 -1.082031 5.078125 -1.40625 C 5.316406 -1.738281 5.4375 -2.21875 5.4375 -2.84375 L 5.4375 -8.15625 L 3.3125 -8.15625 L 3.3125 -9.21875 L 6.734375 -9.21875 Z M 6.734375 -2.875 \"/>\n</symbol>\n<symbol overflow=\"visible\" id=\"glyph0-2\">\n<path style=\"stroke:none;\" d=\"M 7.5 -3.703125 C 7.5 -3.054688 7.421875 -2.492188 7.265625 -2.015625 C 7.117188 -1.535156 6.898438 -1.132812 6.609375 -0.8125 C 6.328125 -0.488281 5.976562 -0.25 5.5625 -0.09375 C 5.144531 0.0625 4.675781 0.140625 4.15625 0.140625 C 3.664062 0.140625 3.21875 0.0625 2.8125 -0.09375 C 2.40625 -0.25 2.0625 -0.484375 1.78125 -0.796875 C 1.5 -1.117188 1.28125 -1.519531 1.125 -2 C 0.96875 -2.488281 0.890625 -3.054688 0.890625 -3.703125 C 0.890625 -4.972656 1.175781 -5.925781 1.75 -6.5625 C 2.332031 -7.207031 3.148438 -7.53125 4.203125 -7.53125 C 5.316406 -7.53125 6.144531 -7.210938 6.6875 -6.578125 C 7.226562 -5.953125 7.5 -4.992188 7.5 -3.703125 Z M 6.203125 -3.703125 C 6.203125 -4.273438 6.148438 -4.75 6.046875 -5.125 C 5.953125 -5.5 5.816406 -5.796875 5.640625 -6.015625 C 5.472656 -6.242188 5.265625 -6.398438 5.015625 -6.484375 C 4.773438 -6.578125 4.507812 -6.625 4.21875 -6.625 C 3.925781 -6.625 3.65625 -6.578125 3.40625 -6.484375 C 3.15625 -6.390625 2.9375 -6.226562 2.75 -6 C 2.570312 -5.78125 2.429688 -5.484375 2.328125 -5.109375 C 2.234375 -4.734375 2.1875 -4.265625 2.1875 -3.703125 C 2.1875 -3.128906 2.238281 -2.65625 2.34375 -2.28125 C 2.445312 -1.90625 2.585938 -1.601562 2.765625 -1.375 C 2.953125 -1.15625 3.164062 -1 3.40625 -0.90625 C 3.644531 -0.8125 3.894531 -0.765625 4.15625 -0.765625 C 4.445312 -0.765625 4.71875 -0.8125 4.96875 -0.90625 C 5.226562 -1 5.445312 -1.15625 5.625 -1.375 C 5.8125 -1.59375 5.953125 -1.890625 6.046875 -2.265625 C 6.148438 -2.648438 6.203125 -3.128906 6.203125 -3.703125 Z M 6.203125 -3.703125 \"/>\n</symbol>\n<symbol overflow=\"visible\" id=\"glyph0-3\">\n<path style=\"stroke:none;\" d=\"M 7.140625 -6.28125 C 6.929688 -6.3125 6.707031 -6.335938 6.46875 -6.359375 C 6.238281 -6.390625 5.976562 -6.40625 5.6875 -6.40625 C 5.3125 -6.40625 4.96875 -6.328125 4.65625 -6.171875 C 4.351562 -6.015625 4.097656 -5.800781 3.890625 -5.53125 C 3.679688 -5.269531 3.519531 -4.960938 3.40625 -4.609375 C 3.289062 -4.253906 3.234375 -3.875 3.234375 -3.46875 L 3.234375 0 L 2.015625 0 L 2.015625 -4.796875 C 2.015625 -5.046875 2 -5.300781 1.96875 -5.5625 C 1.9375 -5.832031 1.898438 -6.082031 1.859375 -6.3125 C 1.828125 -6.550781 1.789062 -6.765625 1.75 -6.953125 C 1.71875 -7.140625 1.6875 -7.285156 1.65625 -7.390625 L 2.828125 -7.390625 C 2.859375 -7.285156 2.890625 -7.160156 2.921875 -7.015625 C 2.953125 -6.878906 2.984375 -6.734375 3.015625 -6.578125 C 3.046875 -6.421875 3.070312 -6.265625 3.09375 -6.109375 C 3.125 -5.960938 3.144531 -5.820312 3.15625 -5.6875 L 3.1875 -5.6875 C 3.3125 -5.96875 3.441406 -6.222656 3.578125 -6.453125 C 3.722656 -6.679688 3.890625 -6.875 4.078125 -7.03125 C 4.273438 -7.195312 4.503906 -7.320312 4.765625 -7.40625 C 5.035156 -7.488281 5.359375 -7.53125 5.734375 -7.53125 C 5.992188 -7.53125 6.242188 -7.519531 6.484375 -7.5 C 6.734375 -7.476562 6.953125 -7.453125 7.140625 -7.421875 Z M 7.140625 -6.28125 \"/>\n</symbol>\n<symbol overflow=\"visible\" id=\"glyph0-4\">\n<path style=\"stroke:none;\" d=\"M 4.203125 2.90625 C 3.796875 2.90625 3.4375 2.859375 3.125 2.765625 C 2.8125 2.679688 2.539062 2.554688 2.3125 2.390625 C 2.082031 2.234375 1.898438 2.039062 1.765625 1.8125 C 1.628906 1.59375 1.53125 1.347656 1.46875 1.078125 L 2.734375 0.90625 C 2.804688 1.25 2.96875 1.507812 3.21875 1.6875 C 3.476562 1.875 3.820312 1.96875 4.25 1.96875 C 4.507812 1.96875 4.738281 1.925781 4.9375 1.84375 C 5.144531 1.769531 5.320312 1.644531 5.46875 1.46875 C 5.625 1.300781 5.738281 1.082031 5.8125 0.8125 C 5.894531 0.539062 5.9375 0.207031 5.9375 -0.1875 L 5.9375 -1.515625 L 5.921875 -1.515625 C 5.835938 -1.328125 5.726562 -1.144531 5.59375 -0.96875 C 5.457031 -0.800781 5.296875 -0.648438 5.109375 -0.515625 C 4.921875 -0.390625 4.703125 -0.285156 4.453125 -0.203125 C 4.203125 -0.117188 3.910156 -0.078125 3.578125 -0.078125 C 3.117188 -0.078125 2.722656 -0.148438 2.390625 -0.296875 C 2.066406 -0.453125 1.796875 -0.679688 1.578125 -0.984375 C 1.367188 -1.296875 1.21875 -1.679688 1.125 -2.140625 C 1.03125 -2.597656 0.984375 -3.132812 0.984375 -3.75 C 0.984375 -4.351562 1.03125 -4.882812 1.125 -5.34375 C 1.21875 -5.8125 1.375 -6.203125 1.59375 -6.515625 C 1.8125 -6.835938 2.09375 -7.082031 2.4375 -7.25 C 2.78125 -7.425781 3.207031 -7.515625 3.71875 -7.515625 C 4.226562 -7.515625 4.671875 -7.394531 5.046875 -7.15625 C 5.429688 -6.914062 5.726562 -6.570312 5.9375 -6.125 L 5.953125 -6.125 C 5.953125 -6.238281 5.953125 -6.367188 5.953125 -6.515625 C 5.960938 -6.660156 5.972656 -6.796875 5.984375 -6.921875 C 5.992188 -7.046875 6.003906 -7.148438 6.015625 -7.234375 C 6.023438 -7.328125 6.03125 -7.378906 6.03125 -7.390625 L 7.203125 -7.390625 C 7.203125 -7.347656 7.195312 -7.28125 7.1875 -7.1875 C 7.1875 -7.09375 7.179688 -6.972656 7.171875 -6.828125 C 7.171875 -6.691406 7.171875 -6.539062 7.171875 -6.375 C 7.171875 -6.207031 7.171875 -6.035156 7.171875 -5.859375 L 7.171875 -0.21875 C 7.171875 0.8125 6.925781 1.585938 6.4375 2.109375 C 5.957031 2.640625 5.210938 2.90625 4.203125 2.90625 Z M 5.9375 -3.765625 C 5.9375 -4.285156 5.878906 -4.722656 5.765625 -5.078125 C 5.660156 -5.441406 5.519531 -5.734375 5.34375 -5.953125 C 5.164062 -6.179688 4.957031 -6.34375 4.71875 -6.4375 C 4.488281 -6.539062 4.253906 -6.59375 4.015625 -6.59375 C 3.710938 -6.59375 3.445312 -6.539062 3.21875 -6.4375 C 3 -6.34375 2.816406 -6.179688 2.671875 -5.953125 C 2.523438 -5.722656 2.414062 -5.429688 2.34375 -5.078125 C 2.28125 -4.722656 2.25 -4.285156 2.25 -3.765625 C 2.25 -3.234375 2.28125 -2.789062 2.34375 -2.4375 C 2.414062 -2.082031 2.523438 -1.796875 2.671875 -1.578125 C 2.816406 -1.367188 3 -1.21875 3.21875 -1.125 C 3.4375 -1.03125 3.695312 -0.984375 4 -0.984375 C 4.238281 -0.984375 4.472656 -1.03125 4.703125 -1.125 C 4.941406 -1.226562 5.148438 -1.390625 5.328125 -1.609375 C 5.515625 -1.828125 5.660156 -2.113281 5.765625 -2.46875 C 5.878906 -2.820312 5.9375 -3.253906 5.9375 -3.765625 Z M 5.9375 -3.765625 \"/>\n</symbol>\n<symbol overflow=\"visible\" id=\"glyph0-5\">\n<path style=\"stroke:none;\" d=\"M 2.203125 -3.4375 C 2.203125 -3.050781 2.242188 -2.691406 2.328125 -2.359375 C 2.421875 -2.035156 2.550781 -1.753906 2.71875 -1.515625 C 2.894531 -1.285156 3.109375 -1.101562 3.359375 -0.96875 C 3.617188 -0.84375 3.921875 -0.78125 4.265625 -0.78125 C 4.515625 -0.78125 4.742188 -0.804688 4.953125 -0.859375 C 5.160156 -0.921875 5.347656 -1.003906 5.515625 -1.109375 C 5.691406 -1.210938 5.835938 -1.332031 5.953125 -1.46875 C 6.066406 -1.601562 6.148438 -1.753906 6.203125 -1.921875 L 7.28125 -1.609375 C 7.207031 -1.410156 7.097656 -1.207031 6.953125 -1 C 6.804688 -0.789062 6.613281 -0.601562 6.375 -0.4375 C 6.132812 -0.269531 5.835938 -0.128906 5.484375 -0.015625 C 5.140625 0.0859375 4.734375 0.140625 4.265625 0.140625 C 3.734375 0.140625 3.257812 0.0546875 2.84375 -0.109375 C 2.4375 -0.273438 2.085938 -0.519531 1.796875 -0.84375 C 1.515625 -1.164062 1.296875 -1.566406 1.140625 -2.046875 C 0.984375 -2.535156 0.90625 -3.101562 0.90625 -3.75 C 0.90625 -4.457031 0.992188 -5.050781 1.171875 -5.53125 C 1.359375 -6.019531 1.601562 -6.410156 1.90625 -6.703125 C 2.207031 -7.003906 2.554688 -7.21875 2.953125 -7.34375 C 3.359375 -7.46875 3.78125 -7.53125 4.21875 -7.53125 C 4.8125 -7.53125 5.3125 -7.429688 5.71875 -7.234375 C 6.132812 -7.046875 6.472656 -6.78125 6.734375 -6.4375 C 6.992188 -6.09375 7.179688 -5.679688 7.296875 -5.203125 C 7.421875 -4.722656 7.484375 -4.191406 7.484375 -3.609375 L 7.484375 -3.4375 Z M 4.234375 -6.625 C 4.023438 -6.625 3.804688 -6.585938 3.578125 -6.515625 C 3.347656 -6.453125 3.132812 -6.335938 2.9375 -6.171875 C 2.738281 -6.003906 2.570312 -5.773438 2.4375 -5.484375 C 2.300781 -5.191406 2.226562 -4.820312 2.21875 -4.375 L 6.203125 -4.375 C 6.171875 -4.8125 6.09375 -5.171875 5.96875 -5.453125 C 5.851562 -5.742188 5.707031 -5.972656 5.53125 -6.140625 C 5.351562 -6.316406 5.148438 -6.441406 4.921875 -6.515625 C 4.703125 -6.585938 4.472656 -6.625 4.234375 -6.625 Z M 4.234375 -6.625 \"/>\n</symbol>\n<symbol overflow=\"visible\" id=\"glyph0-6\">\n<path style=\"stroke:none;\" d=\"M 7.6875 -4.703125 C 7.6875 -3.941406 7.59375 -3.265625 7.40625 -2.671875 C 7.226562 -2.085938 6.96875 -1.597656 6.625 -1.203125 C 6.28125 -0.804688 5.851562 -0.503906 5.34375 -0.296875 C 4.84375 -0.0976562 4.273438 0 3.640625 0 L 1.109375 0 L 1.109375 -9.21875 L 3.234375 -9.21875 C 3.953125 -9.21875 4.585938 -9.128906 5.140625 -8.953125 C 5.691406 -8.785156 6.15625 -8.515625 6.53125 -8.140625 C 6.914062 -7.773438 7.203125 -7.304688 7.390625 -6.734375 C 7.585938 -6.160156 7.6875 -5.484375 7.6875 -4.703125 Z M 6.375 -4.703125 C 6.375 -5.316406 6.3125 -5.84375 6.1875 -6.28125 C 6.0625 -6.71875 5.867188 -7.070312 5.609375 -7.34375 C 5.347656 -7.625 5.019531 -7.828125 4.625 -7.953125 C 4.238281 -8.085938 3.773438 -8.15625 3.234375 -8.15625 L 2.40625 -8.15625 L 2.40625 -1.0625 L 3.515625 -1.0625 C 4.484375 -1.0625 5.203125 -1.363281 5.671875 -1.96875 C 6.140625 -2.582031 6.375 -3.492188 6.375 -4.703125 Z M 6.375 -4.703125 \"/>\n</symbol>\n<symbol overflow=\"visible\" id=\"glyph0-7\">\n<path style=\"stroke:none;\" d=\"M 3.625 0 L 3.625 -4.6875 C 3.625 -5.050781 3.609375 -5.351562 3.578125 -5.59375 C 3.554688 -5.832031 3.515625 -6.023438 3.453125 -6.171875 C 3.390625 -6.328125 3.304688 -6.429688 3.203125 -6.484375 C 3.109375 -6.546875 2.988281 -6.578125 2.84375 -6.578125 C 2.695312 -6.578125 2.5625 -6.519531 2.4375 -6.40625 C 2.320312 -6.289062 2.222656 -6.125 2.140625 -5.90625 C 2.054688 -5.695312 1.988281 -5.441406 1.9375 -5.140625 C 1.894531 -4.847656 1.875 -4.519531 1.875 -4.15625 L 1.875 0 L 0.71875 0 L 0.71875 -5.8125 C 0.71875 -5.96875 0.71875 -6.128906 0.71875 -6.296875 C 0.71875 -6.472656 0.710938 -6.632812 0.703125 -6.78125 C 0.703125 -6.9375 0.695312 -7.066406 0.6875 -7.171875 C 0.6875 -7.285156 0.679688 -7.359375 0.671875 -7.390625 L 1.703125 -7.390625 C 1.703125 -7.367188 1.703125 -7.3125 1.703125 -7.21875 C 1.710938 -7.125 1.71875 -7.015625 1.71875 -6.890625 C 1.726562 -6.773438 1.734375 -6.65625 1.734375 -6.53125 C 1.734375 -6.40625 1.734375 -6.296875 1.734375 -6.203125 L 1.75 -6.203125 C 1.8125 -6.378906 1.878906 -6.546875 1.953125 -6.703125 C 2.035156 -6.867188 2.132812 -7.015625 2.25 -7.140625 C 2.375 -7.265625 2.515625 -7.359375 2.671875 -7.421875 C 2.828125 -7.492188 3.015625 -7.53125 3.234375 -7.53125 C 3.628906 -7.53125 3.925781 -7.421875 4.125 -7.203125 C 4.320312 -6.984375 4.460938 -6.644531 4.546875 -6.1875 L 4.5625 -6.1875 C 4.644531 -6.40625 4.734375 -6.597656 4.828125 -6.765625 C 4.929688 -6.929688 5.046875 -7.070312 5.171875 -7.1875 C 5.296875 -7.300781 5.441406 -7.382812 5.609375 -7.4375 C 5.773438 -7.5 5.96875 -7.53125 6.1875 -7.53125 C 6.457031 -7.53125 6.6875 -7.476562 6.875 -7.375 C 7.070312 -7.28125 7.226562 -7.128906 7.34375 -6.921875 C 7.46875 -6.710938 7.554688 -6.441406 7.609375 -6.109375 C 7.660156 -5.785156 7.6875 -5.390625 7.6875 -4.921875 L 7.6875 0 L 6.53125 0 L 6.53125 -4.6875 C 6.53125 -5.050781 6.515625 -5.351562 6.484375 -5.59375 C 6.460938 -5.832031 6.421875 -6.023438 6.359375 -6.171875 C 6.296875 -6.328125 6.210938 -6.429688 6.109375 -6.484375 C 6.015625 -6.546875 5.894531 -6.578125 5.75 -6.578125 C 5.457031 -6.578125 5.222656 -6.382812 5.046875 -6 C 4.867188 -5.625 4.78125 -5.050781 4.78125 -4.28125 L 4.78125 0 Z M 3.625 0 \"/>\n</symbol>\n<symbol overflow=\"visible\" id=\"glyph0-8\">\n<path style=\"stroke:none;\" d=\"M 5.09375 -0.96875 L 7.6875 -0.96875 L 7.6875 0 L 0.984375 0 L 0.984375 -0.96875 L 3.859375 -0.96875 L 3.859375 -6.421875 L 1.6875 -6.421875 L 1.6875 -7.390625 L 5.09375 -7.390625 Z M 3.71875 -8.828125 L 3.71875 -10.140625 L 5.09375 -10.140625 L 5.09375 -8.828125 Z M 3.71875 -8.828125 \"/>\n</symbol>\n<symbol overflow=\"visible\" id=\"glyph0-9\">\n<path style=\"stroke:none;\" d=\"M 2.140625 -4.65625 C 2.140625 -4.0625 2.1875 -3.53125 2.28125 -3.0625 C 2.375 -2.601562 2.515625 -2.210938 2.703125 -1.890625 C 2.898438 -1.578125 3.144531 -1.335938 3.4375 -1.171875 C 3.738281 -1.003906 4.097656 -0.921875 4.515625 -0.921875 C 4.804688 -0.921875 5.066406 -0.972656 5.296875 -1.078125 C 5.523438 -1.191406 5.726562 -1.335938 5.90625 -1.515625 C 6.09375 -1.691406 6.25 -1.894531 6.375 -2.125 C 6.507812 -2.363281 6.625 -2.601562 6.71875 -2.84375 L 7.8125 -2.40625 C 7.675781 -2.082031 7.515625 -1.769531 7.328125 -1.46875 C 7.148438 -1.164062 6.925781 -0.894531 6.65625 -0.65625 C 6.394531 -0.414062 6.085938 -0.222656 5.734375 -0.078125 C 5.378906 0.0664062 4.96875 0.140625 4.5 0.140625 C 3.863281 0.140625 3.3125 0.0234375 2.84375 -0.203125 C 2.375 -0.429688 1.984375 -0.753906 1.671875 -1.171875 C 1.367188 -1.597656 1.140625 -2.101562 0.984375 -2.6875 C 0.835938 -3.28125 0.765625 -3.9375 0.765625 -4.65625 C 0.765625 -5.414062 0.835938 -6.085938 0.984375 -6.671875 C 1.128906 -7.253906 1.351562 -7.742188 1.65625 -8.140625 C 1.957031 -8.546875 2.335938 -8.847656 2.796875 -9.046875 C 3.265625 -9.253906 3.8125 -9.359375 4.4375 -9.359375 C 4.894531 -9.359375 5.296875 -9.296875 5.640625 -9.171875 C 5.992188 -9.046875 6.296875 -8.878906 6.546875 -8.671875 C 6.796875 -8.460938 7.007812 -8.21875 7.1875 -7.9375 C 7.363281 -7.664062 7.507812 -7.378906 7.625 -7.078125 L 6.46875 -6.625 C 6.40625 -6.84375 6.3125 -7.050781 6.1875 -7.25 C 6.070312 -7.445312 5.929688 -7.625 5.765625 -7.78125 C 5.597656 -7.9375 5.40625 -8.0625 5.1875 -8.15625 C 4.96875 -8.25 4.71875 -8.296875 4.4375 -8.296875 C 4.03125 -8.296875 3.679688 -8.21875 3.390625 -8.0625 C 3.109375 -7.90625 2.875 -7.671875 2.6875 -7.359375 C 2.5 -7.054688 2.359375 -6.675781 2.265625 -6.21875 C 2.179688 -5.769531 2.140625 -5.25 2.140625 -4.65625 Z M 2.140625 -4.65625 \"/>\n</symbol>\n<symbol overflow=\"visible\" id=\"glyph0-10\">\n<path style=\"stroke:none;\" d=\"M 1.265625 -10.140625 L 2.5 -10.140625 L 2.5 -7.484375 C 2.5 -7.253906 2.492188 -7.023438 2.484375 -6.796875 C 2.472656 -6.566406 2.457031 -6.34375 2.4375 -6.125 L 2.46875 -6.125 C 2.570312 -6.34375 2.695312 -6.535156 2.84375 -6.703125 C 2.988281 -6.878906 3.15625 -7.023438 3.34375 -7.140625 C 3.53125 -7.265625 3.742188 -7.359375 3.984375 -7.421875 C 4.222656 -7.492188 4.488281 -7.53125 4.78125 -7.53125 C 5.15625 -7.53125 5.488281 -7.476562 5.78125 -7.375 C 6.082031 -7.28125 6.332031 -7.128906 6.53125 -6.921875 C 6.738281 -6.710938 6.894531 -6.441406 7 -6.109375 C 7.113281 -5.785156 7.171875 -5.390625 7.171875 -4.921875 L 7.171875 0 L 5.9375 0 L 5.9375 -4.75 C 5.9375 -5.113281 5.894531 -5.410156 5.8125 -5.640625 C 5.738281 -5.878906 5.632812 -6.066406 5.5 -6.203125 C 5.375 -6.347656 5.21875 -6.445312 5.03125 -6.5 C 4.851562 -6.550781 4.65625 -6.578125 4.4375 -6.578125 C 4.164062 -6.578125 3.910156 -6.523438 3.671875 -6.421875 C 3.441406 -6.328125 3.238281 -6.179688 3.0625 -5.984375 C 2.882812 -5.785156 2.742188 -5.546875 2.640625 -5.265625 C 2.546875 -4.984375 2.5 -4.65625 2.5 -4.28125 L 2.5 0 L 1.265625 0 Z M 1.265625 -10.140625 \"/>\n</symbol>\n<symbol overflow=\"visible\" id=\"glyph0-11\">\n<path style=\"stroke:none;\" d=\"M 7.25 -2.109375 C 7.25 -1.765625 7.179688 -1.453125 7.046875 -1.171875 C 6.910156 -0.898438 6.710938 -0.664062 6.453125 -0.46875 C 6.203125 -0.269531 5.890625 -0.117188 5.515625 -0.015625 C 5.148438 0.0859375 4.726562 0.140625 4.25 0.140625 C 3.820312 0.140625 3.4375 0.109375 3.09375 0.046875 C 2.75 -0.015625 2.445312 -0.113281 2.1875 -0.25 C 1.925781 -0.394531 1.707031 -0.582031 1.53125 -0.8125 C 1.351562 -1.050781 1.222656 -1.347656 1.140625 -1.703125 L 2.234375 -1.90625 C 2.285156 -1.65625 2.367188 -1.457031 2.484375 -1.3125 C 2.609375 -1.164062 2.753906 -1.050781 2.921875 -0.96875 C 3.097656 -0.894531 3.296875 -0.84375 3.515625 -0.8125 C 3.742188 -0.789062 3.988281 -0.78125 4.25 -0.78125 C 4.507812 -0.78125 4.75 -0.796875 4.96875 -0.828125 C 5.195312 -0.867188 5.394531 -0.9375 5.5625 -1.03125 C 5.726562 -1.125 5.859375 -1.242188 5.953125 -1.390625 C 6.046875 -1.546875 6.09375 -1.734375 6.09375 -1.953125 C 6.09375 -2.179688 6.035156 -2.363281 5.921875 -2.5 C 5.804688 -2.632812 5.644531 -2.75 5.4375 -2.84375 C 5.238281 -2.945312 5 -3.03125 4.71875 -3.09375 C 4.445312 -3.164062 4.148438 -3.242188 3.828125 -3.328125 C 3.535156 -3.410156 3.242188 -3.492188 2.953125 -3.578125 C 2.671875 -3.671875 2.414062 -3.789062 2.1875 -3.9375 C 1.96875 -4.082031 1.785156 -4.269531 1.640625 -4.5 C 1.503906 -4.726562 1.4375 -5.019531 1.4375 -5.375 C 1.4375 -6.039062 1.675781 -6.5625 2.15625 -6.9375 C 2.644531 -7.320312 3.347656 -7.515625 4.265625 -7.515625 C 4.617188 -7.515625 4.953125 -7.476562 5.265625 -7.40625 C 5.585938 -7.34375 5.867188 -7.238281 6.109375 -7.09375 C 6.359375 -6.957031 6.566406 -6.773438 6.734375 -6.546875 C 6.898438 -6.316406 7.015625 -6.046875 7.078125 -5.734375 L 5.96875 -5.59375 C 5.9375 -5.800781 5.867188 -5.96875 5.765625 -6.09375 C 5.660156 -6.226562 5.53125 -6.332031 5.375 -6.40625 C 5.21875 -6.476562 5.046875 -6.523438 4.859375 -6.546875 C 4.671875 -6.578125 4.472656 -6.59375 4.265625 -6.59375 C 3.140625 -6.59375 2.578125 -6.25 2.578125 -5.5625 C 2.578125 -5.351562 2.625 -5.179688 2.71875 -5.046875 C 2.820312 -4.921875 2.960938 -4.8125 3.140625 -4.71875 C 3.316406 -4.632812 3.53125 -4.5625 3.78125 -4.5 C 4.03125 -4.445312 4.300781 -4.378906 4.59375 -4.296875 C 4.882812 -4.222656 5.1875 -4.140625 5.5 -4.046875 C 5.8125 -3.953125 6.097656 -3.820312 6.359375 -3.65625 C 6.617188 -3.5 6.832031 -3.296875 7 -3.046875 C 7.164062 -2.804688 7.25 -2.492188 7.25 -2.109375 Z M 7.25 -2.109375 \"/>\n</symbol>\n<symbol overflow=\"visible\" id=\"glyph0-12\">\n<path style=\"stroke:none;\" d=\"M 1.296875 -6.421875 L 1.296875 -7.390625 L 2.46875 -7.390625 L 2.859375 -9.328125 L 3.671875 -9.328125 L 3.671875 -7.390625 L 6.625 -7.390625 L 6.625 -6.421875 L 3.671875 -6.421875 L 3.671875 -1.96875 C 3.671875 -1.601562 3.769531 -1.332031 3.96875 -1.15625 C 4.164062 -0.988281 4.484375 -0.90625 4.921875 -0.90625 C 5.109375 -0.90625 5.296875 -0.910156 5.484375 -0.921875 C 5.679688 -0.941406 5.867188 -0.960938 6.046875 -0.984375 C 6.222656 -1.015625 6.390625 -1.039062 6.546875 -1.0625 C 6.703125 -1.09375 6.835938 -1.117188 6.953125 -1.140625 L 6.953125 -0.203125 C 6.847656 -0.179688 6.71875 -0.148438 6.5625 -0.109375 C 6.40625 -0.078125 6.226562 -0.0390625 6.03125 0 C 5.832031 0.03125 5.613281 0.0546875 5.375 0.078125 C 5.144531 0.0976562 4.90625 0.109375 4.65625 0.109375 C 3.925781 0.109375 3.375 -0.046875 3 -0.359375 C 2.632812 -0.671875 2.453125 -1.164062 2.453125 -1.84375 L 2.453125 -6.421875 Z M 1.296875 -6.421875 \"/>\n</symbol>\n<symbol overflow=\"visible\" id=\"glyph0-13\">\n<path style=\"stroke:none;\" d=\"M 7.53125 -0.765625 C 7.59375 -0.765625 7.65625 -0.765625 7.71875 -0.765625 C 7.789062 -0.773438 7.863281 -0.789062 7.9375 -0.8125 L 7.9375 -0.046875 C 7.78125 -0.00390625 7.625 0.0195312 7.46875 0.03125 C 7.3125 0.0507812 7.148438 0.0625 6.984375 0.0625 C 6.742188 0.0625 6.539062 0.0351562 6.375 -0.015625 C 6.207031 -0.078125 6.070312 -0.171875 5.96875 -0.296875 C 5.863281 -0.429688 5.785156 -0.585938 5.734375 -0.765625 C 5.679688 -0.953125 5.648438 -1.171875 5.640625 -1.421875 L 5.59375 -1.421875 C 5.46875 -1.179688 5.328125 -0.960938 5.171875 -0.765625 C 5.015625 -0.578125 4.832031 -0.414062 4.625 -0.28125 C 4.425781 -0.144531 4.195312 -0.0390625 3.9375 0.03125 C 3.6875 0.101562 3.390625 0.140625 3.046875 0.140625 C 2.328125 0.140625 1.785156 -0.0546875 1.421875 -0.453125 C 1.054688 -0.847656 0.875 -1.382812 0.875 -2.0625 C 0.875 -2.550781 0.960938 -2.953125 1.140625 -3.265625 C 1.328125 -3.578125 1.566406 -3.820312 1.859375 -4 C 2.148438 -4.175781 2.476562 -4.300781 2.84375 -4.375 C 3.21875 -4.445312 3.597656 -4.484375 3.984375 -4.484375 L 5.59375 -4.515625 L 5.59375 -4.921875 C 5.59375 -5.222656 5.5625 -5.476562 5.5 -5.6875 C 5.4375 -5.90625 5.34375 -6.078125 5.21875 -6.203125 C 5.09375 -6.335938 4.929688 -6.4375 4.734375 -6.5 C 4.546875 -6.5625 4.328125 -6.59375 4.078125 -6.59375 C 3.847656 -6.59375 3.640625 -6.578125 3.453125 -6.546875 C 3.265625 -6.515625 3.101562 -6.453125 2.96875 -6.359375 C 2.84375 -6.273438 2.738281 -6.15625 2.65625 -6 C 2.570312 -5.84375 2.515625 -5.648438 2.484375 -5.421875 L 1.203125 -5.53125 C 1.242188 -5.820312 1.328125 -6.085938 1.453125 -6.328125 C 1.578125 -6.578125 1.753906 -6.789062 1.984375 -6.96875 C 2.210938 -7.144531 2.5 -7.28125 2.84375 -7.375 C 3.1875 -7.476562 3.601562 -7.53125 4.09375 -7.53125 C 5.007812 -7.53125 5.695312 -7.316406 6.15625 -6.890625 C 6.613281 -6.460938 6.84375 -5.847656 6.84375 -5.046875 L 6.84375 -1.859375 C 6.84375 -1.492188 6.890625 -1.21875 6.984375 -1.03125 C 7.078125 -0.851562 7.257812 -0.765625 7.53125 -0.765625 Z M 3.359375 -0.796875 C 3.742188 -0.796875 4.070312 -0.867188 4.34375 -1.015625 C 4.625 -1.160156 4.851562 -1.34375 5.03125 -1.5625 C 5.21875 -1.78125 5.359375 -2.019531 5.453125 -2.28125 C 5.546875 -2.550781 5.59375 -2.804688 5.59375 -3.046875 L 5.59375 -3.65625 L 4.296875 -3.625 C 4.046875 -3.613281 3.789062 -3.59375 3.53125 -3.5625 C 3.28125 -3.53125 3.050781 -3.457031 2.84375 -3.34375 C 2.644531 -3.238281 2.484375 -3.082031 2.359375 -2.875 C 2.234375 -2.664062 2.171875 -2.390625 2.171875 -2.046875 C 2.171875 -1.671875 2.269531 -1.367188 2.46875 -1.140625 C 2.675781 -0.910156 2.972656 -0.796875 3.359375 -0.796875 Z M 3.359375 -0.796875 \"/>\n</symbol>\n<symbol overflow=\"visible\" id=\"glyph0-14\">\n<path style=\"stroke:none;\" d=\"M 5.9375 0 L 5.9375 -4.75 C 5.9375 -5.113281 5.894531 -5.410156 5.8125 -5.640625 C 5.738281 -5.878906 5.632812 -6.066406 5.5 -6.203125 C 5.375 -6.347656 5.21875 -6.445312 5.03125 -6.5 C 4.851562 -6.550781 4.65625 -6.578125 4.4375 -6.578125 C 4.164062 -6.578125 3.910156 -6.523438 3.671875 -6.421875 C 3.441406 -6.328125 3.238281 -6.179688 3.0625 -5.984375 C 2.882812 -5.785156 2.742188 -5.546875 2.640625 -5.265625 C 2.546875 -4.984375 2.5 -4.65625 2.5 -4.28125 L 2.5 0 L 1.265625 0 L 1.265625 -5.8125 C 1.265625 -5.96875 1.265625 -6.128906 1.265625 -6.296875 C 1.265625 -6.472656 1.257812 -6.632812 1.25 -6.78125 C 1.25 -6.9375 1.242188 -7.066406 1.234375 -7.171875 C 1.234375 -7.285156 1.226562 -7.359375 1.21875 -7.390625 L 2.390625 -7.390625 C 2.390625 -7.367188 2.390625 -7.304688 2.390625 -7.203125 C 2.398438 -7.109375 2.40625 -6.992188 2.40625 -6.859375 C 2.414062 -6.734375 2.421875 -6.601562 2.421875 -6.46875 C 2.429688 -6.332031 2.4375 -6.21875 2.4375 -6.125 L 2.46875 -6.125 C 2.570312 -6.34375 2.695312 -6.535156 2.84375 -6.703125 C 2.988281 -6.878906 3.160156 -7.023438 3.359375 -7.140625 C 3.554688 -7.265625 3.773438 -7.359375 4.015625 -7.421875 C 4.253906 -7.492188 4.523438 -7.53125 4.828125 -7.53125 C 5.203125 -7.53125 5.535156 -7.476562 5.828125 -7.375 C 6.117188 -7.28125 6.363281 -7.128906 6.5625 -6.921875 C 6.757812 -6.710938 6.910156 -6.441406 7.015625 -6.109375 C 7.117188 -5.785156 7.171875 -5.390625 7.171875 -4.921875 L 7.171875 0 Z M 5.9375 0 \"/>\n</symbol>\n<symbol overflow=\"visible\" id=\"glyph0-15\">\n<path style=\"stroke:none;\" d=\"M 7.65625 -6.453125 C 7.65625 -6.078125 7.585938 -5.710938 7.453125 -5.359375 C 7.316406 -5.003906 7.109375 -4.6875 6.828125 -4.40625 C 6.554688 -4.132812 6.210938 -3.914062 5.796875 -3.75 C 5.378906 -3.59375 4.890625 -3.515625 4.328125 -3.515625 L 2.40625 -3.515625 L 2.40625 0 L 1.109375 0 L 1.109375 -9.21875 L 4.25 -9.21875 C 4.820312 -9.21875 5.316406 -9.148438 5.734375 -9.015625 C 6.160156 -8.890625 6.515625 -8.703125 6.796875 -8.453125 C 7.078125 -8.210938 7.289062 -7.921875 7.4375 -7.578125 C 7.582031 -7.242188 7.65625 -6.867188 7.65625 -6.453125 Z M 6.34375 -6.4375 C 6.34375 -7.007812 6.15625 -7.441406 5.78125 -7.734375 C 5.40625 -8.023438 4.84375 -8.171875 4.09375 -8.171875 L 2.40625 -8.171875 L 2.40625 -4.546875 L 4.15625 -4.546875 C 4.519531 -4.546875 4.835938 -4.59375 5.109375 -4.6875 C 5.390625 -4.789062 5.617188 -4.925781 5.796875 -5.09375 C 5.984375 -5.257812 6.117188 -5.457031 6.203125 -5.6875 C 6.296875 -5.925781 6.34375 -6.175781 6.34375 -6.4375 Z M 6.34375 -6.4375 \"/>\n</symbol>\n<symbol overflow=\"visible\" id=\"glyph0-16\">\n<path style=\"stroke:none;\" d=\"M 5.890625 -1.1875 C 5.671875 -0.707031 5.375 -0.359375 5 -0.140625 C 4.632812 0.0664062 4.175781 0.171875 3.625 0.171875 C 2.707031 0.171875 2.03125 -0.140625 1.59375 -0.765625 C 1.15625 -1.398438 0.9375 -2.359375 0.9375 -3.640625 C 0.9375 -6.210938 1.832031 -7.5 3.625 -7.5 C 4.175781 -7.5 4.632812 -7.398438 5 -7.203125 C 5.375 -7.015625 5.675781 -6.695312 5.90625 -6.25 C 5.90625 -6.269531 5.90625 -6.328125 5.90625 -6.421875 C 5.90625 -6.515625 5.90625 -6.617188 5.90625 -6.734375 C 5.90625 -6.847656 5.90625 -6.957031 5.90625 -7.0625 C 5.90625 -7.164062 5.90625 -7.238281 5.90625 -7.28125 L 5.90625 -10.140625 L 7.125 -10.140625 L 7.125 -1.53125 C 7.125 -1.351562 7.125 -1.179688 7.125 -1.015625 C 7.132812 -0.847656 7.140625 -0.695312 7.140625 -0.5625 C 7.148438 -0.425781 7.15625 -0.304688 7.15625 -0.203125 C 7.164062 -0.109375 7.171875 -0.0390625 7.171875 0 L 6 0 C 5.988281 -0.0195312 5.976562 -0.0703125 5.96875 -0.15625 C 5.96875 -0.238281 5.960938 -0.332031 5.953125 -0.4375 C 5.941406 -0.550781 5.929688 -0.675781 5.921875 -0.8125 C 5.921875 -0.945312 5.921875 -1.070312 5.921875 -1.1875 Z M 2.21875 -3.671875 C 2.21875 -3.160156 2.25 -2.722656 2.3125 -2.359375 C 2.375 -1.992188 2.472656 -1.691406 2.609375 -1.453125 C 2.753906 -1.222656 2.9375 -1.050781 3.15625 -0.9375 C 3.375 -0.820312 3.632812 -0.765625 3.9375 -0.765625 C 4.257812 -0.765625 4.539062 -0.816406 4.78125 -0.921875 C 5.019531 -1.035156 5.222656 -1.210938 5.390625 -1.453125 C 5.554688 -1.691406 5.679688 -2.003906 5.765625 -2.390625 C 5.859375 -2.773438 5.90625 -3.238281 5.90625 -3.78125 C 5.90625 -4.3125 5.859375 -4.753906 5.765625 -5.109375 C 5.679688 -5.472656 5.554688 -5.765625 5.390625 -5.984375 C 5.234375 -6.203125 5.035156 -6.359375 4.796875 -6.453125 C 4.554688 -6.546875 4.273438 -6.59375 3.953125 -6.59375 C 3.660156 -6.59375 3.40625 -6.539062 3.1875 -6.4375 C 2.96875 -6.332031 2.785156 -6.160156 2.640625 -5.921875 C 2.503906 -5.691406 2.398438 -5.390625 2.328125 -5.015625 C 2.253906 -4.648438 2.21875 -4.203125 2.21875 -3.671875 Z M 2.21875 -3.671875 \"/>\n</symbol>\n<symbol overflow=\"visible\" id=\"glyph0-17\">\n<path style=\"stroke:none;\" d=\"M 7.71875 -2.53125 C 7.71875 -2.144531 7.644531 -1.785156 7.5 -1.453125 C 7.351562 -1.128906 7.132812 -0.847656 6.84375 -0.609375 C 6.5625 -0.378906 6.195312 -0.195312 5.75 -0.0625 C 5.3125 0.0703125 4.785156 0.140625 4.171875 0.140625 C 3.109375 0.140625 2.273438 -0.0664062 1.671875 -0.484375 C 1.078125 -0.910156 0.703125 -1.519531 0.546875 -2.3125 L 1.8125 -2.5625 C 1.863281 -2.3125 1.941406 -2.082031 2.046875 -1.875 C 2.160156 -1.675781 2.3125 -1.5 2.5 -1.34375 C 2.695312 -1.195312 2.929688 -1.082031 3.203125 -1 C 3.484375 -0.914062 3.816406 -0.875 4.203125 -0.875 C 4.535156 -0.875 4.835938 -0.90625 5.109375 -0.96875 C 5.378906 -1.03125 5.609375 -1.128906 5.796875 -1.265625 C 5.992188 -1.398438 6.144531 -1.566406 6.25 -1.765625 C 6.363281 -1.972656 6.421875 -2.222656 6.421875 -2.515625 C 6.421875 -2.828125 6.34375 -3.082031 6.1875 -3.28125 C 6.039062 -3.488281 5.847656 -3.65625 5.609375 -3.78125 C 5.367188 -3.90625 5.097656 -4.007812 4.796875 -4.09375 C 4.492188 -4.175781 4.1875 -4.253906 3.875 -4.328125 C 3.644531 -4.390625 3.414062 -4.453125 3.1875 -4.515625 C 2.957031 -4.578125 2.734375 -4.648438 2.515625 -4.734375 C 2.296875 -4.828125 2.09375 -4.9375 1.90625 -5.0625 C 1.726562 -5.1875 1.566406 -5.332031 1.421875 -5.5 C 1.285156 -5.664062 1.175781 -5.863281 1.09375 -6.09375 C 1.019531 -6.332031 0.984375 -6.601562 0.984375 -6.90625 C 0.984375 -7.34375 1.066406 -7.71875 1.234375 -8.03125 C 1.398438 -8.34375 1.625 -8.597656 1.90625 -8.796875 C 2.195312 -8.992188 2.535156 -9.132812 2.921875 -9.21875 C 3.316406 -9.3125 3.742188 -9.359375 4.203125 -9.359375 C 4.734375 -9.359375 5.179688 -9.3125 5.546875 -9.21875 C 5.921875 -9.125 6.238281 -8.984375 6.5 -8.796875 C 6.757812 -8.617188 6.960938 -8.390625 7.109375 -8.109375 C 7.265625 -7.835938 7.390625 -7.519531 7.484375 -7.15625 L 6.203125 -6.921875 C 6.148438 -7.160156 6.070312 -7.367188 5.96875 -7.546875 C 5.875 -7.734375 5.742188 -7.882812 5.578125 -8 C 5.421875 -8.125 5.226562 -8.21875 5 -8.28125 C 4.769531 -8.34375 4.503906 -8.375 4.203125 -8.375 C 3.835938 -8.375 3.53125 -8.335938 3.28125 -8.265625 C 3.03125 -8.191406 2.832031 -8.085938 2.6875 -7.953125 C 2.539062 -7.828125 2.429688 -7.675781 2.359375 -7.5 C 2.296875 -7.320312 2.265625 -7.128906 2.265625 -6.921875 C 2.265625 -6.648438 2.320312 -6.425781 2.4375 -6.25 C 2.5625 -6.082031 2.726562 -5.941406 2.9375 -5.828125 C 3.144531 -5.722656 3.382812 -5.632812 3.65625 -5.5625 C 3.9375 -5.488281 4.234375 -5.410156 4.546875 -5.328125 C 4.796875 -5.265625 5.046875 -5.195312 5.296875 -5.125 C 5.554688 -5.050781 5.800781 -4.96875 6.03125 -4.875 C 6.269531 -4.78125 6.488281 -4.664062 6.6875 -4.53125 C 6.894531 -4.40625 7.070312 -4.25 7.21875 -4.0625 C 7.375 -3.875 7.492188 -3.65625 7.578125 -3.40625 C 7.671875 -3.15625 7.71875 -2.863281 7.71875 -2.53125 Z M 7.71875 -2.53125 \"/>\n</symbol>\n<symbol overflow=\"visible\" id=\"glyph0-18\">\n<path style=\"stroke:none;\" d=\"M 3.96875 -6.421875 L 3.96875 0 L 2.734375 0 L 2.734375 -6.421875 L 0.9375 -6.421875 L 0.9375 -7.390625 L 2.734375 -7.390625 L 2.734375 -7.5625 C 2.734375 -8.03125 2.785156 -8.425781 2.890625 -8.75 C 2.992188 -9.070312 3.15625 -9.335938 3.375 -9.546875 C 3.601562 -9.753906 3.898438 -9.90625 4.265625 -10 C 4.628906 -10.09375 5.070312 -10.140625 5.59375 -10.140625 C 5.726562 -10.140625 5.882812 -10.132812 6.0625 -10.125 C 6.25 -10.125 6.429688 -10.113281 6.609375 -10.09375 C 6.796875 -10.082031 6.96875 -10.066406 7.125 -10.046875 C 7.289062 -10.035156 7.421875 -10.019531 7.515625 -10 L 7.515625 -9.015625 C 7.429688 -9.023438 7.304688 -9.035156 7.140625 -9.046875 C 6.972656 -9.066406 6.800781 -9.082031 6.625 -9.09375 C 6.445312 -9.101562 6.273438 -9.109375 6.109375 -9.109375 C 5.941406 -9.117188 5.816406 -9.125 5.734375 -9.125 C 5.429688 -9.125 5.164062 -9.097656 4.9375 -9.046875 C 4.71875 -9.003906 4.535156 -8.921875 4.390625 -8.796875 C 4.242188 -8.679688 4.132812 -8.515625 4.0625 -8.296875 C 4 -8.085938 3.96875 -7.8125 3.96875 -7.46875 L 3.96875 -7.390625 L 7.328125 -7.390625 L 7.328125 -6.421875 Z M 3.96875 -6.421875 \"/>\n</symbol>\n<symbol overflow=\"visible\" id=\"glyph0-19\">\n<path style=\"stroke:none;\" d=\"M 4.890625 0 L 3.4375 0 L 0.46875 -7.390625 L 1.859375 -7.390625 L 3.6875 -2.578125 C 3.71875 -2.484375 3.753906 -2.363281 3.796875 -2.21875 C 3.835938 -2.070312 3.878906 -1.921875 3.921875 -1.765625 C 3.972656 -1.609375 4.015625 -1.457031 4.046875 -1.3125 C 4.085938 -1.175781 4.125 -1.0625 4.15625 -0.96875 C 4.1875 -1.0625 4.222656 -1.175781 4.265625 -1.3125 C 4.304688 -1.457031 4.347656 -1.601562 4.390625 -1.75 C 4.441406 -1.90625 4.488281 -2.054688 4.53125 -2.203125 C 4.582031 -2.347656 4.625 -2.472656 4.65625 -2.578125 L 6.546875 -7.390625 L 7.921875 -7.390625 Z M 4.890625 0 \"/>\n</symbol>\n<symbol overflow=\"visible\" id=\"glyph1-0\">\n<path style=\"stroke:none;\" d=\"M 0.40625 0 L 0.40625 -8 L 3.59375 -8 L 3.59375 0 Z M 0.796875 -0.40625 L 3.1875 -0.40625 L 3.1875 -7.59375 L 0.796875 -7.59375 Z M 0.796875 -0.40625 \"/>\n</symbol>\n<symbol overflow=\"visible\" id=\"glyph1-1\">\n<path style=\"stroke:none;\" d=\"M 0.921875 0 L 0.921875 -0.84375 L 3.5 -0.84375 L 3.5 -6.828125 C 3.414062 -6.671875 3.28125 -6.523438 3.09375 -6.390625 C 2.90625 -6.253906 2.691406 -6.132812 2.453125 -6.03125 C 2.210938 -5.925781 1.953125 -5.84375 1.671875 -5.78125 C 1.390625 -5.726562 1.125 -5.703125 0.875 -5.703125 L 0.875 -6.5625 C 1.15625 -6.5625 1.4375 -6.59375 1.71875 -6.65625 C 2 -6.726562 2.257812 -6.820312 2.5 -6.9375 C 2.738281 -7.0625 2.953125 -7.203125 3.140625 -7.359375 C 3.328125 -7.523438 3.472656 -7.707031 3.578125 -7.90625 L 4.546875 -7.90625 L 4.546875 -0.84375 L 6.625 -0.84375 L 6.625 0 Z M 0.921875 0 \"/>\n</symbol>\n<symbol overflow=\"visible\" id=\"glyph1-2\">\n<path style=\"stroke:none;\" d=\"M 0.84375 0 L 0.84375 -0.6875 C 1.019531 -1.0625 1.25 -1.410156 1.53125 -1.734375 C 1.8125 -2.054688 2.109375 -2.359375 2.421875 -2.640625 C 2.742188 -2.921875 3.066406 -3.191406 3.390625 -3.453125 C 3.710938 -3.710938 4 -3.96875 4.25 -4.21875 C 4.507812 -4.46875 4.722656 -4.722656 4.890625 -4.984375 C 5.054688 -5.242188 5.140625 -5.519531 5.140625 -5.8125 C 5.140625 -6.039062 5.097656 -6.238281 5.015625 -6.40625 C 4.941406 -6.582031 4.835938 -6.722656 4.703125 -6.828125 C 4.566406 -6.941406 4.398438 -7.023438 4.203125 -7.078125 C 4.015625 -7.128906 3.804688 -7.15625 3.578125 -7.15625 C 3.367188 -7.15625 3.171875 -7.125 2.984375 -7.0625 C 2.804688 -7.007812 2.648438 -6.925781 2.515625 -6.8125 C 2.378906 -6.695312 2.265625 -6.550781 2.171875 -6.375 C 2.085938 -6.195312 2.035156 -5.992188 2.015625 -5.765625 L 0.9375 -5.859375 C 0.96875 -6.160156 1.046875 -6.441406 1.171875 -6.703125 C 1.296875 -6.960938 1.46875 -7.191406 1.6875 -7.390625 C 1.90625 -7.585938 2.171875 -7.742188 2.484375 -7.859375 C 2.796875 -7.972656 3.160156 -8.03125 3.578125 -8.03125 C 3.992188 -8.03125 4.363281 -7.984375 4.6875 -7.890625 C 5.007812 -7.796875 5.285156 -7.65625 5.515625 -7.46875 C 5.742188 -7.289062 5.914062 -7.066406 6.03125 -6.796875 C 6.15625 -6.523438 6.21875 -6.21875 6.21875 -5.875 C 6.21875 -5.507812 6.132812 -5.164062 5.96875 -4.84375 C 5.800781 -4.53125 5.582031 -4.234375 5.3125 -3.953125 C 5.050781 -3.671875 4.757812 -3.398438 4.4375 -3.140625 C 4.125 -2.890625 3.8125 -2.640625 3.5 -2.390625 C 3.195312 -2.140625 2.921875 -1.890625 2.671875 -1.640625 C 2.421875 -1.390625 2.234375 -1.128906 2.109375 -0.859375 L 6.359375 -0.859375 L 6.359375 0 Z M 0.84375 0 \"/>\n</symbol>\n</g>\n</defs>\n<g id=\"surface62\">\n<rect x=\"0\" y=\"0\" width=\"300\" height=\"300\" style=\"fill:rgb(100%,100%,100%);fill-opacity:1;stroke:none;\"/>\n<path style=\"fill:none;stroke-width:1;stroke-linecap:butt;stroke-linejoin:miter;stroke:rgb(26.666667%,26.666667%,26.666667%);stroke-opacity:1;stroke-miterlimit:10;\" d=\"M 172.503906 20 L 182.039062 136.058594 \"/>\n<path style=\" stroke:none;fill-rule:nonzero;fill:rgb(26.666667%,26.666667%,26.666667%);fill-opacity:1;\" d=\"M 183.207031 150.273438 L 177.421875 136.4375 L 186.660156 135.675781 L 183.207031 150.273438 \"/>\n<path style=\"fill:none;stroke-width:1;stroke-linecap:butt;stroke-linejoin:miter;stroke:rgb(26.666667%,26.666667%,26.666667%);stroke-opacity:1;stroke-miterlimit:10;\" d=\"M 172.503906 20 L 263.980469 124.070312 \"/>\n<path style=\" stroke:none;fill-rule:nonzero;fill:rgb(26.666667%,26.666667%,26.666667%);fill-opacity:1;\" d=\"M 273.398438 134.785156 L 260.5 127.128906 L 267.460938 121.007812 L 273.398438 134.785156 \"/>\n<path style=\"fill:none;stroke-width:1;stroke-linecap:butt;stroke-linejoin:miter;stroke:rgb(26.666667%,26.666667%,26.666667%);stroke-opacity:1;stroke-miterlimit:10;\" d=\"M 172.503906 20 L 43.648438 49.613281 \"/>\n<path style=\" stroke:none;fill-rule:nonzero;fill:rgb(26.666667%,26.666667%,26.666667%);fill-opacity:1;\" d=\"M 29.746094 52.808594 L 42.609375 45.09375 L 44.6875 54.128906 L 29.746094 52.808594 \"/>\n<path style=\"fill:none;stroke-width:1;stroke-linecap:butt;stroke-linejoin:miter;stroke:rgb(26.666667%,26.666667%,26.666667%);stroke-opacity:1;stroke-miterlimit:10;\" d=\"M 184.027344 160.242188 C 160.625 154.527344 146.492188 165.269531 130.867188 182.96875 \"/>\n<path style=\" stroke:none;fill-rule:nonzero;fill:rgb(26.666667%,26.666667%,26.666667%);fill-opacity:1;\" d=\"M 121.425781 193.660156 L 127.390625 179.898438 L 134.34375 186.035156 L 121.425781 193.660156 \"/>\n<path style=\"fill:none;stroke-width:1;stroke-linecap:butt;stroke-linejoin:miter;stroke:rgb(26.666667%,26.666667%,26.666667%);stroke-opacity:1;stroke-miterlimit:10;\" d=\"M 20 55.046875 L 101.832031 180.515625 \"/>\n<path style=\" stroke:none;fill-rule:nonzero;fill:rgb(26.666667%,26.666667%,26.666667%);fill-opacity:1;\" d=\"M 109.625 192.464844 L 97.949219 183.046875 L 105.714844 177.984375 L 109.625 192.464844 \"/>\n<path style=\"fill:none;stroke-width:1;stroke-linecap:butt;stroke-linejoin:miter;stroke:rgb(26.666667%,26.666667%,26.666667%);stroke-opacity:1;stroke-miterlimit:10;\" d=\"M 115.085938 200.839844 C 140.042969 210.433594 169.320312 207.316406 176.816406 183.324219 \"/>\n<path style=\" stroke:none;fill-rule:nonzero;fill:rgb(26.666667%,26.666667%,26.666667%);fill-opacity:1;\" d=\"M 181.070312 169.707031 L 181.238281 184.707031 L 172.390625 181.941406 L 181.070312 169.707031 \"/>\n<path style=\"fill:none;stroke-width:1;stroke-linecap:butt;stroke-linejoin:miter;stroke:rgb(26.666667%,26.666667%,26.666667%);stroke-opacity:1;stroke-miterlimit:10;\" d=\"M 115.085938 200.839844 L 257.132812 150.414062 \"/>\n<path style=\" stroke:none;fill-rule:nonzero;fill:rgb(26.666667%,26.666667%,26.666667%);fill-opacity:1;\" d=\"M 270.578125 145.640625 L 258.683594 154.78125 L 255.582031 146.042969 L 270.578125 145.640625 \"/>\n<path style=\"fill:none;stroke-width:1;stroke-linecap:butt;stroke-linejoin:miter;stroke:rgb(26.666667%,26.666667%,26.666667%);stroke-opacity:1;stroke-miterlimit:10;\" d=\"M 242.292969 280 L 194.644531 182.0625 \"/>\n<path style=\" stroke:none;fill-rule:nonzero;fill:rgb(26.666667%,26.666667%,26.666667%);fill-opacity:1;\" d=\"M 188.402344 169.234375 L 198.8125 180.035156 L 190.476562 184.089844 L 188.402344 169.234375 \"/>\n<path style=\"fill:none;stroke-width:1;stroke-linecap:butt;stroke-linejoin:miter;stroke:rgb(26.666667%,26.666667%,26.666667%);stroke-opacity:1;stroke-miterlimit:10;\" d=\"M 242.292969 280 L 273.589844 165.699219 \"/>\n<path style=\" stroke:none;fill-rule:nonzero;fill:rgb(26.666667%,26.666667%,26.666667%);fill-opacity:1;\" d=\"M 277.359375 151.941406 L 278.0625 166.921875 L 269.121094 164.476562 L 277.359375 151.941406 \"/>\n<path style=\"fill:none;stroke-width:1;stroke-linecap:butt;stroke-linejoin:miter;stroke:rgb(26.666667%,26.666667%,26.666667%);stroke-opacity:1;stroke-miterlimit:10;\" d=\"M 242.292969 280 L 135.691406 213.660156 \"/>\n<path style=\" stroke:none;fill-rule:nonzero;fill:rgb(26.666667%,26.666667%,26.666667%);fill-opacity:1;\" d=\"M 123.578125 206.125 L 138.136719 209.726562 L 133.242188 217.597656 L 123.578125 206.125 \"/>\n<path style=\"fill-rule:nonzero;fill:rgb(100%,0%,0%);fill-opacity:1;stroke-width:1;stroke-linecap:butt;stroke-linejoin:miter;stroke:rgb(0%,0%,0%);stroke-opacity:1;stroke-miterlimit:10;\" d=\"M 182.503906 20 C 182.503906 25.523438 178.027344 30 172.503906 30 C 166.980469 30 162.503906 25.523438 162.503906 20 C 162.503906 14.476562 166.980469 10 172.503906 10 C 178.027344 10 182.503906 14.476562 182.503906 20 \"/>\n<path style=\"fill-rule:nonzero;fill:rgb(100%,0%,0%);fill-opacity:1;stroke-width:1;stroke-linecap:butt;stroke-linejoin:miter;stroke:rgb(0%,0%,0%);stroke-opacity:1;stroke-miterlimit:10;\" d=\"M 194.027344 160.242188 C 194.027344 165.765625 189.550781 170.242188 184.027344 170.242188 C 178.503906 170.242188 174.027344 165.765625 174.027344 160.242188 C 174.027344 154.71875 178.503906 150.242188 184.027344 150.242188 C 189.550781 150.242188 194.027344 154.71875 194.027344 160.242188 \"/>\n<path style=\"fill-rule:nonzero;fill:rgb(100%,0%,0%);fill-opacity:1;stroke-width:1;stroke-linecap:butt;stroke-linejoin:miter;stroke:rgb(0%,0%,0%);stroke-opacity:1;stroke-miterlimit:10;\" d=\"M 290 142.292969 C 290 147.816406 285.523438 152.292969 280 152.292969 C 274.476562 152.292969 270 147.816406 270 142.292969 C 270 136.773438 274.476562 132.292969 280 132.292969 C 285.523438 132.292969 290 136.773438 290 142.292969 \"/>\n<path style=\"fill-rule:nonzero;fill:rgb(100%,0%,0%);fill-opacity:1;stroke-width:1;stroke-linecap:butt;stroke-linejoin:miter;stroke:rgb(0%,0%,0%);stroke-opacity:1;stroke-miterlimit:10;\" d=\"M 30 55.046875 C 30 60.570312 25.523438 65.046875 20 65.046875 C 14.476562 65.046875 10 60.570312 10 55.046875 C 10 49.523438 14.476562 45.046875 20 45.046875 C 25.523438 45.046875 30 49.523438 30 55.046875 \"/>\n<path style=\"fill-rule:nonzero;fill:rgb(100%,0%,0%);fill-opacity:1;stroke-width:1;stroke-linecap:butt;stroke-linejoin:miter;stroke:rgb(0%,0%,0%);stroke-opacity:1;stroke-miterlimit:10;\" d=\"M 125.085938 200.839844 C 125.085938 206.363281 120.609375 210.839844 115.085938 210.839844 C 109.5625 210.839844 105.085938 206.363281 105.085938 200.839844 C 105.085938 195.320312 109.5625 190.839844 115.085938 190.839844 C 120.609375 190.839844 125.085938 195.320312 125.085938 200.839844 \"/>\n<path style=\"fill-rule:nonzero;fill:rgb(100%,0%,0%);fill-opacity:1;stroke-width:1;stroke-linecap:butt;stroke-linejoin:miter;stroke:rgb(0%,0%,0%);stroke-opacity:1;stroke-miterlimit:10;\" d=\"M 252.292969 280 C 252.292969 285.523438 247.816406 290 242.292969 290 C 236.773438 290 232.292969 285.523438 232.292969 280 C 232.292969 274.476562 236.773438 270 242.292969 270 C 247.816406 270 252.292969 274.476562 252.292969 280 \"/>\n<g style=\"fill:rgb(0%,0%,0%);fill-opacity:1;\">\n  <use xlink:href=\"#glyph0-1\" x=\"151.359375\" y=\"26.710938\"/>\n  <use xlink:href=\"#glyph0-2\" x=\"159.760742\" y=\"26.710938\"/>\n  <use xlink:href=\"#glyph0-3\" x=\"168.162109\" y=\"26.710938\"/>\n  <use xlink:href=\"#glyph0-4\" x=\"176.563477\" y=\"26.710938\"/>\n  <use xlink:href=\"#glyph0-5\" x=\"184.964844\" y=\"26.710938\"/>\n</g>\n<g style=\"fill:rgb(0%,0%,0%);fill-opacity:1;\">\n  <use xlink:href=\"#glyph0-6\" x=\"167.027344\" y=\"167.414062\"/>\n  <use xlink:href=\"#glyph0-2\" x=\"175.428711\" y=\"167.414062\"/>\n  <use xlink:href=\"#glyph0-7\" x=\"183.830078\" y=\"167.414062\"/>\n  <use xlink:href=\"#glyph0-8\" x=\"192.231445\" y=\"167.414062\"/>\n</g>\n<g style=\"fill:rgb(0%,0%,0%);fill-opacity:1;\">\n  <use xlink:href=\"#glyph0-9\" x=\"242.421875\" y=\"149.46875\"/>\n  <use xlink:href=\"#glyph0-10\" x=\"250.823242\" y=\"149.46875\"/>\n  <use xlink:href=\"#glyph0-3\" x=\"259.224609\" y=\"149.46875\"/>\n  <use xlink:href=\"#glyph0-8\" x=\"267.625977\" y=\"149.46875\"/>\n  <use xlink:href=\"#glyph0-11\" x=\"276.027344\" y=\"149.46875\"/>\n  <use xlink:href=\"#glyph0-12\" x=\"284.428711\" y=\"149.46875\"/>\n  <use xlink:href=\"#glyph0-8\" x=\"292.830078\" y=\"149.46875\"/>\n  <use xlink:href=\"#glyph0-13\" x=\"301.231445\" y=\"149.46875\"/>\n  <use xlink:href=\"#glyph0-14\" x=\"309.632812\" y=\"149.46875\"/>\n</g>\n<g style=\"fill:rgb(0%,0%,0%);fill-opacity:1;\">\n  <use xlink:href=\"#glyph0-15\" x=\"-1.105469\" y=\"62.222656\"/>\n  <use xlink:href=\"#glyph0-5\" x=\"7.295898\" y=\"62.222656\"/>\n  <use xlink:href=\"#glyph0-16\" x=\"15.697266\" y=\"62.222656\"/>\n  <use xlink:href=\"#glyph0-3\" x=\"24.098633\" y=\"62.222656\"/>\n  <use xlink:href=\"#glyph0-2\" x=\"32.5\" y=\"62.222656\"/>\n</g>\n<g style=\"fill:rgb(0%,0%,0%);fill-opacity:1;\">\n  <use xlink:href=\"#glyph0-17\" x=\"89.96875\" y=\"208.015625\"/>\n  <use xlink:href=\"#glyph0-12\" x=\"98.370117\" y=\"208.015625\"/>\n  <use xlink:href=\"#glyph0-5\" x=\"106.771484\" y=\"208.015625\"/>\n  <use xlink:href=\"#glyph0-18\" x=\"115.172852\" y=\"208.015625\"/>\n  <use xlink:href=\"#glyph0-18\" x=\"123.574219\" y=\"208.015625\"/>\n  <use xlink:href=\"#glyph0-8\" x=\"131.975586\" y=\"208.015625\"/>\n</g>\n<g style=\"fill:rgb(0%,0%,0%);fill-opacity:1;\">\n  <use xlink:href=\"#glyph0-1\" x=\"217.117188\" y=\"287.175781\"/>\n  <use xlink:href=\"#glyph0-13\" x=\"225.518555\" y=\"287.175781\"/>\n  <use xlink:href=\"#glyph0-19\" x=\"233.919922\" y=\"287.175781\"/>\n  <use xlink:href=\"#glyph0-8\" x=\"242.321289\" y=\"287.175781\"/>\n  <use xlink:href=\"#glyph0-5\" x=\"250.722656\" y=\"287.175781\"/>\n  <use xlink:href=\"#glyph0-3\" x=\"259.124023\" y=\"287.175781\"/>\n</g>\n<g style=\"fill:rgb(0%,0%,0%);fill-opacity:1;\">\n  <use xlink:href=\"#glyph1-1\" x=\"177.398438\" y=\"99.761719\"/>\n</g>\n<g style=\"fill:rgb(0%,0%,0%);fill-opacity:1;\">\n  <use xlink:href=\"#glyph1-2\" x=\"225.410156\" y=\"90.726562\"/>\n</g>\n<g style=\"fill:rgb(0%,0%,0%);fill-opacity:1;\">\n  <use xlink:href=\"#glyph1-1\" x=\"95.386719\" y=\"51.117188\"/>\n</g>\n<g style=\"fill:rgb(0%,0%,0%);fill-opacity:1;\">\n  <use xlink:href=\"#glyph1-2\" x=\"141.101562\" y=\"181.207031\"/>\n</g>\n<g style=\"fill:rgb(0%,0%,0%);fill-opacity:1;\">\n  <use xlink:href=\"#glyph1-1\" x=\"66.675781\" y=\"137.585938\"/>\n</g>\n<g style=\"fill:rgb(0%,0%,0%);fill-opacity:1;\">\n  <use xlink:href=\"#glyph1-2\" x=\"150.816406\" y=\"195.019531\"/>\n</g>\n<g style=\"fill:rgb(0%,0%,0%);fill-opacity:1;\">\n  <use xlink:href=\"#glyph1-1\" x=\"190.921875\" y=\"173.304688\"/>\n</g>\n<g style=\"fill:rgb(0%,0%,0%);fill-opacity:1;\">\n  <use xlink:href=\"#glyph1-2\" x=\"206.808594\" y=\"229.699219\"/>\n</g>\n<g style=\"fill:rgb(0%,0%,0%);fill-opacity:1;\">\n  <use xlink:href=\"#glyph1-1\" x=\"254.527344\" y=\"220.789062\"/>\n</g>\n<g style=\"fill:rgb(0%,0%,0%);fill-opacity:1;\">\n  <use xlink:href=\"#glyph1-2\" x=\"172.339844\" y=\"254.015625\"/>\n</g>\n</g>\n</svg>\n"
          },
          "metadata": {
            "image/svg+xml": {
              "isolated": true
            }
          },
          "execution_count": 36
        }
      ],
      "source": [
        "#Insert your code here, plot the results and share it in session 3_2\n",
        "# Create a new graph with the formula, plot it and comment the type of the graph, number of nodes, edges...\n",
        "g4 = Graph.Formula(' Jorge->Domi, Jorge->Christian, Jorge->Pedro, Steffi<->Domi,Javier->Domi,Javier->Steffi,Pedro->Steffi,Javier->Christian,Javier->Domi,Steffi->Christian')\n",
        "weights = [1,2,1,2,1,2,1,2,1,2,1,2,1]\n",
        "g4.es['weigh'] = weights \n",
        "g4.es['label'] = weights \n",
        "plot(g4,bbox=(300, 300),vertex_label=g4.vs['name'])"
      ]
    },
    {
      "cell_type": "markdown",
      "source": [],
      "metadata": {
        "id": "h_LyDgoImkF-"
      }
    },
    {
      "cell_type": "code",
      "source": [
        "print(g4)"
      ],
      "metadata": {
        "colab": {
          "base_uri": "https://localhost:8080/"
        },
        "id": "_wmgHHGtn4ii",
        "outputId": "c3af14c2-dfd4-4abb-b73f-c530d2c8d358"
      },
      "execution_count": 37,
      "outputs": [
        {
          "output_type": "stream",
          "name": "stdout",
          "text": [
            "IGRAPH DN-- 6 10 --\n",
            "+ attr: name (v), label (e), weigh (e)\n",
            "+ edges (vertex names):\n",
            "Jorge->Domi, Jorge->Christian, Jorge->Pedro, Domi->Steffi, Pedro->Steffi,\n",
            "Steffi->Domi, Steffi->Christian, Javier->Domi, Javier->Christian,\n",
            "Javier->Steffi\n"
          ]
        }
      ]
    },
    {
      "cell_type": "code",
      "source": [
        "g4.get_vertex_dataframe()"
      ],
      "metadata": {
        "colab": {
          "base_uri": "https://localhost:8080/",
          "height": 269
        },
        "id": "_7uQuCryoH8Y",
        "outputId": "4e64aed1-58b4-4772-9835-4e8fe59a5924"
      },
      "execution_count": 38,
      "outputs": [
        {
          "output_type": "execute_result",
          "data": {
            "text/plain": [
              "                name\n",
              "vertex ID           \n",
              "0              Jorge\n",
              "1               Domi\n",
              "2          Christian\n",
              "3              Pedro\n",
              "4             Steffi\n",
              "5             Javier"
            ],
            "text/html": [
              "\n",
              "  <div id=\"df-bca3236f-c946-4f06-82cf-7b81241d7f95\">\n",
              "    <div class=\"colab-df-container\">\n",
              "      <div>\n",
              "<style scoped>\n",
              "    .dataframe tbody tr th:only-of-type {\n",
              "        vertical-align: middle;\n",
              "    }\n",
              "\n",
              "    .dataframe tbody tr th {\n",
              "        vertical-align: top;\n",
              "    }\n",
              "\n",
              "    .dataframe thead th {\n",
              "        text-align: right;\n",
              "    }\n",
              "</style>\n",
              "<table border=\"1\" class=\"dataframe\">\n",
              "  <thead>\n",
              "    <tr style=\"text-align: right;\">\n",
              "      <th></th>\n",
              "      <th>name</th>\n",
              "    </tr>\n",
              "    <tr>\n",
              "      <th>vertex ID</th>\n",
              "      <th></th>\n",
              "    </tr>\n",
              "  </thead>\n",
              "  <tbody>\n",
              "    <tr>\n",
              "      <th>0</th>\n",
              "      <td>Jorge</td>\n",
              "    </tr>\n",
              "    <tr>\n",
              "      <th>1</th>\n",
              "      <td>Domi</td>\n",
              "    </tr>\n",
              "    <tr>\n",
              "      <th>2</th>\n",
              "      <td>Christian</td>\n",
              "    </tr>\n",
              "    <tr>\n",
              "      <th>3</th>\n",
              "      <td>Pedro</td>\n",
              "    </tr>\n",
              "    <tr>\n",
              "      <th>4</th>\n",
              "      <td>Steffi</td>\n",
              "    </tr>\n",
              "    <tr>\n",
              "      <th>5</th>\n",
              "      <td>Javier</td>\n",
              "    </tr>\n",
              "  </tbody>\n",
              "</table>\n",
              "</div>\n",
              "      <button class=\"colab-df-convert\" onclick=\"convertToInteractive('df-bca3236f-c946-4f06-82cf-7b81241d7f95')\"\n",
              "              title=\"Convert this dataframe to an interactive table.\"\n",
              "              style=\"display:none;\">\n",
              "        \n",
              "  <svg xmlns=\"http://www.w3.org/2000/svg\" height=\"24px\"viewBox=\"0 0 24 24\"\n",
              "       width=\"24px\">\n",
              "    <path d=\"M0 0h24v24H0V0z\" fill=\"none\"/>\n",
              "    <path d=\"M18.56 5.44l.94 2.06.94-2.06 2.06-.94-2.06-.94-.94-2.06-.94 2.06-2.06.94zm-11 1L8.5 8.5l.94-2.06 2.06-.94-2.06-.94L8.5 2.5l-.94 2.06-2.06.94zm10 10l.94 2.06.94-2.06 2.06-.94-2.06-.94-.94-2.06-.94 2.06-2.06.94z\"/><path d=\"M17.41 7.96l-1.37-1.37c-.4-.4-.92-.59-1.43-.59-.52 0-1.04.2-1.43.59L10.3 9.45l-7.72 7.72c-.78.78-.78 2.05 0 2.83L4 21.41c.39.39.9.59 1.41.59.51 0 1.02-.2 1.41-.59l7.78-7.78 2.81-2.81c.8-.78.8-2.07 0-2.86zM5.41 20L4 18.59l7.72-7.72 1.47 1.35L5.41 20z\"/>\n",
              "  </svg>\n",
              "      </button>\n",
              "      \n",
              "  <style>\n",
              "    .colab-df-container {\n",
              "      display:flex;\n",
              "      flex-wrap:wrap;\n",
              "      gap: 12px;\n",
              "    }\n",
              "\n",
              "    .colab-df-convert {\n",
              "      background-color: #E8F0FE;\n",
              "      border: none;\n",
              "      border-radius: 50%;\n",
              "      cursor: pointer;\n",
              "      display: none;\n",
              "      fill: #1967D2;\n",
              "      height: 32px;\n",
              "      padding: 0 0 0 0;\n",
              "      width: 32px;\n",
              "    }\n",
              "\n",
              "    .colab-df-convert:hover {\n",
              "      background-color: #E2EBFA;\n",
              "      box-shadow: 0px 1px 2px rgba(60, 64, 67, 0.3), 0px 1px 3px 1px rgba(60, 64, 67, 0.15);\n",
              "      fill: #174EA6;\n",
              "    }\n",
              "\n",
              "    [theme=dark] .colab-df-convert {\n",
              "      background-color: #3B4455;\n",
              "      fill: #D2E3FC;\n",
              "    }\n",
              "\n",
              "    [theme=dark] .colab-df-convert:hover {\n",
              "      background-color: #434B5C;\n",
              "      box-shadow: 0px 1px 3px 1px rgba(0, 0, 0, 0.15);\n",
              "      filter: drop-shadow(0px 1px 2px rgba(0, 0, 0, 0.3));\n",
              "      fill: #FFFFFF;\n",
              "    }\n",
              "  </style>\n",
              "\n",
              "      <script>\n",
              "        const buttonEl =\n",
              "          document.querySelector('#df-bca3236f-c946-4f06-82cf-7b81241d7f95 button.colab-df-convert');\n",
              "        buttonEl.style.display =\n",
              "          google.colab.kernel.accessAllowed ? 'block' : 'none';\n",
              "\n",
              "        async function convertToInteractive(key) {\n",
              "          const element = document.querySelector('#df-bca3236f-c946-4f06-82cf-7b81241d7f95');\n",
              "          const dataTable =\n",
              "            await google.colab.kernel.invokeFunction('convertToInteractive',\n",
              "                                                     [key], {});\n",
              "          if (!dataTable) return;\n",
              "\n",
              "          const docLinkHtml = 'Like what you see? Visit the ' +\n",
              "            '<a target=\"_blank\" href=https://colab.research.google.com/notebooks/data_table.ipynb>data table notebook</a>'\n",
              "            + ' to learn more about interactive tables.';\n",
              "          element.innerHTML = '';\n",
              "          dataTable['output_type'] = 'display_data';\n",
              "          await google.colab.output.renderOutput(dataTable, element);\n",
              "          const docLink = document.createElement('div');\n",
              "          docLink.innerHTML = docLinkHtml;\n",
              "          element.appendChild(docLink);\n",
              "        }\n",
              "      </script>\n",
              "    </div>\n",
              "  </div>\n",
              "  "
            ]
          },
          "metadata": {},
          "execution_count": 38
        }
      ]
    },
    {
      "cell_type": "code",
      "execution_count": 39,
      "metadata": {
        "id": "4VDq8sY7eRvI",
        "colab": {
          "base_uri": "https://localhost:8080/"
        },
        "outputId": "99de7fe4-36a9-42f4-aeaa-231c75ec973e"
      },
      "outputs": [
        {
          "output_type": "execute_result",
          "data": {
            "text/plain": [
              "[3, 4, 3, 2, 5, 3]"
            ]
          },
          "metadata": {},
          "execution_count": 39
        }
      ],
      "source": [
        "#Insert your code here\n",
        "g4.degree(mode='all')"
      ]
    },
    {
      "cell_type": "code",
      "source": [
        "g4.degree(mode='in')"
      ],
      "metadata": {
        "colab": {
          "base_uri": "https://localhost:8080/"
        },
        "id": "3n_MDcZ1niQA",
        "outputId": "22c87b5d-f79c-46b1-df0f-2fbfd68e593e"
      },
      "execution_count": 40,
      "outputs": [
        {
          "output_type": "execute_result",
          "data": {
            "text/plain": [
              "[0, 3, 3, 1, 3, 0]"
            ]
          },
          "metadata": {},
          "execution_count": 40
        }
      ]
    },
    {
      "cell_type": "code",
      "source": [
        "g4.degree(mode='out')"
      ],
      "metadata": {
        "colab": {
          "base_uri": "https://localhost:8080/"
        },
        "id": "H4rqGIuMnlAt",
        "outputId": "87b8e179-4e84-4285-90d3-c754abed017e"
      },
      "execution_count": 41,
      "outputs": [
        {
          "output_type": "execute_result",
          "data": {
            "text/plain": [
              "[3, 1, 0, 1, 2, 3]"
            ]
          },
          "metadata": {},
          "execution_count": 41
        }
      ]
    },
    {
      "cell_type": "markdown",
      "metadata": {
        "id": "VSVJ3mdQeRvI"
      },
      "source": [
        "Degree distribution can be seen through a histogram of the frequency of the node degrees. Calculate the histogram of the degrees for your graph and share it in discussion board 3_3"
      ]
    },
    {
      "cell_type": "code",
      "source": [
        "pip install matplotlib"
      ],
      "metadata": {
        "colab": {
          "base_uri": "https://localhost:8080/"
        },
        "id": "zrCV_7h6qpDJ",
        "outputId": "db16233a-8f22-417a-a57c-11a004f10f1b"
      },
      "execution_count": 42,
      "outputs": [
        {
          "output_type": "stream",
          "name": "stdout",
          "text": [
            "Looking in indexes: https://pypi.org/simple, https://us-python.pkg.dev/colab-wheels/public/simple/\n",
            "Requirement already satisfied: matplotlib in /usr/local/lib/python3.9/dist-packages (3.7.1)\n",
            "Requirement already satisfied: fonttools>=4.22.0 in /usr/local/lib/python3.9/dist-packages (from matplotlib) (4.39.2)\n",
            "Requirement already satisfied: importlib-resources>=3.2.0 in /usr/local/lib/python3.9/dist-packages (from matplotlib) (5.12.0)\n",
            "Requirement already satisfied: kiwisolver>=1.0.1 in /usr/local/lib/python3.9/dist-packages (from matplotlib) (1.4.4)\n",
            "Requirement already satisfied: numpy>=1.20 in /usr/local/lib/python3.9/dist-packages (from matplotlib) (1.22.4)\n",
            "Requirement already satisfied: python-dateutil>=2.7 in /usr/local/lib/python3.9/dist-packages (from matplotlib) (2.8.2)\n",
            "Requirement already satisfied: contourpy>=1.0.1 in /usr/local/lib/python3.9/dist-packages (from matplotlib) (1.0.7)\n",
            "Requirement already satisfied: pillow>=6.2.0 in /usr/local/lib/python3.9/dist-packages (from matplotlib) (8.4.0)\n",
            "Requirement already satisfied: cycler>=0.10 in /usr/local/lib/python3.9/dist-packages (from matplotlib) (0.11.0)\n",
            "Requirement already satisfied: packaging>=20.0 in /usr/local/lib/python3.9/dist-packages (from matplotlib) (23.0)\n",
            "Requirement already satisfied: pyparsing>=2.3.1 in /usr/local/lib/python3.9/dist-packages (from matplotlib) (3.0.9)\n",
            "Requirement already satisfied: zipp>=3.1.0 in /usr/local/lib/python3.9/dist-packages (from importlib-resources>=3.2.0->matplotlib) (3.15.0)\n",
            "Requirement already satisfied: six>=1.5 in /usr/local/lib/python3.9/dist-packages (from python-dateutil>=2.7->matplotlib) (1.16.0)\n"
          ]
        }
      ]
    },
    {
      "cell_type": "code",
      "source": [
        "import matplotlib.pyplot as plt\n",
        "import numpy as np \n",
        "#plt.figure(figsize(8,6))\n",
        "degree4 = g4.degree(mode='all')\n",
        "plt.hist(degree4, range =(min(degree4), max(degree4)),align = \"right\")\n",
        "plt.xlabel(\"Degree\")\n",
        "plt.ylabel(\"Number of edges\")\n",
        "plt.show()"
      ],
      "metadata": {
        "colab": {
          "base_uri": "https://localhost:8080/",
          "height": 279
        },
        "id": "Wflp-zvkpuO6",
        "outputId": "1e091e72-89cc-4f15-ba33-df7823d8ed5a"
      },
      "execution_count": 43,
      "outputs": [
        {
          "output_type": "display_data",
          "data": {
            "text/plain": [
              "<Figure size 432x288 with 1 Axes>"
            ],
            "image/png": "[encoded data removed]"
          },
          "metadata": {
            "needs_background": "light"
          }
        }
      ]
    },
    {
      "cell_type": "code",
      "source": [
        "fig = plt.figure(\"Degree of a random graph\", figsize=(8, 8))\n",
        "ax1 = fig.add_subplot(axgrid[3:, :2])\n",
        "ax1.plot(degree_sequence, \"b-\", marker=\"o\")\n",
        "ax1.set_title(\"Degree Rank Plot\")\n",
        "ax1.set_ylabel(\"Degree\")\n",
        "ax1.set_xlabel(\"Rank\")\n",
        "\n",
        "ax2 = fig.add_subplot(axgrid[3:, 2:])\n",
        "ax2.bar(*np.unique(degree_sequence, return_counts=True))\n",
        "ax2.set_title(\"Degree histogram\")\n",
        "ax2.set_xlabel(\"Degree\")\n",
        "ax2.set_ylabel(\"# of Nodes\")"
      ],
      "metadata": {
        "colab": {
          "base_uri": "https://localhost:8080/",
          "height": 253
        },
        "id": "UDPJNU8QtaN5",
        "outputId": "00c1a95b-d181-4db7-a523-ca9ccf4fa0e9"
      },
      "execution_count": 44,
      "outputs": [
        {
          "output_type": "error",
          "ename": "NameError",
          "evalue": "ignored",
          "traceback": [
            "\u001b[0;31m---------------------------------------------------------------------------\u001b[0m",
            "\u001b[0;31mNameError\u001b[0m                                 Traceback (most recent call last)",
            "\u001b[0;32m<ipython-input-44-435c2c1a816c>\u001b[0m in \u001b[0;36m<module>\u001b[0;34m\u001b[0m\n\u001b[1;32m      1\u001b[0m \u001b[0mfig\u001b[0m \u001b[0;34m=\u001b[0m \u001b[0mplt\u001b[0m\u001b[0;34m.\u001b[0m\u001b[0mfigure\u001b[0m\u001b[0;34m(\u001b[0m\u001b[0;34m\"Degree of a random graph\"\u001b[0m\u001b[0;34m,\u001b[0m \u001b[0mfigsize\u001b[0m\u001b[0;34m=\u001b[0m\u001b[0;34m(\u001b[0m\u001b[0;36m8\u001b[0m\u001b[0;34m,\u001b[0m \u001b[0;36m8\u001b[0m\u001b[0;34m)\u001b[0m\u001b[0;34m)\u001b[0m\u001b[0;34m\u001b[0m\u001b[0;34m\u001b[0m\u001b[0m\n\u001b[0;32m----> 2\u001b[0;31m \u001b[0max1\u001b[0m \u001b[0;34m=\u001b[0m \u001b[0mfig\u001b[0m\u001b[0;34m.\u001b[0m\u001b[0madd_subplot\u001b[0m\u001b[0;34m(\u001b[0m\u001b[0maxgrid\u001b[0m\u001b[0;34m[\u001b[0m\u001b[0;36m3\u001b[0m\u001b[0;34m:\u001b[0m\u001b[0;34m,\u001b[0m \u001b[0;34m:\u001b[0m\u001b[0;36m2\u001b[0m\u001b[0;34m]\u001b[0m\u001b[0;34m)\u001b[0m\u001b[0;34m\u001b[0m\u001b[0;34m\u001b[0m\u001b[0m\n\u001b[0m\u001b[1;32m      3\u001b[0m \u001b[0max1\u001b[0m\u001b[0;34m.\u001b[0m\u001b[0mplot\u001b[0m\u001b[0;34m(\u001b[0m\u001b[0mdegree_sequence\u001b[0m\u001b[0;34m,\u001b[0m \u001b[0;34m\"b-\"\u001b[0m\u001b[0;34m,\u001b[0m \u001b[0mmarker\u001b[0m\u001b[0;34m=\u001b[0m\u001b[0;34m\"o\"\u001b[0m\u001b[0;34m)\u001b[0m\u001b[0;34m\u001b[0m\u001b[0;34m\u001b[0m\u001b[0m\n\u001b[1;32m      4\u001b[0m \u001b[0max1\u001b[0m\u001b[0;34m.\u001b[0m\u001b[0mset_title\u001b[0m\u001b[0;34m(\u001b[0m\u001b[0;34m\"Degree Rank Plot\"\u001b[0m\u001b[0;34m)\u001b[0m\u001b[0;34m\u001b[0m\u001b[0;34m\u001b[0m\u001b[0m\n\u001b[1;32m      5\u001b[0m \u001b[0max1\u001b[0m\u001b[0;34m.\u001b[0m\u001b[0mset_ylabel\u001b[0m\u001b[0;34m(\u001b[0m\u001b[0;34m\"Degree\"\u001b[0m\u001b[0;34m)\u001b[0m\u001b[0;34m\u001b[0m\u001b[0;34m\u001b[0m\u001b[0m\n",
            "\u001b[0;31mNameError\u001b[0m: name 'axgrid' is not defined"
          ]
        },
        {
          "output_type": "display_data",
          "data": {
            "text/plain": [
              "<Figure size 576x576 with 0 Axes>"
            ]
          },
          "metadata": {}
        }
      ]
    },
    {
      "cell_type": "markdown",
      "source": [],
      "metadata": {
        "id": "PUNE82LX7lpk"
      }
    },
    {
      "cell_type": "markdown",
      "metadata": {
        "id": "cmzj5lcy7mNw"
      },
      "source": [
        "# 2. Network and node descriptives\n",
        "\n",
        "Node degree is the number of edges adjacents to node i.\n",
        "\n",
        "The function degree() has a mode of \"in\" for in-degree, \"out\" for out-degree, and all or total for total degree."
      ]
    },
    {
      "cell_type": "code",
      "source": [
        "g5=Graph.Formula('A-B, B-C, B-C, B-C, A-A, C-A, C-D, D-E, C-F',simplify = False)\n",
        "plot(g5, bbox=(300, 200),vertex_label=g5.vs['name'])"
      ],
      "metadata": {
        "colab": {
          "base_uri": "https://localhost:8080/",
          "height": 288
        },
        "id": "FjBmyn3i7nxH",
        "outputId": "c29de2c5-1be5-497b-9174-0e03efcba543"
      },
      "execution_count": 49,
      "outputs": [
        {
          "output_type": "execute_result",
          "data": {
            "text/plain": [
              "<igraph.drawing.cairo.plot.CairoPlot at 0x7fc97584cd30>"
            ],
            "image/svg+xml": "<?xml version=\"1.0\" encoding=\"UTF-8\"?>\n<svg xmlns=\"http://www.w3.org/2000/svg\" xmlns:xlink=\"http://www.w3.org/1999/xlink\" width=\"300pt\" height=\"200pt\" viewBox=\"0 0 300 200\" version=\"1.1\">\n<defs>\n<g>\n<symbol overflow=\"visible\" id=\"glyph0-0\">\n<path style=\"stroke:none;\" d=\"M 0.46875 0 L 0.46875 -9.328125 L 4.1875 -9.328125 L 4.1875 0 Z M 0.9375 -0.46875 L 3.71875 -0.46875 L 3.71875 -8.859375 L 0.9375 -8.859375 Z M 0.9375 -0.46875 \"/>\n</symbol>\n<symbol overflow=\"visible\" id=\"glyph0-1\">\n<path style=\"stroke:none;\" d=\"M 7.0625 0 L 6.125 -2.609375 L 2.28125 -2.609375 L 1.34375 0 L 0 0 L 3.484375 -9.21875 L 4.96875 -9.21875 L 8.390625 0 Z M 4.796875 -6.515625 C 4.734375 -6.691406 4.671875 -6.867188 4.609375 -7.046875 C 4.546875 -7.222656 4.488281 -7.390625 4.4375 -7.546875 C 4.382812 -7.710938 4.335938 -7.851562 4.296875 -7.96875 C 4.253906 -8.09375 4.226562 -8.179688 4.21875 -8.234375 C 4.195312 -8.179688 4.164062 -8.09375 4.125 -7.96875 C 4.09375 -7.84375 4.050781 -7.703125 4 -7.546875 C 3.945312 -7.390625 3.890625 -7.222656 3.828125 -7.046875 C 3.773438 -6.867188 3.71875 -6.691406 3.65625 -6.515625 L 2.625 -3.625 L 5.796875 -3.625 Z M 4.796875 -6.515625 \"/>\n</symbol>\n<symbol overflow=\"visible\" id=\"glyph0-2\">\n<path style=\"stroke:none;\" d=\"M 7.875 -2.59375 C 7.875 -2.125 7.773438 -1.722656 7.578125 -1.390625 C 7.390625 -1.066406 7.132812 -0.800781 6.8125 -0.59375 C 6.488281 -0.382812 6.113281 -0.234375 5.6875 -0.140625 C 5.257812 -0.046875 4.804688 0 4.328125 0 L 1.109375 0 L 1.109375 -9.21875 L 3.921875 -9.21875 C 4.453125 -9.21875 4.925781 -9.175781 5.34375 -9.09375 C 5.769531 -9.007812 6.128906 -8.875 6.421875 -8.6875 C 6.710938 -8.507812 6.929688 -8.28125 7.078125 -8 C 7.234375 -7.71875 7.3125 -7.378906 7.3125 -6.984375 C 7.3125 -6.734375 7.273438 -6.488281 7.203125 -6.25 C 7.128906 -6.019531 7.015625 -5.8125 6.859375 -5.625 C 6.703125 -5.445312 6.507812 -5.289062 6.28125 -5.15625 C 6.0625 -5.019531 5.796875 -4.921875 5.484375 -4.859375 C 5.867188 -4.816406 6.207031 -4.734375 6.5 -4.609375 C 6.800781 -4.484375 7.050781 -4.320312 7.25 -4.125 C 7.457031 -3.925781 7.613281 -3.695312 7.71875 -3.4375 C 7.820312 -3.175781 7.875 -2.894531 7.875 -2.59375 Z M 6 -6.828125 C 6 -7.304688 5.828125 -7.648438 5.484375 -7.859375 C 5.140625 -8.066406 4.625 -8.171875 3.9375 -8.171875 L 2.40625 -8.171875 L 2.40625 -5.328125 L 3.953125 -5.328125 C 4.316406 -5.328125 4.628906 -5.363281 4.890625 -5.4375 C 5.148438 -5.507812 5.363281 -5.609375 5.53125 -5.734375 C 5.695312 -5.867188 5.816406 -6.023438 5.890625 -6.203125 C 5.960938 -6.390625 6 -6.597656 6 -6.828125 Z M 6.5625 -2.71875 C 6.5625 -3 6.5 -3.238281 6.375 -3.4375 C 6.257812 -3.644531 6.097656 -3.8125 5.890625 -3.9375 C 5.679688 -4.070312 5.425781 -4.164062 5.125 -4.21875 C 4.832031 -4.28125 4.503906 -4.3125 4.140625 -4.3125 L 2.40625 -4.3125 L 2.40625 -1.046875 L 4.234375 -1.046875 C 4.566406 -1.046875 4.875 -1.070312 5.15625 -1.125 C 5.4375 -1.175781 5.679688 -1.265625 5.890625 -1.390625 C 6.097656 -1.523438 6.257812 -1.695312 6.375 -1.90625 C 6.5 -2.125 6.5625 -2.394531 6.5625 -2.71875 Z M 6.5625 -2.71875 \"/>\n</symbol>\n<symbol overflow=\"visible\" id=\"glyph0-3\">\n<path style=\"stroke:none;\" d=\"M 2.140625 -4.65625 C 2.140625 -4.0625 2.1875 -3.53125 2.28125 -3.0625 C 2.375 -2.601562 2.515625 -2.210938 2.703125 -1.890625 C 2.898438 -1.578125 3.144531 -1.335938 3.4375 -1.171875 C 3.738281 -1.003906 4.097656 -0.921875 4.515625 -0.921875 C 4.804688 -0.921875 5.066406 -0.972656 5.296875 -1.078125 C 5.523438 -1.191406 5.726562 -1.335938 5.90625 -1.515625 C 6.09375 -1.691406 6.25 -1.894531 6.375 -2.125 C 6.507812 -2.363281 6.625 -2.601562 6.71875 -2.84375 L 7.8125 -2.40625 C 7.675781 -2.082031 7.515625 -1.769531 7.328125 -1.46875 C 7.148438 -1.164062 6.925781 -0.894531 6.65625 -0.65625 C 6.394531 -0.414062 6.085938 -0.222656 5.734375 -0.078125 C 5.378906 0.0664062 4.96875 0.140625 4.5 0.140625 C 3.863281 0.140625 3.3125 0.0234375 2.84375 -0.203125 C 2.375 -0.429688 1.984375 -0.753906 1.671875 -1.171875 C 1.367188 -1.597656 1.140625 -2.101562 0.984375 -2.6875 C 0.835938 -3.28125 0.765625 -3.9375 0.765625 -4.65625 C 0.765625 -5.414062 0.835938 -6.085938 0.984375 -6.671875 C 1.128906 -7.253906 1.351562 -7.742188 1.65625 -8.140625 C 1.957031 -8.546875 2.335938 -8.847656 2.796875 -9.046875 C 3.265625 -9.253906 3.8125 -9.359375 4.4375 -9.359375 C 4.894531 -9.359375 5.296875 -9.296875 5.640625 -9.171875 C 5.992188 -9.046875 6.296875 -8.878906 6.546875 -8.671875 C 6.796875 -8.460938 7.007812 -8.21875 7.1875 -7.9375 C 7.363281 -7.664062 7.507812 -7.378906 7.625 -7.078125 L 6.46875 -6.625 C 6.40625 -6.84375 6.3125 -7.050781 6.1875 -7.25 C 6.070312 -7.445312 5.929688 -7.625 5.765625 -7.78125 C 5.597656 -7.9375 5.40625 -8.0625 5.1875 -8.15625 C 4.96875 -8.25 4.71875 -8.296875 4.4375 -8.296875 C 4.03125 -8.296875 3.679688 -8.21875 3.390625 -8.0625 C 3.109375 -7.90625 2.875 -7.671875 2.6875 -7.359375 C 2.5 -7.054688 2.359375 -6.675781 2.265625 -6.21875 C 2.179688 -5.769531 2.140625 -5.25 2.140625 -4.65625 Z M 2.140625 -4.65625 \"/>\n</symbol>\n<symbol overflow=\"visible\" id=\"glyph0-4\">\n<path style=\"stroke:none;\" d=\"M 7.6875 -4.703125 C 7.6875 -3.941406 7.59375 -3.265625 7.40625 -2.671875 C 7.226562 -2.085938 6.96875 -1.597656 6.625 -1.203125 C 6.28125 -0.804688 5.851562 -0.503906 5.34375 -0.296875 C 4.84375 -0.0976562 4.273438 0 3.640625 0 L 1.109375 0 L 1.109375 -9.21875 L 3.234375 -9.21875 C 3.953125 -9.21875 4.585938 -9.128906 5.140625 -8.953125 C 5.691406 -8.785156 6.15625 -8.515625 6.53125 -8.140625 C 6.914062 -7.773438 7.203125 -7.304688 7.390625 -6.734375 C 7.585938 -6.160156 7.6875 -5.484375 7.6875 -4.703125 Z M 6.375 -4.703125 C 6.375 -5.316406 6.3125 -5.84375 6.1875 -6.28125 C 6.0625 -6.71875 5.867188 -7.070312 5.609375 -7.34375 C 5.347656 -7.625 5.019531 -7.828125 4.625 -7.953125 C 4.238281 -8.085938 3.773438 -8.15625 3.234375 -8.15625 L 2.40625 -8.15625 L 2.40625 -1.0625 L 3.515625 -1.0625 C 4.484375 -1.0625 5.203125 -1.363281 5.671875 -1.96875 C 6.140625 -2.582031 6.375 -3.492188 6.375 -4.703125 Z M 6.375 -4.703125 \"/>\n</symbol>\n<symbol overflow=\"visible\" id=\"glyph0-5\">\n<path style=\"stroke:none;\" d=\"M 1.109375 0 L 1.109375 -9.21875 L 7.390625 -9.21875 L 7.390625 -8.15625 L 2.40625 -8.15625 L 2.40625 -5.265625 L 6.984375 -5.265625 L 6.984375 -4.21875 L 2.40625 -4.21875 L 2.40625 -1.0625 L 7.671875 -1.0625 L 7.671875 0 Z M 1.109375 0 \"/>\n</symbol>\n<symbol overflow=\"visible\" id=\"glyph0-6\">\n<path style=\"stroke:none;\" d=\"M 2.625 -8.15625 L 2.625 -4.78125 L 7.25 -4.78125 L 7.25 -3.703125 L 2.625 -3.703125 L 2.625 0 L 1.328125 0 L 1.328125 -9.21875 L 7.421875 -9.21875 L 7.421875 -8.15625 Z M 2.625 -8.15625 \"/>\n</symbol>\n</g>\n</defs>\n<g id=\"surface68\">\n<rect x=\"0\" y=\"0\" width=\"300\" height=\"200\" style=\"fill:rgb(100%,100%,100%);fill-opacity:1;stroke:none;\"/>\n<path style=\"fill:none;stroke-width:1;stroke-linecap:butt;stroke-linejoin:miter;stroke:rgb(26.666667%,26.666667%,26.666667%);stroke-opacity:1;stroke-miterlimit:10;\" d=\"M 280 134.828125 L 220.957031 180 \"/>\n<path style=\"fill:none;stroke-width:1;stroke-linecap:butt;stroke-linejoin:miter;stroke:rgb(26.666667%,26.666667%,26.666667%);stroke-opacity:1;stroke-miterlimit:10;\" d=\"M 220.957031 180 C 233.773438 147.636719 226.445312 120.773438 198.964844 99.40625 \"/>\n<path style=\"fill:none;stroke-width:1;stroke-linecap:butt;stroke-linejoin:miter;stroke:rgb(26.666667%,26.666667%,26.666667%);stroke-opacity:1;stroke-miterlimit:10;\" d=\"M 220.957031 180 C 193.476562 158.632812 186.148438 131.769531 198.964844 99.40625 \"/>\n<path style=\"fill:none;stroke-width:1;stroke-linecap:butt;stroke-linejoin:miter;stroke:rgb(26.666667%,26.666667%,26.666667%);stroke-opacity:1;stroke-miterlimit:10;\" d=\"M 220.957031 180 L 198.964844 99.40625 \"/>\n<path style=\"fill:none;stroke-width:1;stroke-linecap:butt;stroke-linejoin:miter;stroke:rgb(26.666667%,26.666667%,26.666667%);stroke-opacity:1;stroke-miterlimit:10;\" d=\"M 305.605469 124.222656 C 305.605469 132.503906 298.890625 139.222656 290.605469 139.222656 C 282.324219 139.222656 275.605469 132.503906 275.605469 124.222656 C 275.605469 115.9375 282.324219 109.222656 290.605469 109.222656 C 298.890625 109.222656 305.605469 115.9375 305.605469 124.222656 \"/>\n<path style=\"fill:none;stroke-width:1;stroke-linecap:butt;stroke-linejoin:miter;stroke:rgb(26.666667%,26.666667%,26.666667%);stroke-opacity:1;stroke-miterlimit:10;\" d=\"M 280 134.828125 L 198.964844 99.40625 \"/>\n<path style=\"fill:none;stroke-width:1;stroke-linecap:butt;stroke-linejoin:miter;stroke:rgb(26.666667%,26.666667%,26.666667%);stroke-opacity:1;stroke-miterlimit:10;\" d=\"M 198.964844 99.40625 L 106.71875 95.164062 \"/>\n<path style=\"fill:none;stroke-width:1;stroke-linecap:butt;stroke-linejoin:miter;stroke:rgb(26.666667%,26.666667%,26.666667%);stroke-opacity:1;stroke-miterlimit:10;\" d=\"M 106.71875 95.164062 L 20 91.523438 \"/>\n<path style=\"fill:none;stroke-width:1;stroke-linecap:butt;stroke-linejoin:miter;stroke:rgb(26.666667%,26.666667%,26.666667%);stroke-opacity:1;stroke-miterlimit:10;\" d=\"M 198.964844 99.40625 L 232.804688 20 \"/>\n<path style=\"fill-rule:nonzero;fill:rgb(100%,0%,0%);fill-opacity:1;stroke-width:1;stroke-linecap:butt;stroke-linejoin:miter;stroke:rgb(0%,0%,0%);stroke-opacity:1;stroke-miterlimit:10;\" d=\"M 290 134.828125 C 290 140.351562 285.523438 144.828125 280 144.828125 C 274.476562 144.828125 270 140.351562 270 134.828125 C 270 129.304688 274.476562 124.828125 280 124.828125 C 285.523438 124.828125 290 129.304688 290 134.828125 \"/>\n<path style=\"fill-rule:nonzero;fill:rgb(100%,0%,0%);fill-opacity:1;stroke-width:1;stroke-linecap:butt;stroke-linejoin:miter;stroke:rgb(0%,0%,0%);stroke-opacity:1;stroke-miterlimit:10;\" d=\"M 230.957031 180 C 230.957031 185.523438 226.480469 190 220.957031 190 C 215.433594 190 210.957031 185.523438 210.957031 180 C 210.957031 174.476562 215.433594 170 220.957031 170 C 226.480469 170 230.957031 174.476562 230.957031 180 \"/>\n<path style=\"fill-rule:nonzero;fill:rgb(100%,0%,0%);fill-opacity:1;stroke-width:1;stroke-linecap:butt;stroke-linejoin:miter;stroke:rgb(0%,0%,0%);stroke-opacity:1;stroke-miterlimit:10;\" d=\"M 208.964844 99.40625 C 208.964844 104.929688 204.488281 109.40625 198.964844 109.40625 C 193.441406 109.40625 188.964844 104.929688 188.964844 99.40625 C 188.964844 93.886719 193.441406 89.40625 198.964844 89.40625 C 204.488281 89.40625 208.964844 93.886719 208.964844 99.40625 \"/>\n<path style=\"fill-rule:nonzero;fill:rgb(100%,0%,0%);fill-opacity:1;stroke-width:1;stroke-linecap:butt;stroke-linejoin:miter;stroke:rgb(0%,0%,0%);stroke-opacity:1;stroke-miterlimit:10;\" d=\"M 116.71875 95.164062 C 116.71875 100.6875 112.242188 105.164062 106.71875 105.164062 C 101.195312 105.164062 96.71875 100.6875 96.71875 95.164062 C 96.71875 89.640625 101.195312 85.164062 106.71875 85.164062 C 112.242188 85.164062 116.71875 89.640625 116.71875 95.164062 \"/>\n<path style=\"fill-rule:nonzero;fill:rgb(100%,0%,0%);fill-opacity:1;stroke-width:1;stroke-linecap:butt;stroke-linejoin:miter;stroke:rgb(0%,0%,0%);stroke-opacity:1;stroke-miterlimit:10;\" d=\"M 30 91.523438 C 30 97.046875 25.523438 101.523438 20 101.523438 C 14.476562 101.523438 10 97.046875 10 91.523438 C 10 86 14.476562 81.523438 20 81.523438 C 25.523438 81.523438 30 86 30 91.523438 \"/>\n<path style=\"fill-rule:nonzero;fill:rgb(100%,0%,0%);fill-opacity:1;stroke-width:1;stroke-linecap:butt;stroke-linejoin:miter;stroke:rgb(0%,0%,0%);stroke-opacity:1;stroke-miterlimit:10;\" d=\"M 242.804688 20 C 242.804688 25.523438 238.328125 30 232.804688 30 C 227.28125 30 222.804688 25.523438 222.804688 20 C 222.804688 14.476562 227.28125 10 232.804688 10 C 238.328125 10 242.804688 14.476562 242.804688 20 \"/>\n<g style=\"fill:rgb(0%,0%,0%);fill-opacity:1;\">\n  <use xlink:href=\"#glyph0-1\" x=\"275.804688\" y=\"141.539062\"/>\n</g>\n<g style=\"fill:rgb(0%,0%,0%);fill-opacity:1;\">\n  <use xlink:href=\"#glyph0-2\" x=\"216.464844\" y=\"186.710938\"/>\n</g>\n<g style=\"fill:rgb(0%,0%,0%);fill-opacity:1;\">\n  <use xlink:href=\"#glyph0-3\" x=\"194.675781\" y=\"106.191406\"/>\n</g>\n<g style=\"fill:rgb(0%,0%,0%);fill-opacity:1;\">\n  <use xlink:href=\"#glyph0-4\" x=\"102.320312\" y=\"101.875\"/>\n</g>\n<g style=\"fill:rgb(0%,0%,0%);fill-opacity:1;\">\n  <use xlink:href=\"#glyph0-5\" x=\"15.609375\" y=\"98.234375\"/>\n</g>\n<g style=\"fill:rgb(0%,0%,0%);fill-opacity:1;\">\n  <use xlink:href=\"#glyph0-6\" x=\"228.433594\" y=\"26.710938\"/>\n</g>\n</g>\n</svg>\n"
          },
          "metadata": {
            "image/svg+xml": {
              "isolated": true
            }
          },
          "execution_count": 49
        }
      ]
    },
    {
      "cell_type": "code",
      "source": [
        "g5.degree(mode='all')"
      ],
      "metadata": {
        "colab": {
          "base_uri": "https://localhost:8080/"
        },
        "id": "PrE6nW7M7ucU",
        "outputId": "6fdc8d66-fd4f-43fa-a55f-095f81453bb6"
      },
      "execution_count": 50,
      "outputs": [
        {
          "output_type": "execute_result",
          "data": {
            "text/plain": [
              "[4, 4, 6, 2, 1, 1]"
            ]
          },
          "metadata": {},
          "execution_count": 50
        }
      ]
    },
    {
      "cell_type": "markdown",
      "source": [],
      "metadata": {
        "id": "wDNO0MGv7dVK"
      }
    },
    {
      "cell_type": "markdown",
      "source": [],
      "metadata": {
        "id": "2TIQgwRU7bqb"
      }
    },
    {
      "cell_type": "markdown",
      "source": [
        "Use any famous package of this list: https://igraph.org/python/tutorial/0.9.9/generation.html#famous-graphs and calculate betwenness, closeness and degree centrality. Calculate top 10 and share it in the discussion forum 4_1 with an explanation of the results. I am sharing with you below how to do it for Zachary."
      ],
      "metadata": {
        "id": "0DsNRTPU75AT"
      }
    },
    {
      "cell_type": "code",
      "source": [
        "g = Graph.Famous('Herschel')\n",
        "g.vs[\"degree\"] = g.degree()\n",
        "g.vs[\"betweenness\"] = g.betweenness()\n",
        "g.vs[\"pagerank\"] = g.pagerank()"
      ],
      "metadata": {
        "id": "ZlhXqeam76vq"
      },
      "execution_count": 107,
      "outputs": []
    },
    {
      "cell_type": "code",
      "source": [
        "plot(g, bbox=(300, 200),vertex_label=g5.vs['name'])"
      ],
      "metadata": {
        "colab": {
          "base_uri": "https://localhost:8080/",
          "height": 288
        },
        "id": "N_pgiKjqCMdc",
        "outputId": "83b5d06e-0ad5-4daa-92a1-776bb61423d8"
      },
      "execution_count": 108,
      "outputs": [
        {
          "output_type": "execute_result",
          "data": {
            "text/plain": [
              "<igraph.drawing.cairo.plot.CairoPlot at 0x7fc975851100>"
            ],
            "image/svg+xml": "<?xml version=\"1.0\" encoding=\"UTF-8\"?>\n<svg xmlns=\"http://www.w3.org/2000/svg\" xmlns:xlink=\"http://www.w3.org/1999/xlink\" width=\"300pt\" height=\"200pt\" viewBox=\"0 0 300 200\" version=\"1.1\">\n<defs>\n<g>\n<symbol overflow=\"visible\" id=\"glyph0-0\">\n<path style=\"stroke:none;\" d=\"M 0.46875 0 L 0.46875 -9.328125 L 4.1875 -9.328125 L 4.1875 0 Z M 0.9375 -0.46875 L 3.71875 -0.46875 L 3.71875 -8.859375 L 0.9375 -8.859375 Z M 0.9375 -0.46875 \"/>\n</symbol>\n<symbol overflow=\"visible\" id=\"glyph0-1\">\n<path style=\"stroke:none;\" d=\"M 7.0625 0 L 6.125 -2.609375 L 2.28125 -2.609375 L 1.34375 0 L 0 0 L 3.484375 -9.21875 L 4.96875 -9.21875 L 8.390625 0 Z M 4.796875 -6.515625 C 4.734375 -6.691406 4.671875 -6.867188 4.609375 -7.046875 C 4.546875 -7.222656 4.488281 -7.390625 4.4375 -7.546875 C 4.382812 -7.710938 4.335938 -7.851562 4.296875 -7.96875 C 4.253906 -8.09375 4.226562 -8.179688 4.21875 -8.234375 C 4.195312 -8.179688 4.164062 -8.09375 4.125 -7.96875 C 4.09375 -7.84375 4.050781 -7.703125 4 -7.546875 C 3.945312 -7.390625 3.890625 -7.222656 3.828125 -7.046875 C 3.773438 -6.867188 3.71875 -6.691406 3.65625 -6.515625 L 2.625 -3.625 L 5.796875 -3.625 Z M 4.796875 -6.515625 \"/>\n</symbol>\n<symbol overflow=\"visible\" id=\"glyph0-2\">\n<path style=\"stroke:none;\" d=\"M 7.875 -2.59375 C 7.875 -2.125 7.773438 -1.722656 7.578125 -1.390625 C 7.390625 -1.066406 7.132812 -0.800781 6.8125 -0.59375 C 6.488281 -0.382812 6.113281 -0.234375 5.6875 -0.140625 C 5.257812 -0.046875 4.804688 0 4.328125 0 L 1.109375 0 L 1.109375 -9.21875 L 3.921875 -9.21875 C 4.453125 -9.21875 4.925781 -9.175781 5.34375 -9.09375 C 5.769531 -9.007812 6.128906 -8.875 6.421875 -8.6875 C 6.710938 -8.507812 6.929688 -8.28125 7.078125 -8 C 7.234375 -7.71875 7.3125 -7.378906 7.3125 -6.984375 C 7.3125 -6.734375 7.273438 -6.488281 7.203125 -6.25 C 7.128906 -6.019531 7.015625 -5.8125 6.859375 -5.625 C 6.703125 -5.445312 6.507812 -5.289062 6.28125 -5.15625 C 6.0625 -5.019531 5.796875 -4.921875 5.484375 -4.859375 C 5.867188 -4.816406 6.207031 -4.734375 6.5 -4.609375 C 6.800781 -4.484375 7.050781 -4.320312 7.25 -4.125 C 7.457031 -3.925781 7.613281 -3.695312 7.71875 -3.4375 C 7.820312 -3.175781 7.875 -2.894531 7.875 -2.59375 Z M 6 -6.828125 C 6 -7.304688 5.828125 -7.648438 5.484375 -7.859375 C 5.140625 -8.066406 4.625 -8.171875 3.9375 -8.171875 L 2.40625 -8.171875 L 2.40625 -5.328125 L 3.953125 -5.328125 C 4.316406 -5.328125 4.628906 -5.363281 4.890625 -5.4375 C 5.148438 -5.507812 5.363281 -5.609375 5.53125 -5.734375 C 5.695312 -5.867188 5.816406 -6.023438 5.890625 -6.203125 C 5.960938 -6.390625 6 -6.597656 6 -6.828125 Z M 6.5625 -2.71875 C 6.5625 -3 6.5 -3.238281 6.375 -3.4375 C 6.257812 -3.644531 6.097656 -3.8125 5.890625 -3.9375 C 5.679688 -4.070312 5.425781 -4.164062 5.125 -4.21875 C 4.832031 -4.28125 4.503906 -4.3125 4.140625 -4.3125 L 2.40625 -4.3125 L 2.40625 -1.046875 L 4.234375 -1.046875 C 4.566406 -1.046875 4.875 -1.070312 5.15625 -1.125 C 5.4375 -1.175781 5.679688 -1.265625 5.890625 -1.390625 C 6.097656 -1.523438 6.257812 -1.695312 6.375 -1.90625 C 6.5 -2.125 6.5625 -2.394531 6.5625 -2.71875 Z M 6.5625 -2.71875 \"/>\n</symbol>\n<symbol overflow=\"visible\" id=\"glyph0-3\">\n<path style=\"stroke:none;\" d=\"M 2.140625 -4.65625 C 2.140625 -4.0625 2.1875 -3.53125 2.28125 -3.0625 C 2.375 -2.601562 2.515625 -2.210938 2.703125 -1.890625 C 2.898438 -1.578125 3.144531 -1.335938 3.4375 -1.171875 C 3.738281 -1.003906 4.097656 -0.921875 4.515625 -0.921875 C 4.804688 -0.921875 5.066406 -0.972656 5.296875 -1.078125 C 5.523438 -1.191406 5.726562 -1.335938 5.90625 -1.515625 C 6.09375 -1.691406 6.25 -1.894531 6.375 -2.125 C 6.507812 -2.363281 6.625 -2.601562 6.71875 -2.84375 L 7.8125 -2.40625 C 7.675781 -2.082031 7.515625 -1.769531 7.328125 -1.46875 C 7.148438 -1.164062 6.925781 -0.894531 6.65625 -0.65625 C 6.394531 -0.414062 6.085938 -0.222656 5.734375 -0.078125 C 5.378906 0.0664062 4.96875 0.140625 4.5 0.140625 C 3.863281 0.140625 3.3125 0.0234375 2.84375 -0.203125 C 2.375 -0.429688 1.984375 -0.753906 1.671875 -1.171875 C 1.367188 -1.597656 1.140625 -2.101562 0.984375 -2.6875 C 0.835938 -3.28125 0.765625 -3.9375 0.765625 -4.65625 C 0.765625 -5.414062 0.835938 -6.085938 0.984375 -6.671875 C 1.128906 -7.253906 1.351562 -7.742188 1.65625 -8.140625 C 1.957031 -8.546875 2.335938 -8.847656 2.796875 -9.046875 C 3.265625 -9.253906 3.8125 -9.359375 4.4375 -9.359375 C 4.894531 -9.359375 5.296875 -9.296875 5.640625 -9.171875 C 5.992188 -9.046875 6.296875 -8.878906 6.546875 -8.671875 C 6.796875 -8.460938 7.007812 -8.21875 7.1875 -7.9375 C 7.363281 -7.664062 7.507812 -7.378906 7.625 -7.078125 L 6.46875 -6.625 C 6.40625 -6.84375 6.3125 -7.050781 6.1875 -7.25 C 6.070312 -7.445312 5.929688 -7.625 5.765625 -7.78125 C 5.597656 -7.9375 5.40625 -8.0625 5.1875 -8.15625 C 4.96875 -8.25 4.71875 -8.296875 4.4375 -8.296875 C 4.03125 -8.296875 3.679688 -8.21875 3.390625 -8.0625 C 3.109375 -7.90625 2.875 -7.671875 2.6875 -7.359375 C 2.5 -7.054688 2.359375 -6.675781 2.265625 -6.21875 C 2.179688 -5.769531 2.140625 -5.25 2.140625 -4.65625 Z M 2.140625 -4.65625 \"/>\n</symbol>\n<symbol overflow=\"visible\" id=\"glyph0-4\">\n<path style=\"stroke:none;\" d=\"M 7.6875 -4.703125 C 7.6875 -3.941406 7.59375 -3.265625 7.40625 -2.671875 C 7.226562 -2.085938 6.96875 -1.597656 6.625 -1.203125 C 6.28125 -0.804688 5.851562 -0.503906 5.34375 -0.296875 C 4.84375 -0.0976562 4.273438 0 3.640625 0 L 1.109375 0 L 1.109375 -9.21875 L 3.234375 -9.21875 C 3.953125 -9.21875 4.585938 -9.128906 5.140625 -8.953125 C 5.691406 -8.785156 6.15625 -8.515625 6.53125 -8.140625 C 6.914062 -7.773438 7.203125 -7.304688 7.390625 -6.734375 C 7.585938 -6.160156 7.6875 -5.484375 7.6875 -4.703125 Z M 6.375 -4.703125 C 6.375 -5.316406 6.3125 -5.84375 6.1875 -6.28125 C 6.0625 -6.71875 5.867188 -7.070312 5.609375 -7.34375 C 5.347656 -7.625 5.019531 -7.828125 4.625 -7.953125 C 4.238281 -8.085938 3.773438 -8.15625 3.234375 -8.15625 L 2.40625 -8.15625 L 2.40625 -1.0625 L 3.515625 -1.0625 C 4.484375 -1.0625 5.203125 -1.363281 5.671875 -1.96875 C 6.140625 -2.582031 6.375 -3.492188 6.375 -4.703125 Z M 6.375 -4.703125 \"/>\n</symbol>\n<symbol overflow=\"visible\" id=\"glyph0-5\">\n<path style=\"stroke:none;\" d=\"M 1.109375 0 L 1.109375 -9.21875 L 7.390625 -9.21875 L 7.390625 -8.15625 L 2.40625 -8.15625 L 2.40625 -5.265625 L 6.984375 -5.265625 L 6.984375 -4.21875 L 2.40625 -4.21875 L 2.40625 -1.0625 L 7.671875 -1.0625 L 7.671875 0 Z M 1.109375 0 \"/>\n</symbol>\n<symbol overflow=\"visible\" id=\"glyph0-6\">\n<path style=\"stroke:none;\" d=\"M 2.625 -8.15625 L 2.625 -4.78125 L 7.25 -4.78125 L 7.25 -3.703125 L 2.625 -3.703125 L 2.625 0 L 1.328125 0 L 1.328125 -9.21875 L 7.421875 -9.21875 L 7.421875 -8.15625 Z M 2.625 -8.15625 \"/>\n</symbol>\n</g>\n</defs>\n<g id=\"surface260\">\n<rect x=\"0\" y=\"0\" width=\"300\" height=\"200\" style=\"fill:rgb(100%,100%,100%);fill-opacity:1;stroke:none;\"/>\n<path style=\"fill:none;stroke-width:1;stroke-linecap:butt;stroke-linejoin:miter;stroke:rgb(26.666667%,26.666667%,26.666667%);stroke-opacity:1;stroke-miterlimit:10;\" d=\"M 188.824219 159.691406 L 255.050781 123.308594 \"/>\n<path style=\"fill:none;stroke-width:1;stroke-linecap:butt;stroke-linejoin:miter;stroke:rgb(26.666667%,26.666667%,26.666667%);stroke-opacity:1;stroke-miterlimit:10;\" d=\"M 188.824219 159.691406 L 112.144531 180 \"/>\n<path style=\"fill:none;stroke-width:1;stroke-linecap:butt;stroke-linejoin:miter;stroke:rgb(26.666667%,26.666667%,26.666667%);stroke-opacity:1;stroke-miterlimit:10;\" d=\"M 188.824219 159.691406 L 93.042969 122.59375 \"/>\n<path style=\"fill:none;stroke-width:1;stroke-linecap:butt;stroke-linejoin:miter;stroke:rgb(26.666667%,26.666667%,26.666667%);stroke-opacity:1;stroke-miterlimit:10;\" d=\"M 188.824219 159.691406 L 206.957031 77.40625 \"/>\n<path style=\"fill:none;stroke-width:1;stroke-linecap:butt;stroke-linejoin:miter;stroke:rgb(26.666667%,26.666667%,26.666667%);stroke-opacity:1;stroke-miterlimit:10;\" d=\"M 150 100 L 255.050781 123.308594 \"/>\n<path style=\"fill:none;stroke-width:1;stroke-linecap:butt;stroke-linejoin:miter;stroke:rgb(26.666667%,26.666667%,26.666667%);stroke-opacity:1;stroke-miterlimit:10;\" d=\"M 150 100 L 112.144531 180 \"/>\n<path style=\"fill:none;stroke-width:1;stroke-linecap:butt;stroke-linejoin:miter;stroke:rgb(26.666667%,26.666667%,26.666667%);stroke-opacity:1;stroke-miterlimit:10;\" d=\"M 150 100 L 44.949219 76.691406 \"/>\n<path style=\"fill:none;stroke-width:1;stroke-linecap:butt;stroke-linejoin:miter;stroke:rgb(26.666667%,26.666667%,26.666667%);stroke-opacity:1;stroke-miterlimit:10;\" d=\"M 150 100 L 187.855469 20 \"/>\n<path style=\"fill:none;stroke-width:1;stroke-linecap:butt;stroke-linejoin:miter;stroke:rgb(26.666667%,26.666667%,26.666667%);stroke-opacity:1;stroke-miterlimit:10;\" d=\"M 255.050781 123.308594 L 280 48.429688 \"/>\n<path style=\"fill:none;stroke-width:1;stroke-linecap:butt;stroke-linejoin:miter;stroke:rgb(26.666667%,26.666667%,26.666667%);stroke-opacity:1;stroke-miterlimit:10;\" d=\"M 112.144531 180 L 20 151.570312 \"/>\n<path style=\"fill:none;stroke-width:1;stroke-linecap:butt;stroke-linejoin:miter;stroke:rgb(26.666667%,26.666667%,26.666667%);stroke-opacity:1;stroke-miterlimit:10;\" d=\"M 93.042969 122.59375 L 111.175781 40.308594 \"/>\n<path style=\"fill:none;stroke-width:1;stroke-linecap:butt;stroke-linejoin:miter;stroke:rgb(26.666667%,26.666667%,26.666667%);stroke-opacity:1;stroke-miterlimit:10;\" d=\"M 93.042969 122.59375 L 20 151.570312 \"/>\n<path style=\"fill:none;stroke-width:1;stroke-linecap:butt;stroke-linejoin:miter;stroke:rgb(26.666667%,26.666667%,26.666667%);stroke-opacity:1;stroke-miterlimit:10;\" d=\"M 206.957031 77.40625 L 111.175781 40.308594 \"/>\n<path style=\"fill:none;stroke-width:1;stroke-linecap:butt;stroke-linejoin:miter;stroke:rgb(26.666667%,26.666667%,26.666667%);stroke-opacity:1;stroke-miterlimit:10;\" d=\"M 206.957031 77.40625 L 280 48.429688 \"/>\n<path style=\"fill:none;stroke-width:1;stroke-linecap:butt;stroke-linejoin:miter;stroke:rgb(26.666667%,26.666667%,26.666667%);stroke-opacity:1;stroke-miterlimit:10;\" d=\"M 44.949219 76.691406 L 111.175781 40.308594 \"/>\n<path style=\"fill:none;stroke-width:1;stroke-linecap:butt;stroke-linejoin:miter;stroke:rgb(26.666667%,26.666667%,26.666667%);stroke-opacity:1;stroke-miterlimit:10;\" d=\"M 44.949219 76.691406 L 20 151.570312 \"/>\n<path style=\"fill:none;stroke-width:1;stroke-linecap:butt;stroke-linejoin:miter;stroke:rgb(26.666667%,26.666667%,26.666667%);stroke-opacity:1;stroke-miterlimit:10;\" d=\"M 187.855469 20 L 111.175781 40.308594 \"/>\n<path style=\"fill:none;stroke-width:1;stroke-linecap:butt;stroke-linejoin:miter;stroke:rgb(26.666667%,26.666667%,26.666667%);stroke-opacity:1;stroke-miterlimit:10;\" d=\"M 187.855469 20 L 280 48.429688 \"/>\n<path style=\"fill-rule:nonzero;fill:rgb(100%,0%,0%);fill-opacity:1;stroke-width:1;stroke-linecap:butt;stroke-linejoin:miter;stroke:rgb(0%,0%,0%);stroke-opacity:1;stroke-miterlimit:10;\" d=\"M 198.824219 159.691406 C 198.824219 165.214844 194.347656 169.691406 188.824219 169.691406 C 183.300781 169.691406 178.824219 165.214844 178.824219 159.691406 C 178.824219 154.167969 183.300781 149.691406 188.824219 149.691406 C 194.347656 149.691406 198.824219 154.167969 198.824219 159.691406 \"/>\n<path style=\"fill-rule:nonzero;fill:rgb(100%,0%,0%);fill-opacity:1;stroke-width:1;stroke-linecap:butt;stroke-linejoin:miter;stroke:rgb(0%,0%,0%);stroke-opacity:1;stroke-miterlimit:10;\" d=\"M 160 100 C 160 105.523438 155.523438 110 150 110 C 144.476562 110 140 105.523438 140 100 C 140 94.476562 144.476562 90 150 90 C 155.523438 90 160 94.476562 160 100 \"/>\n<path style=\"fill-rule:nonzero;fill:rgb(100%,0%,0%);fill-opacity:1;stroke-width:1;stroke-linecap:butt;stroke-linejoin:miter;stroke:rgb(0%,0%,0%);stroke-opacity:1;stroke-miterlimit:10;\" d=\"M 265.050781 123.308594 C 265.050781 128.832031 260.574219 133.308594 255.050781 133.308594 C 249.527344 133.308594 245.050781 128.832031 245.050781 123.308594 C 245.050781 117.785156 249.527344 113.308594 255.050781 113.308594 C 260.574219 113.308594 265.050781 117.785156 265.050781 123.308594 \"/>\n<path style=\"fill-rule:nonzero;fill:rgb(100%,0%,0%);fill-opacity:1;stroke-width:1;stroke-linecap:butt;stroke-linejoin:miter;stroke:rgb(0%,0%,0%);stroke-opacity:1;stroke-miterlimit:10;\" d=\"M 122.144531 180 C 122.144531 185.523438 117.667969 190 112.144531 190 C 106.621094 190 102.144531 185.523438 102.144531 180 C 102.144531 174.476562 106.621094 170 112.144531 170 C 117.667969 170 122.144531 174.476562 122.144531 180 \"/>\n<path style=\"fill-rule:nonzero;fill:rgb(100%,0%,0%);fill-opacity:1;stroke-width:1;stroke-linecap:butt;stroke-linejoin:miter;stroke:rgb(0%,0%,0%);stroke-opacity:1;stroke-miterlimit:10;\" d=\"M 103.042969 122.59375 C 103.042969 128.117188 98.5625 132.59375 93.042969 132.59375 C 87.519531 132.59375 83.042969 128.117188 83.042969 122.59375 C 83.042969 117.074219 87.519531 112.59375 93.042969 112.59375 C 98.5625 112.59375 103.042969 117.074219 103.042969 122.59375 \"/>\n<path style=\"fill-rule:nonzero;fill:rgb(100%,0%,0%);fill-opacity:1;stroke-width:1;stroke-linecap:butt;stroke-linejoin:miter;stroke:rgb(0%,0%,0%);stroke-opacity:1;stroke-miterlimit:10;\" d=\"M 216.957031 77.40625 C 216.957031 82.925781 212.480469 87.40625 206.957031 87.40625 C 201.4375 87.40625 196.957031 82.925781 196.957031 77.40625 C 196.957031 71.882812 201.4375 67.40625 206.957031 67.40625 C 212.480469 67.40625 216.957031 71.882812 216.957031 77.40625 \"/>\n<path style=\"fill-rule:nonzero;fill:rgb(100%,0%,0%);fill-opacity:1;stroke-width:1;stroke-linecap:butt;stroke-linejoin:miter;stroke:rgb(0%,0%,0%);stroke-opacity:1;stroke-miterlimit:10;\" d=\"M 54.949219 76.691406 C 54.949219 82.214844 50.472656 86.691406 44.949219 86.691406 C 39.425781 86.691406 34.949219 82.214844 34.949219 76.691406 C 34.949219 71.167969 39.425781 66.691406 44.949219 66.691406 C 50.472656 66.691406 54.949219 71.167969 54.949219 76.691406 \"/>\n<path style=\"fill-rule:nonzero;fill:rgb(100%,0%,0%);fill-opacity:1;stroke-width:1;stroke-linecap:butt;stroke-linejoin:miter;stroke:rgb(0%,0%,0%);stroke-opacity:1;stroke-miterlimit:10;\" d=\"M 197.855469 20 C 197.855469 25.523438 193.378906 30 187.855469 30 C 182.332031 30 177.855469 25.523438 177.855469 20 C 177.855469 14.476562 182.332031 10 187.855469 10 C 193.378906 10 197.855469 14.476562 197.855469 20 \"/>\n<path style=\"fill-rule:nonzero;fill:rgb(100%,0%,0%);fill-opacity:1;stroke-width:1;stroke-linecap:butt;stroke-linejoin:miter;stroke:rgb(0%,0%,0%);stroke-opacity:1;stroke-miterlimit:10;\" d=\"M 121.175781 40.308594 C 121.175781 45.832031 116.699219 50.308594 111.175781 50.308594 C 105.652344 50.308594 101.175781 45.832031 101.175781 40.308594 C 101.175781 34.785156 105.652344 30.308594 111.175781 30.308594 C 116.699219 30.308594 121.175781 34.785156 121.175781 40.308594 \"/>\n<path style=\"fill-rule:nonzero;fill:rgb(100%,0%,0%);fill-opacity:1;stroke-width:1;stroke-linecap:butt;stroke-linejoin:miter;stroke:rgb(0%,0%,0%);stroke-opacity:1;stroke-miterlimit:10;\" d=\"M 30 151.570312 C 30 157.09375 25.523438 161.570312 20 161.570312 C 14.476562 161.570312 10 157.09375 10 151.570312 C 10 146.046875 14.476562 141.570312 20 141.570312 C 25.523438 141.570312 30 146.046875 30 151.570312 \"/>\n<path style=\"fill-rule:nonzero;fill:rgb(100%,0%,0%);fill-opacity:1;stroke-width:1;stroke-linecap:butt;stroke-linejoin:miter;stroke:rgb(0%,0%,0%);stroke-opacity:1;stroke-miterlimit:10;\" d=\"M 290 48.429688 C 290 53.953125 285.523438 58.429688 280 58.429688 C 274.476562 58.429688 270 53.953125 270 48.429688 C 270 42.90625 274.476562 38.429688 280 38.429688 C 285.523438 38.429688 290 42.90625 290 48.429688 \"/>\n<g style=\"fill:rgb(0%,0%,0%);fill-opacity:1;\">\n  <use xlink:href=\"#glyph0-1\" x=\"184.628906\" y=\"166.402344\"/>\n</g>\n<g style=\"fill:rgb(0%,0%,0%);fill-opacity:1;\">\n  <use xlink:href=\"#glyph0-2\" x=\"145.507812\" y=\"106.714844\"/>\n</g>\n<g style=\"fill:rgb(0%,0%,0%);fill-opacity:1;\">\n  <use xlink:href=\"#glyph0-3\" x=\"250.761719\" y=\"130.09375\"/>\n</g>\n<g style=\"fill:rgb(0%,0%,0%);fill-opacity:1;\">\n  <use xlink:href=\"#glyph0-4\" x=\"107.746094\" y=\"186.710938\"/>\n</g>\n<g style=\"fill:rgb(0%,0%,0%);fill-opacity:1;\">\n  <use xlink:href=\"#glyph0-5\" x=\"88.652344\" y=\"129.308594\"/>\n</g>\n<g style=\"fill:rgb(0%,0%,0%);fill-opacity:1;\">\n  <use xlink:href=\"#glyph0-6\" x=\"202.585938\" y=\"84.117188\"/>\n</g>\n<g style=\"fill:rgb(0%,0%,0%);fill-opacity:1;\">\n  <use xlink:href=\"#glyph0-1\" x=\"40.753906\" y=\"83.402344\"/>\n</g>\n<g style=\"fill:rgb(0%,0%,0%);fill-opacity:1;\">\n  <use xlink:href=\"#glyph0-2\" x=\"183.363281\" y=\"26.710938\"/>\n</g>\n<g style=\"fill:rgb(0%,0%,0%);fill-opacity:1;\">\n  <use xlink:href=\"#glyph0-3\" x=\"106.886719\" y=\"47.09375\"/>\n</g>\n<g style=\"fill:rgb(0%,0%,0%);fill-opacity:1;\">\n  <use xlink:href=\"#glyph0-4\" x=\"15.601562\" y=\"158.285156\"/>\n</g>\n<g style=\"fill:rgb(0%,0%,0%);fill-opacity:1;\">\n  <use xlink:href=\"#glyph0-5\" x=\"275.609375\" y=\"55.140625\"/>\n</g>\n</g>\n</svg>\n"
          },
          "metadata": {
            "image/svg+xml": {
              "isolated": true
            }
          },
          "execution_count": 108
        }
      ]
    },
    {
      "cell_type": "code",
      "source": [
        "g.get_vertex_dataframe()"
      ],
      "metadata": {
        "colab": {
          "base_uri": "https://localhost:8080/",
          "height": 426
        },
        "id": "1sxLpR8BCnCy",
        "outputId": "d5703af3-77a9-4fa3-9f32-9bc45a26111d"
      },
      "execution_count": 109,
      "outputs": [
        {
          "output_type": "execute_result",
          "data": {
            "text/plain": [
              "           degree  betweenness  pagerank\n",
              "vertex ID                               \n",
              "0               4     7.666667  0.108777\n",
              "1               4     7.666667  0.108777\n",
              "2               3     3.833333  0.083948\n",
              "3               3     3.833333  0.083948\n",
              "4               3     3.833333  0.083948\n",
              "5               3     3.833333  0.083948\n",
              "6               3     3.833333  0.083948\n",
              "7               3     3.833333  0.083948\n",
              "8               4     7.666667  0.108777\n",
              "9               3     2.500000  0.084992\n",
              "10              3     2.500000  0.084992"
            ],
            "text/html": [
              "\n",
              "  <div id=\"df-6bb9d775-87ee-4976-a085-85b767afc520\">\n",
              "    <div class=\"colab-df-container\">\n",
              "      <div>\n",
              "<style scoped>\n",
              "    .dataframe tbody tr th:only-of-type {\n",
              "        vertical-align: middle;\n",
              "    }\n",
              "\n",
              "    .dataframe tbody tr th {\n",
              "        vertical-align: top;\n",
              "    }\n",
              "\n",
              "    .dataframe thead th {\n",
              "        text-align: right;\n",
              "    }\n",
              "</style>\n",
              "<table border=\"1\" class=\"dataframe\">\n",
              "  <thead>\n",
              "    <tr style=\"text-align: right;\">\n",
              "      <th></th>\n",
              "      <th>degree</th>\n",
              "      <th>betweenness</th>\n",
              "      <th>pagerank</th>\n",
              "    </tr>\n",
              "    <tr>\n",
              "      <th>vertex ID</th>\n",
              "      <th></th>\n",
              "      <th></th>\n",
              "      <th></th>\n",
              "    </tr>\n",
              "  </thead>\n",
              "  <tbody>\n",
              "    <tr>\n",
              "      <th>0</th>\n",
              "      <td>4</td>\n",
              "      <td>7.666667</td>\n",
              "      <td>0.108777</td>\n",
              "    </tr>\n",
              "    <tr>\n",
              "      <th>1</th>\n",
              "      <td>4</td>\n",
              "      <td>7.666667</td>\n",
              "      <td>0.108777</td>\n",
              "    </tr>\n",
              "    <tr>\n",
              "      <th>2</th>\n",
              "      <td>3</td>\n",
              "      <td>3.833333</td>\n",
              "      <td>0.083948</td>\n",
              "    </tr>\n",
              "    <tr>\n",
              "      <th>3</th>\n",
              "      <td>3</td>\n",
              "      <td>3.833333</td>\n",
              "      <td>0.083948</td>\n",
              "    </tr>\n",
              "    <tr>\n",
              "      <th>4</th>\n",
              "      <td>3</td>\n",
              "      <td>3.833333</td>\n",
              "      <td>0.083948</td>\n",
              "    </tr>\n",
              "    <tr>\n",
              "      <th>5</th>\n",
              "      <td>3</td>\n",
              "      <td>3.833333</td>\n",
              "      <td>0.083948</td>\n",
              "    </tr>\n",
              "    <tr>\n",
              "      <th>6</th>\n",
              "      <td>3</td>\n",
              "      <td>3.833333</td>\n",
              "      <td>0.083948</td>\n",
              "    </tr>\n",
              "    <tr>\n",
              "      <th>7</th>\n",
              "      <td>3</td>\n",
              "      <td>3.833333</td>\n",
              "      <td>0.083948</td>\n",
              "    </tr>\n",
              "    <tr>\n",
              "      <th>8</th>\n",
              "      <td>4</td>\n",
              "      <td>7.666667</td>\n",
              "      <td>0.108777</td>\n",
              "    </tr>\n",
              "    <tr>\n",
              "      <th>9</th>\n",
              "      <td>3</td>\n",
              "      <td>2.500000</td>\n",
              "      <td>0.084992</td>\n",
              "    </tr>\n",
              "    <tr>\n",
              "      <th>10</th>\n",
              "      <td>3</td>\n",
              "      <td>2.500000</td>\n",
              "      <td>0.084992</td>\n",
              "    </tr>\n",
              "  </tbody>\n",
              "</table>\n",
              "</div>\n",
              "      <button class=\"colab-df-convert\" onclick=\"convertToInteractive('df-6bb9d775-87ee-4976-a085-85b767afc520')\"\n",
              "              title=\"Convert this dataframe to an interactive table.\"\n",
              "              style=\"display:none;\">\n",
              "        \n",
              "  <svg xmlns=\"http://www.w3.org/2000/svg\" height=\"24px\"viewBox=\"0 0 24 24\"\n",
              "       width=\"24px\">\n",
              "    <path d=\"M0 0h24v24H0V0z\" fill=\"none\"/>\n",
              "    <path d=\"M18.56 5.44l.94 2.06.94-2.06 2.06-.94-2.06-.94-.94-2.06-.94 2.06-2.06.94zm-11 1L8.5 8.5l.94-2.06 2.06-.94-2.06-.94L8.5 2.5l-.94 2.06-2.06.94zm10 10l.94 2.06.94-2.06 2.06-.94-2.06-.94-.94-2.06-.94 2.06-2.06.94z\"/><path d=\"M17.41 7.96l-1.37-1.37c-.4-.4-.92-.59-1.43-.59-.52 0-1.04.2-1.43.59L10.3 9.45l-7.72 7.72c-.78.78-.78 2.05 0 2.83L4 21.41c.39.39.9.59 1.41.59.51 0 1.02-.2 1.41-.59l7.78-7.78 2.81-2.81c.8-.78.8-2.07 0-2.86zM5.41 20L4 18.59l7.72-7.72 1.47 1.35L5.41 20z\"/>\n",
              "  </svg>\n",
              "      </button>\n",
              "      \n",
              "  <style>\n",
              "    .colab-df-container {\n",
              "      display:flex;\n",
              "      flex-wrap:wrap;\n",
              "      gap: 12px;\n",
              "    }\n",
              "\n",
              "    .colab-df-convert {\n",
              "      background-color: #E8F0FE;\n",
              "      border: none;\n",
              "      border-radius: 50%;\n",
              "      cursor: pointer;\n",
              "      display: none;\n",
              "      fill: #1967D2;\n",
              "      height: 32px;\n",
              "      padding: 0 0 0 0;\n",
              "      width: 32px;\n",
              "    }\n",
              "\n",
              "    .colab-df-convert:hover {\n",
              "      background-color: #E2EBFA;\n",
              "      box-shadow: 0px 1px 2px rgba(60, 64, 67, 0.3), 0px 1px 3px 1px rgba(60, 64, 67, 0.15);\n",
              "      fill: #174EA6;\n",
              "    }\n",
              "\n",
              "    [theme=dark] .colab-df-convert {\n",
              "      background-color: #3B4455;\n",
              "      fill: #D2E3FC;\n",
              "    }\n",
              "\n",
              "    [theme=dark] .colab-df-convert:hover {\n",
              "      background-color: #434B5C;\n",
              "      box-shadow: 0px 1px 3px 1px rgba(0, 0, 0, 0.15);\n",
              "      filter: drop-shadow(0px 1px 2px rgba(0, 0, 0, 0.3));\n",
              "      fill: #FFFFFF;\n",
              "    }\n",
              "  </style>\n",
              "\n",
              "      <script>\n",
              "        const buttonEl =\n",
              "          document.querySelector('#df-6bb9d775-87ee-4976-a085-85b767afc520 button.colab-df-convert');\n",
              "        buttonEl.style.display =\n",
              "          google.colab.kernel.accessAllowed ? 'block' : 'none';\n",
              "\n",
              "        async function convertToInteractive(key) {\n",
              "          const element = document.querySelector('#df-6bb9d775-87ee-4976-a085-85b767afc520');\n",
              "          const dataTable =\n",
              "            await google.colab.kernel.invokeFunction('convertToInteractive',\n",
              "                                                     [key], {});\n",
              "          if (!dataTable) return;\n",
              "\n",
              "          const docLinkHtml = 'Like what you see? Visit the ' +\n",
              "            '<a target=\"_blank\" href=https://colab.research.google.com/notebooks/data_table.ipynb>data table notebook</a>'\n",
              "            + ' to learn more about interactive tables.';\n",
              "          element.innerHTML = '';\n",
              "          dataTable['output_type'] = 'display_data';\n",
              "          await google.colab.output.renderOutput(dataTable, element);\n",
              "          const docLink = document.createElement('div');\n",
              "          docLink.innerHTML = docLinkHtml;\n",
              "          element.appendChild(docLink);\n",
              "        }\n",
              "      </script>\n",
              "    </div>\n",
              "  </div>\n",
              "  "
            ]
          },
          "metadata": {},
          "execution_count": 109
        }
      ]
    },
    {
      "cell_type": "code",
      "source": [
        "plot(g, bbox=(300, 200),vertex_label=g.vs['degree'], vertex_size=30, vertex_label_cex=5)"
      ],
      "metadata": {
        "colab": {
          "base_uri": "https://localhost:8080/",
          "height": 288
        },
        "id": "Rq5_gMMdC4K0",
        "outputId": "d644f623-ce7b-42ac-fe4b-60b25d17b054"
      },
      "execution_count": 99,
      "outputs": [
        {
          "output_type": "execute_result",
          "data": {
            "text/plain": [
              "<igraph.drawing.cairo.plot.CairoPlot at 0x7fc9756c86d0>"
            ],
            "image/svg+xml": "<?xml version=\"1.0\" encoding=\"UTF-8\"?>\n<svg xmlns=\"http://www.w3.org/2000/svg\" xmlns:xlink=\"http://www.w3.org/1999/xlink\" width=\"300pt\" height=\"200pt\" viewBox=\"0 0 300 200\" version=\"1.1\">\n<defs>\n<g>\n<symbol overflow=\"visible\" id=\"glyph0-0\">\n<path style=\"stroke:none;\" d=\"M 0.46875 0 L 0.46875 -9.328125 L 4.1875 -9.328125 L 4.1875 0 Z M 0.9375 -0.46875 L 3.71875 -0.46875 L 3.71875 -8.859375 L 0.9375 -8.859375 Z M 0.9375 -0.46875 \"/>\n</symbol>\n<symbol overflow=\"visible\" id=\"glyph0-1\">\n<path style=\"stroke:none;\" d=\"M 6.40625 -2.1875 L 6.40625 0 L 5.171875 0 L 5.171875 -2.1875 L 0.703125 -2.1875 L 0.703125 -3.140625 L 5.046875 -9.21875 L 6.40625 -9.21875 L 6.40625 -3.15625 L 7.6875 -3.15625 L 7.6875 -2.1875 Z M 5.171875 -7.890625 L 1.75 -3.15625 L 5.171875 -3.15625 Z M 5.171875 -7.890625 \"/>\n</symbol>\n<symbol overflow=\"visible\" id=\"glyph0-2\">\n<path style=\"stroke:none;\" d=\"M 7.515625 -2.53125 C 7.515625 -2.113281 7.441406 -1.738281 7.296875 -1.40625 C 7.148438 -1.082031 6.9375 -0.804688 6.65625 -0.578125 C 6.382812 -0.347656 6.046875 -0.171875 5.640625 -0.046875 C 5.234375 0.078125 4.769531 0.140625 4.25 0.140625 C 3.65625 0.140625 3.148438 0.0664062 2.734375 -0.078125 C 2.328125 -0.234375 1.988281 -0.429688 1.71875 -0.671875 C 1.457031 -0.921875 1.257812 -1.195312 1.125 -1.5 C 1 -1.8125 0.914062 -2.132812 0.875 -2.46875 L 2.140625 -2.59375 C 2.179688 -2.332031 2.25 -2.097656 2.34375 -1.890625 C 2.445312 -1.679688 2.582031 -1.5 2.75 -1.34375 C 2.914062 -1.195312 3.125 -1.082031 3.375 -1 C 3.625 -0.914062 3.914062 -0.875 4.25 -0.875 C 4.863281 -0.875 5.347656 -1.019531 5.703125 -1.3125 C 6.054688 -1.601562 6.234375 -2.023438 6.234375 -2.578125 C 6.234375 -2.878906 6.15625 -3.132812 6 -3.34375 C 5.84375 -3.550781 5.644531 -3.710938 5.40625 -3.828125 C 5.175781 -3.953125 4.921875 -4.035156 4.640625 -4.078125 C 4.367188 -4.128906 4.117188 -4.15625 3.890625 -4.15625 L 3.1875 -4.15625 L 3.1875 -5.234375 L 3.859375 -5.234375 C 4.085938 -5.234375 4.328125 -5.257812 4.578125 -5.3125 C 4.828125 -5.375 5.054688 -5.46875 5.265625 -5.59375 C 5.472656 -5.71875 5.644531 -5.878906 5.78125 -6.078125 C 5.914062 -6.285156 5.984375 -6.53125 5.984375 -6.8125 C 5.984375 -7.300781 5.832031 -7.679688 5.53125 -7.953125 C 5.226562 -8.222656 4.773438 -8.359375 4.171875 -8.359375 C 3.628906 -8.359375 3.191406 -8.21875 2.859375 -7.9375 C 2.523438 -7.65625 2.332031 -7.265625 2.28125 -6.765625 L 1.046875 -6.859375 C 1.085938 -7.285156 1.195312 -7.65625 1.375 -7.96875 C 1.5625 -8.28125 1.796875 -8.539062 2.078125 -8.75 C 2.359375 -8.957031 2.675781 -9.109375 3.03125 -9.203125 C 3.394531 -9.304688 3.78125 -9.359375 4.1875 -9.359375 C 4.726562 -9.359375 5.191406 -9.296875 5.578125 -9.171875 C 5.960938 -9.046875 6.273438 -8.875 6.515625 -8.65625 C 6.765625 -8.4375 6.945312 -8.175781 7.0625 -7.875 C 7.1875 -7.582031 7.25 -7.273438 7.25 -6.953125 C 7.25 -6.691406 7.207031 -6.441406 7.125 -6.203125 C 7.039062 -5.972656 6.914062 -5.757812 6.75 -5.5625 C 6.582031 -5.375 6.367188 -5.207031 6.109375 -5.0625 C 5.859375 -4.914062 5.566406 -4.804688 5.234375 -4.734375 L 5.234375 -4.703125 C 5.609375 -4.671875 5.9375 -4.582031 6.21875 -4.4375 C 6.5 -4.300781 6.734375 -4.132812 6.921875 -3.9375 C 7.117188 -3.738281 7.265625 -3.519531 7.359375 -3.28125 C 7.460938 -3.039062 7.515625 -2.789062 7.515625 -2.53125 Z M 7.515625 -2.53125 \"/>\n</symbol>\n</g>\n</defs>\n<g id=\"surface218\">\n<rect x=\"0\" y=\"0\" width=\"300\" height=\"200\" style=\"fill:rgb(100%,100%,100%);fill-opacity:1;stroke:none;\"/>\n<path style=\"fill:none;stroke-width:1;stroke-linecap:butt;stroke-linejoin:miter;stroke:rgb(26.666667%,26.666667%,26.666667%);stroke-opacity:1;stroke-miterlimit:10;\" d=\"M 188.824219 159.691406 L 255.050781 123.308594 \"/>\n<path style=\"fill:none;stroke-width:1;stroke-linecap:butt;stroke-linejoin:miter;stroke:rgb(26.666667%,26.666667%,26.666667%);stroke-opacity:1;stroke-miterlimit:10;\" d=\"M 188.824219 159.691406 L 112.144531 180 \"/>\n<path style=\"fill:none;stroke-width:1;stroke-linecap:butt;stroke-linejoin:miter;stroke:rgb(26.666667%,26.666667%,26.666667%);stroke-opacity:1;stroke-miterlimit:10;\" d=\"M 188.824219 159.691406 L 93.042969 122.59375 \"/>\n<path style=\"fill:none;stroke-width:1;stroke-linecap:butt;stroke-linejoin:miter;stroke:rgb(26.666667%,26.666667%,26.666667%);stroke-opacity:1;stroke-miterlimit:10;\" d=\"M 188.824219 159.691406 L 206.957031 77.40625 \"/>\n<path style=\"fill:none;stroke-width:1;stroke-linecap:butt;stroke-linejoin:miter;stroke:rgb(26.666667%,26.666667%,26.666667%);stroke-opacity:1;stroke-miterlimit:10;\" d=\"M 150 100 L 255.050781 123.308594 \"/>\n<path style=\"fill:none;stroke-width:1;stroke-linecap:butt;stroke-linejoin:miter;stroke:rgb(26.666667%,26.666667%,26.666667%);stroke-opacity:1;stroke-miterlimit:10;\" d=\"M 150 100 L 112.144531 180 \"/>\n<path style=\"fill:none;stroke-width:1;stroke-linecap:butt;stroke-linejoin:miter;stroke:rgb(26.666667%,26.666667%,26.666667%);stroke-opacity:1;stroke-miterlimit:10;\" d=\"M 150 100 L 44.949219 76.691406 \"/>\n<path style=\"fill:none;stroke-width:1;stroke-linecap:butt;stroke-linejoin:miter;stroke:rgb(26.666667%,26.666667%,26.666667%);stroke-opacity:1;stroke-miterlimit:10;\" d=\"M 150 100 L 187.855469 20 \"/>\n<path style=\"fill:none;stroke-width:1;stroke-linecap:butt;stroke-linejoin:miter;stroke:rgb(26.666667%,26.666667%,26.666667%);stroke-opacity:1;stroke-miterlimit:10;\" d=\"M 255.050781 123.308594 L 280 48.429688 \"/>\n<path style=\"fill:none;stroke-width:1;stroke-linecap:butt;stroke-linejoin:miter;stroke:rgb(26.666667%,26.666667%,26.666667%);stroke-opacity:1;stroke-miterlimit:10;\" d=\"M 112.144531 180 L 20 151.570312 \"/>\n<path style=\"fill:none;stroke-width:1;stroke-linecap:butt;stroke-linejoin:miter;stroke:rgb(26.666667%,26.666667%,26.666667%);stroke-opacity:1;stroke-miterlimit:10;\" d=\"M 93.042969 122.59375 L 111.175781 40.308594 \"/>\n<path style=\"fill:none;stroke-width:1;stroke-linecap:butt;stroke-linejoin:miter;stroke:rgb(26.666667%,26.666667%,26.666667%);stroke-opacity:1;stroke-miterlimit:10;\" d=\"M 93.042969 122.59375 L 20 151.570312 \"/>\n<path style=\"fill:none;stroke-width:1;stroke-linecap:butt;stroke-linejoin:miter;stroke:rgb(26.666667%,26.666667%,26.666667%);stroke-opacity:1;stroke-miterlimit:10;\" d=\"M 206.957031 77.40625 L 111.175781 40.308594 \"/>\n<path style=\"fill:none;stroke-width:1;stroke-linecap:butt;stroke-linejoin:miter;stroke:rgb(26.666667%,26.666667%,26.666667%);stroke-opacity:1;stroke-miterlimit:10;\" d=\"M 206.957031 77.40625 L 280 48.429688 \"/>\n<path style=\"fill:none;stroke-width:1;stroke-linecap:butt;stroke-linejoin:miter;stroke:rgb(26.666667%,26.666667%,26.666667%);stroke-opacity:1;stroke-miterlimit:10;\" d=\"M 44.949219 76.691406 L 111.175781 40.308594 \"/>\n<path style=\"fill:none;stroke-width:1;stroke-linecap:butt;stroke-linejoin:miter;stroke:rgb(26.666667%,26.666667%,26.666667%);stroke-opacity:1;stroke-miterlimit:10;\" d=\"M 44.949219 76.691406 L 20 151.570312 \"/>\n<path style=\"fill:none;stroke-width:1;stroke-linecap:butt;stroke-linejoin:miter;stroke:rgb(26.666667%,26.666667%,26.666667%);stroke-opacity:1;stroke-miterlimit:10;\" d=\"M 187.855469 20 L 111.175781 40.308594 \"/>\n<path style=\"fill:none;stroke-width:1;stroke-linecap:butt;stroke-linejoin:miter;stroke:rgb(26.666667%,26.666667%,26.666667%);stroke-opacity:1;stroke-miterlimit:10;\" d=\"M 187.855469 20 L 280 48.429688 \"/>\n<path style=\"fill-rule:nonzero;fill:rgb(100%,0%,0%);fill-opacity:1;stroke-width:1;stroke-linecap:butt;stroke-linejoin:miter;stroke:rgb(0%,0%,0%);stroke-opacity:1;stroke-miterlimit:10;\" d=\"M 203.824219 159.691406 C 203.824219 167.976562 197.109375 174.691406 188.824219 174.691406 C 180.539062 174.691406 173.824219 167.976562 173.824219 159.691406 C 173.824219 151.40625 180.539062 144.691406 188.824219 144.691406 C 197.109375 144.691406 203.824219 151.40625 203.824219 159.691406 \"/>\n<path style=\"fill-rule:nonzero;fill:rgb(100%,0%,0%);fill-opacity:1;stroke-width:1;stroke-linecap:butt;stroke-linejoin:miter;stroke:rgb(0%,0%,0%);stroke-opacity:1;stroke-miterlimit:10;\" d=\"M 165 100 C 165 108.285156 158.285156 115 150 115 C 141.714844 115 135 108.285156 135 100 C 135 91.714844 141.714844 85 150 85 C 158.285156 85 165 91.714844 165 100 \"/>\n<path style=\"fill-rule:nonzero;fill:rgb(100%,0%,0%);fill-opacity:1;stroke-width:1;stroke-linecap:butt;stroke-linejoin:miter;stroke:rgb(0%,0%,0%);stroke-opacity:1;stroke-miterlimit:10;\" d=\"M 270.050781 123.308594 C 270.050781 131.59375 263.335938 138.308594 255.050781 138.308594 C 246.765625 138.308594 240.050781 131.59375 240.050781 123.308594 C 240.050781 115.023438 246.765625 108.308594 255.050781 108.308594 C 263.335938 108.308594 270.050781 115.023438 270.050781 123.308594 \"/>\n<path style=\"fill-rule:nonzero;fill:rgb(100%,0%,0%);fill-opacity:1;stroke-width:1;stroke-linecap:butt;stroke-linejoin:miter;stroke:rgb(0%,0%,0%);stroke-opacity:1;stroke-miterlimit:10;\" d=\"M 127.144531 180 C 127.144531 188.285156 120.429688 195 112.144531 195 C 103.859375 195 97.144531 188.285156 97.144531 180 C 97.144531 171.714844 103.859375 165 112.144531 165 C 120.429688 165 127.144531 171.714844 127.144531 180 \"/>\n<path style=\"fill-rule:nonzero;fill:rgb(100%,0%,0%);fill-opacity:1;stroke-width:1;stroke-linecap:butt;stroke-linejoin:miter;stroke:rgb(0%,0%,0%);stroke-opacity:1;stroke-miterlimit:10;\" d=\"M 108.042969 122.59375 C 108.042969 130.878906 101.324219 137.59375 93.042969 137.59375 C 84.757812 137.59375 78.042969 130.878906 78.042969 122.59375 C 78.042969 114.3125 84.757812 107.59375 93.042969 107.59375 C 101.324219 107.59375 108.042969 114.3125 108.042969 122.59375 \"/>\n<path style=\"fill-rule:nonzero;fill:rgb(100%,0%,0%);fill-opacity:1;stroke-width:1;stroke-linecap:butt;stroke-linejoin:miter;stroke:rgb(0%,0%,0%);stroke-opacity:1;stroke-miterlimit:10;\" d=\"M 221.957031 77.40625 C 221.957031 85.6875 215.242188 92.40625 206.957031 92.40625 C 198.675781 92.40625 191.957031 85.6875 191.957031 77.40625 C 191.957031 69.121094 198.675781 62.40625 206.957031 62.40625 C 215.242188 62.40625 221.957031 69.121094 221.957031 77.40625 \"/>\n<path style=\"fill-rule:nonzero;fill:rgb(100%,0%,0%);fill-opacity:1;stroke-width:1;stroke-linecap:butt;stroke-linejoin:miter;stroke:rgb(0%,0%,0%);stroke-opacity:1;stroke-miterlimit:10;\" d=\"M 59.949219 76.691406 C 59.949219 84.976562 53.234375 91.691406 44.949219 91.691406 C 36.664062 91.691406 29.949219 84.976562 29.949219 76.691406 C 29.949219 68.40625 36.664062 61.691406 44.949219 61.691406 C 53.234375 61.691406 59.949219 68.40625 59.949219 76.691406 \"/>\n<path style=\"fill-rule:nonzero;fill:rgb(100%,0%,0%);fill-opacity:1;stroke-width:1;stroke-linecap:butt;stroke-linejoin:miter;stroke:rgb(0%,0%,0%);stroke-opacity:1;stroke-miterlimit:10;\" d=\"M 202.855469 20 C 202.855469 28.285156 196.140625 35 187.855469 35 C 179.570312 35 172.855469 28.285156 172.855469 20 C 172.855469 11.714844 179.570312 5 187.855469 5 C 196.140625 5 202.855469 11.714844 202.855469 20 \"/>\n<path style=\"fill-rule:nonzero;fill:rgb(100%,0%,0%);fill-opacity:1;stroke-width:1;stroke-linecap:butt;stroke-linejoin:miter;stroke:rgb(0%,0%,0%);stroke-opacity:1;stroke-miterlimit:10;\" d=\"M 126.175781 40.308594 C 126.175781 48.59375 119.460938 55.308594 111.175781 55.308594 C 102.890625 55.308594 96.175781 48.59375 96.175781 40.308594 C 96.175781 32.023438 102.890625 25.308594 111.175781 25.308594 C 119.460938 25.308594 126.175781 32.023438 126.175781 40.308594 \"/>\n<path style=\"fill-rule:nonzero;fill:rgb(100%,0%,0%);fill-opacity:1;stroke-width:1;stroke-linecap:butt;stroke-linejoin:miter;stroke:rgb(0%,0%,0%);stroke-opacity:1;stroke-miterlimit:10;\" d=\"M 35 151.570312 C 35 159.855469 28.285156 166.570312 20 166.570312 C 11.714844 166.570312 5 159.855469 5 151.570312 C 5 143.285156 11.714844 136.570312 20 136.570312 C 28.285156 136.570312 35 143.285156 35 151.570312 \"/>\n<path style=\"fill-rule:nonzero;fill:rgb(100%,0%,0%);fill-opacity:1;stroke-width:1;stroke-linecap:butt;stroke-linejoin:miter;stroke:rgb(0%,0%,0%);stroke-opacity:1;stroke-miterlimit:10;\" d=\"M 295 48.429688 C 295 56.714844 288.285156 63.429688 280 63.429688 C 271.714844 63.429688 265 56.714844 265 48.429688 C 265 40.144531 271.714844 33.429688 280 33.429688 C 288.285156 33.429688 295 40.144531 295 48.429688 \"/>\n<g style=\"fill:rgb(0%,0%,0%);fill-opacity:1;\">\n  <use xlink:href=\"#glyph0-1\" x=\"184.628906\" y=\"166.402344\"/>\n</g>\n<g style=\"fill:rgb(0%,0%,0%);fill-opacity:1;\">\n  <use xlink:href=\"#glyph0-1\" x=\"145.800781\" y=\"106.714844\"/>\n</g>\n<g style=\"fill:rgb(0%,0%,0%);fill-opacity:1;\">\n  <use xlink:href=\"#glyph0-2\" x=\"250.855469\" y=\"130.09375\"/>\n</g>\n<g style=\"fill:rgb(0%,0%,0%);fill-opacity:1;\">\n  <use xlink:href=\"#glyph0-2\" x=\"107.953125\" y=\"186.785156\"/>\n</g>\n<g style=\"fill:rgb(0%,0%,0%);fill-opacity:1;\">\n  <use xlink:href=\"#glyph0-2\" x=\"88.847656\" y=\"129.378906\"/>\n</g>\n<g style=\"fill:rgb(0%,0%,0%);fill-opacity:1;\">\n  <use xlink:href=\"#glyph0-2\" x=\"202.765625\" y=\"84.1875\"/>\n</g>\n<g style=\"fill:rgb(0%,0%,0%);fill-opacity:1;\">\n  <use xlink:href=\"#glyph0-2\" x=\"40.753906\" y=\"83.476562\"/>\n</g>\n<g style=\"fill:rgb(0%,0%,0%);fill-opacity:1;\">\n  <use xlink:href=\"#glyph0-2\" x=\"183.660156\" y=\"26.785156\"/>\n</g>\n<g style=\"fill:rgb(0%,0%,0%);fill-opacity:1;\">\n  <use xlink:href=\"#glyph0-1\" x=\"106.976562\" y=\"47.023438\"/>\n</g>\n<g style=\"fill:rgb(0%,0%,0%);fill-opacity:1;\">\n  <use xlink:href=\"#glyph0-2\" x=\"15.804688\" y=\"158.355469\"/>\n</g>\n<g style=\"fill:rgb(0%,0%,0%);fill-opacity:1;\">\n  <use xlink:href=\"#glyph0-2\" x=\"275.804688\" y=\"55.214844\"/>\n</g>\n</g>\n</svg>\n"
          },
          "metadata": {
            "image/svg+xml": {
              "isolated": true
            }
          },
          "execution_count": 99
        }
      ]
    },
    {
      "cell_type": "code",
      "source": [
        "plot(g, bbox=(300, 200),vertex_label=g.vs['betweenness'], vertex_size=30, vertex_label_cex=5)"
      ],
      "metadata": {
        "colab": {
          "base_uri": "https://localhost:8080/",
          "height": 288
        },
        "id": "7hgEe1X4Ddb1",
        "outputId": "00fe1dd4-f4f6-4779-db06-af2652becbe7"
      },
      "execution_count": 100,
      "outputs": [
        {
          "output_type": "execute_result",
          "data": {
            "text/plain": [
              "<igraph.drawing.cairo.plot.CairoPlot at 0x7fc9756c82b0>"
            ],
            "image/svg+xml": "<?xml version=\"1.0\" encoding=\"UTF-8\"?>\n<svg xmlns=\"http://www.w3.org/2000/svg\" xmlns:xlink=\"http://www.w3.org/1999/xlink\" width=\"300pt\" height=\"200pt\" viewBox=\"0 0 300 200\" version=\"1.1\">\n<defs>\n<g>\n<symbol overflow=\"visible\" id=\"glyph0-0\">\n<path style=\"stroke:none;\" d=\"M 0.46875 0 L 0.46875 -9.328125 L 4.1875 -9.328125 L 4.1875 0 Z M 0.9375 -0.46875 L 3.71875 -0.46875 L 3.71875 -8.859375 L 0.9375 -8.859375 Z M 0.9375 -0.46875 \"/>\n</symbol>\n<symbol overflow=\"visible\" id=\"glyph0-1\">\n<path style=\"stroke:none;\" d=\"M 7.3125 -8.265625 C 6.875 -7.640625 6.457031 -6.988281 6.0625 -6.3125 C 5.675781 -5.644531 5.332031 -4.960938 5.03125 -4.265625 C 4.738281 -3.578125 4.503906 -2.875 4.328125 -2.15625 C 4.160156 -1.445312 4.078125 -0.726562 4.078125 0 L 2.796875 0 C 2.796875 -0.71875 2.882812 -1.4375 3.0625 -2.15625 C 3.25 -2.875 3.492188 -3.582031 3.796875 -4.28125 C 4.097656 -4.976562 4.445312 -5.660156 4.84375 -6.328125 C 5.25 -6.992188 5.675781 -7.628906 6.125 -8.234375 L 1.078125 -8.234375 L 1.078125 -9.21875 L 7.3125 -9.21875 Z M 7.3125 -8.265625 \"/>\n</symbol>\n<symbol overflow=\"visible\" id=\"glyph0-2\">\n<path style=\"stroke:none;\" d=\"M 3.390625 0 L 3.390625 -2.046875 L 5 -2.046875 L 5 0 Z M 3.390625 0 \"/>\n</symbol>\n<symbol overflow=\"visible\" id=\"glyph0-3\">\n<path style=\"stroke:none;\" d=\"M 7.5 -3.046875 C 7.5 -2.585938 7.429688 -2.164062 7.296875 -1.78125 C 7.160156 -1.394531 6.957031 -1.054688 6.6875 -0.765625 C 6.425781 -0.484375 6.101562 -0.257812 5.71875 -0.09375 C 5.332031 0.0625 4.882812 0.140625 4.375 0.140625 C 3.820312 0.140625 3.332031 0.0351562 2.90625 -0.171875 C 2.488281 -0.390625 2.140625 -0.691406 1.859375 -1.078125 C 1.585938 -1.472656 1.378906 -1.945312 1.234375 -2.5 C 1.097656 -3.0625 1.03125 -3.691406 1.03125 -4.390625 C 1.03125 -5.191406 1.109375 -5.898438 1.265625 -6.515625 C 1.421875 -7.140625 1.644531 -7.660156 1.9375 -8.078125 C 2.238281 -8.503906 2.601562 -8.820312 3.03125 -9.03125 C 3.457031 -9.25 3.941406 -9.359375 4.484375 -9.359375 C 4.804688 -9.359375 5.109375 -9.320312 5.390625 -9.25 C 5.679688 -9.1875 5.941406 -9.078125 6.171875 -8.921875 C 6.410156 -8.773438 6.617188 -8.578125 6.796875 -8.328125 C 6.972656 -8.078125 7.113281 -7.769531 7.21875 -7.40625 L 6.046875 -7.1875 C 5.921875 -7.601562 5.71875 -7.90625 5.4375 -8.09375 C 5.15625 -8.28125 4.832031 -8.375 4.46875 -8.375 C 4.125 -8.375 3.816406 -8.289062 3.546875 -8.125 C 3.273438 -7.96875 3.039062 -7.738281 2.84375 -7.4375 C 2.65625 -7.132812 2.507812 -6.757812 2.40625 -6.3125 C 2.300781 -5.863281 2.25 -5.34375 2.25 -4.75 C 2.476562 -5.164062 2.796875 -5.476562 3.203125 -5.6875 C 3.609375 -5.90625 4.070312 -6.015625 4.59375 -6.015625 C 5.03125 -6.015625 5.425781 -5.941406 5.78125 -5.796875 C 6.144531 -5.660156 6.453125 -5.460938 6.703125 -5.203125 C 6.953125 -4.941406 7.144531 -4.628906 7.28125 -4.265625 C 7.425781 -3.898438 7.5 -3.492188 7.5 -3.046875 Z M 6.234375 -3 C 6.234375 -3.300781 6.191406 -3.578125 6.109375 -3.828125 C 6.035156 -4.085938 5.914062 -4.304688 5.75 -4.484375 C 5.582031 -4.671875 5.378906 -4.816406 5.140625 -4.921875 C 4.898438 -5.023438 4.617188 -5.078125 4.296875 -5.078125 C 4.078125 -5.078125 3.851562 -5.035156 3.625 -4.953125 C 3.394531 -4.878906 3.1875 -4.769531 3 -4.625 C 2.820312 -4.476562 2.671875 -4.289062 2.546875 -4.0625 C 2.429688 -3.84375 2.375 -3.582031 2.375 -3.28125 C 2.375 -2.957031 2.421875 -2.648438 2.515625 -2.359375 C 2.609375 -2.066406 2.738281 -1.804688 2.90625 -1.578125 C 3.082031 -1.359375 3.289062 -1.179688 3.53125 -1.046875 C 3.769531 -0.921875 4.039062 -0.859375 4.34375 -0.859375 C 4.632812 -0.859375 4.894531 -0.90625 5.125 -1 C 5.363281 -1.101562 5.566406 -1.25 5.734375 -1.4375 C 5.898438 -1.625 6.023438 -1.847656 6.109375 -2.109375 C 6.191406 -2.378906 6.234375 -2.675781 6.234375 -3 Z M 6.234375 -3 \"/>\n</symbol>\n<symbol overflow=\"visible\" id=\"glyph0-4\">\n<path style=\"stroke:none;\" d=\"M 7.515625 -3.03125 C 7.515625 -2.582031 7.441406 -2.160156 7.296875 -1.765625 C 7.148438 -1.378906 6.929688 -1.046875 6.640625 -0.765625 C 6.359375 -0.484375 6.003906 -0.257812 5.578125 -0.09375 C 5.148438 0.0625 4.65625 0.140625 4.09375 0.140625 C 3.59375 0.140625 3.148438 0.0820312 2.765625 -0.03125 C 2.390625 -0.15625 2.070312 -0.320312 1.8125 -0.53125 C 1.550781 -0.738281 1.34375 -0.976562 1.1875 -1.25 C 1.039062 -1.53125 0.9375 -1.832031 0.875 -2.15625 L 2.125 -2.296875 C 2.164062 -2.117188 2.234375 -1.941406 2.328125 -1.765625 C 2.421875 -1.597656 2.546875 -1.445312 2.703125 -1.3125 C 2.859375 -1.175781 3.050781 -1.066406 3.28125 -0.984375 C 3.507812 -0.910156 3.789062 -0.875 4.125 -0.875 C 4.4375 -0.875 4.722656 -0.921875 4.984375 -1.015625 C 5.242188 -1.109375 5.46875 -1.242188 5.65625 -1.421875 C 5.84375 -1.609375 5.984375 -1.835938 6.078125 -2.109375 C 6.179688 -2.378906 6.234375 -2.679688 6.234375 -3.015625 C 6.234375 -3.285156 6.1875 -3.535156 6.09375 -3.765625 C 6 -4.003906 5.863281 -4.207031 5.6875 -4.375 C 5.507812 -4.550781 5.289062 -4.6875 5.03125 -4.78125 C 4.769531 -4.882812 4.476562 -4.9375 4.15625 -4.9375 C 3.945312 -4.9375 3.753906 -4.914062 3.578125 -4.875 C 3.410156 -4.84375 3.25 -4.796875 3.09375 -4.734375 C 2.945312 -4.671875 2.8125 -4.59375 2.6875 -4.5 C 2.570312 -4.414062 2.460938 -4.332031 2.359375 -4.25 L 1.15625 -4.25 L 1.484375 -9.21875 L 6.953125 -9.21875 L 6.953125 -8.234375 L 2.609375 -8.234375 L 2.40625 -5.328125 C 2.625 -5.492188 2.894531 -5.632812 3.21875 -5.75 C 3.550781 -5.875 3.945312 -5.9375 4.40625 -5.9375 C 4.882812 -5.9375 5.3125 -5.863281 5.6875 -5.71875 C 6.070312 -5.570312 6.398438 -5.367188 6.671875 -5.109375 C 6.941406 -4.859375 7.148438 -4.554688 7.296875 -4.203125 C 7.441406 -3.847656 7.515625 -3.457031 7.515625 -3.03125 Z M 7.515625 -3.03125 \"/>\n</symbol>\n<symbol overflow=\"visible\" id=\"glyph0-5\">\n<path style=\"stroke:none;\" d=\"M 7.515625 -2.53125 C 7.515625 -2.113281 7.441406 -1.738281 7.296875 -1.40625 C 7.148438 -1.082031 6.9375 -0.804688 6.65625 -0.578125 C 6.382812 -0.347656 6.046875 -0.171875 5.640625 -0.046875 C 5.234375 0.078125 4.769531 0.140625 4.25 0.140625 C 3.65625 0.140625 3.148438 0.0664062 2.734375 -0.078125 C 2.328125 -0.234375 1.988281 -0.429688 1.71875 -0.671875 C 1.457031 -0.921875 1.257812 -1.195312 1.125 -1.5 C 1 -1.8125 0.914062 -2.132812 0.875 -2.46875 L 2.140625 -2.59375 C 2.179688 -2.332031 2.25 -2.097656 2.34375 -1.890625 C 2.445312 -1.679688 2.582031 -1.5 2.75 -1.34375 C 2.914062 -1.195312 3.125 -1.082031 3.375 -1 C 3.625 -0.914062 3.914062 -0.875 4.25 -0.875 C 4.863281 -0.875 5.347656 -1.019531 5.703125 -1.3125 C 6.054688 -1.601562 6.234375 -2.023438 6.234375 -2.578125 C 6.234375 -2.878906 6.15625 -3.132812 6 -3.34375 C 5.84375 -3.550781 5.644531 -3.710938 5.40625 -3.828125 C 5.175781 -3.953125 4.921875 -4.035156 4.640625 -4.078125 C 4.367188 -4.128906 4.117188 -4.15625 3.890625 -4.15625 L 3.1875 -4.15625 L 3.1875 -5.234375 L 3.859375 -5.234375 C 4.085938 -5.234375 4.328125 -5.257812 4.578125 -5.3125 C 4.828125 -5.375 5.054688 -5.46875 5.265625 -5.59375 C 5.472656 -5.71875 5.644531 -5.878906 5.78125 -6.078125 C 5.914062 -6.285156 5.984375 -6.53125 5.984375 -6.8125 C 5.984375 -7.300781 5.832031 -7.679688 5.53125 -7.953125 C 5.226562 -8.222656 4.773438 -8.359375 4.171875 -8.359375 C 3.628906 -8.359375 3.191406 -8.21875 2.859375 -7.9375 C 2.523438 -7.65625 2.332031 -7.265625 2.28125 -6.765625 L 1.046875 -6.859375 C 1.085938 -7.285156 1.195312 -7.65625 1.375 -7.96875 C 1.5625 -8.28125 1.796875 -8.539062 2.078125 -8.75 C 2.359375 -8.957031 2.675781 -9.109375 3.03125 -9.203125 C 3.394531 -9.304688 3.78125 -9.359375 4.1875 -9.359375 C 4.726562 -9.359375 5.191406 -9.296875 5.578125 -9.171875 C 5.960938 -9.046875 6.273438 -8.875 6.515625 -8.65625 C 6.765625 -8.4375 6.945312 -8.175781 7.0625 -7.875 C 7.1875 -7.582031 7.25 -7.273438 7.25 -6.953125 C 7.25 -6.691406 7.207031 -6.441406 7.125 -6.203125 C 7.039062 -5.972656 6.914062 -5.757812 6.75 -5.5625 C 6.582031 -5.375 6.367188 -5.207031 6.109375 -5.0625 C 5.859375 -4.914062 5.566406 -4.804688 5.234375 -4.734375 L 5.234375 -4.703125 C 5.609375 -4.671875 5.9375 -4.582031 6.21875 -4.4375 C 6.5 -4.300781 6.734375 -4.132812 6.921875 -3.9375 C 7.117188 -3.738281 7.265625 -3.519531 7.359375 -3.28125 C 7.460938 -3.039062 7.515625 -2.789062 7.515625 -2.53125 Z M 7.515625 -2.53125 \"/>\n</symbol>\n<symbol overflow=\"visible\" id=\"glyph0-6\">\n<path style=\"stroke:none;\" d=\"M 7.484375 -2.578125 C 7.484375 -2.203125 7.414062 -1.847656 7.28125 -1.515625 C 7.15625 -1.179688 6.957031 -0.890625 6.6875 -0.640625 C 6.425781 -0.398438 6.085938 -0.207031 5.671875 -0.0625 C 5.253906 0.0703125 4.765625 0.140625 4.203125 0.140625 C 3.628906 0.140625 3.132812 0.0703125 2.71875 -0.0625 C 2.3125 -0.207031 1.972656 -0.398438 1.703125 -0.640625 C 1.429688 -0.890625 1.226562 -1.175781 1.09375 -1.5 C 0.96875 -1.832031 0.90625 -2.191406 0.90625 -2.578125 C 0.90625 -2.898438 0.957031 -3.191406 1.0625 -3.453125 C 1.175781 -3.710938 1.320312 -3.9375 1.5 -4.125 C 1.675781 -4.320312 1.878906 -4.476562 2.109375 -4.59375 C 2.347656 -4.707031 2.585938 -4.785156 2.828125 -4.828125 L 2.828125 -4.859375 C 2.554688 -4.921875 2.316406 -5.019531 2.109375 -5.15625 C 1.898438 -5.300781 1.722656 -5.46875 1.578125 -5.65625 C 1.429688 -5.851562 1.320312 -6.066406 1.25 -6.296875 C 1.175781 -6.523438 1.140625 -6.757812 1.140625 -7 C 1.140625 -7.3125 1.203125 -7.609375 1.328125 -7.890625 C 1.460938 -8.171875 1.65625 -8.421875 1.90625 -8.640625 C 2.164062 -8.859375 2.484375 -9.03125 2.859375 -9.15625 C 3.234375 -9.289062 3.671875 -9.359375 4.171875 -9.359375 C 4.691406 -9.359375 5.144531 -9.289062 5.53125 -9.15625 C 5.914062 -9.03125 6.234375 -8.859375 6.484375 -8.640625 C 6.742188 -8.421875 6.929688 -8.164062 7.046875 -7.875 C 7.171875 -7.59375 7.234375 -7.296875 7.234375 -6.984375 C 7.234375 -6.742188 7.195312 -6.507812 7.125 -6.28125 C 7.050781 -6.0625 6.941406 -5.851562 6.796875 -5.65625 C 6.648438 -5.46875 6.472656 -5.300781 6.265625 -5.15625 C 6.054688 -5.019531 5.8125 -4.925781 5.53125 -4.875 L 5.53125 -4.84375 C 5.8125 -4.800781 6.066406 -4.71875 6.296875 -4.59375 C 6.535156 -4.476562 6.742188 -4.320312 6.921875 -4.125 C 7.097656 -3.9375 7.234375 -3.710938 7.328125 -3.453125 C 7.429688 -3.191406 7.484375 -2.898438 7.484375 -2.578125 Z M 5.96875 -6.921875 C 5.96875 -7.128906 5.9375 -7.328125 5.875 -7.515625 C 5.8125 -7.703125 5.707031 -7.863281 5.5625 -8 C 5.425781 -8.132812 5.242188 -8.242188 5.015625 -8.328125 C 4.785156 -8.410156 4.503906 -8.453125 4.171875 -8.453125 C 3.847656 -8.453125 3.570312 -8.410156 3.34375 -8.328125 C 3.125 -8.242188 2.941406 -8.132812 2.796875 -8 C 2.648438 -7.863281 2.546875 -7.703125 2.484375 -7.515625 C 2.421875 -7.328125 2.390625 -7.128906 2.390625 -6.921875 C 2.390625 -6.753906 2.414062 -6.578125 2.46875 -6.390625 C 2.519531 -6.203125 2.609375 -6.03125 2.734375 -5.875 C 2.867188 -5.71875 3.050781 -5.585938 3.28125 -5.484375 C 3.519531 -5.378906 3.820312 -5.328125 4.1875 -5.328125 C 4.570312 -5.328125 4.878906 -5.378906 5.109375 -5.484375 C 5.347656 -5.585938 5.53125 -5.71875 5.65625 -5.875 C 5.78125 -6.03125 5.863281 -6.203125 5.90625 -6.390625 C 5.945312 -6.578125 5.96875 -6.753906 5.96875 -6.921875 Z M 6.203125 -2.703125 C 6.203125 -2.910156 6.171875 -3.113281 6.109375 -3.3125 C 6.046875 -3.507812 5.9375 -3.691406 5.78125 -3.859375 C 5.625 -4.023438 5.414062 -4.15625 5.15625 -4.25 C 4.894531 -4.351562 4.566406 -4.40625 4.171875 -4.40625 C 3.804688 -4.40625 3.5 -4.351562 3.25 -4.25 C 3 -4.15625 2.796875 -4.023438 2.640625 -3.859375 C 2.484375 -3.691406 2.367188 -3.503906 2.296875 -3.296875 C 2.222656 -3.097656 2.1875 -2.890625 2.1875 -2.671875 C 2.1875 -2.398438 2.222656 -2.148438 2.296875 -1.921875 C 2.367188 -1.691406 2.484375 -1.492188 2.640625 -1.328125 C 2.796875 -1.160156 3.003906 -1.023438 3.265625 -0.921875 C 3.523438 -0.828125 3.84375 -0.78125 4.21875 -0.78125 C 4.59375 -0.78125 4.90625 -0.828125 5.15625 -0.921875 C 5.40625 -1.015625 5.609375 -1.144531 5.765625 -1.3125 C 5.921875 -1.488281 6.03125 -1.691406 6.09375 -1.921875 C 6.164062 -2.160156 6.203125 -2.421875 6.203125 -2.703125 Z M 6.203125 -2.703125 \"/>\n</symbol>\n<symbol overflow=\"visible\" id=\"glyph0-7\">\n<path style=\"stroke:none;\" d=\"M 0.984375 0 L 0.984375 -0.796875 C 1.179688 -1.242188 1.441406 -1.648438 1.765625 -2.015625 C 2.097656 -2.390625 2.453125 -2.742188 2.828125 -3.078125 C 3.203125 -3.410156 3.578125 -3.726562 3.953125 -4.03125 C 4.328125 -4.332031 4.664062 -4.628906 4.96875 -4.921875 C 5.269531 -5.210938 5.515625 -5.507812 5.703125 -5.8125 C 5.898438 -6.113281 6 -6.4375 6 -6.78125 C 6 -7.050781 5.953125 -7.285156 5.859375 -7.484375 C 5.773438 -7.679688 5.648438 -7.84375 5.484375 -7.96875 C 5.328125 -8.101562 5.132812 -8.203125 4.90625 -8.265625 C 4.6875 -8.328125 4.441406 -8.359375 4.171875 -8.359375 C 3.929688 -8.359375 3.703125 -8.320312 3.484375 -8.25 C 3.273438 -8.1875 3.085938 -8.082031 2.921875 -7.9375 C 2.765625 -7.800781 2.632812 -7.628906 2.53125 -7.421875 C 2.4375 -7.222656 2.375 -6.992188 2.34375 -6.734375 L 1.09375 -6.84375 C 1.132812 -7.1875 1.226562 -7.507812 1.375 -7.8125 C 1.519531 -8.125 1.71875 -8.394531 1.96875 -8.625 C 2.21875 -8.851562 2.523438 -9.03125 2.890625 -9.15625 C 3.265625 -9.289062 3.691406 -9.359375 4.171875 -9.359375 C 4.648438 -9.359375 5.078125 -9.300781 5.453125 -9.1875 C 5.835938 -9.082031 6.164062 -8.925781 6.4375 -8.71875 C 6.707031 -8.507812 6.910156 -8.242188 7.046875 -7.921875 C 7.191406 -7.609375 7.265625 -7.25 7.265625 -6.84375 C 7.265625 -6.414062 7.164062 -6.019531 6.96875 -5.65625 C 6.769531 -5.289062 6.515625 -4.941406 6.203125 -4.609375 C 5.898438 -4.285156 5.5625 -3.972656 5.1875 -3.671875 C 4.8125 -3.378906 4.445312 -3.085938 4.09375 -2.796875 C 3.738281 -2.503906 3.414062 -2.210938 3.125 -1.921875 C 2.832031 -1.628906 2.613281 -1.320312 2.46875 -1 L 7.40625 -1 L 7.40625 0 Z M 0.984375 0 \"/>\n</symbol>\n<symbol overflow=\"visible\" id=\"glyph0-8\">\n<path style=\"stroke:none;\" d=\"M 6.40625 -2.1875 L 6.40625 0 L 5.171875 0 L 5.171875 -2.1875 L 0.703125 -2.1875 L 0.703125 -3.140625 L 5.046875 -9.21875 L 6.40625 -9.21875 L 6.40625 -3.15625 L 7.6875 -3.15625 L 7.6875 -2.1875 Z M 5.171875 -7.890625 L 1.75 -3.15625 L 5.171875 -3.15625 Z M 5.171875 -7.890625 \"/>\n</symbol>\n<symbol overflow=\"visible\" id=\"glyph0-9\">\n<path style=\"stroke:none;\" d=\"M 7.4375 -4.8125 C 7.4375 -4 7.351562 -3.285156 7.1875 -2.671875 C 7.03125 -2.054688 6.800781 -1.539062 6.5 -1.125 C 6.195312 -0.707031 5.832031 -0.390625 5.40625 -0.171875 C 4.976562 0.0351562 4.488281 0.140625 3.9375 0.140625 C 3.570312 0.140625 3.238281 0.0976562 2.9375 0.015625 C 2.644531 -0.0546875 2.382812 -0.171875 2.15625 -0.328125 C 1.925781 -0.484375 1.726562 -0.6875 1.5625 -0.9375 C 1.394531 -1.195312 1.257812 -1.507812 1.15625 -1.875 L 2.34375 -2.0625 C 2.46875 -1.644531 2.664062 -1.335938 2.9375 -1.140625 C 3.207031 -0.953125 3.550781 -0.859375 3.96875 -0.859375 C 4.300781 -0.859375 4.601562 -0.929688 4.875 -1.078125 C 5.15625 -1.234375 5.390625 -1.460938 5.578125 -1.765625 C 5.773438 -2.066406 5.925781 -2.441406 6.03125 -2.890625 C 6.144531 -3.335938 6.207031 -3.851562 6.21875 -4.4375 C 6.125 -4.226562 5.992188 -4.035156 5.828125 -3.859375 C 5.660156 -3.691406 5.46875 -3.550781 5.25 -3.4375 C 5.039062 -3.320312 4.8125 -3.234375 4.5625 -3.171875 C 4.320312 -3.109375 4.078125 -3.078125 3.828125 -3.078125 C 3.390625 -3.078125 2.992188 -3.15625 2.640625 -3.3125 C 2.285156 -3.46875 1.984375 -3.679688 1.734375 -3.953125 C 1.492188 -4.234375 1.304688 -4.566406 1.171875 -4.953125 C 1.035156 -5.335938 0.96875 -5.765625 0.96875 -6.234375 C 0.96875 -6.703125 1.035156 -7.128906 1.171875 -7.515625 C 1.316406 -7.898438 1.523438 -8.226562 1.796875 -8.5 C 2.078125 -8.78125 2.414062 -8.992188 2.8125 -9.140625 C 3.207031 -9.285156 3.660156 -9.359375 4.171875 -9.359375 C 5.242188 -9.359375 6.054688 -8.976562 6.609375 -8.21875 C 7.160156 -7.46875 7.4375 -6.332031 7.4375 -4.8125 Z M 6.09375 -5.890625 C 6.09375 -6.222656 6.050781 -6.535156 5.96875 -6.828125 C 5.882812 -7.128906 5.757812 -7.394531 5.59375 -7.625 C 5.425781 -7.851562 5.21875 -8.035156 4.96875 -8.171875 C 4.726562 -8.304688 4.445312 -8.375 4.125 -8.375 C 3.832031 -8.375 3.566406 -8.320312 3.328125 -8.21875 C 3.085938 -8.113281 2.882812 -7.96875 2.71875 -7.78125 C 2.5625 -7.59375 2.4375 -7.363281 2.34375 -7.09375 C 2.257812 -6.832031 2.21875 -6.546875 2.21875 -6.234375 C 2.21875 -5.929688 2.253906 -5.644531 2.328125 -5.375 C 2.410156 -5.113281 2.53125 -4.882812 2.6875 -4.6875 C 2.851562 -4.488281 3.050781 -4.332031 3.28125 -4.21875 C 3.519531 -4.101562 3.796875 -4.046875 4.109375 -4.046875 C 4.335938 -4.046875 4.566406 -4.082031 4.796875 -4.15625 C 5.035156 -4.238281 5.25 -4.359375 5.4375 -4.515625 C 5.632812 -4.671875 5.789062 -4.863281 5.90625 -5.09375 C 6.03125 -5.320312 6.09375 -5.585938 6.09375 -5.890625 Z M 6.09375 -5.890625 \"/>\n</symbol>\n</g>\n</defs>\n<g id=\"surface224\">\n<rect x=\"0\" y=\"0\" width=\"300\" height=\"200\" style=\"fill:rgb(100%,100%,100%);fill-opacity:1;stroke:none;\"/>\n<path style=\"fill:none;stroke-width:1;stroke-linecap:butt;stroke-linejoin:miter;stroke:rgb(26.666667%,26.666667%,26.666667%);stroke-opacity:1;stroke-miterlimit:10;\" d=\"M 188.824219 159.691406 L 255.050781 123.308594 \"/>\n<path style=\"fill:none;stroke-width:1;stroke-linecap:butt;stroke-linejoin:miter;stroke:rgb(26.666667%,26.666667%,26.666667%);stroke-opacity:1;stroke-miterlimit:10;\" d=\"M 188.824219 159.691406 L 112.144531 180 \"/>\n<path style=\"fill:none;stroke-width:1;stroke-linecap:butt;stroke-linejoin:miter;stroke:rgb(26.666667%,26.666667%,26.666667%);stroke-opacity:1;stroke-miterlimit:10;\" d=\"M 188.824219 159.691406 L 93.042969 122.59375 \"/>\n<path style=\"fill:none;stroke-width:1;stroke-linecap:butt;stroke-linejoin:miter;stroke:rgb(26.666667%,26.666667%,26.666667%);stroke-opacity:1;stroke-miterlimit:10;\" d=\"M 188.824219 159.691406 L 206.957031 77.40625 \"/>\n<path style=\"fill:none;stroke-width:1;stroke-linecap:butt;stroke-linejoin:miter;stroke:rgb(26.666667%,26.666667%,26.666667%);stroke-opacity:1;stroke-miterlimit:10;\" d=\"M 150 100 L 255.050781 123.308594 \"/>\n<path style=\"fill:none;stroke-width:1;stroke-linecap:butt;stroke-linejoin:miter;stroke:rgb(26.666667%,26.666667%,26.666667%);stroke-opacity:1;stroke-miterlimit:10;\" d=\"M 150 100 L 112.144531 180 \"/>\n<path style=\"fill:none;stroke-width:1;stroke-linecap:butt;stroke-linejoin:miter;stroke:rgb(26.666667%,26.666667%,26.666667%);stroke-opacity:1;stroke-miterlimit:10;\" d=\"M 150 100 L 44.949219 76.691406 \"/>\n<path style=\"fill:none;stroke-width:1;stroke-linecap:butt;stroke-linejoin:miter;stroke:rgb(26.666667%,26.666667%,26.666667%);stroke-opacity:1;stroke-miterlimit:10;\" d=\"M 150 100 L 187.855469 20 \"/>\n<path style=\"fill:none;stroke-width:1;stroke-linecap:butt;stroke-linejoin:miter;stroke:rgb(26.666667%,26.666667%,26.666667%);stroke-opacity:1;stroke-miterlimit:10;\" d=\"M 255.050781 123.308594 L 280 48.429688 \"/>\n<path style=\"fill:none;stroke-width:1;stroke-linecap:butt;stroke-linejoin:miter;stroke:rgb(26.666667%,26.666667%,26.666667%);stroke-opacity:1;stroke-miterlimit:10;\" d=\"M 112.144531 180 L 20 151.570312 \"/>\n<path style=\"fill:none;stroke-width:1;stroke-linecap:butt;stroke-linejoin:miter;stroke:rgb(26.666667%,26.666667%,26.666667%);stroke-opacity:1;stroke-miterlimit:10;\" d=\"M 93.042969 122.59375 L 111.175781 40.308594 \"/>\n<path style=\"fill:none;stroke-width:1;stroke-linecap:butt;stroke-linejoin:miter;stroke:rgb(26.666667%,26.666667%,26.666667%);stroke-opacity:1;stroke-miterlimit:10;\" d=\"M 93.042969 122.59375 L 20 151.570312 \"/>\n<path style=\"fill:none;stroke-width:1;stroke-linecap:butt;stroke-linejoin:miter;stroke:rgb(26.666667%,26.666667%,26.666667%);stroke-opacity:1;stroke-miterlimit:10;\" d=\"M 206.957031 77.40625 L 111.175781 40.308594 \"/>\n<path style=\"fill:none;stroke-width:1;stroke-linecap:butt;stroke-linejoin:miter;stroke:rgb(26.666667%,26.666667%,26.666667%);stroke-opacity:1;stroke-miterlimit:10;\" d=\"M 206.957031 77.40625 L 280 48.429688 \"/>\n<path style=\"fill:none;stroke-width:1;stroke-linecap:butt;stroke-linejoin:miter;stroke:rgb(26.666667%,26.666667%,26.666667%);stroke-opacity:1;stroke-miterlimit:10;\" d=\"M 44.949219 76.691406 L 111.175781 40.308594 \"/>\n<path style=\"fill:none;stroke-width:1;stroke-linecap:butt;stroke-linejoin:miter;stroke:rgb(26.666667%,26.666667%,26.666667%);stroke-opacity:1;stroke-miterlimit:10;\" d=\"M 44.949219 76.691406 L 20 151.570312 \"/>\n<path style=\"fill:none;stroke-width:1;stroke-linecap:butt;stroke-linejoin:miter;stroke:rgb(26.666667%,26.666667%,26.666667%);stroke-opacity:1;stroke-miterlimit:10;\" d=\"M 187.855469 20 L 111.175781 40.308594 \"/>\n<path style=\"fill:none;stroke-width:1;stroke-linecap:butt;stroke-linejoin:miter;stroke:rgb(26.666667%,26.666667%,26.666667%);stroke-opacity:1;stroke-miterlimit:10;\" d=\"M 187.855469 20 L 280 48.429688 \"/>\n<path style=\"fill-rule:nonzero;fill:rgb(100%,0%,0%);fill-opacity:1;stroke-width:1;stroke-linecap:butt;stroke-linejoin:miter;stroke:rgb(0%,0%,0%);stroke-opacity:1;stroke-miterlimit:10;\" d=\"M 203.824219 159.691406 C 203.824219 167.976562 197.109375 174.691406 188.824219 174.691406 C 180.539062 174.691406 173.824219 167.976562 173.824219 159.691406 C 173.824219 151.40625 180.539062 144.691406 188.824219 144.691406 C 197.109375 144.691406 203.824219 151.40625 203.824219 159.691406 \"/>\n<path style=\"fill-rule:nonzero;fill:rgb(100%,0%,0%);fill-opacity:1;stroke-width:1;stroke-linecap:butt;stroke-linejoin:miter;stroke:rgb(0%,0%,0%);stroke-opacity:1;stroke-miterlimit:10;\" d=\"M 165 100 C 165 108.285156 158.285156 115 150 115 C 141.714844 115 135 108.285156 135 100 C 135 91.714844 141.714844 85 150 85 C 158.285156 85 165 91.714844 165 100 \"/>\n<path style=\"fill-rule:nonzero;fill:rgb(100%,0%,0%);fill-opacity:1;stroke-width:1;stroke-linecap:butt;stroke-linejoin:miter;stroke:rgb(0%,0%,0%);stroke-opacity:1;stroke-miterlimit:10;\" d=\"M 270.050781 123.308594 C 270.050781 131.59375 263.335938 138.308594 255.050781 138.308594 C 246.765625 138.308594 240.050781 131.59375 240.050781 123.308594 C 240.050781 115.023438 246.765625 108.308594 255.050781 108.308594 C 263.335938 108.308594 270.050781 115.023438 270.050781 123.308594 \"/>\n<path style=\"fill-rule:nonzero;fill:rgb(100%,0%,0%);fill-opacity:1;stroke-width:1;stroke-linecap:butt;stroke-linejoin:miter;stroke:rgb(0%,0%,0%);stroke-opacity:1;stroke-miterlimit:10;\" d=\"M 127.144531 180 C 127.144531 188.285156 120.429688 195 112.144531 195 C 103.859375 195 97.144531 188.285156 97.144531 180 C 97.144531 171.714844 103.859375 165 112.144531 165 C 120.429688 165 127.144531 171.714844 127.144531 180 \"/>\n<path style=\"fill-rule:nonzero;fill:rgb(100%,0%,0%);fill-opacity:1;stroke-width:1;stroke-linecap:butt;stroke-linejoin:miter;stroke:rgb(0%,0%,0%);stroke-opacity:1;stroke-miterlimit:10;\" d=\"M 108.042969 122.59375 C 108.042969 130.878906 101.324219 137.59375 93.042969 137.59375 C 84.757812 137.59375 78.042969 130.878906 78.042969 122.59375 C 78.042969 114.3125 84.757812 107.59375 93.042969 107.59375 C 101.324219 107.59375 108.042969 114.3125 108.042969 122.59375 \"/>\n<path style=\"fill-rule:nonzero;fill:rgb(100%,0%,0%);fill-opacity:1;stroke-width:1;stroke-linecap:butt;stroke-linejoin:miter;stroke:rgb(0%,0%,0%);stroke-opacity:1;stroke-miterlimit:10;\" d=\"M 221.957031 77.40625 C 221.957031 85.6875 215.242188 92.40625 206.957031 92.40625 C 198.675781 92.40625 191.957031 85.6875 191.957031 77.40625 C 191.957031 69.121094 198.675781 62.40625 206.957031 62.40625 C 215.242188 62.40625 221.957031 69.121094 221.957031 77.40625 \"/>\n<path style=\"fill-rule:nonzero;fill:rgb(100%,0%,0%);fill-opacity:1;stroke-width:1;stroke-linecap:butt;stroke-linejoin:miter;stroke:rgb(0%,0%,0%);stroke-opacity:1;stroke-miterlimit:10;\" d=\"M 59.949219 76.691406 C 59.949219 84.976562 53.234375 91.691406 44.949219 91.691406 C 36.664062 91.691406 29.949219 84.976562 29.949219 76.691406 C 29.949219 68.40625 36.664062 61.691406 44.949219 61.691406 C 53.234375 61.691406 59.949219 68.40625 59.949219 76.691406 \"/>\n<path style=\"fill-rule:nonzero;fill:rgb(100%,0%,0%);fill-opacity:1;stroke-width:1;stroke-linecap:butt;stroke-linejoin:miter;stroke:rgb(0%,0%,0%);stroke-opacity:1;stroke-miterlimit:10;\" d=\"M 202.855469 20 C 202.855469 28.285156 196.140625 35 187.855469 35 C 179.570312 35 172.855469 28.285156 172.855469 20 C 172.855469 11.714844 179.570312 5 187.855469 5 C 196.140625 5 202.855469 11.714844 202.855469 20 \"/>\n<path style=\"fill-rule:nonzero;fill:rgb(100%,0%,0%);fill-opacity:1;stroke-width:1;stroke-linecap:butt;stroke-linejoin:miter;stroke:rgb(0%,0%,0%);stroke-opacity:1;stroke-miterlimit:10;\" d=\"M 126.175781 40.308594 C 126.175781 48.59375 119.460938 55.308594 111.175781 55.308594 C 102.890625 55.308594 96.175781 48.59375 96.175781 40.308594 C 96.175781 32.023438 102.890625 25.308594 111.175781 25.308594 C 119.460938 25.308594 126.175781 32.023438 126.175781 40.308594 \"/>\n<path style=\"fill-rule:nonzero;fill:rgb(100%,0%,0%);fill-opacity:1;stroke-width:1;stroke-linecap:butt;stroke-linejoin:miter;stroke:rgb(0%,0%,0%);stroke-opacity:1;stroke-miterlimit:10;\" d=\"M 35 151.570312 C 35 159.855469 28.285156 166.570312 20 166.570312 C 11.714844 166.570312 5 159.855469 5 151.570312 C 5 143.285156 11.714844 136.570312 20 136.570312 C 28.285156 136.570312 35 143.285156 35 151.570312 \"/>\n<path style=\"fill-rule:nonzero;fill:rgb(100%,0%,0%);fill-opacity:1;stroke-width:1;stroke-linecap:butt;stroke-linejoin:miter;stroke:rgb(0%,0%,0%);stroke-opacity:1;stroke-miterlimit:10;\" d=\"M 295 48.429688 C 295 56.714844 288.285156 63.429688 280 63.429688 C 271.714844 63.429688 265 56.714844 265 48.429688 C 265 40.144531 271.714844 33.429688 280 33.429688 C 288.285156 33.429688 295 40.144531 295 48.429688 \"/>\n<g style=\"fill:rgb(0%,0%,0%);fill-opacity:1;\">\n  <use xlink:href=\"#glyph0-1\" x=\"117.316406\" y=\"166.476562\"/>\n  <use xlink:href=\"#glyph0-2\" x=\"125.717773\" y=\"166.476562\"/>\n  <use xlink:href=\"#glyph0-3\" x=\"134.119141\" y=\"166.476562\"/>\n  <use xlink:href=\"#glyph0-3\" x=\"142.520508\" y=\"166.476562\"/>\n  <use xlink:href=\"#glyph0-3\" x=\"150.921875\" y=\"166.476562\"/>\n  <use xlink:href=\"#glyph0-3\" x=\"159.323242\" y=\"166.476562\"/>\n  <use xlink:href=\"#glyph0-3\" x=\"167.724609\" y=\"166.476562\"/>\n  <use xlink:href=\"#glyph0-3\" x=\"176.125977\" y=\"166.476562\"/>\n  <use xlink:href=\"#glyph0-3\" x=\"184.527344\" y=\"166.476562\"/>\n  <use xlink:href=\"#glyph0-3\" x=\"192.928711\" y=\"166.476562\"/>\n  <use xlink:href=\"#glyph0-3\" x=\"201.330078\" y=\"166.476562\"/>\n  <use xlink:href=\"#glyph0-3\" x=\"209.731445\" y=\"166.476562\"/>\n  <use xlink:href=\"#glyph0-3\" x=\"218.132812\" y=\"166.476562\"/>\n  <use xlink:href=\"#glyph0-3\" x=\"226.53418\" y=\"166.476562\"/>\n  <use xlink:href=\"#glyph0-3\" x=\"234.935547\" y=\"166.476562\"/>\n  <use xlink:href=\"#glyph0-3\" x=\"243.336914\" y=\"166.476562\"/>\n  <use xlink:href=\"#glyph0-4\" x=\"251.738281\" y=\"166.476562\"/>\n</g>\n<g style=\"fill:rgb(0%,0%,0%);fill-opacity:1;\">\n  <use xlink:href=\"#glyph0-1\" x=\"78.492188\" y=\"106.785156\"/>\n  <use xlink:href=\"#glyph0-2\" x=\"86.893555\" y=\"106.785156\"/>\n  <use xlink:href=\"#glyph0-3\" x=\"95.294922\" y=\"106.785156\"/>\n  <use xlink:href=\"#glyph0-3\" x=\"103.696289\" y=\"106.785156\"/>\n  <use xlink:href=\"#glyph0-3\" x=\"112.097656\" y=\"106.785156\"/>\n  <use xlink:href=\"#glyph0-3\" x=\"120.499023\" y=\"106.785156\"/>\n  <use xlink:href=\"#glyph0-3\" x=\"128.900391\" y=\"106.785156\"/>\n  <use xlink:href=\"#glyph0-3\" x=\"137.301758\" y=\"106.785156\"/>\n  <use xlink:href=\"#glyph0-3\" x=\"145.703125\" y=\"106.785156\"/>\n  <use xlink:href=\"#glyph0-3\" x=\"154.104492\" y=\"106.785156\"/>\n  <use xlink:href=\"#glyph0-3\" x=\"162.505859\" y=\"106.785156\"/>\n  <use xlink:href=\"#glyph0-3\" x=\"170.907227\" y=\"106.785156\"/>\n  <use xlink:href=\"#glyph0-3\" x=\"179.308594\" y=\"106.785156\"/>\n  <use xlink:href=\"#glyph0-3\" x=\"187.709961\" y=\"106.785156\"/>\n  <use xlink:href=\"#glyph0-3\" x=\"196.111328\" y=\"106.785156\"/>\n  <use xlink:href=\"#glyph0-3\" x=\"204.512695\" y=\"106.785156\"/>\n  <use xlink:href=\"#glyph0-4\" x=\"212.914062\" y=\"106.785156\"/>\n</g>\n<g style=\"fill:rgb(0%,0%,0%);fill-opacity:1;\">\n  <use xlink:href=\"#glyph0-5\" x=\"183.644531\" y=\"130.09375\"/>\n  <use xlink:href=\"#glyph0-2\" x=\"192.045898\" y=\"130.09375\"/>\n  <use xlink:href=\"#glyph0-6\" x=\"200.447266\" y=\"130.09375\"/>\n  <use xlink:href=\"#glyph0-5\" x=\"208.848633\" y=\"130.09375\"/>\n  <use xlink:href=\"#glyph0-5\" x=\"217.25\" y=\"130.09375\"/>\n  <use xlink:href=\"#glyph0-5\" x=\"225.651367\" y=\"130.09375\"/>\n  <use xlink:href=\"#glyph0-5\" x=\"234.052734\" y=\"130.09375\"/>\n  <use xlink:href=\"#glyph0-5\" x=\"242.454102\" y=\"130.09375\"/>\n  <use xlink:href=\"#glyph0-5\" x=\"250.855469\" y=\"130.09375\"/>\n  <use xlink:href=\"#glyph0-5\" x=\"259.256836\" y=\"130.09375\"/>\n  <use xlink:href=\"#glyph0-5\" x=\"267.658203\" y=\"130.09375\"/>\n  <use xlink:href=\"#glyph0-5\" x=\"276.05957\" y=\"130.09375\"/>\n  <use xlink:href=\"#glyph0-5\" x=\"284.460938\" y=\"130.09375\"/>\n  <use xlink:href=\"#glyph0-5\" x=\"292.862305\" y=\"130.09375\"/>\n  <use xlink:href=\"#glyph0-5\" x=\"301.263672\" y=\"130.09375\"/>\n  <use xlink:href=\"#glyph0-5\" x=\"309.665039\" y=\"130.09375\"/>\n  <use xlink:href=\"#glyph0-5\" x=\"318.066406\" y=\"130.09375\"/>\n</g>\n<g style=\"fill:rgb(0%,0%,0%);fill-opacity:1;\">\n  <use xlink:href=\"#glyph0-5\" x=\"40.742188\" y=\"186.785156\"/>\n  <use xlink:href=\"#glyph0-2\" x=\"49.143555\" y=\"186.785156\"/>\n  <use xlink:href=\"#glyph0-6\" x=\"57.544922\" y=\"186.785156\"/>\n  <use xlink:href=\"#glyph0-5\" x=\"65.946289\" y=\"186.785156\"/>\n  <use xlink:href=\"#glyph0-5\" x=\"74.347656\" y=\"186.785156\"/>\n  <use xlink:href=\"#glyph0-5\" x=\"82.749023\" y=\"186.785156\"/>\n  <use xlink:href=\"#glyph0-5\" x=\"91.150391\" y=\"186.785156\"/>\n  <use xlink:href=\"#glyph0-5\" x=\"99.551758\" y=\"186.785156\"/>\n  <use xlink:href=\"#glyph0-5\" x=\"107.953125\" y=\"186.785156\"/>\n  <use xlink:href=\"#glyph0-5\" x=\"116.354492\" y=\"186.785156\"/>\n  <use xlink:href=\"#glyph0-5\" x=\"124.755859\" y=\"186.785156\"/>\n  <use xlink:href=\"#glyph0-5\" x=\"133.157227\" y=\"186.785156\"/>\n  <use xlink:href=\"#glyph0-5\" x=\"141.558594\" y=\"186.785156\"/>\n  <use xlink:href=\"#glyph0-5\" x=\"149.959961\" y=\"186.785156\"/>\n  <use xlink:href=\"#glyph0-5\" x=\"158.361328\" y=\"186.785156\"/>\n  <use xlink:href=\"#glyph0-5\" x=\"166.762695\" y=\"186.785156\"/>\n  <use xlink:href=\"#glyph0-5\" x=\"175.164062\" y=\"186.785156\"/>\n</g>\n<g style=\"fill:rgb(0%,0%,0%);fill-opacity:1;\">\n  <use xlink:href=\"#glyph0-5\" x=\"21.636719\" y=\"129.378906\"/>\n  <use xlink:href=\"#glyph0-2\" x=\"30.038086\" y=\"129.378906\"/>\n  <use xlink:href=\"#glyph0-6\" x=\"38.439453\" y=\"129.378906\"/>\n  <use xlink:href=\"#glyph0-5\" x=\"46.84082\" y=\"129.378906\"/>\n  <use xlink:href=\"#glyph0-5\" x=\"55.242188\" y=\"129.378906\"/>\n  <use xlink:href=\"#glyph0-5\" x=\"63.643555\" y=\"129.378906\"/>\n  <use xlink:href=\"#glyph0-5\" x=\"72.044922\" y=\"129.378906\"/>\n  <use xlink:href=\"#glyph0-5\" x=\"80.446289\" y=\"129.378906\"/>\n  <use xlink:href=\"#glyph0-5\" x=\"88.847656\" y=\"129.378906\"/>\n  <use xlink:href=\"#glyph0-5\" x=\"97.249023\" y=\"129.378906\"/>\n  <use xlink:href=\"#glyph0-5\" x=\"105.650391\" y=\"129.378906\"/>\n  <use xlink:href=\"#glyph0-5\" x=\"114.051758\" y=\"129.378906\"/>\n  <use xlink:href=\"#glyph0-5\" x=\"122.453125\" y=\"129.378906\"/>\n  <use xlink:href=\"#glyph0-5\" x=\"130.854492\" y=\"129.378906\"/>\n  <use xlink:href=\"#glyph0-5\" x=\"139.255859\" y=\"129.378906\"/>\n  <use xlink:href=\"#glyph0-5\" x=\"147.657227\" y=\"129.378906\"/>\n  <use xlink:href=\"#glyph0-5\" x=\"156.058594\" y=\"129.378906\"/>\n</g>\n<g style=\"fill:rgb(0%,0%,0%);fill-opacity:1;\">\n  <use xlink:href=\"#glyph0-5\" x=\"135.554688\" y=\"84.1875\"/>\n  <use xlink:href=\"#glyph0-2\" x=\"143.956055\" y=\"84.1875\"/>\n  <use xlink:href=\"#glyph0-6\" x=\"152.357422\" y=\"84.1875\"/>\n  <use xlink:href=\"#glyph0-5\" x=\"160.758789\" y=\"84.1875\"/>\n  <use xlink:href=\"#glyph0-5\" x=\"169.160156\" y=\"84.1875\"/>\n  <use xlink:href=\"#glyph0-5\" x=\"177.561523\" y=\"84.1875\"/>\n  <use xlink:href=\"#glyph0-5\" x=\"185.962891\" y=\"84.1875\"/>\n  <use xlink:href=\"#glyph0-5\" x=\"194.364258\" y=\"84.1875\"/>\n  <use xlink:href=\"#glyph0-5\" x=\"202.765625\" y=\"84.1875\"/>\n  <use xlink:href=\"#glyph0-5\" x=\"211.166992\" y=\"84.1875\"/>\n  <use xlink:href=\"#glyph0-5\" x=\"219.568359\" y=\"84.1875\"/>\n  <use xlink:href=\"#glyph0-5\" x=\"227.969727\" y=\"84.1875\"/>\n  <use xlink:href=\"#glyph0-5\" x=\"236.371094\" y=\"84.1875\"/>\n  <use xlink:href=\"#glyph0-5\" x=\"244.772461\" y=\"84.1875\"/>\n  <use xlink:href=\"#glyph0-5\" x=\"253.173828\" y=\"84.1875\"/>\n  <use xlink:href=\"#glyph0-5\" x=\"261.575195\" y=\"84.1875\"/>\n  <use xlink:href=\"#glyph0-5\" x=\"269.976562\" y=\"84.1875\"/>\n</g>\n<g style=\"fill:rgb(0%,0%,0%);fill-opacity:1;\">\n  <use xlink:href=\"#glyph0-5\" x=\"-26.457031\" y=\"83.476562\"/>\n  <use xlink:href=\"#glyph0-2\" x=\"-18.055664\" y=\"83.476562\"/>\n  <use xlink:href=\"#glyph0-6\" x=\"-9.654297\" y=\"83.476562\"/>\n  <use xlink:href=\"#glyph0-5\" x=\"-1.25293\" y=\"83.476562\"/>\n  <use xlink:href=\"#glyph0-5\" x=\"7.148438\" y=\"83.476562\"/>\n  <use xlink:href=\"#glyph0-5\" x=\"15.549805\" y=\"83.476562\"/>\n  <use xlink:href=\"#glyph0-5\" x=\"23.951172\" y=\"83.476562\"/>\n  <use xlink:href=\"#glyph0-5\" x=\"32.352539\" y=\"83.476562\"/>\n  <use xlink:href=\"#glyph0-5\" x=\"40.753906\" y=\"83.476562\"/>\n  <use xlink:href=\"#glyph0-5\" x=\"49.155273\" y=\"83.476562\"/>\n  <use xlink:href=\"#glyph0-5\" x=\"57.556641\" y=\"83.476562\"/>\n  <use xlink:href=\"#glyph0-5\" x=\"65.958008\" y=\"83.476562\"/>\n  <use xlink:href=\"#glyph0-5\" x=\"74.359375\" y=\"83.476562\"/>\n  <use xlink:href=\"#glyph0-5\" x=\"82.760742\" y=\"83.476562\"/>\n  <use xlink:href=\"#glyph0-5\" x=\"91.162109\" y=\"83.476562\"/>\n  <use xlink:href=\"#glyph0-5\" x=\"99.563477\" y=\"83.476562\"/>\n  <use xlink:href=\"#glyph0-5\" x=\"107.964844\" y=\"83.476562\"/>\n</g>\n<g style=\"fill:rgb(0%,0%,0%);fill-opacity:1;\">\n  <use xlink:href=\"#glyph0-5\" x=\"116.449219\" y=\"26.785156\"/>\n  <use xlink:href=\"#glyph0-2\" x=\"124.850586\" y=\"26.785156\"/>\n  <use xlink:href=\"#glyph0-6\" x=\"133.251953\" y=\"26.785156\"/>\n  <use xlink:href=\"#glyph0-5\" x=\"141.65332\" y=\"26.785156\"/>\n  <use xlink:href=\"#glyph0-5\" x=\"150.054688\" y=\"26.785156\"/>\n  <use xlink:href=\"#glyph0-5\" x=\"158.456055\" y=\"26.785156\"/>\n  <use xlink:href=\"#glyph0-5\" x=\"166.857422\" y=\"26.785156\"/>\n  <use xlink:href=\"#glyph0-5\" x=\"175.258789\" y=\"26.785156\"/>\n  <use xlink:href=\"#glyph0-5\" x=\"183.660156\" y=\"26.785156\"/>\n  <use xlink:href=\"#glyph0-5\" x=\"192.061523\" y=\"26.785156\"/>\n  <use xlink:href=\"#glyph0-5\" x=\"200.462891\" y=\"26.785156\"/>\n  <use xlink:href=\"#glyph0-5\" x=\"208.864258\" y=\"26.785156\"/>\n  <use xlink:href=\"#glyph0-5\" x=\"217.265625\" y=\"26.785156\"/>\n  <use xlink:href=\"#glyph0-5\" x=\"225.666992\" y=\"26.785156\"/>\n  <use xlink:href=\"#glyph0-5\" x=\"234.068359\" y=\"26.785156\"/>\n  <use xlink:href=\"#glyph0-5\" x=\"242.469727\" y=\"26.785156\"/>\n  <use xlink:href=\"#glyph0-5\" x=\"250.871094\" y=\"26.785156\"/>\n</g>\n<g style=\"fill:rgb(0%,0%,0%);fill-opacity:1;\">\n  <use xlink:href=\"#glyph0-1\" x=\"39.675781\" y=\"47.09375\"/>\n  <use xlink:href=\"#glyph0-2\" x=\"48.077148\" y=\"47.09375\"/>\n  <use xlink:href=\"#glyph0-3\" x=\"56.478516\" y=\"47.09375\"/>\n  <use xlink:href=\"#glyph0-3\" x=\"64.879883\" y=\"47.09375\"/>\n  <use xlink:href=\"#glyph0-3\" x=\"73.28125\" y=\"47.09375\"/>\n  <use xlink:href=\"#glyph0-3\" x=\"81.682617\" y=\"47.09375\"/>\n  <use xlink:href=\"#glyph0-3\" x=\"90.083984\" y=\"47.09375\"/>\n  <use xlink:href=\"#glyph0-3\" x=\"98.485352\" y=\"47.09375\"/>\n  <use xlink:href=\"#glyph0-3\" x=\"106.886719\" y=\"47.09375\"/>\n  <use xlink:href=\"#glyph0-3\" x=\"115.288086\" y=\"47.09375\"/>\n  <use xlink:href=\"#glyph0-3\" x=\"123.689453\" y=\"47.09375\"/>\n  <use xlink:href=\"#glyph0-3\" x=\"132.09082\" y=\"47.09375\"/>\n  <use xlink:href=\"#glyph0-3\" x=\"140.492188\" y=\"47.09375\"/>\n  <use xlink:href=\"#glyph0-3\" x=\"148.893555\" y=\"47.09375\"/>\n  <use xlink:href=\"#glyph0-3\" x=\"157.294922\" y=\"47.09375\"/>\n  <use xlink:href=\"#glyph0-3\" x=\"165.696289\" y=\"47.09375\"/>\n  <use xlink:href=\"#glyph0-3\" x=\"174.097656\" y=\"47.09375\"/>\n</g>\n<g style=\"fill:rgb(0%,0%,0%);fill-opacity:1;\">\n  <use xlink:href=\"#glyph0-7\" x=\"-55.648438\" y=\"158.355469\"/>\n  <use xlink:href=\"#glyph0-2\" x=\"-47.24707\" y=\"158.355469\"/>\n  <use xlink:href=\"#glyph0-8\" x=\"-38.845703\" y=\"158.355469\"/>\n  <use xlink:href=\"#glyph0-9\" x=\"-30.444336\" y=\"158.355469\"/>\n  <use xlink:href=\"#glyph0-9\" x=\"-22.042969\" y=\"158.355469\"/>\n  <use xlink:href=\"#glyph0-9\" x=\"-13.641602\" y=\"158.355469\"/>\n  <use xlink:href=\"#glyph0-9\" x=\"-5.240234\" y=\"158.355469\"/>\n  <use xlink:href=\"#glyph0-9\" x=\"3.161133\" y=\"158.355469\"/>\n  <use xlink:href=\"#glyph0-9\" x=\"11.5625\" y=\"158.355469\"/>\n  <use xlink:href=\"#glyph0-9\" x=\"19.963867\" y=\"158.355469\"/>\n  <use xlink:href=\"#glyph0-9\" x=\"28.365234\" y=\"158.355469\"/>\n  <use xlink:href=\"#glyph0-9\" x=\"36.766602\" y=\"158.355469\"/>\n  <use xlink:href=\"#glyph0-9\" x=\"45.167969\" y=\"158.355469\"/>\n  <use xlink:href=\"#glyph0-9\" x=\"53.569336\" y=\"158.355469\"/>\n  <use xlink:href=\"#glyph0-9\" x=\"61.970703\" y=\"158.355469\"/>\n  <use xlink:href=\"#glyph0-9\" x=\"70.37207\" y=\"158.355469\"/>\n  <use xlink:href=\"#glyph0-9\" x=\"78.773438\" y=\"158.355469\"/>\n  <use xlink:href=\"#glyph0-3\" x=\"87.174805\" y=\"158.355469\"/>\n</g>\n<g style=\"fill:rgb(0%,0%,0%);fill-opacity:1;\">\n  <use xlink:href=\"#glyph0-7\" x=\"204.351562\" y=\"55.214844\"/>\n  <use xlink:href=\"#glyph0-2\" x=\"212.75293\" y=\"55.214844\"/>\n  <use xlink:href=\"#glyph0-8\" x=\"221.154297\" y=\"55.214844\"/>\n  <use xlink:href=\"#glyph0-9\" x=\"229.555664\" y=\"55.214844\"/>\n  <use xlink:href=\"#glyph0-9\" x=\"237.957031\" y=\"55.214844\"/>\n  <use xlink:href=\"#glyph0-9\" x=\"246.358398\" y=\"55.214844\"/>\n  <use xlink:href=\"#glyph0-9\" x=\"254.759766\" y=\"55.214844\"/>\n  <use xlink:href=\"#glyph0-9\" x=\"263.161133\" y=\"55.214844\"/>\n  <use xlink:href=\"#glyph0-9\" x=\"271.5625\" y=\"55.214844\"/>\n  <use xlink:href=\"#glyph0-9\" x=\"279.963867\" y=\"55.214844\"/>\n  <use xlink:href=\"#glyph0-9\" x=\"288.365234\" y=\"55.214844\"/>\n  <use xlink:href=\"#glyph0-9\" x=\"296.766602\" y=\"55.214844\"/>\n  <use xlink:href=\"#glyph0-9\" x=\"305.167969\" y=\"55.214844\"/>\n  <use xlink:href=\"#glyph0-9\" x=\"313.569336\" y=\"55.214844\"/>\n  <use xlink:href=\"#glyph0-9\" x=\"321.970703\" y=\"55.214844\"/>\n  <use xlink:href=\"#glyph0-9\" x=\"330.37207\" y=\"55.214844\"/>\n  <use xlink:href=\"#glyph0-9\" x=\"338.773438\" y=\"55.214844\"/>\n  <use xlink:href=\"#glyph0-3\" x=\"347.174805\" y=\"55.214844\"/>\n</g>\n</g>\n</svg>\n"
          },
          "metadata": {
            "image/svg+xml": {
              "isolated": true
            }
          },
          "execution_count": 100
        }
      ]
    },
    {
      "cell_type": "code",
      "source": [
        "plot(g, bbox=(300, 200),vertex_label=g.vs['pagerank'], vertex_size=25, vertex_label_cex=2)"
      ],
      "metadata": {
        "colab": {
          "base_uri": "https://localhost:8080/",
          "height": 288
        },
        "id": "cSZATKp5EVxa",
        "outputId": "629ab04c-63de-4daa-c99e-7b6fdba5c1f4"
      },
      "execution_count": 106,
      "outputs": [
        {
          "output_type": "execute_result",
          "data": {
            "text/plain": [
              "<igraph.drawing.cairo.plot.CairoPlot at 0x7fc975851070>"
            ],
            "image/svg+xml": "<?xml version=\"1.0\" encoding=\"UTF-8\"?>\n<svg xmlns=\"http://www.w3.org/2000/svg\" xmlns:xlink=\"http://www.w3.org/1999/xlink\" width=\"300pt\" height=\"200pt\" viewBox=\"0 0 300 200\" version=\"1.1\">\n<defs>\n<g>\n<symbol overflow=\"visible\" id=\"glyph0-0\">\n<path style=\"stroke:none;\" d=\"M 0.46875 0 L 0.46875 -9.328125 L 4.1875 -9.328125 L 4.1875 0 Z M 0.9375 -0.46875 L 3.71875 -0.46875 L 3.71875 -8.859375 L 0.9375 -8.859375 Z M 0.9375 -0.46875 \"/>\n</symbol>\n<symbol overflow=\"visible\" id=\"glyph0-1\">\n<path style=\"stroke:none;\" d=\"M 7.546875 -4.609375 C 7.546875 -3.722656 7.457031 -2.976562 7.28125 -2.375 C 7.101562 -1.769531 6.863281 -1.28125 6.5625 -0.90625 C 6.257812 -0.53125 5.898438 -0.257812 5.484375 -0.09375 C 5.078125 0.0625 4.640625 0.140625 4.171875 0.140625 C 3.703125 0.140625 3.265625 0.0625 2.859375 -0.09375 C 2.453125 -0.257812 2.097656 -0.53125 1.796875 -0.90625 C 1.503906 -1.28125 1.269531 -1.769531 1.09375 -2.375 C 0.925781 -2.976562 0.84375 -3.722656 0.84375 -4.609375 C 0.84375 -5.546875 0.925781 -6.316406 1.09375 -6.921875 C 1.269531 -7.535156 1.507812 -8.019531 1.8125 -8.375 C 2.113281 -8.738281 2.46875 -8.992188 2.875 -9.140625 C 3.289062 -9.285156 3.738281 -9.359375 4.21875 -9.359375 C 4.675781 -9.359375 5.109375 -9.285156 5.515625 -9.140625 C 5.921875 -8.992188 6.269531 -8.738281 6.5625 -8.375 C 6.863281 -8.019531 7.101562 -7.535156 7.28125 -6.921875 C 7.457031 -6.316406 7.546875 -5.546875 7.546875 -4.609375 Z M 6.296875 -4.609375 C 6.296875 -5.335938 6.25 -5.941406 6.15625 -6.421875 C 6.0625 -6.910156 5.925781 -7.296875 5.75 -7.578125 C 5.570312 -7.867188 5.351562 -8.070312 5.09375 -8.1875 C 4.832031 -8.3125 4.539062 -8.375 4.21875 -8.375 C 3.875 -8.375 3.566406 -8.3125 3.296875 -8.1875 C 3.035156 -8.0625 2.8125 -7.851562 2.625 -7.5625 C 2.445312 -7.28125 2.3125 -6.898438 2.21875 -6.421875 C 2.132812 -5.941406 2.09375 -5.335938 2.09375 -4.609375 C 2.09375 -3.910156 2.140625 -3.320312 2.234375 -2.84375 C 2.328125 -2.363281 2.460938 -1.976562 2.640625 -1.6875 C 2.816406 -1.394531 3.035156 -1.1875 3.296875 -1.0625 C 3.554688 -0.9375 3.851562 -0.875 4.1875 -0.875 C 4.507812 -0.875 4.800781 -0.9375 5.0625 -1.0625 C 5.320312 -1.1875 5.539062 -1.394531 5.71875 -1.6875 C 5.90625 -1.976562 6.046875 -2.363281 6.140625 -2.84375 C 6.242188 -3.320312 6.296875 -3.910156 6.296875 -4.609375 Z M 3.390625 -3.796875 L 3.390625 -5.5 L 5 -5.5 L 5 -3.796875 Z M 3.390625 -3.796875 \"/>\n</symbol>\n<symbol overflow=\"visible\" id=\"glyph0-2\">\n<path style=\"stroke:none;\" d=\"M 3.390625 0 L 3.390625 -2.046875 L 5 -2.046875 L 5 0 Z M 3.390625 0 \"/>\n</symbol>\n<symbol overflow=\"visible\" id=\"glyph0-3\">\n<path style=\"stroke:none;\" d=\"M 1.078125 0 L 1.078125 -0.984375 L 4.078125 -0.984375 L 4.078125 -7.96875 C 3.984375 -7.789062 3.828125 -7.617188 3.609375 -7.453125 C 3.390625 -7.296875 3.140625 -7.15625 2.859375 -7.03125 C 2.578125 -6.914062 2.273438 -6.820312 1.953125 -6.75 C 1.628906 -6.675781 1.316406 -6.640625 1.015625 -6.640625 L 1.015625 -7.65625 C 1.347656 -7.65625 1.675781 -7.691406 2 -7.765625 C 2.332031 -7.847656 2.640625 -7.957031 2.921875 -8.09375 C 3.203125 -8.238281 3.453125 -8.40625 3.671875 -8.59375 C 3.890625 -8.78125 4.054688 -8.988281 4.171875 -9.21875 L 5.3125 -9.21875 L 5.3125 -0.984375 L 7.71875 -0.984375 L 7.71875 0 Z M 1.078125 0 \"/>\n</symbol>\n<symbol overflow=\"visible\" id=\"glyph0-4\">\n<path style=\"stroke:none;\" d=\"M 7.484375 -2.578125 C 7.484375 -2.203125 7.414062 -1.847656 7.28125 -1.515625 C 7.15625 -1.179688 6.957031 -0.890625 6.6875 -0.640625 C 6.425781 -0.398438 6.085938 -0.207031 5.671875 -0.0625 C 5.253906 0.0703125 4.765625 0.140625 4.203125 0.140625 C 3.628906 0.140625 3.132812 0.0703125 2.71875 -0.0625 C 2.3125 -0.207031 1.972656 -0.398438 1.703125 -0.640625 C 1.429688 -0.890625 1.226562 -1.175781 1.09375 -1.5 C 0.96875 -1.832031 0.90625 -2.191406 0.90625 -2.578125 C 0.90625 -2.898438 0.957031 -3.191406 1.0625 -3.453125 C 1.175781 -3.710938 1.320312 -3.9375 1.5 -4.125 C 1.675781 -4.320312 1.878906 -4.476562 2.109375 -4.59375 C 2.347656 -4.707031 2.585938 -4.785156 2.828125 -4.828125 L 2.828125 -4.859375 C 2.554688 -4.921875 2.316406 -5.019531 2.109375 -5.15625 C 1.898438 -5.300781 1.722656 -5.46875 1.578125 -5.65625 C 1.429688 -5.851562 1.320312 -6.066406 1.25 -6.296875 C 1.175781 -6.523438 1.140625 -6.757812 1.140625 -7 C 1.140625 -7.3125 1.203125 -7.609375 1.328125 -7.890625 C 1.460938 -8.171875 1.65625 -8.421875 1.90625 -8.640625 C 2.164062 -8.859375 2.484375 -9.03125 2.859375 -9.15625 C 3.234375 -9.289062 3.671875 -9.359375 4.171875 -9.359375 C 4.691406 -9.359375 5.144531 -9.289062 5.53125 -9.15625 C 5.914062 -9.03125 6.234375 -8.859375 6.484375 -8.640625 C 6.742188 -8.421875 6.929688 -8.164062 7.046875 -7.875 C 7.171875 -7.59375 7.234375 -7.296875 7.234375 -6.984375 C 7.234375 -6.742188 7.195312 -6.507812 7.125 -6.28125 C 7.050781 -6.0625 6.941406 -5.851562 6.796875 -5.65625 C 6.648438 -5.46875 6.472656 -5.300781 6.265625 -5.15625 C 6.054688 -5.019531 5.8125 -4.925781 5.53125 -4.875 L 5.53125 -4.84375 C 5.8125 -4.800781 6.066406 -4.71875 6.296875 -4.59375 C 6.535156 -4.476562 6.742188 -4.320312 6.921875 -4.125 C 7.097656 -3.9375 7.234375 -3.710938 7.328125 -3.453125 C 7.429688 -3.191406 7.484375 -2.898438 7.484375 -2.578125 Z M 5.96875 -6.921875 C 5.96875 -7.128906 5.9375 -7.328125 5.875 -7.515625 C 5.8125 -7.703125 5.707031 -7.863281 5.5625 -8 C 5.425781 -8.132812 5.242188 -8.242188 5.015625 -8.328125 C 4.785156 -8.410156 4.503906 -8.453125 4.171875 -8.453125 C 3.847656 -8.453125 3.570312 -8.410156 3.34375 -8.328125 C 3.125 -8.242188 2.941406 -8.132812 2.796875 -8 C 2.648438 -7.863281 2.546875 -7.703125 2.484375 -7.515625 C 2.421875 -7.328125 2.390625 -7.128906 2.390625 -6.921875 C 2.390625 -6.753906 2.414062 -6.578125 2.46875 -6.390625 C 2.519531 -6.203125 2.609375 -6.03125 2.734375 -5.875 C 2.867188 -5.71875 3.050781 -5.585938 3.28125 -5.484375 C 3.519531 -5.378906 3.820312 -5.328125 4.1875 -5.328125 C 4.570312 -5.328125 4.878906 -5.378906 5.109375 -5.484375 C 5.347656 -5.585938 5.53125 -5.71875 5.65625 -5.875 C 5.78125 -6.03125 5.863281 -6.203125 5.90625 -6.390625 C 5.945312 -6.578125 5.96875 -6.753906 5.96875 -6.921875 Z M 6.203125 -2.703125 C 6.203125 -2.910156 6.171875 -3.113281 6.109375 -3.3125 C 6.046875 -3.507812 5.9375 -3.691406 5.78125 -3.859375 C 5.625 -4.023438 5.414062 -4.15625 5.15625 -4.25 C 4.894531 -4.351562 4.566406 -4.40625 4.171875 -4.40625 C 3.804688 -4.40625 3.5 -4.351562 3.25 -4.25 C 3 -4.15625 2.796875 -4.023438 2.640625 -3.859375 C 2.484375 -3.691406 2.367188 -3.503906 2.296875 -3.296875 C 2.222656 -3.097656 2.1875 -2.890625 2.1875 -2.671875 C 2.1875 -2.398438 2.222656 -2.148438 2.296875 -1.921875 C 2.367188 -1.691406 2.484375 -1.492188 2.640625 -1.328125 C 2.796875 -1.160156 3.003906 -1.023438 3.265625 -0.921875 C 3.523438 -0.828125 3.84375 -0.78125 4.21875 -0.78125 C 4.59375 -0.78125 4.90625 -0.828125 5.15625 -0.921875 C 5.40625 -1.015625 5.609375 -1.144531 5.765625 -1.3125 C 5.921875 -1.488281 6.03125 -1.691406 6.09375 -1.921875 C 6.164062 -2.160156 6.203125 -2.421875 6.203125 -2.703125 Z M 6.203125 -2.703125 \"/>\n</symbol>\n<symbol overflow=\"visible\" id=\"glyph0-5\">\n<path style=\"stroke:none;\" d=\"M 7.3125 -8.265625 C 6.875 -7.640625 6.457031 -6.988281 6.0625 -6.3125 C 5.675781 -5.644531 5.332031 -4.960938 5.03125 -4.265625 C 4.738281 -3.578125 4.503906 -2.875 4.328125 -2.15625 C 4.160156 -1.445312 4.078125 -0.726562 4.078125 0 L 2.796875 0 C 2.796875 -0.71875 2.882812 -1.4375 3.0625 -2.15625 C 3.25 -2.875 3.492188 -3.582031 3.796875 -4.28125 C 4.097656 -4.976562 4.445312 -5.660156 4.84375 -6.328125 C 5.25 -6.992188 5.675781 -7.628906 6.125 -8.234375 L 1.078125 -8.234375 L 1.078125 -9.21875 L 7.3125 -9.21875 Z M 7.3125 -8.265625 \"/>\n</symbol>\n<symbol overflow=\"visible\" id=\"glyph0-6\">\n<path style=\"stroke:none;\" d=\"M 7.5 -3.046875 C 7.5 -2.585938 7.429688 -2.164062 7.296875 -1.78125 C 7.160156 -1.394531 6.957031 -1.054688 6.6875 -0.765625 C 6.425781 -0.484375 6.101562 -0.257812 5.71875 -0.09375 C 5.332031 0.0625 4.882812 0.140625 4.375 0.140625 C 3.820312 0.140625 3.332031 0.0351562 2.90625 -0.171875 C 2.488281 -0.390625 2.140625 -0.691406 1.859375 -1.078125 C 1.585938 -1.472656 1.378906 -1.945312 1.234375 -2.5 C 1.097656 -3.0625 1.03125 -3.691406 1.03125 -4.390625 C 1.03125 -5.191406 1.109375 -5.898438 1.265625 -6.515625 C 1.421875 -7.140625 1.644531 -7.660156 1.9375 -8.078125 C 2.238281 -8.503906 2.601562 -8.820312 3.03125 -9.03125 C 3.457031 -9.25 3.941406 -9.359375 4.484375 -9.359375 C 4.804688 -9.359375 5.109375 -9.320312 5.390625 -9.25 C 5.679688 -9.1875 5.941406 -9.078125 6.171875 -8.921875 C 6.410156 -8.773438 6.617188 -8.578125 6.796875 -8.328125 C 6.972656 -8.078125 7.113281 -7.769531 7.21875 -7.40625 L 6.046875 -7.1875 C 5.921875 -7.601562 5.71875 -7.90625 5.4375 -8.09375 C 5.15625 -8.28125 4.832031 -8.375 4.46875 -8.375 C 4.125 -8.375 3.816406 -8.289062 3.546875 -8.125 C 3.273438 -7.96875 3.039062 -7.738281 2.84375 -7.4375 C 2.65625 -7.132812 2.507812 -6.757812 2.40625 -6.3125 C 2.300781 -5.863281 2.25 -5.34375 2.25 -4.75 C 2.476562 -5.164062 2.796875 -5.476562 3.203125 -5.6875 C 3.609375 -5.90625 4.070312 -6.015625 4.59375 -6.015625 C 5.03125 -6.015625 5.425781 -5.941406 5.78125 -5.796875 C 6.144531 -5.660156 6.453125 -5.460938 6.703125 -5.203125 C 6.953125 -4.941406 7.144531 -4.628906 7.28125 -4.265625 C 7.425781 -3.898438 7.5 -3.492188 7.5 -3.046875 Z M 6.234375 -3 C 6.234375 -3.300781 6.191406 -3.578125 6.109375 -3.828125 C 6.035156 -4.085938 5.914062 -4.304688 5.75 -4.484375 C 5.582031 -4.671875 5.378906 -4.816406 5.140625 -4.921875 C 4.898438 -5.023438 4.617188 -5.078125 4.296875 -5.078125 C 4.078125 -5.078125 3.851562 -5.035156 3.625 -4.953125 C 3.394531 -4.878906 3.1875 -4.769531 3 -4.625 C 2.820312 -4.476562 2.671875 -4.289062 2.546875 -4.0625 C 2.429688 -3.84375 2.375 -3.582031 2.375 -3.28125 C 2.375 -2.957031 2.421875 -2.648438 2.515625 -2.359375 C 2.609375 -2.066406 2.738281 -1.804688 2.90625 -1.578125 C 3.082031 -1.359375 3.289062 -1.179688 3.53125 -1.046875 C 3.769531 -0.921875 4.039062 -0.859375 4.34375 -0.859375 C 4.632812 -0.859375 4.894531 -0.90625 5.125 -1 C 5.363281 -1.101562 5.566406 -1.25 5.734375 -1.4375 C 5.898438 -1.625 6.023438 -1.847656 6.109375 -2.109375 C 6.191406 -2.378906 6.234375 -2.675781 6.234375 -3 Z M 6.234375 -3 \"/>\n</symbol>\n<symbol overflow=\"visible\" id=\"glyph0-7\">\n<path style=\"stroke:none;\" d=\"M 7.4375 -4.8125 C 7.4375 -4 7.351562 -3.285156 7.1875 -2.671875 C 7.03125 -2.054688 6.800781 -1.539062 6.5 -1.125 C 6.195312 -0.707031 5.832031 -0.390625 5.40625 -0.171875 C 4.976562 0.0351562 4.488281 0.140625 3.9375 0.140625 C 3.570312 0.140625 3.238281 0.0976562 2.9375 0.015625 C 2.644531 -0.0546875 2.382812 -0.171875 2.15625 -0.328125 C 1.925781 -0.484375 1.726562 -0.6875 1.5625 -0.9375 C 1.394531 -1.195312 1.257812 -1.507812 1.15625 -1.875 L 2.34375 -2.0625 C 2.46875 -1.644531 2.664062 -1.335938 2.9375 -1.140625 C 3.207031 -0.953125 3.550781 -0.859375 3.96875 -0.859375 C 4.300781 -0.859375 4.601562 -0.929688 4.875 -1.078125 C 5.15625 -1.234375 5.390625 -1.460938 5.578125 -1.765625 C 5.773438 -2.066406 5.925781 -2.441406 6.03125 -2.890625 C 6.144531 -3.335938 6.207031 -3.851562 6.21875 -4.4375 C 6.125 -4.226562 5.992188 -4.035156 5.828125 -3.859375 C 5.660156 -3.691406 5.46875 -3.550781 5.25 -3.4375 C 5.039062 -3.320312 4.8125 -3.234375 4.5625 -3.171875 C 4.320312 -3.109375 4.078125 -3.078125 3.828125 -3.078125 C 3.390625 -3.078125 2.992188 -3.15625 2.640625 -3.3125 C 2.285156 -3.46875 1.984375 -3.679688 1.734375 -3.953125 C 1.492188 -4.234375 1.304688 -4.566406 1.171875 -4.953125 C 1.035156 -5.335938 0.96875 -5.765625 0.96875 -6.234375 C 0.96875 -6.703125 1.035156 -7.128906 1.171875 -7.515625 C 1.316406 -7.898438 1.523438 -8.226562 1.796875 -8.5 C 2.078125 -8.78125 2.414062 -8.992188 2.8125 -9.140625 C 3.207031 -9.285156 3.660156 -9.359375 4.171875 -9.359375 C 5.242188 -9.359375 6.054688 -8.976562 6.609375 -8.21875 C 7.160156 -7.46875 7.4375 -6.332031 7.4375 -4.8125 Z M 6.09375 -5.890625 C 6.09375 -6.222656 6.050781 -6.535156 5.96875 -6.828125 C 5.882812 -7.128906 5.757812 -7.394531 5.59375 -7.625 C 5.425781 -7.851562 5.21875 -8.035156 4.96875 -8.171875 C 4.726562 -8.304688 4.445312 -8.375 4.125 -8.375 C 3.832031 -8.375 3.566406 -8.320312 3.328125 -8.21875 C 3.085938 -8.113281 2.882812 -7.96875 2.71875 -7.78125 C 2.5625 -7.59375 2.4375 -7.363281 2.34375 -7.09375 C 2.257812 -6.832031 2.21875 -6.546875 2.21875 -6.234375 C 2.21875 -5.929688 2.253906 -5.644531 2.328125 -5.375 C 2.410156 -5.113281 2.53125 -4.882812 2.6875 -4.6875 C 2.851562 -4.488281 3.050781 -4.332031 3.28125 -4.21875 C 3.519531 -4.101562 3.796875 -4.046875 4.109375 -4.046875 C 4.335938 -4.046875 4.566406 -4.082031 4.796875 -4.15625 C 5.035156 -4.238281 5.25 -4.359375 5.4375 -4.515625 C 5.632812 -4.671875 5.789062 -4.863281 5.90625 -5.09375 C 6.03125 -5.320312 6.09375 -5.585938 6.09375 -5.890625 Z M 6.09375 -5.890625 \"/>\n</symbol>\n<symbol overflow=\"visible\" id=\"glyph0-8\">\n<path style=\"stroke:none;\" d=\"M 7.515625 -3.03125 C 7.515625 -2.582031 7.441406 -2.160156 7.296875 -1.765625 C 7.148438 -1.378906 6.929688 -1.046875 6.640625 -0.765625 C 6.359375 -0.484375 6.003906 -0.257812 5.578125 -0.09375 C 5.148438 0.0625 4.65625 0.140625 4.09375 0.140625 C 3.59375 0.140625 3.148438 0.0820312 2.765625 -0.03125 C 2.390625 -0.15625 2.070312 -0.320312 1.8125 -0.53125 C 1.550781 -0.738281 1.34375 -0.976562 1.1875 -1.25 C 1.039062 -1.53125 0.9375 -1.832031 0.875 -2.15625 L 2.125 -2.296875 C 2.164062 -2.117188 2.234375 -1.941406 2.328125 -1.765625 C 2.421875 -1.597656 2.546875 -1.445312 2.703125 -1.3125 C 2.859375 -1.175781 3.050781 -1.066406 3.28125 -0.984375 C 3.507812 -0.910156 3.789062 -0.875 4.125 -0.875 C 4.4375 -0.875 4.722656 -0.921875 4.984375 -1.015625 C 5.242188 -1.109375 5.46875 -1.242188 5.65625 -1.421875 C 5.84375 -1.609375 5.984375 -1.835938 6.078125 -2.109375 C 6.179688 -2.378906 6.234375 -2.679688 6.234375 -3.015625 C 6.234375 -3.285156 6.1875 -3.535156 6.09375 -3.765625 C 6 -4.003906 5.863281 -4.207031 5.6875 -4.375 C 5.507812 -4.550781 5.289062 -4.6875 5.03125 -4.78125 C 4.769531 -4.882812 4.476562 -4.9375 4.15625 -4.9375 C 3.945312 -4.9375 3.753906 -4.914062 3.578125 -4.875 C 3.410156 -4.84375 3.25 -4.796875 3.09375 -4.734375 C 2.945312 -4.671875 2.8125 -4.59375 2.6875 -4.5 C 2.570312 -4.414062 2.460938 -4.332031 2.359375 -4.25 L 1.15625 -4.25 L 1.484375 -9.21875 L 6.953125 -9.21875 L 6.953125 -8.234375 L 2.609375 -8.234375 L 2.40625 -5.328125 C 2.625 -5.492188 2.894531 -5.632812 3.21875 -5.75 C 3.550781 -5.875 3.945312 -5.9375 4.40625 -5.9375 C 4.882812 -5.9375 5.3125 -5.863281 5.6875 -5.71875 C 6.070312 -5.570312 6.398438 -5.367188 6.671875 -5.109375 C 6.941406 -4.859375 7.148438 -4.554688 7.296875 -4.203125 C 7.441406 -3.847656 7.515625 -3.457031 7.515625 -3.03125 Z M 7.515625 -3.03125 \"/>\n</symbol>\n<symbol overflow=\"visible\" id=\"glyph0-9\">\n<path style=\"stroke:none;\" d=\"M 7.515625 -2.53125 C 7.515625 -2.113281 7.441406 -1.738281 7.296875 -1.40625 C 7.148438 -1.082031 6.9375 -0.804688 6.65625 -0.578125 C 6.382812 -0.347656 6.046875 -0.171875 5.640625 -0.046875 C 5.234375 0.078125 4.769531 0.140625 4.25 0.140625 C 3.65625 0.140625 3.148438 0.0664062 2.734375 -0.078125 C 2.328125 -0.234375 1.988281 -0.429688 1.71875 -0.671875 C 1.457031 -0.921875 1.257812 -1.195312 1.125 -1.5 C 1 -1.8125 0.914062 -2.132812 0.875 -2.46875 L 2.140625 -2.59375 C 2.179688 -2.332031 2.25 -2.097656 2.34375 -1.890625 C 2.445312 -1.679688 2.582031 -1.5 2.75 -1.34375 C 2.914062 -1.195312 3.125 -1.082031 3.375 -1 C 3.625 -0.914062 3.914062 -0.875 4.25 -0.875 C 4.863281 -0.875 5.347656 -1.019531 5.703125 -1.3125 C 6.054688 -1.601562 6.234375 -2.023438 6.234375 -2.578125 C 6.234375 -2.878906 6.15625 -3.132812 6 -3.34375 C 5.84375 -3.550781 5.644531 -3.710938 5.40625 -3.828125 C 5.175781 -3.953125 4.921875 -4.035156 4.640625 -4.078125 C 4.367188 -4.128906 4.117188 -4.15625 3.890625 -4.15625 L 3.1875 -4.15625 L 3.1875 -5.234375 L 3.859375 -5.234375 C 4.085938 -5.234375 4.328125 -5.257812 4.578125 -5.3125 C 4.828125 -5.375 5.054688 -5.46875 5.265625 -5.59375 C 5.472656 -5.71875 5.644531 -5.878906 5.78125 -6.078125 C 5.914062 -6.285156 5.984375 -6.53125 5.984375 -6.8125 C 5.984375 -7.300781 5.832031 -7.679688 5.53125 -7.953125 C 5.226562 -8.222656 4.773438 -8.359375 4.171875 -8.359375 C 3.628906 -8.359375 3.191406 -8.21875 2.859375 -7.9375 C 2.523438 -7.65625 2.332031 -7.265625 2.28125 -6.765625 L 1.046875 -6.859375 C 1.085938 -7.285156 1.195312 -7.65625 1.375 -7.96875 C 1.5625 -8.28125 1.796875 -8.539062 2.078125 -8.75 C 2.359375 -8.957031 2.675781 -9.109375 3.03125 -9.203125 C 3.394531 -9.304688 3.78125 -9.359375 4.1875 -9.359375 C 4.726562 -9.359375 5.191406 -9.296875 5.578125 -9.171875 C 5.960938 -9.046875 6.273438 -8.875 6.515625 -8.65625 C 6.765625 -8.4375 6.945312 -8.175781 7.0625 -7.875 C 7.1875 -7.582031 7.25 -7.273438 7.25 -6.953125 C 7.25 -6.691406 7.207031 -6.441406 7.125 -6.203125 C 7.039062 -5.972656 6.914062 -5.757812 6.75 -5.5625 C 6.582031 -5.375 6.367188 -5.207031 6.109375 -5.0625 C 5.859375 -4.914062 5.566406 -4.804688 5.234375 -4.734375 L 5.234375 -4.703125 C 5.609375 -4.671875 5.9375 -4.582031 6.21875 -4.4375 C 6.5 -4.300781 6.734375 -4.132812 6.921875 -3.9375 C 7.117188 -3.738281 7.265625 -3.519531 7.359375 -3.28125 C 7.460938 -3.039062 7.515625 -2.789062 7.515625 -2.53125 Z M 7.515625 -2.53125 \"/>\n</symbol>\n<symbol overflow=\"visible\" id=\"glyph0-10\">\n<path style=\"stroke:none;\" d=\"M 6.40625 -2.1875 L 6.40625 0 L 5.171875 0 L 5.171875 -2.1875 L 0.703125 -2.1875 L 0.703125 -3.140625 L 5.046875 -9.21875 L 6.40625 -9.21875 L 6.40625 -3.15625 L 7.6875 -3.15625 L 7.6875 -2.1875 Z M 5.171875 -7.890625 L 1.75 -3.15625 L 5.171875 -3.15625 Z M 5.171875 -7.890625 \"/>\n</symbol>\n<symbol overflow=\"visible\" id=\"glyph0-11\">\n<path style=\"stroke:none;\" d=\"M 0.984375 0 L 0.984375 -0.796875 C 1.179688 -1.242188 1.441406 -1.648438 1.765625 -2.015625 C 2.097656 -2.390625 2.453125 -2.742188 2.828125 -3.078125 C 3.203125 -3.410156 3.578125 -3.726562 3.953125 -4.03125 C 4.328125 -4.332031 4.664062 -4.628906 4.96875 -4.921875 C 5.269531 -5.210938 5.515625 -5.507812 5.703125 -5.8125 C 5.898438 -6.113281 6 -6.4375 6 -6.78125 C 6 -7.050781 5.953125 -7.285156 5.859375 -7.484375 C 5.773438 -7.679688 5.648438 -7.84375 5.484375 -7.96875 C 5.328125 -8.101562 5.132812 -8.203125 4.90625 -8.265625 C 4.6875 -8.328125 4.441406 -8.359375 4.171875 -8.359375 C 3.929688 -8.359375 3.703125 -8.320312 3.484375 -8.25 C 3.273438 -8.1875 3.085938 -8.082031 2.921875 -7.9375 C 2.765625 -7.800781 2.632812 -7.628906 2.53125 -7.421875 C 2.4375 -7.222656 2.375 -6.992188 2.34375 -6.734375 L 1.09375 -6.84375 C 1.132812 -7.1875 1.226562 -7.507812 1.375 -7.8125 C 1.519531 -8.125 1.71875 -8.394531 1.96875 -8.625 C 2.21875 -8.851562 2.523438 -9.03125 2.890625 -9.15625 C 3.265625 -9.289062 3.691406 -9.359375 4.171875 -9.359375 C 4.648438 -9.359375 5.078125 -9.300781 5.453125 -9.1875 C 5.835938 -9.082031 6.164062 -8.925781 6.4375 -8.71875 C 6.707031 -8.507812 6.910156 -8.242188 7.046875 -7.921875 C 7.191406 -7.609375 7.265625 -7.25 7.265625 -6.84375 C 7.265625 -6.414062 7.164062 -6.019531 6.96875 -5.65625 C 6.769531 -5.289062 6.515625 -4.941406 6.203125 -4.609375 C 5.898438 -4.285156 5.5625 -3.972656 5.1875 -3.671875 C 4.8125 -3.378906 4.445312 -3.085938 4.09375 -2.796875 C 3.738281 -2.503906 3.414062 -2.210938 3.125 -1.921875 C 2.832031 -1.628906 2.613281 -1.320312 2.46875 -1 L 7.40625 -1 L 7.40625 0 Z M 0.984375 0 \"/>\n</symbol>\n</g>\n</defs>\n<g id=\"surface254\">\n<rect x=\"0\" y=\"0\" width=\"300\" height=\"200\" style=\"fill:rgb(100%,100%,100%);fill-opacity:1;stroke:none;\"/>\n<path style=\"fill:none;stroke-width:1;stroke-linecap:butt;stroke-linejoin:miter;stroke:rgb(26.666667%,26.666667%,26.666667%);stroke-opacity:1;stroke-miterlimit:10;\" d=\"M 188.824219 159.691406 L 255.050781 123.308594 \"/>\n<path style=\"fill:none;stroke-width:1;stroke-linecap:butt;stroke-linejoin:miter;stroke:rgb(26.666667%,26.666667%,26.666667%);stroke-opacity:1;stroke-miterlimit:10;\" d=\"M 188.824219 159.691406 L 112.144531 180 \"/>\n<path style=\"fill:none;stroke-width:1;stroke-linecap:butt;stroke-linejoin:miter;stroke:rgb(26.666667%,26.666667%,26.666667%);stroke-opacity:1;stroke-miterlimit:10;\" d=\"M 188.824219 159.691406 L 93.042969 122.59375 \"/>\n<path style=\"fill:none;stroke-width:1;stroke-linecap:butt;stroke-linejoin:miter;stroke:rgb(26.666667%,26.666667%,26.666667%);stroke-opacity:1;stroke-miterlimit:10;\" d=\"M 188.824219 159.691406 L 206.957031 77.40625 \"/>\n<path style=\"fill:none;stroke-width:1;stroke-linecap:butt;stroke-linejoin:miter;stroke:rgb(26.666667%,26.666667%,26.666667%);stroke-opacity:1;stroke-miterlimit:10;\" d=\"M 150 100 L 255.050781 123.308594 \"/>\n<path style=\"fill:none;stroke-width:1;stroke-linecap:butt;stroke-linejoin:miter;stroke:rgb(26.666667%,26.666667%,26.666667%);stroke-opacity:1;stroke-miterlimit:10;\" d=\"M 150 100 L 112.144531 180 \"/>\n<path style=\"fill:none;stroke-width:1;stroke-linecap:butt;stroke-linejoin:miter;stroke:rgb(26.666667%,26.666667%,26.666667%);stroke-opacity:1;stroke-miterlimit:10;\" d=\"M 150 100 L 44.949219 76.691406 \"/>\n<path style=\"fill:none;stroke-width:1;stroke-linecap:butt;stroke-linejoin:miter;stroke:rgb(26.666667%,26.666667%,26.666667%);stroke-opacity:1;stroke-miterlimit:10;\" d=\"M 150 100 L 187.855469 20 \"/>\n<path style=\"fill:none;stroke-width:1;stroke-linecap:butt;stroke-linejoin:miter;stroke:rgb(26.666667%,26.666667%,26.666667%);stroke-opacity:1;stroke-miterlimit:10;\" d=\"M 255.050781 123.308594 L 280 48.429688 \"/>\n<path style=\"fill:none;stroke-width:1;stroke-linecap:butt;stroke-linejoin:miter;stroke:rgb(26.666667%,26.666667%,26.666667%);stroke-opacity:1;stroke-miterlimit:10;\" d=\"M 112.144531 180 L 20 151.570312 \"/>\n<path style=\"fill:none;stroke-width:1;stroke-linecap:butt;stroke-linejoin:miter;stroke:rgb(26.666667%,26.666667%,26.666667%);stroke-opacity:1;stroke-miterlimit:10;\" d=\"M 93.042969 122.59375 L 111.175781 40.308594 \"/>\n<path style=\"fill:none;stroke-width:1;stroke-linecap:butt;stroke-linejoin:miter;stroke:rgb(26.666667%,26.666667%,26.666667%);stroke-opacity:1;stroke-miterlimit:10;\" d=\"M 93.042969 122.59375 L 20 151.570312 \"/>\n<path style=\"fill:none;stroke-width:1;stroke-linecap:butt;stroke-linejoin:miter;stroke:rgb(26.666667%,26.666667%,26.666667%);stroke-opacity:1;stroke-miterlimit:10;\" d=\"M 206.957031 77.40625 L 111.175781 40.308594 \"/>\n<path style=\"fill:none;stroke-width:1;stroke-linecap:butt;stroke-linejoin:miter;stroke:rgb(26.666667%,26.666667%,26.666667%);stroke-opacity:1;stroke-miterlimit:10;\" d=\"M 206.957031 77.40625 L 280 48.429688 \"/>\n<path style=\"fill:none;stroke-width:1;stroke-linecap:butt;stroke-linejoin:miter;stroke:rgb(26.666667%,26.666667%,26.666667%);stroke-opacity:1;stroke-miterlimit:10;\" d=\"M 44.949219 76.691406 L 111.175781 40.308594 \"/>\n<path style=\"fill:none;stroke-width:1;stroke-linecap:butt;stroke-linejoin:miter;stroke:rgb(26.666667%,26.666667%,26.666667%);stroke-opacity:1;stroke-miterlimit:10;\" d=\"M 44.949219 76.691406 L 20 151.570312 \"/>\n<path style=\"fill:none;stroke-width:1;stroke-linecap:butt;stroke-linejoin:miter;stroke:rgb(26.666667%,26.666667%,26.666667%);stroke-opacity:1;stroke-miterlimit:10;\" d=\"M 187.855469 20 L 111.175781 40.308594 \"/>\n<path style=\"fill:none;stroke-width:1;stroke-linecap:butt;stroke-linejoin:miter;stroke:rgb(26.666667%,26.666667%,26.666667%);stroke-opacity:1;stroke-miterlimit:10;\" d=\"M 187.855469 20 L 280 48.429688 \"/>\n<path style=\"fill-rule:nonzero;fill:rgb(100%,0%,0%);fill-opacity:1;stroke-width:1;stroke-linecap:butt;stroke-linejoin:miter;stroke:rgb(0%,0%,0%);stroke-opacity:1;stroke-miterlimit:10;\" d=\"M 201.324219 159.691406 C 201.324219 166.59375 195.730469 172.191406 188.824219 172.191406 C 181.921875 172.191406 176.324219 166.59375 176.324219 159.691406 C 176.324219 152.789062 181.921875 147.191406 188.824219 147.191406 C 195.730469 147.191406 201.324219 152.789062 201.324219 159.691406 \"/>\n<path style=\"fill-rule:nonzero;fill:rgb(100%,0%,0%);fill-opacity:1;stroke-width:1;stroke-linecap:butt;stroke-linejoin:miter;stroke:rgb(0%,0%,0%);stroke-opacity:1;stroke-miterlimit:10;\" d=\"M 162.5 100 C 162.5 106.902344 156.902344 112.5 150 112.5 C 143.097656 112.5 137.5 106.902344 137.5 100 C 137.5 93.097656 143.097656 87.5 150 87.5 C 156.902344 87.5 162.5 93.097656 162.5 100 \"/>\n<path style=\"fill-rule:nonzero;fill:rgb(100%,0%,0%);fill-opacity:1;stroke-width:1;stroke-linecap:butt;stroke-linejoin:miter;stroke:rgb(0%,0%,0%);stroke-opacity:1;stroke-miterlimit:10;\" d=\"M 267.550781 123.308594 C 267.550781 130.214844 261.953125 135.808594 255.050781 135.808594 C 248.148438 135.808594 242.550781 130.214844 242.550781 123.308594 C 242.550781 116.40625 248.148438 110.808594 255.050781 110.808594 C 261.953125 110.808594 267.550781 116.40625 267.550781 123.308594 \"/>\n<path style=\"fill-rule:nonzero;fill:rgb(100%,0%,0%);fill-opacity:1;stroke-width:1;stroke-linecap:butt;stroke-linejoin:miter;stroke:rgb(0%,0%,0%);stroke-opacity:1;stroke-miterlimit:10;\" d=\"M 124.644531 180 C 124.644531 186.902344 119.050781 192.5 112.144531 192.5 C 105.242188 192.5 99.644531 186.902344 99.644531 180 C 99.644531 173.097656 105.242188 167.5 112.144531 167.5 C 119.050781 167.5 124.644531 173.097656 124.644531 180 \"/>\n<path style=\"fill-rule:nonzero;fill:rgb(100%,0%,0%);fill-opacity:1;stroke-width:1;stroke-linecap:butt;stroke-linejoin:miter;stroke:rgb(0%,0%,0%);stroke-opacity:1;stroke-miterlimit:10;\" d=\"M 105.542969 122.59375 C 105.542969 129.5 99.945312 135.09375 93.042969 135.09375 C 86.136719 135.09375 80.542969 129.5 80.542969 122.59375 C 80.542969 115.691406 86.136719 110.09375 93.042969 110.09375 C 99.945312 110.09375 105.542969 115.691406 105.542969 122.59375 \"/>\n<path style=\"fill-rule:nonzero;fill:rgb(100%,0%,0%);fill-opacity:1;stroke-width:1;stroke-linecap:butt;stroke-linejoin:miter;stroke:rgb(0%,0%,0%);stroke-opacity:1;stroke-miterlimit:10;\" d=\"M 219.457031 77.40625 C 219.457031 84.308594 213.863281 89.90625 206.957031 89.90625 C 200.054688 89.90625 194.457031 84.308594 194.457031 77.40625 C 194.457031 70.5 200.054688 64.90625 206.957031 64.90625 C 213.863281 64.90625 219.457031 70.5 219.457031 77.40625 \"/>\n<path style=\"fill-rule:nonzero;fill:rgb(100%,0%,0%);fill-opacity:1;stroke-width:1;stroke-linecap:butt;stroke-linejoin:miter;stroke:rgb(0%,0%,0%);stroke-opacity:1;stroke-miterlimit:10;\" d=\"M 57.449219 76.691406 C 57.449219 83.59375 51.851562 89.191406 44.949219 89.191406 C 38.046875 89.191406 32.449219 83.59375 32.449219 76.691406 C 32.449219 69.785156 38.046875 64.191406 44.949219 64.191406 C 51.851562 64.191406 57.449219 69.785156 57.449219 76.691406 \"/>\n<path style=\"fill-rule:nonzero;fill:rgb(100%,0%,0%);fill-opacity:1;stroke-width:1;stroke-linecap:butt;stroke-linejoin:miter;stroke:rgb(0%,0%,0%);stroke-opacity:1;stroke-miterlimit:10;\" d=\"M 200.355469 20 C 200.355469 26.902344 194.757812 32.5 187.855469 32.5 C 180.949219 32.5 175.355469 26.902344 175.355469 20 C 175.355469 13.097656 180.949219 7.5 187.855469 7.5 C 194.757812 7.5 200.355469 13.097656 200.355469 20 \"/>\n<path style=\"fill-rule:nonzero;fill:rgb(100%,0%,0%);fill-opacity:1;stroke-width:1;stroke-linecap:butt;stroke-linejoin:miter;stroke:rgb(0%,0%,0%);stroke-opacity:1;stroke-miterlimit:10;\" d=\"M 123.675781 40.308594 C 123.675781 47.210938 118.078125 52.808594 111.175781 52.808594 C 104.269531 52.808594 98.675781 47.210938 98.675781 40.308594 C 98.675781 33.40625 104.269531 27.808594 111.175781 27.808594 C 118.078125 27.808594 123.675781 33.40625 123.675781 40.308594 \"/>\n<path style=\"fill-rule:nonzero;fill:rgb(100%,0%,0%);fill-opacity:1;stroke-width:1;stroke-linecap:butt;stroke-linejoin:miter;stroke:rgb(0%,0%,0%);stroke-opacity:1;stroke-miterlimit:10;\" d=\"M 32.5 151.570312 C 32.5 158.476562 26.902344 164.070312 20 164.070312 C 13.097656 164.070312 7.5 158.476562 7.5 151.570312 C 7.5 144.667969 13.097656 139.070312 20 139.070312 C 26.902344 139.070312 32.5 144.667969 32.5 151.570312 \"/>\n<path style=\"fill-rule:nonzero;fill:rgb(100%,0%,0%);fill-opacity:1;stroke-width:1;stroke-linecap:butt;stroke-linejoin:miter;stroke:rgb(0%,0%,0%);stroke-opacity:1;stroke-miterlimit:10;\" d=\"M 292.5 48.429688 C 292.5 55.332031 286.902344 60.929688 280 60.929688 C 273.097656 60.929688 267.5 55.332031 267.5 48.429688 C 267.5 41.523438 273.097656 35.929688 280 35.929688 C 286.902344 35.929688 292.5 41.523438 292.5 48.429688 \"/>\n<g style=\"fill:rgb(0%,0%,0%);fill-opacity:1;\">\n  <use xlink:href=\"#glyph0-1\" x=\"109.03125\" y=\"166.476562\"/>\n  <use xlink:href=\"#glyph0-2\" x=\"117.432617\" y=\"166.476562\"/>\n  <use xlink:href=\"#glyph0-3\" x=\"125.833984\" y=\"166.476562\"/>\n  <use xlink:href=\"#glyph0-1\" x=\"134.235352\" y=\"166.476562\"/>\n  <use xlink:href=\"#glyph0-4\" x=\"142.636719\" y=\"166.476562\"/>\n  <use xlink:href=\"#glyph0-5\" x=\"151.038086\" y=\"166.476562\"/>\n  <use xlink:href=\"#glyph0-5\" x=\"159.439453\" y=\"166.476562\"/>\n  <use xlink:href=\"#glyph0-6\" x=\"167.84082\" y=\"166.476562\"/>\n  <use xlink:href=\"#glyph0-7\" x=\"176.242188\" y=\"166.476562\"/>\n  <use xlink:href=\"#glyph0-8\" x=\"184.643555\" y=\"166.476562\"/>\n  <use xlink:href=\"#glyph0-4\" x=\"193.044922\" y=\"166.476562\"/>\n  <use xlink:href=\"#glyph0-5\" x=\"201.446289\" y=\"166.476562\"/>\n  <use xlink:href=\"#glyph0-5\" x=\"209.847656\" y=\"166.476562\"/>\n  <use xlink:href=\"#glyph0-6\" x=\"218.249023\" y=\"166.476562\"/>\n  <use xlink:href=\"#glyph0-7\" x=\"226.650391\" y=\"166.476562\"/>\n  <use xlink:href=\"#glyph0-8\" x=\"235.051758\" y=\"166.476562\"/>\n  <use xlink:href=\"#glyph0-4\" x=\"243.453125\" y=\"166.476562\"/>\n  <use xlink:href=\"#glyph0-5\" x=\"251.854492\" y=\"166.476562\"/>\n  <use xlink:href=\"#glyph0-8\" x=\"260.255859\" y=\"166.476562\"/>\n</g>\n<g style=\"fill:rgb(0%,0%,0%);fill-opacity:1;\">\n  <use xlink:href=\"#glyph0-1\" x=\"70.207031\" y=\"106.785156\"/>\n  <use xlink:href=\"#glyph0-2\" x=\"78.608398\" y=\"106.785156\"/>\n  <use xlink:href=\"#glyph0-3\" x=\"87.009766\" y=\"106.785156\"/>\n  <use xlink:href=\"#glyph0-1\" x=\"95.411133\" y=\"106.785156\"/>\n  <use xlink:href=\"#glyph0-4\" x=\"103.8125\" y=\"106.785156\"/>\n  <use xlink:href=\"#glyph0-5\" x=\"112.213867\" y=\"106.785156\"/>\n  <use xlink:href=\"#glyph0-5\" x=\"120.615234\" y=\"106.785156\"/>\n  <use xlink:href=\"#glyph0-6\" x=\"129.016602\" y=\"106.785156\"/>\n  <use xlink:href=\"#glyph0-7\" x=\"137.417969\" y=\"106.785156\"/>\n  <use xlink:href=\"#glyph0-8\" x=\"145.819336\" y=\"106.785156\"/>\n  <use xlink:href=\"#glyph0-4\" x=\"154.220703\" y=\"106.785156\"/>\n  <use xlink:href=\"#glyph0-5\" x=\"162.62207\" y=\"106.785156\"/>\n  <use xlink:href=\"#glyph0-5\" x=\"171.023438\" y=\"106.785156\"/>\n  <use xlink:href=\"#glyph0-6\" x=\"179.424805\" y=\"106.785156\"/>\n  <use xlink:href=\"#glyph0-7\" x=\"187.826172\" y=\"106.785156\"/>\n  <use xlink:href=\"#glyph0-8\" x=\"196.227539\" y=\"106.785156\"/>\n  <use xlink:href=\"#glyph0-4\" x=\"204.628906\" y=\"106.785156\"/>\n  <use xlink:href=\"#glyph0-5\" x=\"213.030273\" y=\"106.785156\"/>\n  <use xlink:href=\"#glyph0-8\" x=\"221.431641\" y=\"106.785156\"/>\n</g>\n<g style=\"fill:rgb(0%,0%,0%);fill-opacity:1;\">\n  <use xlink:href=\"#glyph0-1\" x=\"175.257812\" y=\"130.09375\"/>\n  <use xlink:href=\"#glyph0-2\" x=\"183.65918\" y=\"130.09375\"/>\n  <use xlink:href=\"#glyph0-1\" x=\"192.060547\" y=\"130.09375\"/>\n  <use xlink:href=\"#glyph0-4\" x=\"200.461914\" y=\"130.09375\"/>\n  <use xlink:href=\"#glyph0-9\" x=\"208.863281\" y=\"130.09375\"/>\n  <use xlink:href=\"#glyph0-7\" x=\"217.264648\" y=\"130.09375\"/>\n  <use xlink:href=\"#glyph0-10\" x=\"225.666016\" y=\"130.09375\"/>\n  <use xlink:href=\"#glyph0-5\" x=\"234.067383\" y=\"130.09375\"/>\n  <use xlink:href=\"#glyph0-8\" x=\"242.46875\" y=\"130.09375\"/>\n  <use xlink:href=\"#glyph0-4\" x=\"250.870117\" y=\"130.09375\"/>\n  <use xlink:href=\"#glyph0-9\" x=\"259.271484\" y=\"130.09375\"/>\n  <use xlink:href=\"#glyph0-7\" x=\"267.672852\" y=\"130.09375\"/>\n  <use xlink:href=\"#glyph0-10\" x=\"276.074219\" y=\"130.09375\"/>\n  <use xlink:href=\"#glyph0-5\" x=\"284.475586\" y=\"130.09375\"/>\n  <use xlink:href=\"#glyph0-8\" x=\"292.876953\" y=\"130.09375\"/>\n  <use xlink:href=\"#glyph0-4\" x=\"301.27832\" y=\"130.09375\"/>\n  <use xlink:href=\"#glyph0-9\" x=\"309.679688\" y=\"130.09375\"/>\n  <use xlink:href=\"#glyph0-7\" x=\"318.081055\" y=\"130.09375\"/>\n  <use xlink:href=\"#glyph0-8\" x=\"326.482422\" y=\"130.09375\"/>\n</g>\n<g style=\"fill:rgb(0%,0%,0%);fill-opacity:1;\">\n  <use xlink:href=\"#glyph0-1\" x=\"32.40625\" y=\"186.785156\"/>\n  <use xlink:href=\"#glyph0-2\" x=\"40.807617\" y=\"186.785156\"/>\n  <use xlink:href=\"#glyph0-1\" x=\"49.208984\" y=\"186.785156\"/>\n  <use xlink:href=\"#glyph0-4\" x=\"57.610352\" y=\"186.785156\"/>\n  <use xlink:href=\"#glyph0-9\" x=\"66.011719\" y=\"186.785156\"/>\n  <use xlink:href=\"#glyph0-7\" x=\"74.413086\" y=\"186.785156\"/>\n  <use xlink:href=\"#glyph0-10\" x=\"82.814453\" y=\"186.785156\"/>\n  <use xlink:href=\"#glyph0-5\" x=\"91.21582\" y=\"186.785156\"/>\n  <use xlink:href=\"#glyph0-8\" x=\"99.617188\" y=\"186.785156\"/>\n  <use xlink:href=\"#glyph0-4\" x=\"108.018555\" y=\"186.785156\"/>\n  <use xlink:href=\"#glyph0-9\" x=\"116.419922\" y=\"186.785156\"/>\n  <use xlink:href=\"#glyph0-7\" x=\"124.821289\" y=\"186.785156\"/>\n  <use xlink:href=\"#glyph0-10\" x=\"133.222656\" y=\"186.785156\"/>\n  <use xlink:href=\"#glyph0-5\" x=\"141.624023\" y=\"186.785156\"/>\n  <use xlink:href=\"#glyph0-8\" x=\"150.025391\" y=\"186.785156\"/>\n  <use xlink:href=\"#glyph0-4\" x=\"158.426758\" y=\"186.785156\"/>\n  <use xlink:href=\"#glyph0-9\" x=\"166.828125\" y=\"186.785156\"/>\n  <use xlink:href=\"#glyph0-7\" x=\"175.229492\" y=\"186.785156\"/>\n  <use xlink:href=\"#glyph0-11\" x=\"183.630859\" y=\"186.785156\"/>\n</g>\n<g style=\"fill:rgb(0%,0%,0%);fill-opacity:1;\">\n  <use xlink:href=\"#glyph0-1\" x=\"13.300781\" y=\"129.378906\"/>\n  <use xlink:href=\"#glyph0-2\" x=\"21.702148\" y=\"129.378906\"/>\n  <use xlink:href=\"#glyph0-1\" x=\"30.103516\" y=\"129.378906\"/>\n  <use xlink:href=\"#glyph0-4\" x=\"38.504883\" y=\"129.378906\"/>\n  <use xlink:href=\"#glyph0-9\" x=\"46.90625\" y=\"129.378906\"/>\n  <use xlink:href=\"#glyph0-7\" x=\"55.307617\" y=\"129.378906\"/>\n  <use xlink:href=\"#glyph0-10\" x=\"63.708984\" y=\"129.378906\"/>\n  <use xlink:href=\"#glyph0-5\" x=\"72.110352\" y=\"129.378906\"/>\n  <use xlink:href=\"#glyph0-8\" x=\"80.511719\" y=\"129.378906\"/>\n  <use xlink:href=\"#glyph0-4\" x=\"88.913086\" y=\"129.378906\"/>\n  <use xlink:href=\"#glyph0-9\" x=\"97.314453\" y=\"129.378906\"/>\n  <use xlink:href=\"#glyph0-7\" x=\"105.71582\" y=\"129.378906\"/>\n  <use xlink:href=\"#glyph0-10\" x=\"114.117188\" y=\"129.378906\"/>\n  <use xlink:href=\"#glyph0-5\" x=\"122.518555\" y=\"129.378906\"/>\n  <use xlink:href=\"#glyph0-8\" x=\"130.919922\" y=\"129.378906\"/>\n  <use xlink:href=\"#glyph0-4\" x=\"139.321289\" y=\"129.378906\"/>\n  <use xlink:href=\"#glyph0-9\" x=\"147.722656\" y=\"129.378906\"/>\n  <use xlink:href=\"#glyph0-7\" x=\"156.124023\" y=\"129.378906\"/>\n  <use xlink:href=\"#glyph0-11\" x=\"164.525391\" y=\"129.378906\"/>\n</g>\n<g style=\"fill:rgb(0%,0%,0%);fill-opacity:1;\">\n  <use xlink:href=\"#glyph0-1\" x=\"127.175781\" y=\"84.1875\"/>\n  <use xlink:href=\"#glyph0-2\" x=\"135.577148\" y=\"84.1875\"/>\n  <use xlink:href=\"#glyph0-1\" x=\"143.978516\" y=\"84.1875\"/>\n  <use xlink:href=\"#glyph0-4\" x=\"152.379883\" y=\"84.1875\"/>\n  <use xlink:href=\"#glyph0-9\" x=\"160.78125\" y=\"84.1875\"/>\n  <use xlink:href=\"#glyph0-7\" x=\"169.182617\" y=\"84.1875\"/>\n  <use xlink:href=\"#glyph0-10\" x=\"177.583984\" y=\"84.1875\"/>\n  <use xlink:href=\"#glyph0-5\" x=\"185.985352\" y=\"84.1875\"/>\n  <use xlink:href=\"#glyph0-8\" x=\"194.386719\" y=\"84.1875\"/>\n  <use xlink:href=\"#glyph0-4\" x=\"202.788086\" y=\"84.1875\"/>\n  <use xlink:href=\"#glyph0-9\" x=\"211.189453\" y=\"84.1875\"/>\n  <use xlink:href=\"#glyph0-7\" x=\"219.59082\" y=\"84.1875\"/>\n  <use xlink:href=\"#glyph0-10\" x=\"227.992188\" y=\"84.1875\"/>\n  <use xlink:href=\"#glyph0-5\" x=\"236.393555\" y=\"84.1875\"/>\n  <use xlink:href=\"#glyph0-8\" x=\"244.794922\" y=\"84.1875\"/>\n  <use xlink:href=\"#glyph0-4\" x=\"253.196289\" y=\"84.1875\"/>\n  <use xlink:href=\"#glyph0-9\" x=\"261.597656\" y=\"84.1875\"/>\n  <use xlink:href=\"#glyph0-7\" x=\"269.999023\" y=\"84.1875\"/>\n  <use xlink:href=\"#glyph0-6\" x=\"278.400391\" y=\"84.1875\"/>\n</g>\n<g style=\"fill:rgb(0%,0%,0%);fill-opacity:1;\">\n  <use xlink:href=\"#glyph0-1\" x=\"-34.792969\" y=\"83.476562\"/>\n  <use xlink:href=\"#glyph0-2\" x=\"-26.391602\" y=\"83.476562\"/>\n  <use xlink:href=\"#glyph0-1\" x=\"-17.990234\" y=\"83.476562\"/>\n  <use xlink:href=\"#glyph0-4\" x=\"-9.588867\" y=\"83.476562\"/>\n  <use xlink:href=\"#glyph0-9\" x=\"-1.1875\" y=\"83.476562\"/>\n  <use xlink:href=\"#glyph0-7\" x=\"7.213867\" y=\"83.476562\"/>\n  <use xlink:href=\"#glyph0-10\" x=\"15.615234\" y=\"83.476562\"/>\n  <use xlink:href=\"#glyph0-5\" x=\"24.016602\" y=\"83.476562\"/>\n  <use xlink:href=\"#glyph0-8\" x=\"32.417969\" y=\"83.476562\"/>\n  <use xlink:href=\"#glyph0-4\" x=\"40.819336\" y=\"83.476562\"/>\n  <use xlink:href=\"#glyph0-9\" x=\"49.220703\" y=\"83.476562\"/>\n  <use xlink:href=\"#glyph0-7\" x=\"57.62207\" y=\"83.476562\"/>\n  <use xlink:href=\"#glyph0-10\" x=\"66.023438\" y=\"83.476562\"/>\n  <use xlink:href=\"#glyph0-5\" x=\"74.424805\" y=\"83.476562\"/>\n  <use xlink:href=\"#glyph0-8\" x=\"82.826172\" y=\"83.476562\"/>\n  <use xlink:href=\"#glyph0-4\" x=\"91.227539\" y=\"83.476562\"/>\n  <use xlink:href=\"#glyph0-9\" x=\"99.628906\" y=\"83.476562\"/>\n  <use xlink:href=\"#glyph0-7\" x=\"108.030273\" y=\"83.476562\"/>\n  <use xlink:href=\"#glyph0-11\" x=\"116.431641\" y=\"83.476562\"/>\n</g>\n<g style=\"fill:rgb(0%,0%,0%);fill-opacity:1;\">\n  <use xlink:href=\"#glyph0-1\" x=\"108.0625\" y=\"26.785156\"/>\n  <use xlink:href=\"#glyph0-2\" x=\"116.463867\" y=\"26.785156\"/>\n  <use xlink:href=\"#glyph0-1\" x=\"124.865234\" y=\"26.785156\"/>\n  <use xlink:href=\"#glyph0-4\" x=\"133.266602\" y=\"26.785156\"/>\n  <use xlink:href=\"#glyph0-9\" x=\"141.667969\" y=\"26.785156\"/>\n  <use xlink:href=\"#glyph0-7\" x=\"150.069336\" y=\"26.785156\"/>\n  <use xlink:href=\"#glyph0-10\" x=\"158.470703\" y=\"26.785156\"/>\n  <use xlink:href=\"#glyph0-5\" x=\"166.87207\" y=\"26.785156\"/>\n  <use xlink:href=\"#glyph0-8\" x=\"175.273438\" y=\"26.785156\"/>\n  <use xlink:href=\"#glyph0-4\" x=\"183.674805\" y=\"26.785156\"/>\n  <use xlink:href=\"#glyph0-9\" x=\"192.076172\" y=\"26.785156\"/>\n  <use xlink:href=\"#glyph0-7\" x=\"200.477539\" y=\"26.785156\"/>\n  <use xlink:href=\"#glyph0-10\" x=\"208.878906\" y=\"26.785156\"/>\n  <use xlink:href=\"#glyph0-5\" x=\"217.280273\" y=\"26.785156\"/>\n  <use xlink:href=\"#glyph0-8\" x=\"225.681641\" y=\"26.785156\"/>\n  <use xlink:href=\"#glyph0-4\" x=\"234.083008\" y=\"26.785156\"/>\n  <use xlink:href=\"#glyph0-9\" x=\"242.484375\" y=\"26.785156\"/>\n  <use xlink:href=\"#glyph0-7\" x=\"250.885742\" y=\"26.785156\"/>\n  <use xlink:href=\"#glyph0-8\" x=\"259.287109\" y=\"26.785156\"/>\n</g>\n<g style=\"fill:rgb(0%,0%,0%);fill-opacity:1;\">\n  <use xlink:href=\"#glyph0-1\" x=\"35.601562\" y=\"47.09375\"/>\n  <use xlink:href=\"#glyph0-2\" x=\"44.00293\" y=\"47.09375\"/>\n  <use xlink:href=\"#glyph0-3\" x=\"52.404297\" y=\"47.09375\"/>\n  <use xlink:href=\"#glyph0-1\" x=\"60.805664\" y=\"47.09375\"/>\n  <use xlink:href=\"#glyph0-4\" x=\"69.207031\" y=\"47.09375\"/>\n  <use xlink:href=\"#glyph0-5\" x=\"77.608398\" y=\"47.09375\"/>\n  <use xlink:href=\"#glyph0-5\" x=\"86.009766\" y=\"47.09375\"/>\n  <use xlink:href=\"#glyph0-6\" x=\"94.411133\" y=\"47.09375\"/>\n  <use xlink:href=\"#glyph0-7\" x=\"102.8125\" y=\"47.09375\"/>\n  <use xlink:href=\"#glyph0-8\" x=\"111.213867\" y=\"47.09375\"/>\n  <use xlink:href=\"#glyph0-4\" x=\"119.615234\" y=\"47.09375\"/>\n  <use xlink:href=\"#glyph0-5\" x=\"128.016602\" y=\"47.09375\"/>\n  <use xlink:href=\"#glyph0-5\" x=\"136.417969\" y=\"47.09375\"/>\n  <use xlink:href=\"#glyph0-6\" x=\"144.819336\" y=\"47.09375\"/>\n  <use xlink:href=\"#glyph0-7\" x=\"153.220703\" y=\"47.09375\"/>\n  <use xlink:href=\"#glyph0-8\" x=\"161.62207\" y=\"47.09375\"/>\n  <use xlink:href=\"#glyph0-4\" x=\"170.023438\" y=\"47.09375\"/>\n  <use xlink:href=\"#glyph0-4\" x=\"178.424805\" y=\"47.09375\"/>\n</g>\n<g style=\"fill:rgb(0%,0%,0%);fill-opacity:1;\">\n  <use xlink:href=\"#glyph0-1\" x=\"-47.296875\" y=\"158.355469\"/>\n  <use xlink:href=\"#glyph0-2\" x=\"-38.895508\" y=\"158.355469\"/>\n  <use xlink:href=\"#glyph0-1\" x=\"-30.494141\" y=\"158.355469\"/>\n  <use xlink:href=\"#glyph0-4\" x=\"-22.092773\" y=\"158.355469\"/>\n  <use xlink:href=\"#glyph0-10\" x=\"-13.691406\" y=\"158.355469\"/>\n  <use xlink:href=\"#glyph0-7\" x=\"-5.290039\" y=\"158.355469\"/>\n  <use xlink:href=\"#glyph0-7\" x=\"3.111328\" y=\"158.355469\"/>\n  <use xlink:href=\"#glyph0-3\" x=\"11.512695\" y=\"158.355469\"/>\n  <use xlink:href=\"#glyph0-4\" x=\"19.914062\" y=\"158.355469\"/>\n  <use xlink:href=\"#glyph0-1\" x=\"28.31543\" y=\"158.355469\"/>\n  <use xlink:href=\"#glyph0-7\" x=\"36.716797\" y=\"158.355469\"/>\n  <use xlink:href=\"#glyph0-7\" x=\"45.118164\" y=\"158.355469\"/>\n  <use xlink:href=\"#glyph0-7\" x=\"53.519531\" y=\"158.355469\"/>\n  <use xlink:href=\"#glyph0-3\" x=\"61.920898\" y=\"158.355469\"/>\n  <use xlink:href=\"#glyph0-4\" x=\"70.322266\" y=\"158.355469\"/>\n  <use xlink:href=\"#glyph0-3\" x=\"78.723633\" y=\"158.355469\"/>\n</g>\n<g style=\"fill:rgb(0%,0%,0%);fill-opacity:1;\">\n  <use xlink:href=\"#glyph0-1\" x=\"212.703125\" y=\"55.214844\"/>\n  <use xlink:href=\"#glyph0-2\" x=\"221.104492\" y=\"55.214844\"/>\n  <use xlink:href=\"#glyph0-1\" x=\"229.505859\" y=\"55.214844\"/>\n  <use xlink:href=\"#glyph0-4\" x=\"237.907227\" y=\"55.214844\"/>\n  <use xlink:href=\"#glyph0-10\" x=\"246.308594\" y=\"55.214844\"/>\n  <use xlink:href=\"#glyph0-7\" x=\"254.709961\" y=\"55.214844\"/>\n  <use xlink:href=\"#glyph0-7\" x=\"263.111328\" y=\"55.214844\"/>\n  <use xlink:href=\"#glyph0-3\" x=\"271.512695\" y=\"55.214844\"/>\n  <use xlink:href=\"#glyph0-4\" x=\"279.914062\" y=\"55.214844\"/>\n  <use xlink:href=\"#glyph0-1\" x=\"288.31543\" y=\"55.214844\"/>\n  <use xlink:href=\"#glyph0-7\" x=\"296.716797\" y=\"55.214844\"/>\n  <use xlink:href=\"#glyph0-7\" x=\"305.118164\" y=\"55.214844\"/>\n  <use xlink:href=\"#glyph0-7\" x=\"313.519531\" y=\"55.214844\"/>\n  <use xlink:href=\"#glyph0-3\" x=\"321.920898\" y=\"55.214844\"/>\n  <use xlink:href=\"#glyph0-4\" x=\"330.322266\" y=\"55.214844\"/>\n  <use xlink:href=\"#glyph0-3\" x=\"338.723633\" y=\"55.214844\"/>\n</g>\n</g>\n</svg>\n"
          },
          "metadata": {
            "image/svg+xml": {
              "isolated": true
            }
          },
          "execution_count": 106
        }
      ]
    }
  ],
  "metadata": {
    "kernelspec": {
      "display_name": "Python 3",
      "language": "python",
      "name": "python3"
    },
    "language_info": {
      "codemirror_mode": {
        "name": "ipython",
        "version": 3
      },
      "file_extension": ".py",
      "mimetype": "text/x-python",
      "name": "python",
      "nbconvert_exporter": "python",
      "pygments_lexer": "ipython3",
      "version": "3.8.5"
    },
    "colab": {
      "provenance": [],
      "include_colab_link": true
    }
  },
  "nbformat": 4,
  "nbformat_minor": 0
}